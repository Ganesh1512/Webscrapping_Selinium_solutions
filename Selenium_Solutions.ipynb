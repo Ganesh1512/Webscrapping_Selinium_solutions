{
 "cells": [
  {
   "cell_type": "code",
   "execution_count": 1,
   "metadata": {},
   "outputs": [
    {
     "name": "stdout",
     "output_type": "stream",
     "text": [
      "Requirement already satisfied: selenium in d:\\downloads\\lib\\site-packages (3.141.0)\n",
      "Requirement already satisfied: urllib3 in d:\\downloads\\lib\\site-packages (from selenium) (1.25.11)\n"
     ]
    }
   ],
   "source": [
    "!pip install selenium"
   ]
  },
  {
   "cell_type": "code",
   "execution_count": 1,
   "metadata": {},
   "outputs": [],
   "source": [
    "import pandas as pd\n",
    "import selenium\n",
    "from selenium import webdriver\n",
    "import time\n",
    "from selenium.common.exceptions import StaleElementReferenceException, NoSuchElementException"
   ]
  },
  {
   "cell_type": "code",
   "execution_count": 3,
   "metadata": {},
   "outputs": [],
   "source": [
    "driver = webdriver.Chrome('chromedriver.exe')"
   ]
  },
  {
   "cell_type": "code",
   "execution_count": 4,
   "metadata": {},
   "outputs": [],
   "source": [
    "url = \"https://www.naukri.com/\"\n",
    "driver.get(url)"
   ]
  },
  {
   "cell_type": "code",
   "execution_count": 5,
   "metadata": {},
   "outputs": [],
   "source": [
    "search_bar = driver.find_element_by_xpath(\"//input[@class='sugInp']\")\n",
    "search_bar.send_keys('Data Analyst')"
   ]
  },
  {
   "cell_type": "code",
   "execution_count": 6,
   "metadata": {},
   "outputs": [],
   "source": [
    "search_loc = driver.find_element_by_xpath(\"//input[@id='qsb-location-sugg']\")\n",
    "search_loc.send_keys('Banglore')"
   ]
  },
  {
   "cell_type": "code",
   "execution_count": 7,
   "metadata": {},
   "outputs": [],
   "source": [
    "search_button = driver.find_element_by_xpath(\"//button[@class='btn']\")\n",
    "search_button.click()"
   ]
  },
  {
   "cell_type": "code",
   "execution_count": 8,
   "metadata": {},
   "outputs": [],
   "source": [
    "later_button = driver.find_element_by_xpath(\"//span[@class='fr geoLocBtn later']\")\n",
    "later_button.click()"
   ]
  },
  {
   "cell_type": "code",
   "execution_count": 9,
   "metadata": {},
   "outputs": [
    {
     "data": {
      "text/plain": [
       "[<selenium.webdriver.remote.webelement.WebElement (session=\"c0cb8e0855d5b0530d601d1b786a77c6\", element=\"8aafcd5b-7356-43d3-b33f-e5eb44175f3a\")>,\n",
       " <selenium.webdriver.remote.webelement.WebElement (session=\"c0cb8e0855d5b0530d601d1b786a77c6\", element=\"169abdee-b092-4ee8-9fc2-bb6a0abfc3e3\")>,\n",
       " <selenium.webdriver.remote.webelement.WebElement (session=\"c0cb8e0855d5b0530d601d1b786a77c6\", element=\"143ed9cf-bb68-45b3-a4af-319280fc7885\")>,\n",
       " <selenium.webdriver.remote.webelement.WebElement (session=\"c0cb8e0855d5b0530d601d1b786a77c6\", element=\"6328f6db-46a6-4c01-8ffb-7542e2d9b15a\")>,\n",
       " <selenium.webdriver.remote.webelement.WebElement (session=\"c0cb8e0855d5b0530d601d1b786a77c6\", element=\"70793357-fd0b-4ffd-8a35-65918eb02b9b\")>,\n",
       " <selenium.webdriver.remote.webelement.WebElement (session=\"c0cb8e0855d5b0530d601d1b786a77c6\", element=\"fcbd2477-6553-4838-b3b2-fc18d669ba91\")>,\n",
       " <selenium.webdriver.remote.webelement.WebElement (session=\"c0cb8e0855d5b0530d601d1b786a77c6\", element=\"3f9d7ee3-f527-4562-af6e-6cbb9e81392e\")>,\n",
       " <selenium.webdriver.remote.webelement.WebElement (session=\"c0cb8e0855d5b0530d601d1b786a77c6\", element=\"60032425-4db7-49f3-a461-34f79a14e50e\")>,\n",
       " <selenium.webdriver.remote.webelement.WebElement (session=\"c0cb8e0855d5b0530d601d1b786a77c6\", element=\"e42aaad5-0b9a-4bee-a320-c2b87bd7a1f7\")>,\n",
       " <selenium.webdriver.remote.webelement.WebElement (session=\"c0cb8e0855d5b0530d601d1b786a77c6\", element=\"7160bc15-706f-4a64-a1bd-76c0cd1c6e24\")>,\n",
       " <selenium.webdriver.remote.webelement.WebElement (session=\"c0cb8e0855d5b0530d601d1b786a77c6\", element=\"7e13fdd0-6599-4247-b245-07c50cf33aef\")>,\n",
       " <selenium.webdriver.remote.webelement.WebElement (session=\"c0cb8e0855d5b0530d601d1b786a77c6\", element=\"08f1c5bb-d656-4635-8a5d-d45de6e18797\")>,\n",
       " <selenium.webdriver.remote.webelement.WebElement (session=\"c0cb8e0855d5b0530d601d1b786a77c6\", element=\"f1821971-007e-439e-9498-5eb8e54851ce\")>,\n",
       " <selenium.webdriver.remote.webelement.WebElement (session=\"c0cb8e0855d5b0530d601d1b786a77c6\", element=\"cd119a41-a128-489f-abd1-1d312c106b10\")>,\n",
       " <selenium.webdriver.remote.webelement.WebElement (session=\"c0cb8e0855d5b0530d601d1b786a77c6\", element=\"a256eeec-0cba-49a7-8644-0da67d2b16df\")>,\n",
       " <selenium.webdriver.remote.webelement.WebElement (session=\"c0cb8e0855d5b0530d601d1b786a77c6\", element=\"5f84ad1e-242c-462d-bed2-468456207528\")>,\n",
       " <selenium.webdriver.remote.webelement.WebElement (session=\"c0cb8e0855d5b0530d601d1b786a77c6\", element=\"8437472b-7005-400d-85d7-1fa05d295445\")>,\n",
       " <selenium.webdriver.remote.webelement.WebElement (session=\"c0cb8e0855d5b0530d601d1b786a77c6\", element=\"8e077c92-4d3c-4d42-a342-ac4948ff924a\")>,\n",
       " <selenium.webdriver.remote.webelement.WebElement (session=\"c0cb8e0855d5b0530d601d1b786a77c6\", element=\"745472f2-3411-4c8d-addc-b1d297de9a65\")>,\n",
       " <selenium.webdriver.remote.webelement.WebElement (session=\"c0cb8e0855d5b0530d601d1b786a77c6\", element=\"85b7909e-015e-487e-98eb-c272952861a4\")>]"
      ]
     },
     "execution_count": 9,
     "metadata": {},
     "output_type": "execute_result"
    }
   ],
   "source": [
    "title_tags=driver.find_elements_by_xpath(\"//a[@class='title fw500 ellipsis']\")\n",
    "title_tags"
   ]
  },
  {
   "cell_type": "code",
   "execution_count": 10,
   "metadata": {},
   "outputs": [
    {
     "data": {
      "text/plain": [
       "['Data Scientist / Data Analyst -Business Analyst',\n",
       " 'Junior Data Analyst',\n",
       " 'Junior Data Analyst',\n",
       " 'Network Design & Data Analyst',\n",
       " 'Data analysts',\n",
       " 'Data Analyst',\n",
       " 'Excel VBA Jobs Bangalore | VBA data analyst Jobs',\n",
       " 'Consultant - Data Analyst',\n",
       " 'Assistant Vice President - MIS & Reporting ( Business Data Analyst)',\n",
       " 'Data Analyst',\n",
       " 'Data Analyst',\n",
       " 'Data Analyst Azure',\n",
       " 'Urgently Looking For Data Analyst',\n",
       " 'Business Data Analyst - MIS & Reporting',\n",
       " 'Senior Security Specialist - CS Awareness & Data Analyst',\n",
       " 'Data Analyst',\n",
       " 'Data Analyst',\n",
       " 'Data Analyst',\n",
       " 'Market Data Business Analyst,',\n",
       " 'Senior Data Analyst Python, ML - Bangalore']"
      ]
     },
     "execution_count": 10,
     "metadata": {},
     "output_type": "execute_result"
    }
   ],
   "source": [
    "job_titles=[]\n",
    "for i in title_tags:\n",
    "    job_titles.append(i.text)\n",
    "job_titles"
   ]
  },
  {
   "cell_type": "code",
   "execution_count": 11,
   "metadata": {},
   "outputs": [
    {
     "data": {
      "text/plain": [
       "[<selenium.webdriver.remote.webelement.WebElement (session=\"c0cb8e0855d5b0530d601d1b786a77c6\", element=\"4c43fdff-4820-48a8-bca1-89f2c70a6f6e\")>,\n",
       " <selenium.webdriver.remote.webelement.WebElement (session=\"c0cb8e0855d5b0530d601d1b786a77c6\", element=\"d3f22806-6c1b-4439-8981-a128cf96d1de\")>,\n",
       " <selenium.webdriver.remote.webelement.WebElement (session=\"c0cb8e0855d5b0530d601d1b786a77c6\", element=\"9f34a7b8-7cb0-4ca1-a15d-7ca54ab1eee9\")>,\n",
       " <selenium.webdriver.remote.webelement.WebElement (session=\"c0cb8e0855d5b0530d601d1b786a77c6\", element=\"25273f6a-7eb0-4839-8473-ff299440e5b9\")>,\n",
       " <selenium.webdriver.remote.webelement.WebElement (session=\"c0cb8e0855d5b0530d601d1b786a77c6\", element=\"1208f11f-24aa-4b61-b8a2-176203228646\")>,\n",
       " <selenium.webdriver.remote.webelement.WebElement (session=\"c0cb8e0855d5b0530d601d1b786a77c6\", element=\"2ae19210-53c9-4759-aaa1-cc3b334cd654\")>,\n",
       " <selenium.webdriver.remote.webelement.WebElement (session=\"c0cb8e0855d5b0530d601d1b786a77c6\", element=\"6d7ac52e-865f-4278-906f-b2445937d55e\")>,\n",
       " <selenium.webdriver.remote.webelement.WebElement (session=\"c0cb8e0855d5b0530d601d1b786a77c6\", element=\"4ac06c28-f1d8-49d4-a49d-7657933b24ce\")>,\n",
       " <selenium.webdriver.remote.webelement.WebElement (session=\"c0cb8e0855d5b0530d601d1b786a77c6\", element=\"4e0a165a-5689-4e19-9284-376971b72500\")>,\n",
       " <selenium.webdriver.remote.webelement.WebElement (session=\"c0cb8e0855d5b0530d601d1b786a77c6\", element=\"1cec5975-ead3-4211-97ab-9724a030c053\")>,\n",
       " <selenium.webdriver.remote.webelement.WebElement (session=\"c0cb8e0855d5b0530d601d1b786a77c6\", element=\"2582acdf-ba5a-47a5-bdf4-8a6d39f47145\")>,\n",
       " <selenium.webdriver.remote.webelement.WebElement (session=\"c0cb8e0855d5b0530d601d1b786a77c6\", element=\"338e434d-c269-4637-8d8d-20f4af78431e\")>,\n",
       " <selenium.webdriver.remote.webelement.WebElement (session=\"c0cb8e0855d5b0530d601d1b786a77c6\", element=\"3da15b21-ee2b-41b1-974b-9adc61fd349d\")>,\n",
       " <selenium.webdriver.remote.webelement.WebElement (session=\"c0cb8e0855d5b0530d601d1b786a77c6\", element=\"559d7632-8af2-4b45-bb1b-db31b48afb61\")>,\n",
       " <selenium.webdriver.remote.webelement.WebElement (session=\"c0cb8e0855d5b0530d601d1b786a77c6\", element=\"a2f14d67-0213-4fb4-a43b-0f3413ade6c6\")>,\n",
       " <selenium.webdriver.remote.webelement.WebElement (session=\"c0cb8e0855d5b0530d601d1b786a77c6\", element=\"39d8ac97-e2ff-4024-9f25-7e86a1b552ab\")>,\n",
       " <selenium.webdriver.remote.webelement.WebElement (session=\"c0cb8e0855d5b0530d601d1b786a77c6\", element=\"0fe7b247-6cc8-448a-8e07-d323e788417e\")>,\n",
       " <selenium.webdriver.remote.webelement.WebElement (session=\"c0cb8e0855d5b0530d601d1b786a77c6\", element=\"df5beb71-7c9f-4f0d-ba2a-a853da716847\")>,\n",
       " <selenium.webdriver.remote.webelement.WebElement (session=\"c0cb8e0855d5b0530d601d1b786a77c6\", element=\"3aa76079-986a-4c85-be58-86af7ce96ccf\")>,\n",
       " <selenium.webdriver.remote.webelement.WebElement (session=\"c0cb8e0855d5b0530d601d1b786a77c6\", element=\"328fc57d-971d-4e60-819c-5bbac0d0bcb5\")>]"
      ]
     },
     "execution_count": 11,
     "metadata": {},
     "output_type": "execute_result"
    }
   ],
   "source": [
    "company_tags = driver.find_elements_by_xpath(\"//a[@class='subTitle ellipsis fleft']\")\n",
    "company_tags"
   ]
  },
  {
   "cell_type": "code",
   "execution_count": 12,
   "metadata": {},
   "outputs": [
    {
     "data": {
      "text/plain": [
       "['Inflexion Analytix Private Limited',\n",
       " 'Simplilearn',\n",
       " 'Simplilearn',\n",
       " 'Dell International Services India Private Limited',\n",
       " 'IBM India Pvt. Limited',\n",
       " 'CARNATION INFOTECH PRIVATE LIMITED',\n",
       " 'Mind Circus Innovation',\n",
       " 'Flipkart Internet Private Limited',\n",
       " 'INTERTRUSTVITEOS CORPORATE AND FUND SERVICES PVT. LTD.',\n",
       " 'Flipkart Internet Private Limited',\n",
       " 'Uber',\n",
       " 'CONDUENT BUSINESS SERVICES INDIA LLP',\n",
       " 'Flipkart Internet Private Limited',\n",
       " 'INTERTRUST GROUP',\n",
       " 'Cognizant Technology Solutions India Pvt Ltd',\n",
       " 'Infoservicesllc',\n",
       " 'Clarivate Analytics',\n",
       " 'Clarivate Analytics (TRCPL Projects Pvt Ltd.)',\n",
       " 'Luxoft',\n",
       " '2coms']"
      ]
     },
     "execution_count": 12,
     "metadata": {},
     "output_type": "execute_result"
    }
   ],
   "source": [
    "company_name = []\n",
    "for i in company_tags:\n",
    "    company_name.append(i.text)\n",
    "company_name"
   ]
  },
  {
   "cell_type": "code",
   "execution_count": 13,
   "metadata": {},
   "outputs": [
    {
     "data": {
      "text/plain": [
       "[<selenium.webdriver.remote.webelement.WebElement (session=\"c0cb8e0855d5b0530d601d1b786a77c6\", element=\"b1a01f8c-ac98-48c5-a77b-c7fb44e7ebd4\")>,\n",
       " <selenium.webdriver.remote.webelement.WebElement (session=\"c0cb8e0855d5b0530d601d1b786a77c6\", element=\"11d573a5-1a11-43f2-9eca-d4fc560e2b4b\")>,\n",
       " <selenium.webdriver.remote.webelement.WebElement (session=\"c0cb8e0855d5b0530d601d1b786a77c6\", element=\"1125c39a-2d7e-447e-9f7b-bfb917013fdf\")>,\n",
       " <selenium.webdriver.remote.webelement.WebElement (session=\"c0cb8e0855d5b0530d601d1b786a77c6\", element=\"7a811b29-3d70-4227-b2f8-e7fc0f983d68\")>,\n",
       " <selenium.webdriver.remote.webelement.WebElement (session=\"c0cb8e0855d5b0530d601d1b786a77c6\", element=\"d20e57fb-dca1-4ded-817e-201bf07ae85a\")>,\n",
       " <selenium.webdriver.remote.webelement.WebElement (session=\"c0cb8e0855d5b0530d601d1b786a77c6\", element=\"23263d4c-14a8-4f78-b9a2-74eaca73fc58\")>,\n",
       " <selenium.webdriver.remote.webelement.WebElement (session=\"c0cb8e0855d5b0530d601d1b786a77c6\", element=\"84acfe24-295e-40b8-a903-c5fe7ec73f41\")>,\n",
       " <selenium.webdriver.remote.webelement.WebElement (session=\"c0cb8e0855d5b0530d601d1b786a77c6\", element=\"9f5438a5-7087-4288-9d12-9ea4c80e9ba8\")>,\n",
       " <selenium.webdriver.remote.webelement.WebElement (session=\"c0cb8e0855d5b0530d601d1b786a77c6\", element=\"555f1e61-b116-4c4b-b43b-ab65c79bae53\")>,\n",
       " <selenium.webdriver.remote.webelement.WebElement (session=\"c0cb8e0855d5b0530d601d1b786a77c6\", element=\"e7d643e4-37b9-4343-b028-6c67d58085f9\")>,\n",
       " <selenium.webdriver.remote.webelement.WebElement (session=\"c0cb8e0855d5b0530d601d1b786a77c6\", element=\"8f998ae1-2dac-4ab9-93ef-2f62aaca91e7\")>,\n",
       " <selenium.webdriver.remote.webelement.WebElement (session=\"c0cb8e0855d5b0530d601d1b786a77c6\", element=\"bee73be5-d8de-43ae-810b-3785301e7b5c\")>,\n",
       " <selenium.webdriver.remote.webelement.WebElement (session=\"c0cb8e0855d5b0530d601d1b786a77c6\", element=\"bb2a03c1-5c85-400c-8de4-4211eec80868\")>,\n",
       " <selenium.webdriver.remote.webelement.WebElement (session=\"c0cb8e0855d5b0530d601d1b786a77c6\", element=\"ee5769df-a33e-41c3-bac2-be024ba45c39\")>,\n",
       " <selenium.webdriver.remote.webelement.WebElement (session=\"c0cb8e0855d5b0530d601d1b786a77c6\", element=\"7e7d9f9b-f296-4ebc-81cc-7aaa0152fd4e\")>,\n",
       " <selenium.webdriver.remote.webelement.WebElement (session=\"c0cb8e0855d5b0530d601d1b786a77c6\", element=\"2ca2c366-9a58-4073-ad7c-050844d0175d\")>,\n",
       " <selenium.webdriver.remote.webelement.WebElement (session=\"c0cb8e0855d5b0530d601d1b786a77c6\", element=\"82a3dfb6-ea73-4237-8a9d-af8439f97494\")>,\n",
       " <selenium.webdriver.remote.webelement.WebElement (session=\"c0cb8e0855d5b0530d601d1b786a77c6\", element=\"2ea6f6b0-17d5-4215-a517-a39356242739\")>,\n",
       " <selenium.webdriver.remote.webelement.WebElement (session=\"c0cb8e0855d5b0530d601d1b786a77c6\", element=\"832b4dbb-1633-4d17-b5da-4f997db36ed4\")>,\n",
       " <selenium.webdriver.remote.webelement.WebElement (session=\"c0cb8e0855d5b0530d601d1b786a77c6\", element=\"24bb59a1-593a-470b-9629-055925ecbd89\")>,\n",
       " <selenium.webdriver.remote.webelement.WebElement (session=\"c0cb8e0855d5b0530d601d1b786a77c6\", element=\"afb72f00-4e87-44e3-a1f4-62a02261b742\")>,\n",
       " <selenium.webdriver.remote.webelement.WebElement (session=\"c0cb8e0855d5b0530d601d1b786a77c6\", element=\"1e3acc40-2d0d-4b04-a804-e5ff5e5c9576\")>,\n",
       " <selenium.webdriver.remote.webelement.WebElement (session=\"c0cb8e0855d5b0530d601d1b786a77c6\", element=\"7fb60376-ea68-475f-acaf-b305edf8fee2\")>,\n",
       " <selenium.webdriver.remote.webelement.WebElement (session=\"c0cb8e0855d5b0530d601d1b786a77c6\", element=\"7a5d1956-c405-4784-9a76-0302f88001e8\")>,\n",
       " <selenium.webdriver.remote.webelement.WebElement (session=\"c0cb8e0855d5b0530d601d1b786a77c6\", element=\"43074a6f-3766-400d-a1b8-adc60543fc6d\")>,\n",
       " <selenium.webdriver.remote.webelement.WebElement (session=\"c0cb8e0855d5b0530d601d1b786a77c6\", element=\"843268d9-013c-4233-8821-ae285b4aaf46\")>,\n",
       " <selenium.webdriver.remote.webelement.WebElement (session=\"c0cb8e0855d5b0530d601d1b786a77c6\", element=\"93ea9a02-bbb8-4fa5-9c9a-fff1fe584197\")>,\n",
       " <selenium.webdriver.remote.webelement.WebElement (session=\"c0cb8e0855d5b0530d601d1b786a77c6\", element=\"2831683e-a227-40a1-9225-ddea35edaa71\")>,\n",
       " <selenium.webdriver.remote.webelement.WebElement (session=\"c0cb8e0855d5b0530d601d1b786a77c6\", element=\"bb2a4964-0e7f-447a-aeda-2ee94332e3be\")>,\n",
       " <selenium.webdriver.remote.webelement.WebElement (session=\"c0cb8e0855d5b0530d601d1b786a77c6\", element=\"7f5860f7-a356-4bb5-94da-e1f115eaea1f\")>,\n",
       " <selenium.webdriver.remote.webelement.WebElement (session=\"c0cb8e0855d5b0530d601d1b786a77c6\", element=\"7984e4bb-7e0b-4114-b52f-916c28d20e4c\")>,\n",
       " <selenium.webdriver.remote.webelement.WebElement (session=\"c0cb8e0855d5b0530d601d1b786a77c6\", element=\"5164ee4e-f4db-4426-a3d4-49bedd0987e0\")>,\n",
       " <selenium.webdriver.remote.webelement.WebElement (session=\"c0cb8e0855d5b0530d601d1b786a77c6\", element=\"1db8af74-0790-44f8-8926-5e33bda8144c\")>,\n",
       " <selenium.webdriver.remote.webelement.WebElement (session=\"c0cb8e0855d5b0530d601d1b786a77c6\", element=\"09def4af-aca0-4e59-9347-35f66b910017\")>,\n",
       " <selenium.webdriver.remote.webelement.WebElement (session=\"c0cb8e0855d5b0530d601d1b786a77c6\", element=\"f49d9797-5bd9-4dd5-a3db-19b59d03fb4d\")>,\n",
       " <selenium.webdriver.remote.webelement.WebElement (session=\"c0cb8e0855d5b0530d601d1b786a77c6\", element=\"9446d250-d07a-427c-9260-e8fbed7c472e\")>,\n",
       " <selenium.webdriver.remote.webelement.WebElement (session=\"c0cb8e0855d5b0530d601d1b786a77c6\", element=\"60e90ae4-9747-4556-81b5-17f7c55d14ad\")>,\n",
       " <selenium.webdriver.remote.webelement.WebElement (session=\"c0cb8e0855d5b0530d601d1b786a77c6\", element=\"b8276089-2b3a-46e2-b872-072d7a9056c4\")>,\n",
       " <selenium.webdriver.remote.webelement.WebElement (session=\"c0cb8e0855d5b0530d601d1b786a77c6\", element=\"7399072b-d874-4ce4-8dfc-c650b7990d0d\")>,\n",
       " <selenium.webdriver.remote.webelement.WebElement (session=\"c0cb8e0855d5b0530d601d1b786a77c6\", element=\"e2bbf0ea-b493-492a-ac95-2f5bb47758dc\")>,\n",
       " <selenium.webdriver.remote.webelement.WebElement (session=\"c0cb8e0855d5b0530d601d1b786a77c6\", element=\"09767b5b-f553-467a-897a-be5100f9eed9\")>,\n",
       " <selenium.webdriver.remote.webelement.WebElement (session=\"c0cb8e0855d5b0530d601d1b786a77c6\", element=\"84547b45-279d-4ca6-8354-e6c736655fdf\")>,\n",
       " <selenium.webdriver.remote.webelement.WebElement (session=\"c0cb8e0855d5b0530d601d1b786a77c6\", element=\"9cf44e2c-66aa-423f-9718-8741d7b14046\")>,\n",
       " <selenium.webdriver.remote.webelement.WebElement (session=\"c0cb8e0855d5b0530d601d1b786a77c6\", element=\"f70345bc-588c-4840-badd-dd0456adf711\")>,\n",
       " <selenium.webdriver.remote.webelement.WebElement (session=\"c0cb8e0855d5b0530d601d1b786a77c6\", element=\"f9c199ef-a040-44b7-b423-5bc43add7dfb\")>,\n",
       " <selenium.webdriver.remote.webelement.WebElement (session=\"c0cb8e0855d5b0530d601d1b786a77c6\", element=\"e01e2467-9e87-4e0a-98eb-5f266a3c8440\")>,\n",
       " <selenium.webdriver.remote.webelement.WebElement (session=\"c0cb8e0855d5b0530d601d1b786a77c6\", element=\"51cd50bf-a7c5-4810-9fed-8a166d050d68\")>,\n",
       " <selenium.webdriver.remote.webelement.WebElement (session=\"c0cb8e0855d5b0530d601d1b786a77c6\", element=\"1b663133-bc50-4d46-b215-857fa8a83bdb\")>,\n",
       " <selenium.webdriver.remote.webelement.WebElement (session=\"c0cb8e0855d5b0530d601d1b786a77c6\", element=\"6a2e4fca-d58c-4c02-81e6-4187e49aa12c\")>,\n",
       " <selenium.webdriver.remote.webelement.WebElement (session=\"c0cb8e0855d5b0530d601d1b786a77c6\", element=\"21565666-3c5e-4ceb-903f-352287e95d24\")>,\n",
       " <selenium.webdriver.remote.webelement.WebElement (session=\"c0cb8e0855d5b0530d601d1b786a77c6\", element=\"01735cb2-2295-49d1-991d-574b49bbdfa9\")>,\n",
       " <selenium.webdriver.remote.webelement.WebElement (session=\"c0cb8e0855d5b0530d601d1b786a77c6\", element=\"3ee014cb-2240-432d-bcad-cdf6a724b247\")>,\n",
       " <selenium.webdriver.remote.webelement.WebElement (session=\"c0cb8e0855d5b0530d601d1b786a77c6\", element=\"2e78f054-deee-4aef-9f69-be88e9484410\")>,\n",
       " <selenium.webdriver.remote.webelement.WebElement (session=\"c0cb8e0855d5b0530d601d1b786a77c6\", element=\"7b045b86-fb95-4f73-9322-0c61eb18e87c\")>]"
      ]
     },
     "execution_count": 13,
     "metadata": {},
     "output_type": "execute_result"
    }
   ],
   "source": [
    "experience_tag = driver.find_elements_by_xpath(\"//span[@class='ellipsis fleft fs12 lh16 ']\")\n",
    "experience_tag"
   ]
  },
  {
   "cell_type": "code",
   "execution_count": 14,
   "metadata": {},
   "outputs": [
    {
     "data": {
      "text/plain": [
       "['0-3 Yrs',\n",
       " '3,50,000 - 4,50,000 PA.',\n",
       " 'Hyderabad/Secunderabad, Chennai, Bangalore/Bengaluru',\n",
       " '3,50,000 - 5,00,000 PA.',\n",
       " '3,50,000 - 5,00,000 PA.',\n",
       " '0-2 Yrs',\n",
       " 'Not disclosed',\n",
       " 'Bangalore/Bengaluru',\n",
       " '5-10 Yrs',\n",
       " 'Not disclosed',\n",
       " 'Bangalore/Bengaluru',\n",
       " 'Not disclosed',\n",
       " '0-2 Yrs',\n",
       " '90,000 - 2,50,000 PA.',\n",
       " 'Coimbatore, Bangalore/Bengaluru, Trivandrum/Thiruvananthapuram',\n",
       " '0-2 Yrs',\n",
       " 'Not disclosed',\n",
       " 'Bangalore/Bengaluru',\n",
       " '10-15 Yrs',\n",
       " 'Not disclosed',\n",
       " 'Mumbai, Bangalore/Bengaluru',\n",
       " '3-5 Yrs',\n",
       " 'Not disclosed',\n",
       " 'Bangalore/Bengaluru',\n",
       " '1-3 Yrs',\n",
       " 'Not disclosed',\n",
       " 'Bangalore/Bengaluru',\n",
       " '3-6 Yrs',\n",
       " 'Not disclosed',\n",
       " 'Bangalore/Bengaluru',\n",
       " '2-3 Yrs',\n",
       " '5,00,000 - 6,00,000 PA.',\n",
       " 'Bangalore/Bengaluru',\n",
       " '3-8 Yrs',\n",
       " 'Not disclosed',\n",
       " 'Mumbai, Bangalore/Bengaluru',\n",
       " '4-7 Yrs',\n",
       " 'Not disclosed',\n",
       " 'Bangalore/Bengaluru',\n",
       " '7-12 Yrs',\n",
       " '15,00,000 - 30,00,000 PA.',\n",
       " 'Hyderabad/Secunderabad, Chennai, Bangalore/Bengaluru',\n",
       " '1-2 Yrs',\n",
       " 'Not disclosed',\n",
       " 'Bangalore/Bengaluru',\n",
       " '1-2 Yrs',\n",
       " 'Not disclosed',\n",
       " 'Bangalore/Bengaluru',\n",
       " '2-6 Yrs',\n",
       " 'Not disclosed',\n",
       " 'Bangalore/Bengaluru',\n",
       " '2-7 Yrs',\n",
       " '5,00,000 - 15,00,000 PA.',\n",
       " 'Bangalore/Bengaluru, Bangalore']"
      ]
     },
     "execution_count": 14,
     "metadata": {},
     "output_type": "execute_result"
    }
   ],
   "source": [
    "experience = []\n",
    "for i in experience_tag:\n",
    "    experience.append(i.text)\n",
    "experience"
   ]
  },
  {
   "cell_type": "code",
   "execution_count": 15,
   "metadata": {},
   "outputs": [
    {
     "data": {
      "text/plain": [
       "['0-3 Yrs',\n",
       " '3,50,000 - 5,00,000 PA.',\n",
       " 'Not disclosed',\n",
       " 'Not disclosed',\n",
       " '0-2 Yrs',\n",
       " '0-2 Yrs',\n",
       " '10-15 Yrs',\n",
       " '3-5 Yrs',\n",
       " '1-3 Yrs',\n",
       " '3-6 Yrs',\n",
       " '2-3 Yrs',\n",
       " '3-8 Yrs',\n",
       " '4-7 Yrs',\n",
       " '7-12 Yrs',\n",
       " '1-2 Yrs',\n",
       " '1-2 Yrs',\n",
       " '2-6 Yrs',\n",
       " '2-7 Yrs']"
      ]
     },
     "execution_count": 15,
     "metadata": {},
     "output_type": "execute_result"
    }
   ],
   "source": [
    "experience_yrs = []\n",
    "for i in range(0,len(experience),3):\n",
    "    experience_yrs.append(experience[i])\n",
    "experience_yrs"
   ]
  },
  {
   "cell_type": "code",
   "execution_count": 16,
   "metadata": {},
   "outputs": [
    {
     "data": {
      "text/plain": [
       "['3,50,000 - 4,50,000 PA.',\n",
       " '3,50,000 - 5,00,000 PA.',\n",
       " 'Bangalore/Bengaluru',\n",
       " 'Bangalore/Bengaluru',\n",
       " '90,000 - 2,50,000 PA.',\n",
       " 'Not disclosed',\n",
       " 'Not disclosed',\n",
       " 'Not disclosed',\n",
       " 'Not disclosed',\n",
       " 'Not disclosed',\n",
       " '5,00,000 - 6,00,000 PA.',\n",
       " 'Not disclosed',\n",
       " 'Not disclosed',\n",
       " '15,00,000 - 30,00,000 PA.',\n",
       " 'Not disclosed',\n",
       " 'Not disclosed',\n",
       " 'Not disclosed',\n",
       " '5,00,000 - 15,00,000 PA.']"
      ]
     },
     "execution_count": 16,
     "metadata": {},
     "output_type": "execute_result"
    }
   ],
   "source": [
    "salary=[]\n",
    "for i in range(1,len(experience),3):\n",
    "    salary.append(experience[i])\n",
    "salary"
   ]
  },
  {
   "cell_type": "code",
   "execution_count": 17,
   "metadata": {},
   "outputs": [
    {
     "data": {
      "text/plain": [
       "['Hyderabad/Secunderabad, Chennai, Bangalore/Bengaluru',\n",
       " '0-2 Yrs',\n",
       " '5-10 Yrs',\n",
       " 'Not disclosed',\n",
       " 'Coimbatore, Bangalore/Bengaluru, Trivandrum/Thiruvananthapuram',\n",
       " 'Bangalore/Bengaluru',\n",
       " 'Mumbai, Bangalore/Bengaluru',\n",
       " 'Bangalore/Bengaluru',\n",
       " 'Bangalore/Bengaluru',\n",
       " 'Bangalore/Bengaluru',\n",
       " 'Bangalore/Bengaluru',\n",
       " 'Mumbai, Bangalore/Bengaluru',\n",
       " 'Bangalore/Bengaluru',\n",
       " 'Hyderabad/Secunderabad, Chennai, Bangalore/Bengaluru',\n",
       " 'Bangalore/Bengaluru',\n",
       " 'Bangalore/Bengaluru',\n",
       " 'Bangalore/Bengaluru',\n",
       " 'Bangalore/Bengaluru, Bangalore']"
      ]
     },
     "execution_count": 17,
     "metadata": {},
     "output_type": "execute_result"
    }
   ],
   "source": [
    "location=[]\n",
    "for i in range(2,len(experience),3):\n",
    "    location.append(experience[i])\n",
    "location"
   ]
  },
  {
   "cell_type": "code",
   "execution_count": 18,
   "metadata": {},
   "outputs": [
    {
     "data": {
      "text/plain": [
       "[<selenium.webdriver.remote.webelement.WebElement (session=\"c0cb8e0855d5b0530d601d1b786a77c6\", element=\"2c8b34ed-10af-4d3e-92b8-98c51e76cd23\")>,\n",
       " <selenium.webdriver.remote.webelement.WebElement (session=\"c0cb8e0855d5b0530d601d1b786a77c6\", element=\"63e7e4b3-6be5-4636-97fc-632778a4d3ef\")>,\n",
       " <selenium.webdriver.remote.webelement.WebElement (session=\"c0cb8e0855d5b0530d601d1b786a77c6\", element=\"f6530981-44a5-46af-bb11-45c195cf0c10\")>,\n",
       " <selenium.webdriver.remote.webelement.WebElement (session=\"c0cb8e0855d5b0530d601d1b786a77c6\", element=\"8ff93c9d-7a69-4ba5-8d97-6a8fb0162633\")>,\n",
       " <selenium.webdriver.remote.webelement.WebElement (session=\"c0cb8e0855d5b0530d601d1b786a77c6\", element=\"a79e0c0a-506e-4867-baaa-f956b01e86cc\")>,\n",
       " <selenium.webdriver.remote.webelement.WebElement (session=\"c0cb8e0855d5b0530d601d1b786a77c6\", element=\"6d6dafc9-fc3e-4f02-9321-f663226505c0\")>,\n",
       " <selenium.webdriver.remote.webelement.WebElement (session=\"c0cb8e0855d5b0530d601d1b786a77c6\", element=\"78f9d50d-34a2-478c-ab9d-ad4263748735\")>,\n",
       " <selenium.webdriver.remote.webelement.WebElement (session=\"c0cb8e0855d5b0530d601d1b786a77c6\", element=\"27cacf00-c88e-4cde-82c3-28f3d8601a63\")>,\n",
       " <selenium.webdriver.remote.webelement.WebElement (session=\"c0cb8e0855d5b0530d601d1b786a77c6\", element=\"1508e8ea-6c46-4bf0-8e74-2e65104a056e\")>,\n",
       " <selenium.webdriver.remote.webelement.WebElement (session=\"c0cb8e0855d5b0530d601d1b786a77c6\", element=\"fa3e2ffc-16ce-4757-874c-ab6271be3308\")>,\n",
       " <selenium.webdriver.remote.webelement.WebElement (session=\"c0cb8e0855d5b0530d601d1b786a77c6\", element=\"24c11f01-05af-4042-a65c-bc63c3f760aa\")>,\n",
       " <selenium.webdriver.remote.webelement.WebElement (session=\"c0cb8e0855d5b0530d601d1b786a77c6\", element=\"60d79851-67ae-4458-bab1-848864dd3083\")>,\n",
       " <selenium.webdriver.remote.webelement.WebElement (session=\"c0cb8e0855d5b0530d601d1b786a77c6\", element=\"9ad9682d-4ce0-4edc-b9d6-da8efc3c42bd\")>,\n",
       " <selenium.webdriver.remote.webelement.WebElement (session=\"c0cb8e0855d5b0530d601d1b786a77c6\", element=\"29fffa11-9b11-4558-8ada-5b7d1f21283c\")>,\n",
       " <selenium.webdriver.remote.webelement.WebElement (session=\"c0cb8e0855d5b0530d601d1b786a77c6\", element=\"cd743d93-d5e8-45f6-b4ce-f66d0bdd3aab\")>,\n",
       " <selenium.webdriver.remote.webelement.WebElement (session=\"c0cb8e0855d5b0530d601d1b786a77c6\", element=\"3043fe44-8a69-425b-8c28-52cc6dd0f28a\")>,\n",
       " <selenium.webdriver.remote.webelement.WebElement (session=\"c0cb8e0855d5b0530d601d1b786a77c6\", element=\"0ae1ec4a-9331-421b-aedc-6da8037d5775\")>,\n",
       " <selenium.webdriver.remote.webelement.WebElement (session=\"c0cb8e0855d5b0530d601d1b786a77c6\", element=\"9fa1e874-fdd3-4a3b-bfef-6ce0cb2943d7\")>,\n",
       " <selenium.webdriver.remote.webelement.WebElement (session=\"c0cb8e0855d5b0530d601d1b786a77c6\", element=\"e0cabb93-1857-4f62-a9cd-3b47b1c57077\")>,\n",
       " <selenium.webdriver.remote.webelement.WebElement (session=\"c0cb8e0855d5b0530d601d1b786a77c6\", element=\"60465242-13eb-43b8-bb6b-1b042d144e1f\")>,\n",
       " <selenium.webdriver.remote.webelement.WebElement (session=\"c0cb8e0855d5b0530d601d1b786a77c6\", element=\"7d93628f-fa44-4ab4-8644-bdb03bd3a1d4\")>,\n",
       " <selenium.webdriver.remote.webelement.WebElement (session=\"c0cb8e0855d5b0530d601d1b786a77c6\", element=\"2fc8fcf3-bfcd-4653-b27e-11211e76c96c\")>,\n",
       " <selenium.webdriver.remote.webelement.WebElement (session=\"c0cb8e0855d5b0530d601d1b786a77c6\", element=\"b8c28fc2-709f-4cee-84fb-78948e3dd474\")>,\n",
       " <selenium.webdriver.remote.webelement.WebElement (session=\"c0cb8e0855d5b0530d601d1b786a77c6\", element=\"6f41d409-594c-4edf-a0b7-036e9ee985c4\")>,\n",
       " <selenium.webdriver.remote.webelement.WebElement (session=\"c0cb8e0855d5b0530d601d1b786a77c6\", element=\"f63b623e-c40c-4a5c-abaa-a995a918207c\")>,\n",
       " <selenium.webdriver.remote.webelement.WebElement (session=\"c0cb8e0855d5b0530d601d1b786a77c6\", element=\"e9a85c3e-86e8-4a2d-9c86-bf67202b74f0\")>,\n",
       " <selenium.webdriver.remote.webelement.WebElement (session=\"c0cb8e0855d5b0530d601d1b786a77c6\", element=\"d2120d71-e7e3-46d2-827f-3333ea897665\")>,\n",
       " <selenium.webdriver.remote.webelement.WebElement (session=\"c0cb8e0855d5b0530d601d1b786a77c6\", element=\"c7452757-ba3a-493b-a916-0fc50fe4fc49\")>,\n",
       " <selenium.webdriver.remote.webelement.WebElement (session=\"c0cb8e0855d5b0530d601d1b786a77c6\", element=\"b9fecfe4-080b-47ac-8896-eea3d2d37514\")>,\n",
       " <selenium.webdriver.remote.webelement.WebElement (session=\"c0cb8e0855d5b0530d601d1b786a77c6\", element=\"892a9dcc-f239-4bd0-99fc-820bb91f21ab\")>,\n",
       " <selenium.webdriver.remote.webelement.WebElement (session=\"c0cb8e0855d5b0530d601d1b786a77c6\", element=\"7cd71f78-bab3-473d-aadc-392254b11614\")>,\n",
       " <selenium.webdriver.remote.webelement.WebElement (session=\"c0cb8e0855d5b0530d601d1b786a77c6\", element=\"d12103c2-a428-41fc-b91d-027e809b6a8a\")>,\n",
       " <selenium.webdriver.remote.webelement.WebElement (session=\"c0cb8e0855d5b0530d601d1b786a77c6\", element=\"605fa302-370c-4b4b-9bfc-485c620658e5\")>,\n",
       " <selenium.webdriver.remote.webelement.WebElement (session=\"c0cb8e0855d5b0530d601d1b786a77c6\", element=\"2637b8ee-c4b9-4010-b4c3-3299c4c46dd4\")>,\n",
       " <selenium.webdriver.remote.webelement.WebElement (session=\"c0cb8e0855d5b0530d601d1b786a77c6\", element=\"1e7b2e8c-daf0-48eb-a9ec-1cb431f30525\")>]"
      ]
     },
     "execution_count": 18,
     "metadata": {},
     "output_type": "execute_result"
    }
   ],
   "source": [
    "posted_tags = driver.find_elements_by_xpath(\"//span[@class='fleft fw500']\")\n",
    "posted_tags"
   ]
  },
  {
   "cell_type": "code",
   "execution_count": 19,
   "metadata": {},
   "outputs": [
    {
     "data": {
      "text/plain": [
       "['HOT JOB',\n",
       " '8 DAYS AGO',\n",
       " '1 DAY AGO',\n",
       " 'HOT JOB',\n",
       " '1 DAY AGO',\n",
       " 'HOT JOB',\n",
       " '5 DAYS AGO',\n",
       " 'PREFERRED',\n",
       " '1 DAY AGO',\n",
       " 'HOT JOB',\n",
       " '1 DAY AGO',\n",
       " 'HOT JOB',\n",
       " '2 DAYS AGO',\n",
       " 'HOT JOB',\n",
       " '4 DAYS AGO',\n",
       " 'HOT JOB',\n",
       " '3 DAYS AGO',\n",
       " 'HOT JOB',\n",
       " '1 DAY AGO',\n",
       " '1 DAY AGO',\n",
       " 'PREFERRED',\n",
       " '2 DAYS AGO',\n",
       " 'HOT JOB',\n",
       " '2 DAYS AGO',\n",
       " 'HOT JOB',\n",
       " '3 DAYS AGO',\n",
       " 'HOT JOB',\n",
       " '7 DAYS AGO',\n",
       " 'HOT JOB',\n",
       " 'JUST NOW',\n",
       " '1 DAY AGO',\n",
       " '1 DAY AGO',\n",
       " '1 DAY AGO',\n",
       " 'HOT JOB',\n",
       " '2 DAYS AGO']"
      ]
     },
     "execution_count": 19,
     "metadata": {},
     "output_type": "execute_result"
    }
   ],
   "source": [
    "posted_date = []\n",
    "for i in posted_tags:\n",
    "    posted_date.append(i.text)\n",
    "posted_date"
   ]
  },
  {
   "cell_type": "code",
   "execution_count": 20,
   "metadata": {},
   "outputs": [
    {
     "data": {
      "text/plain": [
       "['8 DAYS AGO',\n",
       " 'HOT JOB',\n",
       " 'HOT JOB',\n",
       " 'PREFERRED',\n",
       " 'HOT JOB',\n",
       " 'HOT JOB',\n",
       " 'HOT JOB',\n",
       " 'HOT JOB',\n",
       " 'HOT JOB',\n",
       " '1 DAY AGO',\n",
       " '2 DAYS AGO',\n",
       " '2 DAYS AGO',\n",
       " '3 DAYS AGO',\n",
       " '7 DAYS AGO',\n",
       " 'JUST NOW',\n",
       " '1 DAY AGO',\n",
       " 'HOT JOB']"
      ]
     },
     "execution_count": 20,
     "metadata": {},
     "output_type": "execute_result"
    }
   ],
   "source": [
    "posted_time=[]\n",
    "for i in range(1,len(posted_date),2):\n",
    "    posted_time.append(posted_date[i])\n",
    "posted_time"
   ]
  },
  {
   "cell_type": "code",
   "execution_count": 21,
   "metadata": {},
   "outputs": [
    {
     "data": {
      "text/html": [
       "<div>\n",
       "<style scoped>\n",
       "    .dataframe tbody tr th:only-of-type {\n",
       "        vertical-align: middle;\n",
       "    }\n",
       "\n",
       "    .dataframe tbody tr th {\n",
       "        vertical-align: top;\n",
       "    }\n",
       "\n",
       "    .dataframe thead th {\n",
       "        text-align: right;\n",
       "    }\n",
       "</style>\n",
       "<table border=\"1\" class=\"dataframe\">\n",
       "  <thead>\n",
       "    <tr style=\"text-align: right;\">\n",
       "      <th></th>\n",
       "      <th>Job_Title</th>\n",
       "      <th>Company_name</th>\n",
       "      <th>Experience</th>\n",
       "      <th>Salary</th>\n",
       "      <th>Location</th>\n",
       "      <th>Posted_Time</th>\n",
       "    </tr>\n",
       "  </thead>\n",
       "  <tbody>\n",
       "    <tr>\n",
       "      <th>0</th>\n",
       "      <td>Data Scientist / Data Analyst -Business Analyst</td>\n",
       "      <td>Inflexion Analytix Private Limited</td>\n",
       "      <td>0-3 Yrs</td>\n",
       "      <td>3,50,000 - 4,50,000 PA.</td>\n",
       "      <td>Hyderabad/Secunderabad, Chennai, Bangalore/Ben...</td>\n",
       "      <td>8 DAYS AGO</td>\n",
       "    </tr>\n",
       "    <tr>\n",
       "      <th>1</th>\n",
       "      <td>Junior Data Analyst</td>\n",
       "      <td>Simplilearn</td>\n",
       "      <td>3,50,000 - 5,00,000 PA.</td>\n",
       "      <td>3,50,000 - 5,00,000 PA.</td>\n",
       "      <td>0-2 Yrs</td>\n",
       "      <td>HOT JOB</td>\n",
       "    </tr>\n",
       "    <tr>\n",
       "      <th>2</th>\n",
       "      <td>Junior Data Analyst</td>\n",
       "      <td>Simplilearn</td>\n",
       "      <td>Not disclosed</td>\n",
       "      <td>Bangalore/Bengaluru</td>\n",
       "      <td>5-10 Yrs</td>\n",
       "      <td>HOT JOB</td>\n",
       "    </tr>\n",
       "    <tr>\n",
       "      <th>3</th>\n",
       "      <td>Network Design &amp; Data Analyst</td>\n",
       "      <td>Dell International Services India Private Limited</td>\n",
       "      <td>Not disclosed</td>\n",
       "      <td>Bangalore/Bengaluru</td>\n",
       "      <td>Not disclosed</td>\n",
       "      <td>PREFERRED</td>\n",
       "    </tr>\n",
       "    <tr>\n",
       "      <th>4</th>\n",
       "      <td>Data analysts</td>\n",
       "      <td>IBM India Pvt. Limited</td>\n",
       "      <td>0-2 Yrs</td>\n",
       "      <td>90,000 - 2,50,000 PA.</td>\n",
       "      <td>Coimbatore, Bangalore/Bengaluru, Trivandrum/Th...</td>\n",
       "      <td>HOT JOB</td>\n",
       "    </tr>\n",
       "    <tr>\n",
       "      <th>5</th>\n",
       "      <td>Data Analyst</td>\n",
       "      <td>CARNATION INFOTECH PRIVATE LIMITED</td>\n",
       "      <td>0-2 Yrs</td>\n",
       "      <td>Not disclosed</td>\n",
       "      <td>Bangalore/Bengaluru</td>\n",
       "      <td>HOT JOB</td>\n",
       "    </tr>\n",
       "    <tr>\n",
       "      <th>6</th>\n",
       "      <td>Excel VBA Jobs Bangalore | VBA data analyst Jobs</td>\n",
       "      <td>Mind Circus Innovation</td>\n",
       "      <td>10-15 Yrs</td>\n",
       "      <td>Not disclosed</td>\n",
       "      <td>Mumbai, Bangalore/Bengaluru</td>\n",
       "      <td>HOT JOB</td>\n",
       "    </tr>\n",
       "    <tr>\n",
       "      <th>7</th>\n",
       "      <td>Consultant - Data Analyst</td>\n",
       "      <td>Flipkart Internet Private Limited</td>\n",
       "      <td>3-5 Yrs</td>\n",
       "      <td>Not disclosed</td>\n",
       "      <td>Bangalore/Bengaluru</td>\n",
       "      <td>HOT JOB</td>\n",
       "    </tr>\n",
       "    <tr>\n",
       "      <th>8</th>\n",
       "      <td>Assistant Vice President - MIS &amp; Reporting ( B...</td>\n",
       "      <td>INTERTRUSTVITEOS CORPORATE AND FUND SERVICES P...</td>\n",
       "      <td>1-3 Yrs</td>\n",
       "      <td>Not disclosed</td>\n",
       "      <td>Bangalore/Bengaluru</td>\n",
       "      <td>HOT JOB</td>\n",
       "    </tr>\n",
       "    <tr>\n",
       "      <th>9</th>\n",
       "      <td>Data Analyst</td>\n",
       "      <td>Flipkart Internet Private Limited</td>\n",
       "      <td>3-6 Yrs</td>\n",
       "      <td>Not disclosed</td>\n",
       "      <td>Bangalore/Bengaluru</td>\n",
       "      <td>1 DAY AGO</td>\n",
       "    </tr>\n",
       "  </tbody>\n",
       "</table>\n",
       "</div>"
      ],
      "text/plain": [
       "                                           Job_Title  \\\n",
       "0    Data Scientist / Data Analyst -Business Analyst   \n",
       "1                                Junior Data Analyst   \n",
       "2                                Junior Data Analyst   \n",
       "3                      Network Design & Data Analyst   \n",
       "4                                      Data analysts   \n",
       "5                                       Data Analyst   \n",
       "6   Excel VBA Jobs Bangalore | VBA data analyst Jobs   \n",
       "7                          Consultant - Data Analyst   \n",
       "8  Assistant Vice President - MIS & Reporting ( B...   \n",
       "9                                       Data Analyst   \n",
       "\n",
       "                                        Company_name               Experience  \\\n",
       "0                 Inflexion Analytix Private Limited                  0-3 Yrs   \n",
       "1                                        Simplilearn  3,50,000 - 5,00,000 PA.   \n",
       "2                                        Simplilearn            Not disclosed   \n",
       "3  Dell International Services India Private Limited            Not disclosed   \n",
       "4                             IBM India Pvt. Limited                  0-2 Yrs   \n",
       "5                 CARNATION INFOTECH PRIVATE LIMITED                  0-2 Yrs   \n",
       "6                             Mind Circus Innovation                10-15 Yrs   \n",
       "7                  Flipkart Internet Private Limited                  3-5 Yrs   \n",
       "8  INTERTRUSTVITEOS CORPORATE AND FUND SERVICES P...                  1-3 Yrs   \n",
       "9                  Flipkart Internet Private Limited                  3-6 Yrs   \n",
       "\n",
       "                    Salary                                           Location  \\\n",
       "0  3,50,000 - 4,50,000 PA.  Hyderabad/Secunderabad, Chennai, Bangalore/Ben...   \n",
       "1  3,50,000 - 5,00,000 PA.                                            0-2 Yrs   \n",
       "2      Bangalore/Bengaluru                                           5-10 Yrs   \n",
       "3      Bangalore/Bengaluru                                      Not disclosed   \n",
       "4    90,000 - 2,50,000 PA.  Coimbatore, Bangalore/Bengaluru, Trivandrum/Th...   \n",
       "5            Not disclosed                                Bangalore/Bengaluru   \n",
       "6            Not disclosed                        Mumbai, Bangalore/Bengaluru   \n",
       "7            Not disclosed                                Bangalore/Bengaluru   \n",
       "8            Not disclosed                                Bangalore/Bengaluru   \n",
       "9            Not disclosed                                Bangalore/Bengaluru   \n",
       "\n",
       "  Posted_Time  \n",
       "0  8 DAYS AGO  \n",
       "1     HOT JOB  \n",
       "2     HOT JOB  \n",
       "3   PREFERRED  \n",
       "4     HOT JOB  \n",
       "5     HOT JOB  \n",
       "6     HOT JOB  \n",
       "7     HOT JOB  \n",
       "8     HOT JOB  \n",
       "9   1 DAY AGO  "
      ]
     },
     "execution_count": 21,
     "metadata": {},
     "output_type": "execute_result"
    }
   ],
   "source": [
    "Job_Details = pd.DataFrame({})\n",
    "Job_Details['Job_Title'] = job_titles[0:10]\n",
    "Job_Details['Company_name'] = company_name[0:10]\n",
    "Job_Details['Experience'] = experience_yrs[0:10]\n",
    "Job_Details['Salary'] = salary[0:10]\n",
    "Job_Details['Location'] = location[0:10]\n",
    "Job_Details['Posted_Time'] = posted_time[0:10]\n",
    "Job_Details"
   ]
  },
  {
   "cell_type": "code",
   "execution_count": null,
   "metadata": {},
   "outputs": [],
   "source": []
  },
  {
   "cell_type": "markdown",
   "metadata": {},
   "source": [
    "## 2."
   ]
  },
  {
   "cell_type": "code",
   "execution_count": 22,
   "metadata": {},
   "outputs": [],
   "source": [
    "driver = webdriver.Chrome('chromedriver.exe')"
   ]
  },
  {
   "cell_type": "code",
   "execution_count": 23,
   "metadata": {
    "scrolled": true
   },
   "outputs": [],
   "source": [
    "url = 'https://www.naukri.com/'\n",
    "driver.get(url)"
   ]
  },
  {
   "cell_type": "code",
   "execution_count": 24,
   "metadata": {},
   "outputs": [],
   "source": [
    "search_bar = driver.find_element_by_xpath(\"//input[@class='sugInp']\")\n",
    "search_bar.send_keys('Data Scientist')"
   ]
  },
  {
   "cell_type": "code",
   "execution_count": 25,
   "metadata": {},
   "outputs": [],
   "source": [
    "search_loc = driver.find_element_by_xpath(\"//input[@id='qsb-location-sugg']\")\n",
    "search_loc.send_keys('Banglore')"
   ]
  },
  {
   "cell_type": "code",
   "execution_count": 26,
   "metadata": {},
   "outputs": [],
   "source": [
    "search_button = driver.find_element_by_xpath(\"//button[@class='btn']\")\n",
    "search_button.click()"
   ]
  },
  {
   "cell_type": "code",
   "execution_count": 27,
   "metadata": {},
   "outputs": [],
   "source": [
    "later_button = driver.find_element_by_xpath(\"//span[@class='fr geoLocBtn later']\")\n",
    "later_button.click()"
   ]
  },
  {
   "cell_type": "code",
   "execution_count": 28,
   "metadata": {},
   "outputs": [],
   "source": [
    "#title_tags=driver.find_elements_by_xpath(\"//a[@class='title fw500 ellipsis']\")\n",
    "#title_tags"
   ]
  },
  {
   "cell_type": "code",
   "execution_count": 29,
   "metadata": {},
   "outputs": [],
   "source": [
    "#job_titles=[]\n",
    "#for i in title_tags:\n",
    "    #job_titles.append(i.text)\n",
    "#job_titles"
   ]
  },
  {
   "cell_type": "code",
   "execution_count": 30,
   "metadata": {},
   "outputs": [
    {
     "data": {
      "text/plain": [
       "[<selenium.webdriver.remote.webelement.WebElement (session=\"77124769bbc61879f02f5f3cbfac6f77\", element=\"90e6f631-2631-432c-be31-3697645386b4\")>,\n",
       " <selenium.webdriver.remote.webelement.WebElement (session=\"77124769bbc61879f02f5f3cbfac6f77\", element=\"4b964768-1c4e-45cc-979c-e623a0b44a9e\")>,\n",
       " <selenium.webdriver.remote.webelement.WebElement (session=\"77124769bbc61879f02f5f3cbfac6f77\", element=\"fa74fe16-6ec4-46dd-b9fe-99d861267ab1\")>,\n",
       " <selenium.webdriver.remote.webelement.WebElement (session=\"77124769bbc61879f02f5f3cbfac6f77\", element=\"a39745e1-7008-45be-9fa8-a36e7c532e7c\")>,\n",
       " <selenium.webdriver.remote.webelement.WebElement (session=\"77124769bbc61879f02f5f3cbfac6f77\", element=\"f78ad6cb-4848-4696-b6cc-10cc5a9a9366\")>,\n",
       " <selenium.webdriver.remote.webelement.WebElement (session=\"77124769bbc61879f02f5f3cbfac6f77\", element=\"f547a4bc-e7ef-4b56-bf98-b46897551479\")>,\n",
       " <selenium.webdriver.remote.webelement.WebElement (session=\"77124769bbc61879f02f5f3cbfac6f77\", element=\"329a88bc-ce91-4823-b7b3-b9e348dab1e5\")>,\n",
       " <selenium.webdriver.remote.webelement.WebElement (session=\"77124769bbc61879f02f5f3cbfac6f77\", element=\"16ba86ea-9507-45ea-affd-480abf58793e\")>,\n",
       " <selenium.webdriver.remote.webelement.WebElement (session=\"77124769bbc61879f02f5f3cbfac6f77\", element=\"e9617848-eff0-4be9-93b0-c0ff031def64\")>,\n",
       " <selenium.webdriver.remote.webelement.WebElement (session=\"77124769bbc61879f02f5f3cbfac6f77\", element=\"e2c46c29-ac7f-4db0-adbc-1ca9aa063731\")>,\n",
       " <selenium.webdriver.remote.webelement.WebElement (session=\"77124769bbc61879f02f5f3cbfac6f77\", element=\"2aae5e21-c2a8-4878-8c9f-bfa3c51ffa50\")>,\n",
       " <selenium.webdriver.remote.webelement.WebElement (session=\"77124769bbc61879f02f5f3cbfac6f77\", element=\"0b2ec411-89d3-4781-8bf7-4ac5ac8e2452\")>,\n",
       " <selenium.webdriver.remote.webelement.WebElement (session=\"77124769bbc61879f02f5f3cbfac6f77\", element=\"31ca923a-297d-4cf1-8884-e1811cb3fc0a\")>,\n",
       " <selenium.webdriver.remote.webelement.WebElement (session=\"77124769bbc61879f02f5f3cbfac6f77\", element=\"31b36a94-5c27-4723-8ff1-29adacc4c175\")>,\n",
       " <selenium.webdriver.remote.webelement.WebElement (session=\"77124769bbc61879f02f5f3cbfac6f77\", element=\"1f68cfc7-6d11-4e9b-a483-ae87f0bb4502\")>,\n",
       " <selenium.webdriver.remote.webelement.WebElement (session=\"77124769bbc61879f02f5f3cbfac6f77\", element=\"6af2c104-6f01-41fa-8a47-cc5630f385e0\")>,\n",
       " <selenium.webdriver.remote.webelement.WebElement (session=\"77124769bbc61879f02f5f3cbfac6f77\", element=\"6514551b-7b1d-4394-83c4-87be050630c4\")>,\n",
       " <selenium.webdriver.remote.webelement.WebElement (session=\"77124769bbc61879f02f5f3cbfac6f77\", element=\"87ea8f63-c8e1-4e4e-8e69-15dedcef930d\")>,\n",
       " <selenium.webdriver.remote.webelement.WebElement (session=\"77124769bbc61879f02f5f3cbfac6f77\", element=\"8a3adb21-2ca5-4e8a-b1de-e3a63a08d280\")>,\n",
       " <selenium.webdriver.remote.webelement.WebElement (session=\"77124769bbc61879f02f5f3cbfac6f77\", element=\"de03e7e8-98c4-4f2c-b973-4a6949b62c79\")>]"
      ]
     },
     "execution_count": 30,
     "metadata": {},
     "output_type": "execute_result"
    }
   ],
   "source": [
    "company_tags = driver.find_elements_by_xpath(\"//a[@class='subTitle ellipsis fleft']\")\n",
    "company_tags"
   ]
  },
  {
   "cell_type": "code",
   "execution_count": 31,
   "metadata": {},
   "outputs": [
    {
     "data": {
      "text/plain": [
       "['Flipkart Internet Private Limited',\n",
       " 'Flipkart Internet Private Limited',\n",
       " 'bd',\n",
       " 'Inflexion Analytix Private Limited',\n",
       " 'IBM India Pvt. Limited',\n",
       " 'IBM India Pvt. Limited',\n",
       " 'inVentiv International Pharma Services Pvt. Ltd.',\n",
       " 'EXL Service',\n",
       " 'Applied Materials',\n",
       " 'Exploro Solutions',\n",
       " 'Center for Study of Science, Technology and Policy',\n",
       " 'Oracle India Pvt. Ltd.',\n",
       " 'NatWest Markets',\n",
       " 'Vision Beyond Resources India Private Limited',\n",
       " 'Gojek Tech',\n",
       " 'GO-JEK India',\n",
       " 'Blue Ocean Catalyst Private Limited',\n",
       " 'IHX private limited',\n",
       " 'DeliverHealth Solutions',\n",
       " 'IBM India Pvt. Limited']"
      ]
     },
     "execution_count": 31,
     "metadata": {},
     "output_type": "execute_result"
    }
   ],
   "source": [
    "company_name = []\n",
    "for i in company_tags:\n",
    "    company_name.append(i.text)\n",
    "company_name"
   ]
  },
  {
   "cell_type": "code",
   "execution_count": 32,
   "metadata": {},
   "outputs": [
    {
     "data": {
      "text/plain": [
       "[]"
      ]
     },
     "execution_count": 32,
     "metadata": {},
     "output_type": "execute_result"
    }
   ],
   "source": [
    "location_tag = driver.find_elements_by_xpath(\"//span[@class='ellipsis fleft fs12 lh16']\")\n",
    "location_tag"
   ]
  },
  {
   "cell_type": "code",
   "execution_count": 33,
   "metadata": {},
   "outputs": [
    {
     "data": {
      "text/plain": [
       "['Hyderabad/Secunderabad, Chennai, Bangalore/Bengaluru',\n",
       " '0-2 Yrs',\n",
       " '5-10 Yrs',\n",
       " 'Not disclosed',\n",
       " 'Coimbatore, Bangalore/Bengaluru, Trivandrum/Thiruvananthapuram',\n",
       " 'Bangalore/Bengaluru',\n",
       " 'Mumbai, Bangalore/Bengaluru',\n",
       " 'Bangalore/Bengaluru',\n",
       " 'Bangalore/Bengaluru',\n",
       " 'Bangalore/Bengaluru',\n",
       " 'Bangalore/Bengaluru',\n",
       " 'Mumbai, Bangalore/Bengaluru',\n",
       " 'Bangalore/Bengaluru',\n",
       " 'Hyderabad/Secunderabad, Chennai, Bangalore/Bengaluru',\n",
       " 'Bangalore/Bengaluru',\n",
       " 'Bangalore/Bengaluru',\n",
       " 'Bangalore/Bengaluru',\n",
       " 'Bangalore/Bengaluru, Bangalore']"
      ]
     },
     "execution_count": 33,
     "metadata": {},
     "output_type": "execute_result"
    }
   ],
   "source": [
    "location=[]\n",
    "for i in range(2,len(experience),3):\n",
    "    location.append(experience[i])\n",
    "location"
   ]
  },
  {
   "cell_type": "code",
   "execution_count": 34,
   "metadata": {},
   "outputs": [
    {
     "data": {
      "text/plain": [
       "['https://www.naukri.com/job-listings-data-scientist-flipkart-internet-private-limited-bangalore-bengaluru-0-to-5-years-080721904425?src=jobsearchDesk&sid=16259261722633115&xp=1&px=1',\n",
       " 'https://www.naukri.com/job-listings-senior-data-scientist-flipkart-internet-private-limited-bangalore-bengaluru-5-to-10-years-090721908235?src=jobsearchDesk&sid=16259261722633115&xp=2&px=1',\n",
       " 'https://www.naukri.com/job-listings-lead-data-scientist-bd-bangalore-bengaluru-2-to-7-years-090721501722?src=jobsearchDesk&sid=16259261722633115&xp=3&px=1',\n",
       " 'https://www.naukri.com/job-listings-data-scientist-data-analyst-business-analyst-inflexion-analytix-private-limited-hyderabad-secunderabad-chennai-bangalore-bengaluru-0-to-3-years-020721003625?src=jobsearchDesk&sid=16259261722633115&xp=4&px=1',\n",
       " 'https://www.naukri.com/job-listings-data-scientist-advanced-analytics-ibm-india-pvt-limited-bangalore-bengaluru-5-to-10-years-090721906161?src=jobsearchDesk&sid=16259261722633115&xp=5&px=1',\n",
       " 'https://www.naukri.com/job-listings-data-scientist-ibm-india-pvt-limited-bangalore-bengaluru-3-to-6-years-080721906014?src=jobsearchDesk&sid=16259261722633115&xp=6&px=1',\n",
       " 'https://www.naukri.com/job-listings-senior-data-scientist-inventiv-international-pharma-services-pvt-ltd-hyderabad-secunderabad-gurgaon-gurugram-bangalore-bengaluru-3-to-6-years-090721000064?src=jobsearchDesk&sid=16259261722633115&xp=7&px=1',\n",
       " 'https://www.naukri.com/job-listings-exl-senior-data-scientist-5-yrs-mumbai-pune-blr-chennai-exl-service-pune-chennai-bangalore-bengaluru-delhi-ncr-5-to-10-years-080721005255?src=jobsearchDesk&sid=16259261722633115&xp=8&px=1',\n",
       " 'https://www.naukri.com/job-listings-data-scientist-applied-materials-india-private-limited-bangalore-bengaluru-5-to-10-years-090721902434?src=jobsearchDesk&sid=16259261722633115&xp=9&px=1',\n",
       " 'https://www.naukri.com/job-listings-senior-data-scientist-tech-lead-sql-python-big-data-exploro-solutions-pune-chennai-bangalore-bengaluru-5-to-10-years-080721908426?src=jobsearchDesk&sid=16259261722633115&xp=10&px=1',\n",
       " 'https://www.naukri.com/job-listings-data-scientist-center-for-study-of-science-technology-and-policy-bangalore-bengaluru-2-to-4-years-080721501346?src=jobsearchDesk&sid=16259261722633115&xp=11&px=1',\n",
       " 'https://www.naukri.com/job-listings-data-scientist-oracle-india-pvt-ltd-noida-bangalore-bengaluru-5-to-9-years-010621004567?src=jobsearchDesk&sid=16259261722633115&xp=12&px=1',\n",
       " 'https://www.naukri.com/job-listings-data-scientist-natwest-markets-bangalore-bengaluru-3-to-6-years-090721501813?src=jobsearchDesk&sid=16259261722633115&xp=13&px=1',\n",
       " 'https://www.naukri.com/job-listings-data-scientist-vision-beyond-resources-india-private-limited-bangalore-bengaluru-mumbai-all-areas-10-to-19-years-080721006482?src=jobsearchDesk&sid=16259261722633115&xp=14&px=1',\n",
       " 'https://www.naukri.com/job-listings-data-scientist-2-gojek-tech-bangalore-bengaluru-4-to-8-years-090721501896?src=jobsearchDesk&sid=16259261722633115&xp=15&px=1',\n",
       " 'https://www.naukri.com/job-listings-data-scientist-2-go-jek-india-bangalore-bengaluru-6-to-11-years-090721501884?src=jobsearchDesk&sid=16259261722633115&xp=16&px=1',\n",
       " 'https://www.naukri.com/job-listings-data-scientist-blue-ocean-catalyst-private-limited-bangalore-bengaluru-2-to-6-years-080721500490?src=jobsearchDesk&sid=16259261722633115&xp=17&px=1',\n",
       " 'https://www.naukri.com/job-listings-hiring-data-scientist-ihx-private-limited-bangalore-bengaluru-4-to-6-years-090721002695?src=jobsearchDesk&sid=16259261722633115&xp=18&px=1',\n",
       " 'https://www.naukri.com/job-listings-dhs-hiring-for-data-scientist-india-deliverhealth-solutions-bangalore-bengaluru-1-to-6-years-080721003439?src=jobsearchDesk&sid=16259261722633115&xp=19&px=1',\n",
       " 'https://www.naukri.com/job-listings-data-scientist-artificial-intelligence-ibm-india-pvt-limited-bangalore-bengaluru-4-to-8-years-080721906686?src=jobsearchDesk&sid=16259261722633115&xp=20&px=1']"
      ]
     },
     "execution_count": 34,
     "metadata": {},
     "output_type": "execute_result"
    }
   ],
   "source": [
    "job_link = []\n",
    "urls = driver.find_elements_by_xpath(\"//a[@class='title fw500 ellipsis']\")\n",
    "for i in  urls:\n",
    "    job_link.append(i.get_attribute('href'))\n",
    "job_link"
   ]
  },
  {
   "cell_type": "code",
   "execution_count": 35,
   "metadata": {},
   "outputs": [],
   "source": [
    "job_title = []\n",
    "job_d = []\n",
    "\n",
    "for i in job_link:\n",
    "    driver.get(i)\n",
    "    time.sleep(2)\n",
    "    try:\n",
    "        job_name=driver.find_element_by_xpath(\"//h1[@class='jd-header-title']\")\n",
    "        job_title.append(job_name.text)\n",
    "    except:\n",
    "        job_title.append('-')\n",
    "        \n",
    "    try:\n",
    "        job_des=driver.find_elements_by_xpath(\"//section[@class='job-desc']\")\n",
    "        job_d.append(job_des.text)\n",
    "    except:\n",
    "        job_d.append('-')"
   ]
  },
  {
   "cell_type": "code",
   "execution_count": 36,
   "metadata": {},
   "outputs": [
    {
     "data": {
      "text/plain": [
       "['Data Scientist',\n",
       " 'Senior Data Scientist',\n",
       " 'Lead Data Scientist',\n",
       " 'Data Scientist / Data Analyst -Business Analyst',\n",
       " '-',\n",
       " '-',\n",
       " '-',\n",
       " 'EXL - Senior Data Scientist, 5+ yrs, Mumbai / PUNE / BLR / Chennai',\n",
       " '-',\n",
       " 'Senior Data Scientist/ Tech Lead - SQL/ Python/ Big Data',\n",
       " 'Data Scientist',\n",
       " '-',\n",
       " 'Data Scientist',\n",
       " 'Data Scientist',\n",
       " 'Data Scientist 2',\n",
       " 'Data Scientist 2',\n",
       " 'Data Scientist',\n",
       " 'Hiring Data Scientist',\n",
       " 'DHS _ Hiring For Data Scientist - India',\n",
       " '-']"
      ]
     },
     "execution_count": 36,
     "metadata": {},
     "output_type": "execute_result"
    }
   ],
   "source": [
    "job_title"
   ]
  },
  {
   "cell_type": "code",
   "execution_count": 37,
   "metadata": {},
   "outputs": [
    {
     "data": {
      "text/plain": [
       "['-',\n",
       " '-',\n",
       " '-',\n",
       " '-',\n",
       " '-',\n",
       " '-',\n",
       " '-',\n",
       " '-',\n",
       " '-',\n",
       " '-',\n",
       " '-',\n",
       " '-',\n",
       " '-',\n",
       " '-',\n",
       " '-',\n",
       " '-',\n",
       " '-',\n",
       " '-',\n",
       " '-',\n",
       " '-']"
      ]
     },
     "execution_count": 37,
     "metadata": {},
     "output_type": "execute_result"
    }
   ],
   "source": [
    "job_d"
   ]
  },
  {
   "cell_type": "code",
   "execution_count": 38,
   "metadata": {},
   "outputs": [
    {
     "data": {
      "text/html": [
       "<div>\n",
       "<style scoped>\n",
       "    .dataframe tbody tr th:only-of-type {\n",
       "        vertical-align: middle;\n",
       "    }\n",
       "\n",
       "    .dataframe tbody tr th {\n",
       "        vertical-align: top;\n",
       "    }\n",
       "\n",
       "    .dataframe thead th {\n",
       "        text-align: right;\n",
       "    }\n",
       "</style>\n",
       "<table border=\"1\" class=\"dataframe\">\n",
       "  <thead>\n",
       "    <tr style=\"text-align: right;\">\n",
       "      <th></th>\n",
       "      <th>Job_Title</th>\n",
       "      <th>Company_name</th>\n",
       "      <th>Job_Description</th>\n",
       "    </tr>\n",
       "  </thead>\n",
       "  <tbody>\n",
       "    <tr>\n",
       "      <th>0</th>\n",
       "      <td>Data Scientist</td>\n",
       "      <td>Flipkart Internet Private Limited</td>\n",
       "      <td>-</td>\n",
       "    </tr>\n",
       "    <tr>\n",
       "      <th>1</th>\n",
       "      <td>Senior Data Scientist</td>\n",
       "      <td>Flipkart Internet Private Limited</td>\n",
       "      <td>-</td>\n",
       "    </tr>\n",
       "    <tr>\n",
       "      <th>2</th>\n",
       "      <td>Lead Data Scientist</td>\n",
       "      <td>bd</td>\n",
       "      <td>-</td>\n",
       "    </tr>\n",
       "    <tr>\n",
       "      <th>3</th>\n",
       "      <td>Data Scientist / Data Analyst -Business Analyst</td>\n",
       "      <td>Inflexion Analytix Private Limited</td>\n",
       "      <td>-</td>\n",
       "    </tr>\n",
       "    <tr>\n",
       "      <th>4</th>\n",
       "      <td>-</td>\n",
       "      <td>IBM India Pvt. Limited</td>\n",
       "      <td>-</td>\n",
       "    </tr>\n",
       "    <tr>\n",
       "      <th>5</th>\n",
       "      <td>-</td>\n",
       "      <td>IBM India Pvt. Limited</td>\n",
       "      <td>-</td>\n",
       "    </tr>\n",
       "    <tr>\n",
       "      <th>6</th>\n",
       "      <td>-</td>\n",
       "      <td>inVentiv International Pharma Services Pvt. Ltd.</td>\n",
       "      <td>-</td>\n",
       "    </tr>\n",
       "    <tr>\n",
       "      <th>7</th>\n",
       "      <td>EXL - Senior Data Scientist, 5+ yrs, Mumbai / ...</td>\n",
       "      <td>EXL Service</td>\n",
       "      <td>-</td>\n",
       "    </tr>\n",
       "    <tr>\n",
       "      <th>8</th>\n",
       "      <td>-</td>\n",
       "      <td>Applied Materials</td>\n",
       "      <td>-</td>\n",
       "    </tr>\n",
       "    <tr>\n",
       "      <th>9</th>\n",
       "      <td>Senior Data Scientist/ Tech Lead - SQL/ Python...</td>\n",
       "      <td>Exploro Solutions</td>\n",
       "      <td>-</td>\n",
       "    </tr>\n",
       "  </tbody>\n",
       "</table>\n",
       "</div>"
      ],
      "text/plain": [
       "                                           Job_Title  \\\n",
       "0                                     Data Scientist   \n",
       "1                              Senior Data Scientist   \n",
       "2                                Lead Data Scientist   \n",
       "3    Data Scientist / Data Analyst -Business Analyst   \n",
       "4                                                  -   \n",
       "5                                                  -   \n",
       "6                                                  -   \n",
       "7  EXL - Senior Data Scientist, 5+ yrs, Mumbai / ...   \n",
       "8                                                  -   \n",
       "9  Senior Data Scientist/ Tech Lead - SQL/ Python...   \n",
       "\n",
       "                                       Company_name Job_Description  \n",
       "0                 Flipkart Internet Private Limited               -  \n",
       "1                 Flipkart Internet Private Limited               -  \n",
       "2                                                bd               -  \n",
       "3                Inflexion Analytix Private Limited               -  \n",
       "4                            IBM India Pvt. Limited               -  \n",
       "5                            IBM India Pvt. Limited               -  \n",
       "6  inVentiv International Pharma Services Pvt. Ltd.               -  \n",
       "7                                       EXL Service               -  \n",
       "8                                 Applied Materials               -  \n",
       "9                                 Exploro Solutions               -  "
      ]
     },
     "execution_count": 38,
     "metadata": {},
     "output_type": "execute_result"
    }
   ],
   "source": [
    "Job_Details = pd.DataFrame({})\n",
    "Job_Details['Job_Title'] = job_title[0:10]\n",
    "Job_Details['Company_name'] = company_name[0:10]\n",
    "Job_Details['Job_Description'] = job_d[0:10]\n",
    "Job_Details"
   ]
  },
  {
   "cell_type": "code",
   "execution_count": null,
   "metadata": {},
   "outputs": [],
   "source": []
  },
  {
   "cell_type": "markdown",
   "metadata": {},
   "source": [
    "## 3."
   ]
  },
  {
   "cell_type": "code",
   "execution_count": 39,
   "metadata": {},
   "outputs": [],
   "source": [
    "driver = webdriver.Chrome('chromedriver.exe')"
   ]
  },
  {
   "cell_type": "code",
   "execution_count": 40,
   "metadata": {},
   "outputs": [],
   "source": [
    "url = 'https://www.naukri.com/'\n",
    "driver.get(url)"
   ]
  },
  {
   "cell_type": "code",
   "execution_count": 41,
   "metadata": {},
   "outputs": [],
   "source": [
    "search_bar = driver.find_element_by_xpath(\"//input[@class='sugInp']\")\n",
    "search_bar.send_keys('Data Scientist')"
   ]
  },
  {
   "cell_type": "code",
   "execution_count": 42,
   "metadata": {},
   "outputs": [],
   "source": [
    "search_button = driver.find_element_by_xpath(\"//button[@class='btn']\")\n",
    "search_button.click()"
   ]
  },
  {
   "cell_type": "code",
   "execution_count": 43,
   "metadata": {},
   "outputs": [],
   "source": [
    "later_button = driver.find_element_by_xpath(\"//span[@class='fr geoLocBtn later']\")\n",
    "later_button.click()"
   ]
  },
  {
   "cell_type": "code",
   "execution_count": 44,
   "metadata": {},
   "outputs": [
    {
     "data": {
      "text/plain": [
       "<selenium.webdriver.remote.webelement.WebElement (session=\"40fb44ac9fcef05a4f70b7a0cf4b863c\", element=\"2b1200b0-338a-45b5-a153-39b2293282d0\")>"
      ]
     },
     "execution_count": 44,
     "metadata": {},
     "output_type": "execute_result"
    }
   ],
   "source": [
    "more = driver.find_element_by_xpath('/html/body/div[1]/div[3]/div[2]/section[1]/div[2]/div[3]/div[2]/div[5]/a/span')\n",
    "more"
   ]
  },
  {
   "cell_type": "code",
   "execution_count": 45,
   "metadata": {},
   "outputs": [],
   "source": [
    "more.click()"
   ]
  },
  {
   "cell_type": "code",
   "execution_count": 46,
   "metadata": {},
   "outputs": [
    {
     "data": {
      "text/plain": [
       "<selenium.webdriver.remote.webelement.WebElement (session=\"40fb44ac9fcef05a4f70b7a0cf4b863c\", element=\"b6fc076e-942c-4d58-a804-4ea61bb6b307\")>"
      ]
     },
     "execution_count": 46,
     "metadata": {},
     "output_type": "execute_result"
    }
   ],
   "source": [
    "loc = driver.find_element_by_xpath('/html/body/div[1]/div[3]/div[2]/section[1]/div[2]/div[3]/div[3]/div[2]/div[3]/label/p/span[1]')\n",
    "loc"
   ]
  },
  {
   "cell_type": "code",
   "execution_count": 47,
   "metadata": {},
   "outputs": [],
   "source": [
    "loc.click()"
   ]
  },
  {
   "cell_type": "code",
   "execution_count": 48,
   "metadata": {},
   "outputs": [
    {
     "data": {
      "text/plain": [
       "<selenium.webdriver.remote.webelement.WebElement (session=\"40fb44ac9fcef05a4f70b7a0cf4b863c\", element=\"3ce872e9-8d29-4341-a73f-d8b0dcf2cdbe\")>"
      ]
     },
     "execution_count": 48,
     "metadata": {},
     "output_type": "execute_result"
    }
   ],
   "source": [
    "sal_filter = driver.find_element_by_xpath('/html/body/div[1]/div[3]/div[2]/section[1]/div[2]/div[4]/div[2]/div[2]/label/p/span[1]')\n",
    "sal_filter"
   ]
  },
  {
   "cell_type": "code",
   "execution_count": 49,
   "metadata": {},
   "outputs": [],
   "source": [
    "sal_filter.click()"
   ]
  },
  {
   "cell_type": "code",
   "execution_count": 50,
   "metadata": {},
   "outputs": [
    {
     "data": {
      "text/plain": [
       "[<selenium.webdriver.remote.webelement.WebElement (session=\"40fb44ac9fcef05a4f70b7a0cf4b863c\", element=\"082853a0-5cb6-40de-8fa4-5910e463bae0\")>,\n",
       " <selenium.webdriver.remote.webelement.WebElement (session=\"40fb44ac9fcef05a4f70b7a0cf4b863c\", element=\"220c86a6-7cad-4aae-bc4a-9849c627a121\")>,\n",
       " <selenium.webdriver.remote.webelement.WebElement (session=\"40fb44ac9fcef05a4f70b7a0cf4b863c\", element=\"60a518cc-eca0-4b7e-8ae0-7a642ce35d03\")>,\n",
       " <selenium.webdriver.remote.webelement.WebElement (session=\"40fb44ac9fcef05a4f70b7a0cf4b863c\", element=\"f41a94d9-4739-4a9c-ba86-9a0cd25deb0f\")>,\n",
       " <selenium.webdriver.remote.webelement.WebElement (session=\"40fb44ac9fcef05a4f70b7a0cf4b863c\", element=\"d8e07f7b-a9b3-4f15-8e09-3766e7bce009\")>,\n",
       " <selenium.webdriver.remote.webelement.WebElement (session=\"40fb44ac9fcef05a4f70b7a0cf4b863c\", element=\"1d181bb8-7266-403c-93a6-e590713bac2b\")>,\n",
       " <selenium.webdriver.remote.webelement.WebElement (session=\"40fb44ac9fcef05a4f70b7a0cf4b863c\", element=\"57e7819f-99a0-4864-8976-5fd6b66eddc6\")>,\n",
       " <selenium.webdriver.remote.webelement.WebElement (session=\"40fb44ac9fcef05a4f70b7a0cf4b863c\", element=\"2e5f48bb-1ca1-4627-8393-9ab982077ad7\")>,\n",
       " <selenium.webdriver.remote.webelement.WebElement (session=\"40fb44ac9fcef05a4f70b7a0cf4b863c\", element=\"bbd30e43-8b47-4beb-9a3c-fbfa45119884\")>,\n",
       " <selenium.webdriver.remote.webelement.WebElement (session=\"40fb44ac9fcef05a4f70b7a0cf4b863c\", element=\"183ad4cb-e1dc-4af0-8990-a6420d00708f\")>,\n",
       " <selenium.webdriver.remote.webelement.WebElement (session=\"40fb44ac9fcef05a4f70b7a0cf4b863c\", element=\"9ac1593b-f2c4-4aa4-acd4-fdb14767e580\")>,\n",
       " <selenium.webdriver.remote.webelement.WebElement (session=\"40fb44ac9fcef05a4f70b7a0cf4b863c\", element=\"7779f2ca-9729-41e4-9a8f-6e3b09b6ba85\")>,\n",
       " <selenium.webdriver.remote.webelement.WebElement (session=\"40fb44ac9fcef05a4f70b7a0cf4b863c\", element=\"47a012ba-299e-44bc-9a4f-871b4ad01609\")>,\n",
       " <selenium.webdriver.remote.webelement.WebElement (session=\"40fb44ac9fcef05a4f70b7a0cf4b863c\", element=\"a3d9eb97-e3ac-4685-8227-6edc6fb83bac\")>,\n",
       " <selenium.webdriver.remote.webelement.WebElement (session=\"40fb44ac9fcef05a4f70b7a0cf4b863c\", element=\"39457d6f-03dd-4263-ba46-254acc4aa317\")>,\n",
       " <selenium.webdriver.remote.webelement.WebElement (session=\"40fb44ac9fcef05a4f70b7a0cf4b863c\", element=\"dc2efe3b-aa32-46c3-8fb7-ba200363fcf1\")>,\n",
       " <selenium.webdriver.remote.webelement.WebElement (session=\"40fb44ac9fcef05a4f70b7a0cf4b863c\", element=\"2497cca3-bf39-4d0f-8ec6-60ee50467353\")>,\n",
       " <selenium.webdriver.remote.webelement.WebElement (session=\"40fb44ac9fcef05a4f70b7a0cf4b863c\", element=\"686e5dfd-554d-4a3b-ad0a-9b503e182ffd\")>,\n",
       " <selenium.webdriver.remote.webelement.WebElement (session=\"40fb44ac9fcef05a4f70b7a0cf4b863c\", element=\"6e19b751-64af-4ba6-8b44-f70c1a9756af\")>,\n",
       " <selenium.webdriver.remote.webelement.WebElement (session=\"40fb44ac9fcef05a4f70b7a0cf4b863c\", element=\"18eefa3c-30a4-4dcd-830b-0dbb445b9b12\")>]"
      ]
     },
     "execution_count": 50,
     "metadata": {},
     "output_type": "execute_result"
    }
   ],
   "source": [
    "title_tags=driver.find_elements_by_xpath(\"//a[@class='title fw500 ellipsis']\")\n",
    "title_tags"
   ]
  },
  {
   "cell_type": "code",
   "execution_count": 51,
   "metadata": {},
   "outputs": [
    {
     "data": {
      "text/plain": [
       "['Data Scientist/Data Analyst /Business Analyst',\n",
       " 'Senior Data Scientist',\n",
       " 'Team Leader Operations/Data Scientist',\n",
       " 'Only Fresher / Data Scientist / Data Analyst / Analytics - MNC Jobs',\n",
       " 'Data Scientist (Early Joiner)',\n",
       " 'Advanced Analytics -Data Scientist',\n",
       " 'Data Scientist - Machine Learning/ NLP',\n",
       " 'Data Scientist',\n",
       " 'Data Scientist || Python || C2H',\n",
       " 'Data Scientist || Python || C2H',\n",
       " 'Data Scientist',\n",
       " 'Data Scientist -Delhi',\n",
       " 'Senior Data Scientist',\n",
       " 'Data Scientist',\n",
       " 'Data Scientist',\n",
       " 'Data Scientist',\n",
       " 'Data Scientist',\n",
       " 'Associate Data Scientist',\n",
       " 'DATA SCIENTIST',\n",
       " 'Data Scientist']"
      ]
     },
     "execution_count": 51,
     "metadata": {},
     "output_type": "execute_result"
    }
   ],
   "source": [
    "job_titles=[]\n",
    "for i in title_tags:\n",
    "    job_titles.append(i.text)\n",
    "job_titles"
   ]
  },
  {
   "cell_type": "code",
   "execution_count": 52,
   "metadata": {},
   "outputs": [
    {
     "data": {
      "text/plain": [
       "[<selenium.webdriver.remote.webelement.WebElement (session=\"40fb44ac9fcef05a4f70b7a0cf4b863c\", element=\"759fe0dd-1700-4fd6-a577-77626abf6c1f\")>,\n",
       " <selenium.webdriver.remote.webelement.WebElement (session=\"40fb44ac9fcef05a4f70b7a0cf4b863c\", element=\"d22cab4a-640c-4462-b28f-3b3e6f91643b\")>,\n",
       " <selenium.webdriver.remote.webelement.WebElement (session=\"40fb44ac9fcef05a4f70b7a0cf4b863c\", element=\"e2ecf8ed-6e9b-42db-b222-733cfb0e901f\")>,\n",
       " <selenium.webdriver.remote.webelement.WebElement (session=\"40fb44ac9fcef05a4f70b7a0cf4b863c\", element=\"b02317aa-fff1-4e6e-91cb-794506ecbdb8\")>,\n",
       " <selenium.webdriver.remote.webelement.WebElement (session=\"40fb44ac9fcef05a4f70b7a0cf4b863c\", element=\"a6fc3274-ff5b-43c2-b8e6-8e6b36c73df8\")>,\n",
       " <selenium.webdriver.remote.webelement.WebElement (session=\"40fb44ac9fcef05a4f70b7a0cf4b863c\", element=\"3df7acdc-d738-4521-b49c-e0d8e328850b\")>,\n",
       " <selenium.webdriver.remote.webelement.WebElement (session=\"40fb44ac9fcef05a4f70b7a0cf4b863c\", element=\"36464f1d-b160-4050-93c6-71c6179df7e3\")>,\n",
       " <selenium.webdriver.remote.webelement.WebElement (session=\"40fb44ac9fcef05a4f70b7a0cf4b863c\", element=\"88d51f7e-b5df-4d28-b51d-d855568ed39d\")>,\n",
       " <selenium.webdriver.remote.webelement.WebElement (session=\"40fb44ac9fcef05a4f70b7a0cf4b863c\", element=\"52e8fed7-bc0a-4f5e-95ea-85afa0948cde\")>,\n",
       " <selenium.webdriver.remote.webelement.WebElement (session=\"40fb44ac9fcef05a4f70b7a0cf4b863c\", element=\"5a236c62-fd32-4611-8eb8-9706d4501fa9\")>,\n",
       " <selenium.webdriver.remote.webelement.WebElement (session=\"40fb44ac9fcef05a4f70b7a0cf4b863c\", element=\"5bdb5554-1371-4eec-b425-11ff4c4cb377\")>,\n",
       " <selenium.webdriver.remote.webelement.WebElement (session=\"40fb44ac9fcef05a4f70b7a0cf4b863c\", element=\"02985730-6722-420b-a0c3-c38c729783f3\")>,\n",
       " <selenium.webdriver.remote.webelement.WebElement (session=\"40fb44ac9fcef05a4f70b7a0cf4b863c\", element=\"15102e40-d297-43ba-ae91-efa3625acc4a\")>,\n",
       " <selenium.webdriver.remote.webelement.WebElement (session=\"40fb44ac9fcef05a4f70b7a0cf4b863c\", element=\"4399ee5d-bb79-4ea6-aa27-731838b09516\")>,\n",
       " <selenium.webdriver.remote.webelement.WebElement (session=\"40fb44ac9fcef05a4f70b7a0cf4b863c\", element=\"e325bd4f-4ef3-43e1-ba54-666355726cfa\")>,\n",
       " <selenium.webdriver.remote.webelement.WebElement (session=\"40fb44ac9fcef05a4f70b7a0cf4b863c\", element=\"0c54035f-e194-4b7f-a216-ebe0591cae76\")>,\n",
       " <selenium.webdriver.remote.webelement.WebElement (session=\"40fb44ac9fcef05a4f70b7a0cf4b863c\", element=\"add44c9a-2988-4028-811d-6090be798549\")>,\n",
       " <selenium.webdriver.remote.webelement.WebElement (session=\"40fb44ac9fcef05a4f70b7a0cf4b863c\", element=\"8bb9d8bf-e805-4717-a477-52b9da82d36f\")>,\n",
       " <selenium.webdriver.remote.webelement.WebElement (session=\"40fb44ac9fcef05a4f70b7a0cf4b863c\", element=\"6de41a41-4176-4d65-8ae7-77b7eb07d055\")>,\n",
       " <selenium.webdriver.remote.webelement.WebElement (session=\"40fb44ac9fcef05a4f70b7a0cf4b863c\", element=\"f690e6d9-1401-4fbe-a81b-e1cd5b395142\")>]"
      ]
     },
     "execution_count": 52,
     "metadata": {},
     "output_type": "execute_result"
    }
   ],
   "source": [
    "company_tags = driver.find_elements_by_xpath(\"//a[@class='subTitle ellipsis fleft']\")\n",
    "company_tags"
   ]
  },
  {
   "cell_type": "code",
   "execution_count": 53,
   "metadata": {},
   "outputs": [
    {
     "data": {
      "text/plain": [
       "['Inflexion Analytix Private Limited',\n",
       " 'inVentiv International Pharma Services Pvt. Ltd.',\n",
       " 'Optimint Solutions Pvt. Ltd.',\n",
       " 'GABA Consultancy services',\n",
       " 'R Systems International Ltd.',\n",
       " 'ERM Placement Services (P) Ltd.',\n",
       " 'TalPro',\n",
       " 'recruitment advisory line',\n",
       " 'Growel Softech Pvt. Ltd.',\n",
       " 'Growel Softech Pvt. Ltd.',\n",
       " 'Fractal Analytics',\n",
       " 'CHANGE LEADERS CONSULTING',\n",
       " 'iNICU',\n",
       " 'BlackBuck',\n",
       " 'Country Veggie',\n",
       " 'Mahajan Imaging',\n",
       " 'Mahajan Imaging',\n",
       " 'Blow Trumpet Solutions',\n",
       " 'Inference Labs',\n",
       " 'itForte Staffing Services Private Ltd.']"
      ]
     },
     "execution_count": 53,
     "metadata": {},
     "output_type": "execute_result"
    }
   ],
   "source": [
    "company_name = []\n",
    "for i in company_tags:\n",
    "    company_name.append(i.text)\n",
    "company_name"
   ]
  },
  {
   "cell_type": "code",
   "execution_count": 58,
   "metadata": {},
   "outputs": [
    {
     "data": {
      "text/plain": [
       "[<selenium.webdriver.remote.webelement.WebElement (session=\"40fb44ac9fcef05a4f70b7a0cf4b863c\", element=\"c310cd63-9ba3-45fc-9e26-40c2132b30ee\")>,\n",
       " <selenium.webdriver.remote.webelement.WebElement (session=\"40fb44ac9fcef05a4f70b7a0cf4b863c\", element=\"2f1d49fc-4f4a-4e22-9cfe-f4ec63142239\")>,\n",
       " <selenium.webdriver.remote.webelement.WebElement (session=\"40fb44ac9fcef05a4f70b7a0cf4b863c\", element=\"478b1492-8ec8-4b3c-9ee0-e81ecde6444d\")>,\n",
       " <selenium.webdriver.remote.webelement.WebElement (session=\"40fb44ac9fcef05a4f70b7a0cf4b863c\", element=\"2a1ea690-2169-41c8-9051-1c8c457ab5a4\")>,\n",
       " <selenium.webdriver.remote.webelement.WebElement (session=\"40fb44ac9fcef05a4f70b7a0cf4b863c\", element=\"566e2aff-95f5-4c80-937c-a6b2c0b3ee7b\")>,\n",
       " <selenium.webdriver.remote.webelement.WebElement (session=\"40fb44ac9fcef05a4f70b7a0cf4b863c\", element=\"8e30e2a6-563f-4fc1-9928-66887afdc192\")>,\n",
       " <selenium.webdriver.remote.webelement.WebElement (session=\"40fb44ac9fcef05a4f70b7a0cf4b863c\", element=\"484b7481-9b9c-418b-b5e1-58e59c85187f\")>,\n",
       " <selenium.webdriver.remote.webelement.WebElement (session=\"40fb44ac9fcef05a4f70b7a0cf4b863c\", element=\"2db1b22b-8c59-41ef-a64f-07344d7ecb3d\")>,\n",
       " <selenium.webdriver.remote.webelement.WebElement (session=\"40fb44ac9fcef05a4f70b7a0cf4b863c\", element=\"81455a7e-1552-4cb7-9fbc-219dbf39c183\")>,\n",
       " <selenium.webdriver.remote.webelement.WebElement (session=\"40fb44ac9fcef05a4f70b7a0cf4b863c\", element=\"9ff02041-7032-47a4-b9db-b4e6e90ebac6\")>,\n",
       " <selenium.webdriver.remote.webelement.WebElement (session=\"40fb44ac9fcef05a4f70b7a0cf4b863c\", element=\"2f396547-935c-4dad-9331-a77fb0801531\")>,\n",
       " <selenium.webdriver.remote.webelement.WebElement (session=\"40fb44ac9fcef05a4f70b7a0cf4b863c\", element=\"598c6516-b3a7-4bd7-b956-f896188621e9\")>,\n",
       " <selenium.webdriver.remote.webelement.WebElement (session=\"40fb44ac9fcef05a4f70b7a0cf4b863c\", element=\"70b7cca7-cd4b-4933-862c-6826c2d1bb33\")>,\n",
       " <selenium.webdriver.remote.webelement.WebElement (session=\"40fb44ac9fcef05a4f70b7a0cf4b863c\", element=\"debf7f13-a56f-4434-a93e-0bc19d3659b5\")>,\n",
       " <selenium.webdriver.remote.webelement.WebElement (session=\"40fb44ac9fcef05a4f70b7a0cf4b863c\", element=\"b6067f96-8496-461b-9bc7-cdcd7daede36\")>,\n",
       " <selenium.webdriver.remote.webelement.WebElement (session=\"40fb44ac9fcef05a4f70b7a0cf4b863c\", element=\"1920679c-887b-4544-bb73-93e5cba9b2b1\")>,\n",
       " <selenium.webdriver.remote.webelement.WebElement (session=\"40fb44ac9fcef05a4f70b7a0cf4b863c\", element=\"dfa79126-c0cd-4c8e-9421-4dc9f0e60d01\")>,\n",
       " <selenium.webdriver.remote.webelement.WebElement (session=\"40fb44ac9fcef05a4f70b7a0cf4b863c\", element=\"723c1df3-c976-4818-a9b7-edef9505081d\")>,\n",
       " <selenium.webdriver.remote.webelement.WebElement (session=\"40fb44ac9fcef05a4f70b7a0cf4b863c\", element=\"48270dd4-b287-4b3a-9961-56a9d0f7e1b5\")>,\n",
       " <selenium.webdriver.remote.webelement.WebElement (session=\"40fb44ac9fcef05a4f70b7a0cf4b863c\", element=\"d2bc65c4-ad4a-4da0-8279-ddef814faf49\")>,\n",
       " <selenium.webdriver.remote.webelement.WebElement (session=\"40fb44ac9fcef05a4f70b7a0cf4b863c\", element=\"fb3ee9f2-4d19-4084-8319-c4b825cb73ee\")>,\n",
       " <selenium.webdriver.remote.webelement.WebElement (session=\"40fb44ac9fcef05a4f70b7a0cf4b863c\", element=\"521fcb32-8d4b-471b-b6c3-7ab069501b06\")>,\n",
       " <selenium.webdriver.remote.webelement.WebElement (session=\"40fb44ac9fcef05a4f70b7a0cf4b863c\", element=\"b47d2010-cdf6-48bd-9f77-1f60c9ba6cc4\")>,\n",
       " <selenium.webdriver.remote.webelement.WebElement (session=\"40fb44ac9fcef05a4f70b7a0cf4b863c\", element=\"88242beb-6f14-4b68-b804-65bd67d32438\")>,\n",
       " <selenium.webdriver.remote.webelement.WebElement (session=\"40fb44ac9fcef05a4f70b7a0cf4b863c\", element=\"dd07c7df-44ed-46e6-866b-8b3563c0d2cd\")>,\n",
       " <selenium.webdriver.remote.webelement.WebElement (session=\"40fb44ac9fcef05a4f70b7a0cf4b863c\", element=\"86f3bf91-5c8e-4b99-aee2-641458b36525\")>,\n",
       " <selenium.webdriver.remote.webelement.WebElement (session=\"40fb44ac9fcef05a4f70b7a0cf4b863c\", element=\"f59b9de8-260e-4c3a-bb07-66dbeee999b0\")>,\n",
       " <selenium.webdriver.remote.webelement.WebElement (session=\"40fb44ac9fcef05a4f70b7a0cf4b863c\", element=\"95a48737-b29c-4ebd-939a-98caeb83e161\")>,\n",
       " <selenium.webdriver.remote.webelement.WebElement (session=\"40fb44ac9fcef05a4f70b7a0cf4b863c\", element=\"d763c1be-2a7a-4c73-8682-443f9d98fcca\")>,\n",
       " <selenium.webdriver.remote.webelement.WebElement (session=\"40fb44ac9fcef05a4f70b7a0cf4b863c\", element=\"d82a32c8-4491-4994-94f1-3c8f4dd02b39\")>,\n",
       " <selenium.webdriver.remote.webelement.WebElement (session=\"40fb44ac9fcef05a4f70b7a0cf4b863c\", element=\"139c2378-d7ca-4c52-94b0-6d4fc79717b0\")>,\n",
       " <selenium.webdriver.remote.webelement.WebElement (session=\"40fb44ac9fcef05a4f70b7a0cf4b863c\", element=\"34c9f522-dbf2-4076-9cb7-4522147734c5\")>,\n",
       " <selenium.webdriver.remote.webelement.WebElement (session=\"40fb44ac9fcef05a4f70b7a0cf4b863c\", element=\"d3201390-e849-41b0-aaff-ab74246774f6\")>,\n",
       " <selenium.webdriver.remote.webelement.WebElement (session=\"40fb44ac9fcef05a4f70b7a0cf4b863c\", element=\"40b94833-8d24-46d3-acb1-1f940449552b\")>,\n",
       " <selenium.webdriver.remote.webelement.WebElement (session=\"40fb44ac9fcef05a4f70b7a0cf4b863c\", element=\"74dd2aae-b64d-4071-8dc7-b9fb16afdb0e\")>,\n",
       " <selenium.webdriver.remote.webelement.WebElement (session=\"40fb44ac9fcef05a4f70b7a0cf4b863c\", element=\"7ac101b3-2455-41e2-8d45-c7b538770683\")>,\n",
       " <selenium.webdriver.remote.webelement.WebElement (session=\"40fb44ac9fcef05a4f70b7a0cf4b863c\", element=\"0445519a-b548-4a7d-95da-50dc3b73f3c0\")>,\n",
       " <selenium.webdriver.remote.webelement.WebElement (session=\"40fb44ac9fcef05a4f70b7a0cf4b863c\", element=\"24315103-7cc9-4b34-a2f5-94d111f26154\")>,\n",
       " <selenium.webdriver.remote.webelement.WebElement (session=\"40fb44ac9fcef05a4f70b7a0cf4b863c\", element=\"2d570f3e-e645-4cbf-83a9-419c23080769\")>,\n",
       " <selenium.webdriver.remote.webelement.WebElement (session=\"40fb44ac9fcef05a4f70b7a0cf4b863c\", element=\"c5c58992-7863-4059-9a45-ef70539aab48\")>,\n",
       " <selenium.webdriver.remote.webelement.WebElement (session=\"40fb44ac9fcef05a4f70b7a0cf4b863c\", element=\"7579bc61-8712-42e9-b6f7-a8d9b05d8288\")>,\n",
       " <selenium.webdriver.remote.webelement.WebElement (session=\"40fb44ac9fcef05a4f70b7a0cf4b863c\", element=\"8b84cdf9-68e1-4c47-aff7-fe218638e988\")>,\n",
       " <selenium.webdriver.remote.webelement.WebElement (session=\"40fb44ac9fcef05a4f70b7a0cf4b863c\", element=\"d9a751f0-2730-4631-8d3e-7b9f6d1706a1\")>,\n",
       " <selenium.webdriver.remote.webelement.WebElement (session=\"40fb44ac9fcef05a4f70b7a0cf4b863c\", element=\"2ebab72f-b16c-4e50-b99c-9bcff5baef89\")>,\n",
       " <selenium.webdriver.remote.webelement.WebElement (session=\"40fb44ac9fcef05a4f70b7a0cf4b863c\", element=\"b99ec693-0400-4b6a-a021-47124311615b\")>,\n",
       " <selenium.webdriver.remote.webelement.WebElement (session=\"40fb44ac9fcef05a4f70b7a0cf4b863c\", element=\"b44ed0bc-152c-4c85-87a8-c63544880e28\")>,\n",
       " <selenium.webdriver.remote.webelement.WebElement (session=\"40fb44ac9fcef05a4f70b7a0cf4b863c\", element=\"1325f81d-69ba-4b86-9729-6c679e4ff148\")>,\n",
       " <selenium.webdriver.remote.webelement.WebElement (session=\"40fb44ac9fcef05a4f70b7a0cf4b863c\", element=\"e47085b2-93fa-4a42-b118-c0c83ef2c911\")>,\n",
       " <selenium.webdriver.remote.webelement.WebElement (session=\"40fb44ac9fcef05a4f70b7a0cf4b863c\", element=\"2b377851-0756-478f-ba31-80ae2aca3ae1\")>,\n",
       " <selenium.webdriver.remote.webelement.WebElement (session=\"40fb44ac9fcef05a4f70b7a0cf4b863c\", element=\"8b77d828-7a57-48ea-8215-09cd2fc10d03\")>,\n",
       " <selenium.webdriver.remote.webelement.WebElement (session=\"40fb44ac9fcef05a4f70b7a0cf4b863c\", element=\"b269b22f-4410-490f-8117-fdcc6020eb86\")>,\n",
       " <selenium.webdriver.remote.webelement.WebElement (session=\"40fb44ac9fcef05a4f70b7a0cf4b863c\", element=\"9a2e216c-3002-4602-b356-e81b2925f42e\")>,\n",
       " <selenium.webdriver.remote.webelement.WebElement (session=\"40fb44ac9fcef05a4f70b7a0cf4b863c\", element=\"9050a0fb-3430-4db8-9c7c-5adbd6ddb2bf\")>,\n",
       " <selenium.webdriver.remote.webelement.WebElement (session=\"40fb44ac9fcef05a4f70b7a0cf4b863c\", element=\"412517ed-8ecd-4b41-b834-7d740ad6ecd2\")>,\n",
       " <selenium.webdriver.remote.webelement.WebElement (session=\"40fb44ac9fcef05a4f70b7a0cf4b863c\", element=\"4f7e930c-fae3-42f1-b049-eb4cc056a462\")>,\n",
       " <selenium.webdriver.remote.webelement.WebElement (session=\"40fb44ac9fcef05a4f70b7a0cf4b863c\", element=\"437abb86-d1f8-46ae-997c-24fe87cd5991\")>,\n",
       " <selenium.webdriver.remote.webelement.WebElement (session=\"40fb44ac9fcef05a4f70b7a0cf4b863c\", element=\"8cca52c6-9333-4a01-8ee3-c0adb82f4751\")>,\n",
       " <selenium.webdriver.remote.webelement.WebElement (session=\"40fb44ac9fcef05a4f70b7a0cf4b863c\", element=\"122a9327-e311-4f6e-8011-a7b94bb07eca\")>,\n",
       " <selenium.webdriver.remote.webelement.WebElement (session=\"40fb44ac9fcef05a4f70b7a0cf4b863c\", element=\"ff960976-faf3-425f-ac99-1b2030616451\")>,\n",
       " <selenium.webdriver.remote.webelement.WebElement (session=\"40fb44ac9fcef05a4f70b7a0cf4b863c\", element=\"f6dfb0e5-7c40-4199-a897-7d414315b6aa\")>]"
      ]
     },
     "execution_count": 58,
     "metadata": {},
     "output_type": "execute_result"
    }
   ],
   "source": [
    "loc_tag = driver.find_elements_by_xpath(\"//span[@class='ellipsis fleft fs12 lh16 ']\")\n",
    "loc_tag"
   ]
  },
  {
   "cell_type": "code",
   "execution_count": 59,
   "metadata": {},
   "outputs": [
    {
     "data": {
      "text/plain": [
       "['0-3 Yrs',\n",
       " '3,50,000 - 4,50,000 PA.',\n",
       " 'Pune, Delhi / NCR, Mumbai (All Areas)',\n",
       " '3-6 Yrs',\n",
       " 'Not disclosed',\n",
       " 'Hyderabad/Secunderabad, Gurgaon/Gurugram, Bangalore/Bengaluru',\n",
       " '2-5 Yrs',\n",
       " 'Not disclosed',\n",
       " 'Gurgaon/Gurugram, Delhi / NCR',\n",
       " '0-0 Yrs',\n",
       " '2,25,000 - 4,75,000 PA.',\n",
       " 'Noida, Greater Noida, Delhi / NCR',\n",
       " '4-8 Yrs',\n",
       " 'Not disclosed',\n",
       " 'Noida(Sector-59 Noida)',\n",
       " '3-7 Yrs',\n",
       " '3,00,000 - 8,00,000 PA.',\n",
       " 'New Delhi, Hyderabad/Secunderabad',\n",
       " '2-6 Yrs',\n",
       " 'Not disclosed',\n",
       " 'Gurgaon/Gurugram',\n",
       " '3-6 Yrs',\n",
       " 'Not disclosed',\n",
       " 'Hyderabad/Secunderabad, Gurgaon/Gurugram, Bangalore/Bengaluru',\n",
       " '4-6 Yrs',\n",
       " '4,75,000 - 7,00,000 PA.',\n",
       " 'Noida, Kolkata, Gurgaon/Gurugram, Bangalore/Bengaluru',\n",
       " '4-6 Yrs',\n",
       " '4,75,000 - 7,00,000 PA.',\n",
       " 'Noida, Kolkata, Gurgaon/Gurugram, Bangalore/Bengaluru',\n",
       " '3-7 Yrs',\n",
       " 'Not disclosed',\n",
       " 'Mumbai, Gurgaon/Gurugram, Bangalore/Bengaluru',\n",
       " '5-8 Yrs',\n",
       " 'Not disclosed',\n",
       " 'New Delhi',\n",
       " '1-5 Yrs',\n",
       " 'Not disclosed',\n",
       " 'Delhi',\n",
       " '3-7 Yrs',\n",
       " 'Not disclosed',\n",
       " 'Gurgaon, Bengaluru',\n",
       " '1-3 Yrs',\n",
       " 'Not disclosed',\n",
       " 'Bharuch, Jaipur, Bhopal, Mumbai, Jhansi, Nagpur, Ghaziabad, Jaunpur, Kanpur, New Delhi, Lucknow, Agra, Gurgaon/Gurugram, Rajkot, Bangalore/Bengaluru',\n",
       " '2-6 Yrs',\n",
       " 'Not disclosed',\n",
       " 'New Delhi',\n",
       " '2-6 Yrs',\n",
       " 'Not disclosed',\n",
       " 'Delhi',\n",
       " '1-5 Yrs',\n",
       " 'Not disclosed',\n",
       " 'New Delhi',\n",
       " '3-5 Yrs',\n",
       " 'Not disclosed',\n",
       " 'Gurgaon',\n",
       " '3-8 Yrs',\n",
       " 'Not disclosed',\n",
       " 'Gurgaon']"
      ]
     },
     "execution_count": 59,
     "metadata": {},
     "output_type": "execute_result"
    }
   ],
   "source": [
    "location = []\n",
    "for i in loc_tag:\n",
    "    location.append(i.text)\n",
    "location"
   ]
  },
  {
   "cell_type": "code",
   "execution_count": 61,
   "metadata": {},
   "outputs": [
    {
     "data": {
      "text/plain": [
       "['Pune, Delhi / NCR, Mumbai (All Areas)',\n",
       " 'Hyderabad/Secunderabad, Gurgaon/Gurugram, Bangalore/Bengaluru',\n",
       " 'Gurgaon/Gurugram, Delhi / NCR',\n",
       " 'Noida, Greater Noida, Delhi / NCR',\n",
       " 'Noida(Sector-59 Noida)',\n",
       " 'New Delhi, Hyderabad/Secunderabad',\n",
       " 'Gurgaon/Gurugram',\n",
       " 'Hyderabad/Secunderabad, Gurgaon/Gurugram, Bangalore/Bengaluru',\n",
       " 'Noida, Kolkata, Gurgaon/Gurugram, Bangalore/Bengaluru',\n",
       " 'Noida, Kolkata, Gurgaon/Gurugram, Bangalore/Bengaluru',\n",
       " 'Mumbai, Gurgaon/Gurugram, Bangalore/Bengaluru',\n",
       " 'New Delhi',\n",
       " 'Delhi',\n",
       " 'Gurgaon, Bengaluru',\n",
       " 'Bharuch, Jaipur, Bhopal, Mumbai, Jhansi, Nagpur, Ghaziabad, Jaunpur, Kanpur, New Delhi, Lucknow, Agra, Gurgaon/Gurugram, Rajkot, Bangalore/Bengaluru',\n",
       " 'New Delhi',\n",
       " 'Delhi',\n",
       " 'New Delhi',\n",
       " 'Gurgaon',\n",
       " 'Gurgaon']"
      ]
     },
     "execution_count": 61,
     "metadata": {},
     "output_type": "execute_result"
    }
   ],
   "source": [
    "location1=[]\n",
    "for i in range(2,len(location),3):\n",
    "    location1.append(location[i])\n",
    "location1"
   ]
  },
  {
   "cell_type": "code",
   "execution_count": 62,
   "metadata": {},
   "outputs": [
    {
     "data": {
      "text/plain": [
       "['0-3 Yrs',\n",
       " '3-6 Yrs',\n",
       " '2-5 Yrs',\n",
       " '0-0 Yrs',\n",
       " '4-8 Yrs',\n",
       " '3-7 Yrs',\n",
       " '2-6 Yrs',\n",
       " '3-6 Yrs',\n",
       " '4-6 Yrs',\n",
       " '4-6 Yrs',\n",
       " '3-7 Yrs',\n",
       " '5-8 Yrs',\n",
       " '1-5 Yrs',\n",
       " '3-7 Yrs',\n",
       " '1-3 Yrs',\n",
       " '2-6 Yrs',\n",
       " '2-6 Yrs',\n",
       " '1-5 Yrs',\n",
       " '3-5 Yrs',\n",
       " '3-8 Yrs']"
      ]
     },
     "execution_count": 62,
     "metadata": {},
     "output_type": "execute_result"
    }
   ],
   "source": [
    "experience_yrs = []\n",
    "for i in range(0,len(location),3):\n",
    "    experience_yrs.append(location[i])\n",
    "experience_yrs"
   ]
  },
  {
   "cell_type": "code",
   "execution_count": 63,
   "metadata": {},
   "outputs": [
    {
     "data": {
      "text/html": [
       "<div>\n",
       "<style scoped>\n",
       "    .dataframe tbody tr th:only-of-type {\n",
       "        vertical-align: middle;\n",
       "    }\n",
       "\n",
       "    .dataframe tbody tr th {\n",
       "        vertical-align: top;\n",
       "    }\n",
       "\n",
       "    .dataframe thead th {\n",
       "        text-align: right;\n",
       "    }\n",
       "</style>\n",
       "<table border=\"1\" class=\"dataframe\">\n",
       "  <thead>\n",
       "    <tr style=\"text-align: right;\">\n",
       "      <th></th>\n",
       "      <th>Job_Title</th>\n",
       "      <th>Company_name</th>\n",
       "      <th>Experience</th>\n",
       "      <th>Location</th>\n",
       "    </tr>\n",
       "  </thead>\n",
       "  <tbody>\n",
       "    <tr>\n",
       "      <th>0</th>\n",
       "      <td>Data Scientist/Data Analyst /Business Analyst</td>\n",
       "      <td>Inflexion Analytix Private Limited</td>\n",
       "      <td>0-3 Yrs</td>\n",
       "      <td>Pune, Delhi / NCR, Mumbai (All Areas)</td>\n",
       "    </tr>\n",
       "    <tr>\n",
       "      <th>1</th>\n",
       "      <td>Senior Data Scientist</td>\n",
       "      <td>inVentiv International Pharma Services Pvt. Ltd.</td>\n",
       "      <td>3-6 Yrs</td>\n",
       "      <td>Hyderabad/Secunderabad, Gurgaon/Gurugram, Bang...</td>\n",
       "    </tr>\n",
       "    <tr>\n",
       "      <th>2</th>\n",
       "      <td>Team Leader Operations/Data Scientist</td>\n",
       "      <td>Optimint Solutions Pvt. Ltd.</td>\n",
       "      <td>2-5 Yrs</td>\n",
       "      <td>Gurgaon/Gurugram, Delhi / NCR</td>\n",
       "    </tr>\n",
       "    <tr>\n",
       "      <th>3</th>\n",
       "      <td>Only Fresher / Data Scientist / Data Analyst /...</td>\n",
       "      <td>GABA Consultancy services</td>\n",
       "      <td>0-0 Yrs</td>\n",
       "      <td>Noida, Greater Noida, Delhi / NCR</td>\n",
       "    </tr>\n",
       "    <tr>\n",
       "      <th>4</th>\n",
       "      <td>Data Scientist (Early Joiner)</td>\n",
       "      <td>R Systems International Ltd.</td>\n",
       "      <td>4-8 Yrs</td>\n",
       "      <td>Noida(Sector-59 Noida)</td>\n",
       "    </tr>\n",
       "    <tr>\n",
       "      <th>5</th>\n",
       "      <td>Advanced Analytics -Data Scientist</td>\n",
       "      <td>ERM Placement Services (P) Ltd.</td>\n",
       "      <td>3-7 Yrs</td>\n",
       "      <td>New Delhi, Hyderabad/Secunderabad</td>\n",
       "    </tr>\n",
       "    <tr>\n",
       "      <th>6</th>\n",
       "      <td>Data Scientist - Machine Learning/ NLP</td>\n",
       "      <td>TalPro</td>\n",
       "      <td>2-6 Yrs</td>\n",
       "      <td>Gurgaon/Gurugram</td>\n",
       "    </tr>\n",
       "    <tr>\n",
       "      <th>7</th>\n",
       "      <td>Data Scientist</td>\n",
       "      <td>recruitment advisory line</td>\n",
       "      <td>3-6 Yrs</td>\n",
       "      <td>Hyderabad/Secunderabad, Gurgaon/Gurugram, Bang...</td>\n",
       "    </tr>\n",
       "    <tr>\n",
       "      <th>8</th>\n",
       "      <td>Data Scientist || Python || C2H</td>\n",
       "      <td>Growel Softech Pvt. Ltd.</td>\n",
       "      <td>4-6 Yrs</td>\n",
       "      <td>Noida, Kolkata, Gurgaon/Gurugram, Bangalore/Be...</td>\n",
       "    </tr>\n",
       "    <tr>\n",
       "      <th>9</th>\n",
       "      <td>Data Scientist || Python || C2H</td>\n",
       "      <td>Growel Softech Pvt. Ltd.</td>\n",
       "      <td>4-6 Yrs</td>\n",
       "      <td>Noida, Kolkata, Gurgaon/Gurugram, Bangalore/Be...</td>\n",
       "    </tr>\n",
       "  </tbody>\n",
       "</table>\n",
       "</div>"
      ],
      "text/plain": [
       "                                           Job_Title  \\\n",
       "0      Data Scientist/Data Analyst /Business Analyst   \n",
       "1                              Senior Data Scientist   \n",
       "2              Team Leader Operations/Data Scientist   \n",
       "3  Only Fresher / Data Scientist / Data Analyst /...   \n",
       "4                      Data Scientist (Early Joiner)   \n",
       "5                 Advanced Analytics -Data Scientist   \n",
       "6             Data Scientist - Machine Learning/ NLP   \n",
       "7                                     Data Scientist   \n",
       "8                    Data Scientist || Python || C2H   \n",
       "9                    Data Scientist || Python || C2H   \n",
       "\n",
       "                                       Company_name Experience  \\\n",
       "0                Inflexion Analytix Private Limited    0-3 Yrs   \n",
       "1  inVentiv International Pharma Services Pvt. Ltd.    3-6 Yrs   \n",
       "2                      Optimint Solutions Pvt. Ltd.    2-5 Yrs   \n",
       "3                         GABA Consultancy services    0-0 Yrs   \n",
       "4                      R Systems International Ltd.    4-8 Yrs   \n",
       "5                   ERM Placement Services (P) Ltd.    3-7 Yrs   \n",
       "6                                            TalPro    2-6 Yrs   \n",
       "7                         recruitment advisory line    3-6 Yrs   \n",
       "8                          Growel Softech Pvt. Ltd.    4-6 Yrs   \n",
       "9                          Growel Softech Pvt. Ltd.    4-6 Yrs   \n",
       "\n",
       "                                            Location  \n",
       "0              Pune, Delhi / NCR, Mumbai (All Areas)  \n",
       "1  Hyderabad/Secunderabad, Gurgaon/Gurugram, Bang...  \n",
       "2                      Gurgaon/Gurugram, Delhi / NCR  \n",
       "3                  Noida, Greater Noida, Delhi / NCR  \n",
       "4                             Noida(Sector-59 Noida)  \n",
       "5                  New Delhi, Hyderabad/Secunderabad  \n",
       "6                                   Gurgaon/Gurugram  \n",
       "7  Hyderabad/Secunderabad, Gurgaon/Gurugram, Bang...  \n",
       "8  Noida, Kolkata, Gurgaon/Gurugram, Bangalore/Be...  \n",
       "9  Noida, Kolkata, Gurgaon/Gurugram, Bangalore/Be...  "
      ]
     },
     "execution_count": 63,
     "metadata": {},
     "output_type": "execute_result"
    }
   ],
   "source": [
    "Job_Details = pd.DataFrame({})\n",
    "Job_Details['Job_Title'] = job_titles[0:10]\n",
    "Job_Details['Company_name'] = company_name[0:10]\n",
    "Job_Details['Experience'] = experience_yrs[0:10]\n",
    "Job_Details['Location'] = location1[0:10]\n",
    "Job_Details"
   ]
  },
  {
   "cell_type": "code",
   "execution_count": null,
   "metadata": {},
   "outputs": [],
   "source": []
  },
  {
   "cell_type": "markdown",
   "metadata": {},
   "source": [
    "## 4."
   ]
  },
  {
   "cell_type": "code",
   "execution_count": 153,
   "metadata": {},
   "outputs": [],
   "source": [
    "driver = webdriver.Chrome('chromedriver.exe')"
   ]
  },
  {
   "cell_type": "code",
   "execution_count": 154,
   "metadata": {},
   "outputs": [],
   "source": [
    "url = 'https://www.glassdoor.co.in/index.htm'\n",
    "driver.get(url)"
   ]
  },
  {
   "cell_type": "code",
   "execution_count": 158,
   "metadata": {},
   "outputs": [],
   "source": [
    "sign_in = driver.find_element_by_xpath('/html/body/div[2]/div/div/div/div/div[1]/article/header/nav/div[1]/div[1]/button')\n",
    "sign_in.click()"
   ]
  },
  {
   "cell_type": "code",
   "execution_count": 159,
   "metadata": {},
   "outputs": [],
   "source": [
    "mail_id = driver.find_element_by_xpath('/html/body/div[8]/div/div/div[2]/div[2]/div[2]/div/div/div/div[3]/form/div[1]/div/label/span')\n",
    "mail_id.click()"
   ]
  },
  {
   "cell_type": "code",
   "execution_count": 160,
   "metadata": {},
   "outputs": [],
   "source": [
    "mail = driver.find_element_by_xpath('/html/body/div[8]/div/div/div[2]/div[2]/div[2]/div/div/div/div[3]/form/div[1]/div/div/input')\n",
    "mail.send_keys('saiganesh19962000@gmail.com')"
   ]
  },
  {
   "cell_type": "code",
   "execution_count": 161,
   "metadata": {},
   "outputs": [],
   "source": [
    "pswd = driver.find_element_by_xpath('/html/body/div[8]/div/div/div[2]/div[2]/div[2]/div/div/div/div[3]/form/div[2]/div/label')\n",
    "pswd.click()"
   ]
  },
  {
   "cell_type": "code",
   "execution_count": 162,
   "metadata": {},
   "outputs": [],
   "source": [
    "password = driver.find_element_by_xpath('/html/body/div[8]/div/div/div[2]/div[2]/div[2]/div/div/div/div[3]/form/div[2]/div/div/input')\n",
    "password.send_keys('9010611889')"
   ]
  },
  {
   "cell_type": "code",
   "execution_count": 163,
   "metadata": {},
   "outputs": [],
   "source": [
    "next_btn = driver.find_element_by_xpath('/html/body/div[8]/div/div/div[2]/div[2]/div[2]/div/div/div/div[3]/form/div[3]/div[1]/button')\n",
    "next_btn.click()"
   ]
  },
  {
   "cell_type": "code",
   "execution_count": 164,
   "metadata": {},
   "outputs": [],
   "source": [
    "search_bar = driver.find_element_by_xpath(\"//div[@class='d-flex col justify-content-end order-3']//button\")\n",
    "search_bar.click()"
   ]
  },
  {
   "cell_type": "code",
   "execution_count": 165,
   "metadata": {},
   "outputs": [],
   "source": [
    "loc = driver.find_element_by_xpath('/html/body/header/nav[1]/div/div/div/div[4]/div[3]/div[2]/form/div[2]/div[2]/div/div/input')\n",
    "loc.send_keys('Noida')"
   ]
  },
  {
   "cell_type": "code",
   "execution_count": 166,
   "metadata": {},
   "outputs": [],
   "source": [
    "job_name = driver.find_element_by_xpath('/html/body/header/nav[1]/div/div/div/div[4]/div[3]/div[2]/form/div[2]/div[1]/div/div/input')\n",
    "job_name.send_keys('Data Scientist')"
   ]
  },
  {
   "cell_type": "code",
   "execution_count": 173,
   "metadata": {},
   "outputs": [],
   "source": [
    "search_btn = driver.find_element_by_xpath('/html/body/header/nav[1]/div/div/div/div[4]/div[3]/div[2]/form/div[2]/div[1]/button')\n",
    "search_btn.click()"
   ]
  },
  {
   "cell_type": "code",
   "execution_count": 174,
   "metadata": {},
   "outputs": [],
   "source": [
    "later = driver.find_element_by_xpath('/html/body/div[7]/div/div[2]/div[2]/div/div[4]/button[1]')\n",
    "later.click()"
   ]
  },
  {
   "cell_type": "code",
   "execution_count": 175,
   "metadata": {},
   "outputs": [
    {
     "data": {
      "text/plain": [
       "[<selenium.webdriver.remote.webelement.WebElement (session=\"af351568d02f1ed7f3254350cb895792\", element=\"6edc47d4-9e02-4c16-86c1-ce76861dd750\")>,\n",
       " <selenium.webdriver.remote.webelement.WebElement (session=\"af351568d02f1ed7f3254350cb895792\", element=\"bac26f4f-ceec-4696-ad5b-9134b1a07199\")>,\n",
       " <selenium.webdriver.remote.webelement.WebElement (session=\"af351568d02f1ed7f3254350cb895792\", element=\"8fc6fb02-5f4b-432a-8372-c391d7dfea2d\")>,\n",
       " <selenium.webdriver.remote.webelement.WebElement (session=\"af351568d02f1ed7f3254350cb895792\", element=\"0c1f0273-32f6-44eb-85b3-d15a862303c5\")>,\n",
       " <selenium.webdriver.remote.webelement.WebElement (session=\"af351568d02f1ed7f3254350cb895792\", element=\"437c286a-ebdb-42a9-b415-6adec936341e\")>,\n",
       " <selenium.webdriver.remote.webelement.WebElement (session=\"af351568d02f1ed7f3254350cb895792\", element=\"38c9a85a-3a13-478b-95da-4bb9339c2966\")>,\n",
       " <selenium.webdriver.remote.webelement.WebElement (session=\"af351568d02f1ed7f3254350cb895792\", element=\"207c9477-41fd-4f08-9702-2a9a7ca49cc2\")>,\n",
       " <selenium.webdriver.remote.webelement.WebElement (session=\"af351568d02f1ed7f3254350cb895792\", element=\"c843285f-ecc4-4e6d-bb8d-f65c7d20fb39\")>,\n",
       " <selenium.webdriver.remote.webelement.WebElement (session=\"af351568d02f1ed7f3254350cb895792\", element=\"b4168602-6039-44c5-8f48-1ce8e7581c9b\")>,\n",
       " <selenium.webdriver.remote.webelement.WebElement (session=\"af351568d02f1ed7f3254350cb895792\", element=\"94b5a8f7-a4bd-4e8e-a0bb-964bb35555f0\")>,\n",
       " <selenium.webdriver.remote.webelement.WebElement (session=\"af351568d02f1ed7f3254350cb895792\", element=\"dec1377c-2839-44f5-9e6f-4ca9c7001efc\")>,\n",
       " <selenium.webdriver.remote.webelement.WebElement (session=\"af351568d02f1ed7f3254350cb895792\", element=\"f46dd317-bd32-4eb6-910c-3b63809e3f8e\")>,\n",
       " <selenium.webdriver.remote.webelement.WebElement (session=\"af351568d02f1ed7f3254350cb895792\", element=\"7c613fa3-a0b5-4434-aca3-9933159ec973\")>,\n",
       " <selenium.webdriver.remote.webelement.WebElement (session=\"af351568d02f1ed7f3254350cb895792\", element=\"1dfec4d0-6b32-4e9f-ab62-61a5f290c043\")>,\n",
       " <selenium.webdriver.remote.webelement.WebElement (session=\"af351568d02f1ed7f3254350cb895792\", element=\"dfa6f58d-7e2c-4d7b-b2b9-ec65bfe6b4a3\")>,\n",
       " <selenium.webdriver.remote.webelement.WebElement (session=\"af351568d02f1ed7f3254350cb895792\", element=\"a29a14c9-2ea9-480d-afad-535c8d84094c\")>,\n",
       " <selenium.webdriver.remote.webelement.WebElement (session=\"af351568d02f1ed7f3254350cb895792\", element=\"44c869a1-8874-4641-bb6f-29c768f1188c\")>,\n",
       " <selenium.webdriver.remote.webelement.WebElement (session=\"af351568d02f1ed7f3254350cb895792\", element=\"a929b68e-52f4-4dba-bedf-2cde51a75517\")>,\n",
       " <selenium.webdriver.remote.webelement.WebElement (session=\"af351568d02f1ed7f3254350cb895792\", element=\"09a58890-cc0a-4482-bbe1-fa256ca37e9f\")>,\n",
       " <selenium.webdriver.remote.webelement.WebElement (session=\"af351568d02f1ed7f3254350cb895792\", element=\"26752a89-0978-4b3c-b5ce-5e1c775207f5\")>,\n",
       " <selenium.webdriver.remote.webelement.WebElement (session=\"af351568d02f1ed7f3254350cb895792\", element=\"c4e7bc17-6a25-4bb0-af93-99d7c9216061\")>,\n",
       " <selenium.webdriver.remote.webelement.WebElement (session=\"af351568d02f1ed7f3254350cb895792\", element=\"f2b3f987-f642-4598-92ea-4e1aea6a3c9e\")>,\n",
       " <selenium.webdriver.remote.webelement.WebElement (session=\"af351568d02f1ed7f3254350cb895792\", element=\"ccd4a706-3fe5-4811-a790-3e89e939e379\")>,\n",
       " <selenium.webdriver.remote.webelement.WebElement (session=\"af351568d02f1ed7f3254350cb895792\", element=\"1f21cb63-fd74-47fe-8139-fa190edff804\")>,\n",
       " <selenium.webdriver.remote.webelement.WebElement (session=\"af351568d02f1ed7f3254350cb895792\", element=\"3bb4ffa1-bd24-4f97-b024-dca27c5027b1\")>,\n",
       " <selenium.webdriver.remote.webelement.WebElement (session=\"af351568d02f1ed7f3254350cb895792\", element=\"6d47a0ac-a629-40dd-a27f-427d59b5be42\")>,\n",
       " <selenium.webdriver.remote.webelement.WebElement (session=\"af351568d02f1ed7f3254350cb895792\", element=\"34ea01eb-c430-4b8e-91a1-1f112062011b\")>,\n",
       " <selenium.webdriver.remote.webelement.WebElement (session=\"af351568d02f1ed7f3254350cb895792\", element=\"9cc8d20a-ec05-4fa7-b616-025002ef8249\")>,\n",
       " <selenium.webdriver.remote.webelement.WebElement (session=\"af351568d02f1ed7f3254350cb895792\", element=\"012887d4-6199-43d9-8bf9-4100e98060b3\")>,\n",
       " <selenium.webdriver.remote.webelement.WebElement (session=\"af351568d02f1ed7f3254350cb895792\", element=\"e923715f-f5b0-4caa-a6b6-2325b25615ad\")>,\n",
       " <selenium.webdriver.remote.webelement.WebElement (session=\"af351568d02f1ed7f3254350cb895792\", element=\"afc6654f-791a-4bfe-abc6-3543eb0c1cb4\")>,\n",
       " <selenium.webdriver.remote.webelement.WebElement (session=\"af351568d02f1ed7f3254350cb895792\", element=\"7564ec5f-7ee0-40b5-a9db-fd5e7f4836af\")>]"
      ]
     },
     "execution_count": 175,
     "metadata": {},
     "output_type": "execute_result"
    }
   ],
   "source": [
    "company_tag = driver.find_elements_by_xpath(\"//div[@class='d-flex justify-content-between align-items-start']\")\n",
    "company_tag"
   ]
  },
  {
   "cell_type": "code",
   "execution_count": 176,
   "metadata": {},
   "outputs": [
    {
     "data": {
      "text/plain": [
       "['Bechtel',\n",
       " 'Bechtel',\n",
       " 'Ericsson',\n",
       " 'NatWest Group',\n",
       " 'Crowe',\n",
       " 'MobiKwik',\n",
       " 'Siemens Technology and Services Private Limited',\n",
       " 'Lantern Digital Services',\n",
       " 'Priority Vendor',\n",
       " 'Ally wiredsoft solutions (P) ltd',\n",
       " 'White Vectors',\n",
       " 'Biz2Credit Inc',\n",
       " 'Novo',\n",
       " 'Gauge Data Solutions',\n",
       " 'Data Patterns',\n",
       " 'WinZO',\n",
       " 'MasterCard',\n",
       " 'Techlive',\n",
       " 'WishFin',\n",
       " 'Applicate IT Solutions Pvt. Ltd.',\n",
       " 'Innovacer',\n",
       " 'xtLytics',\n",
       " 'Salasar New Age Technologies',\n",
       " 'Algoscale',\n",
       " 'SearchUrCollege',\n",
       " 'Barclays',\n",
       " 'ADCI - Haryana',\n",
       " 'Dürr Somac GmbH',\n",
       " 'Team Computers',\n",
       " 'Gravity Advisors Pvt Ltd',\n",
       " 'Dürr IT Services India',\n",
       " 'Ank Aha']"
      ]
     },
     "execution_count": 176,
     "metadata": {},
     "output_type": "execute_result"
    }
   ],
   "source": [
    "company_name = []\n",
    "for i in company_tag:\n",
    "    time.sleep(2)\n",
    "    try:\n",
    "        company_name.append(i.text)\n",
    "    except:\n",
    "        company_name.append('-')\n",
    "company_name"
   ]
  },
  {
   "cell_type": "code",
   "execution_count": 178,
   "metadata": {},
   "outputs": [
    {
     "data": {
      "text/plain": [
       "[<selenium.webdriver.remote.webelement.WebElement (session=\"af351568d02f1ed7f3254350cb895792\", element=\"a5889fbd-cf2c-41a9-a1da-f778305d63ec\")>,\n",
       " <selenium.webdriver.remote.webelement.WebElement (session=\"af351568d02f1ed7f3254350cb895792\", element=\"73650130-b542-4f50-a880-3711a46101e8\")>,\n",
       " <selenium.webdriver.remote.webelement.WebElement (session=\"af351568d02f1ed7f3254350cb895792\", element=\"167195b3-71c3-4e0f-9a61-11c786f042e9\")>,\n",
       " <selenium.webdriver.remote.webelement.WebElement (session=\"af351568d02f1ed7f3254350cb895792\", element=\"40c08166-699d-40e7-8980-0f6a66b2c1e6\")>,\n",
       " <selenium.webdriver.remote.webelement.WebElement (session=\"af351568d02f1ed7f3254350cb895792\", element=\"8db5ef45-afa5-41eb-a3cd-5416eac00f2d\")>,\n",
       " <selenium.webdriver.remote.webelement.WebElement (session=\"af351568d02f1ed7f3254350cb895792\", element=\"53168265-6fff-46bd-86c6-142a2cd50c81\")>,\n",
       " <selenium.webdriver.remote.webelement.WebElement (session=\"af351568d02f1ed7f3254350cb895792\", element=\"8bfcb47b-b759-4b84-becb-bb34437a263e\")>,\n",
       " <selenium.webdriver.remote.webelement.WebElement (session=\"af351568d02f1ed7f3254350cb895792\", element=\"5d6cf709-0b89-409a-a20f-89f138aaa55f\")>,\n",
       " <selenium.webdriver.remote.webelement.WebElement (session=\"af351568d02f1ed7f3254350cb895792\", element=\"a60b9796-eb9f-48c5-a2b3-811104a537bf\")>,\n",
       " <selenium.webdriver.remote.webelement.WebElement (session=\"af351568d02f1ed7f3254350cb895792\", element=\"e622591f-896f-4718-a427-70db7b92b553\")>,\n",
       " <selenium.webdriver.remote.webelement.WebElement (session=\"af351568d02f1ed7f3254350cb895792\", element=\"41d9965b-5490-4cd6-afa9-979128b1280e\")>,\n",
       " <selenium.webdriver.remote.webelement.WebElement (session=\"af351568d02f1ed7f3254350cb895792\", element=\"de3cb772-f0ef-48db-8876-1425d276dace\")>,\n",
       " <selenium.webdriver.remote.webelement.WebElement (session=\"af351568d02f1ed7f3254350cb895792\", element=\"ebdaddd9-9887-4c1f-94e8-58bc373aac8e\")>,\n",
       " <selenium.webdriver.remote.webelement.WebElement (session=\"af351568d02f1ed7f3254350cb895792\", element=\"20673134-2dfe-46ee-84a6-575a00f57f8c\")>,\n",
       " <selenium.webdriver.remote.webelement.WebElement (session=\"af351568d02f1ed7f3254350cb895792\", element=\"d58debcf-2e61-468b-ad1b-1850deb4abd1\")>,\n",
       " <selenium.webdriver.remote.webelement.WebElement (session=\"af351568d02f1ed7f3254350cb895792\", element=\"bbe3b329-c23f-49a5-b88c-56d1c8623958\")>,\n",
       " <selenium.webdriver.remote.webelement.WebElement (session=\"af351568d02f1ed7f3254350cb895792\", element=\"c5a12ef0-c719-4da2-98ce-3a6fb2b632e7\")>,\n",
       " <selenium.webdriver.remote.webelement.WebElement (session=\"af351568d02f1ed7f3254350cb895792\", element=\"a09b3b07-41dd-496c-9fcb-b8ff7f682f2d\")>,\n",
       " <selenium.webdriver.remote.webelement.WebElement (session=\"af351568d02f1ed7f3254350cb895792\", element=\"ab48efd0-871e-4abb-88af-28f20f5ba818\")>,\n",
       " <selenium.webdriver.remote.webelement.WebElement (session=\"af351568d02f1ed7f3254350cb895792\", element=\"a9f1cd06-81d9-47f5-9ec6-11c11b1d60a8\")>,\n",
       " <selenium.webdriver.remote.webelement.WebElement (session=\"af351568d02f1ed7f3254350cb895792\", element=\"eb400874-97d5-4342-b773-a01dab225723\")>,\n",
       " <selenium.webdriver.remote.webelement.WebElement (session=\"af351568d02f1ed7f3254350cb895792\", element=\"cce278cc-f3b3-4c32-9743-417d79bc0a5d\")>,\n",
       " <selenium.webdriver.remote.webelement.WebElement (session=\"af351568d02f1ed7f3254350cb895792\", element=\"312d65ab-7ef4-41be-866e-6d1560873f16\")>,\n",
       " <selenium.webdriver.remote.webelement.WebElement (session=\"af351568d02f1ed7f3254350cb895792\", element=\"34887c46-02b1-4179-b067-730f75cefe09\")>,\n",
       " <selenium.webdriver.remote.webelement.WebElement (session=\"af351568d02f1ed7f3254350cb895792\", element=\"68bdc369-c5f2-4a53-9695-f210c3427e7e\")>,\n",
       " <selenium.webdriver.remote.webelement.WebElement (session=\"af351568d02f1ed7f3254350cb895792\", element=\"b7dbc368-933a-40df-883e-f87f8fb216cf\")>,\n",
       " <selenium.webdriver.remote.webelement.WebElement (session=\"af351568d02f1ed7f3254350cb895792\", element=\"72f74d76-e488-4ae2-8b4c-8273f21e3178\")>,\n",
       " <selenium.webdriver.remote.webelement.WebElement (session=\"af351568d02f1ed7f3254350cb895792\", element=\"92d9f49d-a057-4fd1-b796-57752b0271d3\")>,\n",
       " <selenium.webdriver.remote.webelement.WebElement (session=\"af351568d02f1ed7f3254350cb895792\", element=\"2431ab77-6fd8-466f-80a4-3fc60f257cb6\")>,\n",
       " <selenium.webdriver.remote.webelement.WebElement (session=\"af351568d02f1ed7f3254350cb895792\", element=\"7cc12a31-791e-41a3-9b0f-9556db442449\")>,\n",
       " <selenium.webdriver.remote.webelement.WebElement (session=\"af351568d02f1ed7f3254350cb895792\", element=\"421f371d-70c2-47de-8768-aaf3fca0cd7c\")>,\n",
       " <selenium.webdriver.remote.webelement.WebElement (session=\"af351568d02f1ed7f3254350cb895792\", element=\"9e014824-28cb-472b-adcc-a472d6a85665\")>]"
      ]
     },
     "execution_count": 178,
     "metadata": {},
     "output_type": "execute_result"
    }
   ],
   "source": [
    "job_tag = driver.find_elements_by_xpath(\"//a[@class='jobLink css-1rd3saf eigr9kq2']\")\n",
    "job_tag"
   ]
  },
  {
   "cell_type": "code",
   "execution_count": 180,
   "metadata": {},
   "outputs": [
    {
     "data": {
      "text/plain": [
       "['Data Engineer - Python with Azure ADF',\n",
       " 'HR Data Analyst - New Delhi, IN',\n",
       " 'Data Scientist',\n",
       " 'Data Scientist',\n",
       " 'Data Scientist',\n",
       " 'Data Scientist',\n",
       " 'Data Scientist',\n",
       " 'Data Scientist',\n",
       " 'Data Scientist',\n",
       " 'Data Scientist',\n",
       " 'Data Scientist',\n",
       " 'Data Scientist',\n",
       " 'Data Scientist',\n",
       " 'Data Scientist',\n",
       " 'Data Scientist',\n",
       " 'Data Scientist',\n",
       " 'Data Scientist',\n",
       " 'Data Scientist',\n",
       " 'Data Scientist',\n",
       " 'Data Scientist',\n",
       " 'Data Scientist',\n",
       " 'Data Scientist',\n",
       " 'Data Scientist',\n",
       " 'Data Scientist',\n",
       " 'Data Scientist',\n",
       " 'Data Scientist',\n",
       " 'Data Scientist',\n",
       " 'Machine Learning Engineer/ Data Scientist',\n",
       " 'Data Scientist',\n",
       " 'Data Scientist',\n",
       " 'Machine Learning Engineer/ Data Scientist',\n",
       " 'Data Scientist']"
      ]
     },
     "execution_count": 180,
     "metadata": {},
     "output_type": "execute_result"
    }
   ],
   "source": [
    "job_title = []\n",
    "for i in job_tag:\n",
    "    time.sleep(1)\n",
    "    try:\n",
    "        job_title.append(i.text)\n",
    "    except:\n",
    "        job_title.append('-')\n",
    "job_title"
   ]
  },
  {
   "cell_type": "code",
   "execution_count": 185,
   "metadata": {},
   "outputs": [
    {
     "data": {
      "text/plain": [
       "[<selenium.webdriver.remote.webelement.WebElement (session=\"af351568d02f1ed7f3254350cb895792\", element=\"2e9b018f-43ea-4c4d-8351-3c86d5d07efc\")>,\n",
       " <selenium.webdriver.remote.webelement.WebElement (session=\"af351568d02f1ed7f3254350cb895792\", element=\"e1cc2bd1-51ad-46aa-92ef-e2ffee2d41a1\")>,\n",
       " <selenium.webdriver.remote.webelement.WebElement (session=\"af351568d02f1ed7f3254350cb895792\", element=\"a0e05fda-7ba1-40a2-bd1d-e582f7a85280\")>,\n",
       " <selenium.webdriver.remote.webelement.WebElement (session=\"af351568d02f1ed7f3254350cb895792\", element=\"0ff5df43-d5e6-431f-a21f-3022d21ec2af\")>,\n",
       " <selenium.webdriver.remote.webelement.WebElement (session=\"af351568d02f1ed7f3254350cb895792\", element=\"7c9732f6-f1d2-4f80-881b-e09769c12d70\")>,\n",
       " <selenium.webdriver.remote.webelement.WebElement (session=\"af351568d02f1ed7f3254350cb895792\", element=\"7acae096-3977-4d1e-8f99-3184a0ea0f72\")>,\n",
       " <selenium.webdriver.remote.webelement.WebElement (session=\"af351568d02f1ed7f3254350cb895792\", element=\"e813dc7c-540d-4b2f-b3c6-4e804a160dc3\")>,\n",
       " <selenium.webdriver.remote.webelement.WebElement (session=\"af351568d02f1ed7f3254350cb895792\", element=\"ca389160-02a8-4bcc-ae07-a4b67a728b52\")>,\n",
       " <selenium.webdriver.remote.webelement.WebElement (session=\"af351568d02f1ed7f3254350cb895792\", element=\"13918db5-455e-41fa-8b3e-78c27b5a93a5\")>,\n",
       " <selenium.webdriver.remote.webelement.WebElement (session=\"af351568d02f1ed7f3254350cb895792\", element=\"e7d8f144-14ab-4515-b49a-926d4c4b7212\")>,\n",
       " <selenium.webdriver.remote.webelement.WebElement (session=\"af351568d02f1ed7f3254350cb895792\", element=\"2a2660c0-7e75-47c6-aa68-b9e010f2415d\")>,\n",
       " <selenium.webdriver.remote.webelement.WebElement (session=\"af351568d02f1ed7f3254350cb895792\", element=\"45300325-ea59-4f63-b78b-20b0ddcd18f2\")>,\n",
       " <selenium.webdriver.remote.webelement.WebElement (session=\"af351568d02f1ed7f3254350cb895792\", element=\"ebb6d618-557e-4007-b7f7-6497fa93308c\")>,\n",
       " <selenium.webdriver.remote.webelement.WebElement (session=\"af351568d02f1ed7f3254350cb895792\", element=\"e8a19343-198e-4612-922f-890c06ff83c9\")>,\n",
       " <selenium.webdriver.remote.webelement.WebElement (session=\"af351568d02f1ed7f3254350cb895792\", element=\"5bd58f9e-16ce-4e28-9d06-9b8a84e6b897\")>,\n",
       " <selenium.webdriver.remote.webelement.WebElement (session=\"af351568d02f1ed7f3254350cb895792\", element=\"96ea599a-0a37-4cdc-9ce1-13915ac80bab\")>,\n",
       " <selenium.webdriver.remote.webelement.WebElement (session=\"af351568d02f1ed7f3254350cb895792\", element=\"2065a10b-5bb8-4ba4-8344-abbcae4722b9\")>,\n",
       " <selenium.webdriver.remote.webelement.WebElement (session=\"af351568d02f1ed7f3254350cb895792\", element=\"28f8a008-876d-4751-81bc-8cf365e0920e\")>,\n",
       " <selenium.webdriver.remote.webelement.WebElement (session=\"af351568d02f1ed7f3254350cb895792\", element=\"cf39cd0c-608d-4b9c-aff2-368ed5bfc8dc\")>,\n",
       " <selenium.webdriver.remote.webelement.WebElement (session=\"af351568d02f1ed7f3254350cb895792\", element=\"7d48fb01-5175-451b-b147-5adbb770f6cf\")>,\n",
       " <selenium.webdriver.remote.webelement.WebElement (session=\"af351568d02f1ed7f3254350cb895792\", element=\"f3be8704-81cf-4a74-8dcf-ca19f992dfe1\")>,\n",
       " <selenium.webdriver.remote.webelement.WebElement (session=\"af351568d02f1ed7f3254350cb895792\", element=\"d51da5c3-561e-4c36-aa03-e41e3b84641f\")>,\n",
       " <selenium.webdriver.remote.webelement.WebElement (session=\"af351568d02f1ed7f3254350cb895792\", element=\"fb42e1b0-d9b3-45b0-843b-cfa79c5c1731\")>,\n",
       " <selenium.webdriver.remote.webelement.WebElement (session=\"af351568d02f1ed7f3254350cb895792\", element=\"b6b5dd72-279c-473b-8df1-18603d88c96c\")>,\n",
       " <selenium.webdriver.remote.webelement.WebElement (session=\"af351568d02f1ed7f3254350cb895792\", element=\"00f7c50a-0338-4477-9ba1-d1137665c3bd\")>,\n",
       " <selenium.webdriver.remote.webelement.WebElement (session=\"af351568d02f1ed7f3254350cb895792\", element=\"16ca6d2a-65a9-45ef-962b-3221d3e269eb\")>,\n",
       " <selenium.webdriver.remote.webelement.WebElement (session=\"af351568d02f1ed7f3254350cb895792\", element=\"c6bd7107-35e2-4495-98c5-2d0e2224a277\")>,\n",
       " <selenium.webdriver.remote.webelement.WebElement (session=\"af351568d02f1ed7f3254350cb895792\", element=\"df6241b0-6e89-4ae0-be2d-03bdeecc181b\")>,\n",
       " <selenium.webdriver.remote.webelement.WebElement (session=\"af351568d02f1ed7f3254350cb895792\", element=\"bfd822a7-5ec9-40f0-b9a4-b2e591094662\")>,\n",
       " <selenium.webdriver.remote.webelement.WebElement (session=\"af351568d02f1ed7f3254350cb895792\", element=\"a1b693a9-279c-4081-9675-2ada2e6ba784\")>,\n",
       " <selenium.webdriver.remote.webelement.WebElement (session=\"af351568d02f1ed7f3254350cb895792\", element=\"e98d1ac6-834c-464a-8d4e-65523340ff6e\")>,\n",
       " <selenium.webdriver.remote.webelement.WebElement (session=\"af351568d02f1ed7f3254350cb895792\", element=\"aec45697-6eae-42b4-84af-d28e51255afb\")>]"
      ]
     },
     "execution_count": 185,
     "metadata": {},
     "output_type": "execute_result"
    }
   ],
   "source": [
    "loc_tag = driver.find_elements_by_xpath(\"//div[@class='d-flex flex-wrap css-11d3uq0 e1rrn5ka2']//span\")\n",
    "loc_tag"
   ]
  },
  {
   "cell_type": "code",
   "execution_count": 186,
   "metadata": {},
   "outputs": [
    {
     "data": {
      "text/plain": [
       "['New Delhi',\n",
       " 'New Delhi',\n",
       " 'Noida',\n",
       " 'New Delhi',\n",
       " 'Noida',\n",
       " 'Gurgaon',\n",
       " 'Gurgaon',\n",
       " 'Noida',\n",
       " 'Noida',\n",
       " 'Noida',\n",
       " 'New Delhi',\n",
       " 'Noida',\n",
       " 'Gurgaon',\n",
       " 'Noida',\n",
       " 'Noida',\n",
       " 'New Delhi',\n",
       " 'Gurgaon',\n",
       " 'Noida',\n",
       " 'Noida',\n",
       " 'Gurgaon',\n",
       " 'Noida',\n",
       " 'Noida',\n",
       " 'Noida',\n",
       " 'Noida',\n",
       " 'Noida',\n",
       " 'New Delhi',\n",
       " 'Gurgaon',\n",
       " 'Noida',\n",
       " 'New Delhi',\n",
       " 'Gurgaon',\n",
       " 'Noida',\n",
       " 'New Delhi']"
      ]
     },
     "execution_count": 186,
     "metadata": {},
     "output_type": "execute_result"
    }
   ],
   "source": [
    "location = []\n",
    "for i in loc_tag:\n",
    "    time.sleep(1)\n",
    "    try:\n",
    "        location.append(i.text)\n",
    "    except:\n",
    "        location.append('-')\n",
    "location"
   ]
  },
  {
   "cell_type": "markdown",
   "metadata": {},
   "source": [
    "sal_tag = driver.find_elements_by_xpath(\"//div[@class='css-nq3w9f pr-xxsm']//span\")\n",
    "sal_tag"
   ]
  },
  {
   "cell_type": "markdown",
   "metadata": {},
   "source": [
    "salary = []\n",
    "for i in sal_tag:\n",
    "    time.sleep(1)\n",
    "    try:\n",
    "        salary.append(i.text)\n",
    "    except:\n",
    "        salary.append('na')\n",
    "salary"
   ]
  },
  {
   "cell_type": "code",
   "execution_count": 195,
   "metadata": {},
   "outputs": [
    {
     "data": {
      "text/plain": [
       "[<selenium.webdriver.remote.webelement.WebElement (session=\"af351568d02f1ed7f3254350cb895792\", element=\"3fd87614-fd46-4b15-901c-94430fe88cc3\")>,\n",
       " <selenium.webdriver.remote.webelement.WebElement (session=\"af351568d02f1ed7f3254350cb895792\", element=\"202022d6-7a20-4020-b992-469a8597222d\")>,\n",
       " <selenium.webdriver.remote.webelement.WebElement (session=\"af351568d02f1ed7f3254350cb895792\", element=\"ffdd5581-b7d7-4805-ab49-487b8837131f\")>,\n",
       " <selenium.webdriver.remote.webelement.WebElement (session=\"af351568d02f1ed7f3254350cb895792\", element=\"b0b148ee-ce08-401b-8f35-c6d7cee6a93a\")>,\n",
       " <selenium.webdriver.remote.webelement.WebElement (session=\"af351568d02f1ed7f3254350cb895792\", element=\"920494a4-77b7-4df2-8c12-ebb52a08c79d\")>,\n",
       " <selenium.webdriver.remote.webelement.WebElement (session=\"af351568d02f1ed7f3254350cb895792\", element=\"7ba9f405-bb2d-4daf-869e-35355feb76c1\")>,\n",
       " <selenium.webdriver.remote.webelement.WebElement (session=\"af351568d02f1ed7f3254350cb895792\", element=\"5a4e4172-3940-43e1-92a5-7bb1241a7d84\")>,\n",
       " <selenium.webdriver.remote.webelement.WebElement (session=\"af351568d02f1ed7f3254350cb895792\", element=\"4595266a-7ab0-48ca-bad5-2d67c3bcfa77\")>,\n",
       " <selenium.webdriver.remote.webelement.WebElement (session=\"af351568d02f1ed7f3254350cb895792\", element=\"ea9029fb-1187-4f50-9c90-8993999bfe58\")>,\n",
       " <selenium.webdriver.remote.webelement.WebElement (session=\"af351568d02f1ed7f3254350cb895792\", element=\"8ca4f2dc-8c54-45df-a44d-581f75e18333\")>,\n",
       " <selenium.webdriver.remote.webelement.WebElement (session=\"af351568d02f1ed7f3254350cb895792\", element=\"61b64fac-05cf-4870-b68e-78b4e5a20d56\")>,\n",
       " <selenium.webdriver.remote.webelement.WebElement (session=\"af351568d02f1ed7f3254350cb895792\", element=\"49f5a6e6-0417-4938-ba9c-b0dbb3395c43\")>,\n",
       " <selenium.webdriver.remote.webelement.WebElement (session=\"af351568d02f1ed7f3254350cb895792\", element=\"d5af08f6-3a9a-4d34-8bc9-76959a785fa9\")>,\n",
       " <selenium.webdriver.remote.webelement.WebElement (session=\"af351568d02f1ed7f3254350cb895792\", element=\"c263daaf-2649-4239-a946-41ceb7f67e87\")>,\n",
       " <selenium.webdriver.remote.webelement.WebElement (session=\"af351568d02f1ed7f3254350cb895792\", element=\"16947bde-5243-4278-aa48-d6816c885c79\")>,\n",
       " <selenium.webdriver.remote.webelement.WebElement (session=\"af351568d02f1ed7f3254350cb895792\", element=\"64fc93b8-4295-4b17-87d3-007c6ff4045f\")>,\n",
       " <selenium.webdriver.remote.webelement.WebElement (session=\"af351568d02f1ed7f3254350cb895792\", element=\"4251b859-8e70-4565-afbe-17de2f48649c\")>,\n",
       " <selenium.webdriver.remote.webelement.WebElement (session=\"af351568d02f1ed7f3254350cb895792\", element=\"a4463eea-8c61-46b3-aa1e-dd5abda92ca4\")>,\n",
       " <selenium.webdriver.remote.webelement.WebElement (session=\"af351568d02f1ed7f3254350cb895792\", element=\"1fa31ea2-3fd8-4d6e-81fc-6a6ef55bfd42\")>,\n",
       " <selenium.webdriver.remote.webelement.WebElement (session=\"af351568d02f1ed7f3254350cb895792\", element=\"8510d6d2-cecb-4430-b718-169a9dea617b\")>,\n",
       " <selenium.webdriver.remote.webelement.WebElement (session=\"af351568d02f1ed7f3254350cb895792\", element=\"c5c7a3e2-f9a5-4e94-b444-9272a0fa5736\")>,\n",
       " <selenium.webdriver.remote.webelement.WebElement (session=\"af351568d02f1ed7f3254350cb895792\", element=\"2919953a-5a42-427b-b22a-cfdbdd4c297a\")>,\n",
       " <selenium.webdriver.remote.webelement.WebElement (session=\"af351568d02f1ed7f3254350cb895792\", element=\"1b196be4-730c-459d-9ac4-ea8f90fc87b4\")>,\n",
       " <selenium.webdriver.remote.webelement.WebElement (session=\"af351568d02f1ed7f3254350cb895792\", element=\"bd7ac5fe-f120-4ee6-a941-651eec35a4e4\")>,\n",
       " <selenium.webdriver.remote.webelement.WebElement (session=\"af351568d02f1ed7f3254350cb895792\", element=\"582d5bae-9249-4106-b06c-90287eb8a8b3\")>,\n",
       " <selenium.webdriver.remote.webelement.WebElement (session=\"af351568d02f1ed7f3254350cb895792\", element=\"ced68674-8596-47bf-bfc6-a75d87ee0560\")>,\n",
       " <selenium.webdriver.remote.webelement.WebElement (session=\"af351568d02f1ed7f3254350cb895792\", element=\"a38b0f9b-47ab-452e-8b7a-88d4cc118967\")>,\n",
       " <selenium.webdriver.remote.webelement.WebElement (session=\"af351568d02f1ed7f3254350cb895792\", element=\"96fbd9de-5176-4e33-affe-4b1b7946b1e6\")>,\n",
       " <selenium.webdriver.remote.webelement.WebElement (session=\"af351568d02f1ed7f3254350cb895792\", element=\"8739b4e9-e32a-4984-a31b-12367172ad75\")>,\n",
       " <selenium.webdriver.remote.webelement.WebElement (session=\"af351568d02f1ed7f3254350cb895792\", element=\"a6254475-6b71-4249-85bf-d0a4f83528cc\")>,\n",
       " <selenium.webdriver.remote.webelement.WebElement (session=\"af351568d02f1ed7f3254350cb895792\", element=\"4b7b2bda-67a2-44f0-a2cc-457617478be5\")>,\n",
       " <selenium.webdriver.remote.webelement.WebElement (session=\"af351568d02f1ed7f3254350cb895792\", element=\"efb1e64f-e0be-4483-90f1-e046926eb801\")>]"
      ]
     },
     "execution_count": 195,
     "metadata": {},
     "output_type": "execute_result"
    }
   ],
   "source": [
    "posted_time = driver.find_elements_by_xpath(\"//div[@class='d-flex align-items-end pl-std css-mi55ob']\")\n",
    "posted_time"
   ]
  },
  {
   "cell_type": "code",
   "execution_count": 197,
   "metadata": {},
   "outputs": [
    {
     "data": {
      "text/plain": [
       "['12d',\n",
       " '1d',\n",
       " '16d',\n",
       " '1d',\n",
       " '9d',\n",
       " '25d',\n",
       " '22d',\n",
       " '3d',\n",
       " '9d',\n",
       " '2d',\n",
       " '3d',\n",
       " '18d',\n",
       " '7d',\n",
       " '9d',\n",
       " '25d',\n",
       " '24h',\n",
       " '15d',\n",
       " '15d',\n",
       " '20d',\n",
       " '4d',\n",
       " '15d',\n",
       " '24d',\n",
       " '23d',\n",
       " '9d',\n",
       " '9d',\n",
       " '2d',\n",
       " '23d',\n",
       " '24h',\n",
       " '25d',\n",
       " '24h',\n",
       " '24h',\n",
       " '9d']"
      ]
     },
     "execution_count": 197,
     "metadata": {},
     "output_type": "execute_result"
    }
   ],
   "source": [
    "job_age = []\n",
    "for i in posted_time:\n",
    "    time.sleep(1)\n",
    "    try:\n",
    "        job_age.append(i.text)\n",
    "    except:\n",
    "        job_age.append('-')\n",
    "job_age"
   ]
  },
  {
   "cell_type": "code",
   "execution_count": 198,
   "metadata": {},
   "outputs": [
    {
     "data": {
      "text/html": [
       "<div>\n",
       "<style scoped>\n",
       "    .dataframe tbody tr th:only-of-type {\n",
       "        vertical-align: middle;\n",
       "    }\n",
       "\n",
       "    .dataframe tbody tr th {\n",
       "        vertical-align: top;\n",
       "    }\n",
       "\n",
       "    .dataframe thead th {\n",
       "        text-align: right;\n",
       "    }\n",
       "</style>\n",
       "<table border=\"1\" class=\"dataframe\">\n",
       "  <thead>\n",
       "    <tr style=\"text-align: right;\">\n",
       "      <th></th>\n",
       "      <th>Job_title</th>\n",
       "      <th>Company</th>\n",
       "      <th>Location</th>\n",
       "      <th>Job_Age</th>\n",
       "    </tr>\n",
       "  </thead>\n",
       "  <tbody>\n",
       "    <tr>\n",
       "      <th>0</th>\n",
       "      <td>Data Engineer - Python with Azure ADF</td>\n",
       "      <td>Bechtel</td>\n",
       "      <td>New Delhi</td>\n",
       "      <td>12d</td>\n",
       "    </tr>\n",
       "    <tr>\n",
       "      <th>1</th>\n",
       "      <td>HR Data Analyst - New Delhi, IN</td>\n",
       "      <td>Bechtel</td>\n",
       "      <td>New Delhi</td>\n",
       "      <td>1d</td>\n",
       "    </tr>\n",
       "    <tr>\n",
       "      <th>2</th>\n",
       "      <td>Data Scientist</td>\n",
       "      <td>Ericsson</td>\n",
       "      <td>Noida</td>\n",
       "      <td>16d</td>\n",
       "    </tr>\n",
       "    <tr>\n",
       "      <th>3</th>\n",
       "      <td>Data Scientist</td>\n",
       "      <td>NatWest Group</td>\n",
       "      <td>New Delhi</td>\n",
       "      <td>1d</td>\n",
       "    </tr>\n",
       "    <tr>\n",
       "      <th>4</th>\n",
       "      <td>Data Scientist</td>\n",
       "      <td>Crowe</td>\n",
       "      <td>Noida</td>\n",
       "      <td>9d</td>\n",
       "    </tr>\n",
       "    <tr>\n",
       "      <th>5</th>\n",
       "      <td>Data Scientist</td>\n",
       "      <td>MobiKwik</td>\n",
       "      <td>Gurgaon</td>\n",
       "      <td>25d</td>\n",
       "    </tr>\n",
       "    <tr>\n",
       "      <th>6</th>\n",
       "      <td>Data Scientist</td>\n",
       "      <td>Siemens Technology and Services Private Limited</td>\n",
       "      <td>Gurgaon</td>\n",
       "      <td>22d</td>\n",
       "    </tr>\n",
       "    <tr>\n",
       "      <th>7</th>\n",
       "      <td>Data Scientist</td>\n",
       "      <td>Lantern Digital Services</td>\n",
       "      <td>Noida</td>\n",
       "      <td>3d</td>\n",
       "    </tr>\n",
       "    <tr>\n",
       "      <th>8</th>\n",
       "      <td>Data Scientist</td>\n",
       "      <td>Priority Vendor</td>\n",
       "      <td>Noida</td>\n",
       "      <td>9d</td>\n",
       "    </tr>\n",
       "    <tr>\n",
       "      <th>9</th>\n",
       "      <td>Data Scientist</td>\n",
       "      <td>Ally wiredsoft solutions (P) ltd</td>\n",
       "      <td>Noida</td>\n",
       "      <td>2d</td>\n",
       "    </tr>\n",
       "  </tbody>\n",
       "</table>\n",
       "</div>"
      ],
      "text/plain": [
       "                               Job_title  \\\n",
       "0  Data Engineer - Python with Azure ADF   \n",
       "1        HR Data Analyst - New Delhi, IN   \n",
       "2                         Data Scientist   \n",
       "3                         Data Scientist   \n",
       "4                         Data Scientist   \n",
       "5                         Data Scientist   \n",
       "6                         Data Scientist   \n",
       "7                         Data Scientist   \n",
       "8                         Data Scientist   \n",
       "9                         Data Scientist   \n",
       "\n",
       "                                           Company   Location Job_Age  \n",
       "0                                          Bechtel  New Delhi     12d  \n",
       "1                                          Bechtel  New Delhi      1d  \n",
       "2                                         Ericsson      Noida     16d  \n",
       "3                                    NatWest Group  New Delhi      1d  \n",
       "4                                            Crowe      Noida      9d  \n",
       "5                                         MobiKwik    Gurgaon     25d  \n",
       "6  Siemens Technology and Services Private Limited    Gurgaon     22d  \n",
       "7                         Lantern Digital Services      Noida      3d  \n",
       "8                                  Priority Vendor      Noida      9d  \n",
       "9                 Ally wiredsoft solutions (P) ltd      Noida      2d  "
      ]
     },
     "execution_count": 198,
     "metadata": {},
     "output_type": "execute_result"
    }
   ],
   "source": [
    "Glassdoor_jobs = pd.DataFrame({})\n",
    "Glassdoor_jobs['Job_title'] = job_title[0:10]\n",
    "Glassdoor_jobs['Company'] = company_name[0:10]\n",
    "Glassdoor_jobs['Location'] = location[0:10]\n",
    "#Glassdoor_jobs['Salary'] = salary[0:10]\n",
    "Glassdoor_jobs['Job_Age'] = job_age[0:10]\n",
    "Glassdoor_jobs"
   ]
  },
  {
   "cell_type": "code",
   "execution_count": null,
   "metadata": {},
   "outputs": [],
   "source": []
  },
  {
   "cell_type": "markdown",
   "metadata": {},
   "source": [
    "## 5."
   ]
  },
  {
   "cell_type": "code",
   "execution_count": 230,
   "metadata": {},
   "outputs": [],
   "source": [
    "driver = webdriver.Chrome('chromedriver.exe')"
   ]
  },
  {
   "cell_type": "code",
   "execution_count": 231,
   "metadata": {},
   "outputs": [],
   "source": [
    "url = 'https://www.glassdoor.co.in/Salaries/index.htm'\n",
    "driver.get(url)"
   ]
  },
  {
   "cell_type": "code",
   "execution_count": 232,
   "metadata": {},
   "outputs": [],
   "source": [
    "search_name = driver.find_element_by_xpath(\"//input[@class='keyword']\")\n",
    "search_name.click()"
   ]
  },
  {
   "cell_type": "code",
   "execution_count": 233,
   "metadata": {},
   "outputs": [],
   "source": [
    "job_name = driver.find_element_by_xpath(\"//input[@class='keyword']\")\n",
    "job_name.send_keys('Data Scientist')"
   ]
  },
  {
   "cell_type": "code",
   "execution_count": 234,
   "metadata": {},
   "outputs": [],
   "source": [
    "loc_search = driver.find_element_by_xpath(\"//input[@id='LocationSearch']\")\n",
    "loc_search.click()"
   ]
  },
  {
   "cell_type": "code",
   "execution_count": 235,
   "metadata": {},
   "outputs": [],
   "source": [
    "loc_name = driver.find_element_by_xpath(\"//input[@id='LocationSearch']\")\n",
    "loc_name.send_keys('Noida')"
   ]
  },
  {
   "cell_type": "code",
   "execution_count": 239,
   "metadata": {},
   "outputs": [],
   "source": [
    "search_btn = driver.find_element_by_xpath(\"//button[@id='HeroSearchButton']\")\n",
    "search_btn.click()"
   ]
  },
  {
   "cell_type": "code",
   "execution_count": 243,
   "metadata": {},
   "outputs": [
    {
     "data": {
      "text/plain": [
       "[<selenium.webdriver.remote.webelement.WebElement (session=\"6c7e688a98e05553bafac0d6afcf7244\", element=\"4d6323d6-e8f8-432b-b021-a43f86e0e035\")>,\n",
       " <selenium.webdriver.remote.webelement.WebElement (session=\"6c7e688a98e05553bafac0d6afcf7244\", element=\"4bf6f991-7708-4fdd-9b42-7167527e7301\")>,\n",
       " <selenium.webdriver.remote.webelement.WebElement (session=\"6c7e688a98e05553bafac0d6afcf7244\", element=\"167da672-e61e-4100-af1a-2a731c00066d\")>,\n",
       " <selenium.webdriver.remote.webelement.WebElement (session=\"6c7e688a98e05553bafac0d6afcf7244\", element=\"c9e558db-2aa6-4d81-85bb-6bc0ff23bfb6\")>,\n",
       " <selenium.webdriver.remote.webelement.WebElement (session=\"6c7e688a98e05553bafac0d6afcf7244\", element=\"babaab06-ff3c-4812-862e-8d70b04b4fbd\")>,\n",
       " <selenium.webdriver.remote.webelement.WebElement (session=\"6c7e688a98e05553bafac0d6afcf7244\", element=\"c2295548-3b3f-4d5b-be7a-a79593e24aec\")>,\n",
       " <selenium.webdriver.remote.webelement.WebElement (session=\"6c7e688a98e05553bafac0d6afcf7244\", element=\"6e5d4aa6-f695-4929-9922-3cf7d7684f03\")>,\n",
       " <selenium.webdriver.remote.webelement.WebElement (session=\"6c7e688a98e05553bafac0d6afcf7244\", element=\"603aed30-24e8-4310-887a-aa77a3b92ac4\")>,\n",
       " <selenium.webdriver.remote.webelement.WebElement (session=\"6c7e688a98e05553bafac0d6afcf7244\", element=\"2b7ca10f-1224-458c-af3f-c41ed31ce12b\")>,\n",
       " <selenium.webdriver.remote.webelement.WebElement (session=\"6c7e688a98e05553bafac0d6afcf7244\", element=\"938fa044-3a11-4e5a-9641-ce7878ce7234\")>,\n",
       " <selenium.webdriver.remote.webelement.WebElement (session=\"6c7e688a98e05553bafac0d6afcf7244\", element=\"a85cbe0c-66e5-4c8b-8a3e-0a7ba8aacf17\")>,\n",
       " <selenium.webdriver.remote.webelement.WebElement (session=\"6c7e688a98e05553bafac0d6afcf7244\", element=\"810ce0b3-283b-465c-bba9-b75dc9c86a04\")>,\n",
       " <selenium.webdriver.remote.webelement.WebElement (session=\"6c7e688a98e05553bafac0d6afcf7244\", element=\"8d0a6cd5-de0c-4dd2-ad68-c1cef13c4975\")>,\n",
       " <selenium.webdriver.remote.webelement.WebElement (session=\"6c7e688a98e05553bafac0d6afcf7244\", element=\"43ef7298-2ea0-4766-9e95-4e5be28ae32f\")>,\n",
       " <selenium.webdriver.remote.webelement.WebElement (session=\"6c7e688a98e05553bafac0d6afcf7244\", element=\"f3795d1b-c769-4918-8479-1efb2a70ce14\")>,\n",
       " <selenium.webdriver.remote.webelement.WebElement (session=\"6c7e688a98e05553bafac0d6afcf7244\", element=\"83ac4703-815b-4538-9de0-282d97c12969\")>,\n",
       " <selenium.webdriver.remote.webelement.WebElement (session=\"6c7e688a98e05553bafac0d6afcf7244\", element=\"6f0f3aec-c604-45be-afb7-2bc53c0c9602\")>,\n",
       " <selenium.webdriver.remote.webelement.WebElement (session=\"6c7e688a98e05553bafac0d6afcf7244\", element=\"d37065b9-756d-45c1-9099-5b3c177a075b\")>,\n",
       " <selenium.webdriver.remote.webelement.WebElement (session=\"6c7e688a98e05553bafac0d6afcf7244\", element=\"a850a7e9-8f27-4e14-bbf1-f5e1c8992e0d\")>,\n",
       " <selenium.webdriver.remote.webelement.WebElement (session=\"6c7e688a98e05553bafac0d6afcf7244\", element=\"2a031a37-a8d2-436f-829b-3adfa8ecde39\")>,\n",
       " <selenium.webdriver.remote.webelement.WebElement (session=\"6c7e688a98e05553bafac0d6afcf7244\", element=\"7573feac-b5d1-40a2-bb44-b790954cecda\")>,\n",
       " <selenium.webdriver.remote.webelement.WebElement (session=\"6c7e688a98e05553bafac0d6afcf7244\", element=\"4a426cca-513a-4bcf-b291-16f5396fda75\")>,\n",
       " <selenium.webdriver.remote.webelement.WebElement (session=\"6c7e688a98e05553bafac0d6afcf7244\", element=\"5af666fe-7c05-4c0f-8cb4-e6eaa2578d4c\")>,\n",
       " <selenium.webdriver.remote.webelement.WebElement (session=\"6c7e688a98e05553bafac0d6afcf7244\", element=\"82098210-386a-4490-b695-13dcbe192712\")>,\n",
       " <selenium.webdriver.remote.webelement.WebElement (session=\"6c7e688a98e05553bafac0d6afcf7244\", element=\"18cf3736-be22-49cb-b62d-1d37c861c486\")>,\n",
       " <selenium.webdriver.remote.webelement.WebElement (session=\"6c7e688a98e05553bafac0d6afcf7244\", element=\"70323752-02bb-4b06-ad1b-98316e92c237\")>,\n",
       " <selenium.webdriver.remote.webelement.WebElement (session=\"6c7e688a98e05553bafac0d6afcf7244\", element=\"9f2594e0-3590-436e-9b42-240a6dc1d5e0\")>,\n",
       " <selenium.webdriver.remote.webelement.WebElement (session=\"6c7e688a98e05553bafac0d6afcf7244\", element=\"0b50e30d-67d5-44cf-a8a5-7942af43f77e\")>,\n",
       " <selenium.webdriver.remote.webelement.WebElement (session=\"6c7e688a98e05553bafac0d6afcf7244\", element=\"00ed000f-2ec1-46a2-bcb3-6a8a63616af8\")>,\n",
       " <selenium.webdriver.remote.webelement.WebElement (session=\"6c7e688a98e05553bafac0d6afcf7244\", element=\"ace6c52e-1c2f-47fd-a98d-571a3676d07f\")>,\n",
       " <selenium.webdriver.remote.webelement.WebElement (session=\"6c7e688a98e05553bafac0d6afcf7244\", element=\"4191258f-678f-4369-b806-11ac4f92407c\")>,\n",
       " <selenium.webdriver.remote.webelement.WebElement (session=\"6c7e688a98e05553bafac0d6afcf7244\", element=\"ae627ba5-f7d2-4802-aee7-d3a6452b6f5c\")>,\n",
       " <selenium.webdriver.remote.webelement.WebElement (session=\"6c7e688a98e05553bafac0d6afcf7244\", element=\"f769597f-2814-4adb-9c2d-a6a392536e26\")>,\n",
       " <selenium.webdriver.remote.webelement.WebElement (session=\"6c7e688a98e05553bafac0d6afcf7244\", element=\"21fa393d-b138-4761-87a0-c4a15a21b30d\")>,\n",
       " <selenium.webdriver.remote.webelement.WebElement (session=\"6c7e688a98e05553bafac0d6afcf7244\", element=\"7b69ded2-5493-4fa5-bccd-a19d79e998e7\")>,\n",
       " <selenium.webdriver.remote.webelement.WebElement (session=\"6c7e688a98e05553bafac0d6afcf7244\", element=\"cd8b2e1d-5060-4121-8ea4-16415433ac02\")>,\n",
       " <selenium.webdriver.remote.webelement.WebElement (session=\"6c7e688a98e05553bafac0d6afcf7244\", element=\"ba48bf93-82c8-419d-920d-453d063849a3\")>,\n",
       " <selenium.webdriver.remote.webelement.WebElement (session=\"6c7e688a98e05553bafac0d6afcf7244\", element=\"4a493b2f-79ba-4ba7-b567-291c6a3fcb9e\")>,\n",
       " <selenium.webdriver.remote.webelement.WebElement (session=\"6c7e688a98e05553bafac0d6afcf7244\", element=\"bed38d59-446f-43b1-b2ef-6b5ebb656d5f\")>,\n",
       " <selenium.webdriver.remote.webelement.WebElement (session=\"6c7e688a98e05553bafac0d6afcf7244\", element=\"75c0b6a3-74a3-4594-a4a8-6f03a03c6bfe\")>]"
      ]
     },
     "execution_count": 243,
     "metadata": {},
     "output_type": "execute_result"
    }
   ],
   "source": [
    "min_sal = driver.find_elements_by_xpath(\"//div[@class='d-flex mt-xxsm css-79elbk epuxyqn0']//p\")\n",
    "min_sal"
   ]
  },
  {
   "cell_type": "code",
   "execution_count": 244,
   "metadata": {},
   "outputs": [
    {
     "data": {
      "text/plain": [
       "['₹6L',\n",
       " '₹27L',\n",
       " '₹3L',\n",
       " '₹13L',\n",
       " '₹6L',\n",
       " '₹22L',\n",
       " '₹5L',\n",
       " '₹1Cr',\n",
       " '₹4L',\n",
       " '₹16L',\n",
       " '₹8L',\n",
       " '₹15L',\n",
       " '₹5L',\n",
       " '₹15L',\n",
       " '₹6L',\n",
       " '₹15L',\n",
       " '₹4L',\n",
       " '₹22L',\n",
       " '₹2L',\n",
       " '₹18L',\n",
       " '₹8L',\n",
       " '₹20L',\n",
       " '₹6L',\n",
       " '₹17L',\n",
       " '₹8L',\n",
       " '₹13L',\n",
       " '₹10L',\n",
       " '₹19L',\n",
       " '₹4L',\n",
       " '₹16L',\n",
       " '₹8L',\n",
       " '₹20L',\n",
       " '₹12T',\n",
       " '₹63T',\n",
       " '₹4L',\n",
       " '₹17L',\n",
       " '₹8L',\n",
       " '₹30L',\n",
       " '₹9L',\n",
       " '₹15L']"
      ]
     },
     "execution_count": 244,
     "metadata": {},
     "output_type": "execute_result"
    }
   ],
   "source": [
    "min_salary = []\n",
    "for i in min_sal:\n",
    "    time.sleep(1)\n",
    "    try:\n",
    "        min_salary.append(i.text)\n",
    "    except:\n",
    "        min_salary.append('-')\n",
    "min_salary"
   ]
  },
  {
   "cell_type": "code",
   "execution_count": 245,
   "metadata": {},
   "outputs": [
    {
     "data": {
      "text/plain": [
       "['₹6L',\n",
       " '₹3L',\n",
       " '₹6L',\n",
       " '₹5L',\n",
       " '₹4L',\n",
       " '₹8L',\n",
       " '₹5L',\n",
       " '₹6L',\n",
       " '₹4L',\n",
       " '₹2L',\n",
       " '₹8L',\n",
       " '₹6L',\n",
       " '₹8L',\n",
       " '₹10L',\n",
       " '₹4L',\n",
       " '₹8L',\n",
       " '₹12T',\n",
       " '₹4L',\n",
       " '₹8L',\n",
       " '₹9L']"
      ]
     },
     "execution_count": 245,
     "metadata": {},
     "output_type": "execute_result"
    }
   ],
   "source": [
    "minimum_salary = []\n",
    "for i in range(0,len(min_salary),2):\n",
    "    minimum_salary.append(min_salary[i])\n",
    "minimum_salary"
   ]
  },
  {
   "cell_type": "code",
   "execution_count": 246,
   "metadata": {},
   "outputs": [
    {
     "data": {
      "text/plain": [
       "['₹27L',\n",
       " '₹13L',\n",
       " '₹22L',\n",
       " '₹1Cr',\n",
       " '₹16L',\n",
       " '₹15L',\n",
       " '₹15L',\n",
       " '₹15L',\n",
       " '₹22L',\n",
       " '₹18L',\n",
       " '₹20L',\n",
       " '₹17L',\n",
       " '₹13L',\n",
       " '₹19L',\n",
       " '₹16L',\n",
       " '₹20L',\n",
       " '₹63T',\n",
       " '₹17L',\n",
       " '₹30L',\n",
       " '₹15L']"
      ]
     },
     "execution_count": 246,
     "metadata": {},
     "output_type": "execute_result"
    }
   ],
   "source": [
    "maximum_salary = []\n",
    "for i in range(1,len(min_salary),2):\n",
    "    maximum_salary.append(min_salary[i])\n",
    "maximum_salary"
   ]
  },
  {
   "cell_type": "code",
   "execution_count": 247,
   "metadata": {},
   "outputs": [
    {
     "data": {
      "text/plain": [
       "[<selenium.webdriver.remote.webelement.WebElement (session=\"6c7e688a98e05553bafac0d6afcf7244\", element=\"53f8928f-efd2-4f23-97e9-18589801f5df\")>,\n",
       " <selenium.webdriver.remote.webelement.WebElement (session=\"6c7e688a98e05553bafac0d6afcf7244\", element=\"28bcbd1f-6c87-4116-97d0-f9ab4e87afda\")>,\n",
       " <selenium.webdriver.remote.webelement.WebElement (session=\"6c7e688a98e05553bafac0d6afcf7244\", element=\"d4daa96e-d72a-4ae4-bdcb-6c1a9455f7f8\")>,\n",
       " <selenium.webdriver.remote.webelement.WebElement (session=\"6c7e688a98e05553bafac0d6afcf7244\", element=\"a3c4db34-d3e3-4d14-9de8-ef7f87af8437\")>,\n",
       " <selenium.webdriver.remote.webelement.WebElement (session=\"6c7e688a98e05553bafac0d6afcf7244\", element=\"6e774731-68ac-4624-84fb-b02c64c1bf3c\")>,\n",
       " <selenium.webdriver.remote.webelement.WebElement (session=\"6c7e688a98e05553bafac0d6afcf7244\", element=\"80285e6d-4c67-4949-9541-56b77605053e\")>,\n",
       " <selenium.webdriver.remote.webelement.WebElement (session=\"6c7e688a98e05553bafac0d6afcf7244\", element=\"6a09fa82-2c5a-48ad-bb9b-53134c853921\")>,\n",
       " <selenium.webdriver.remote.webelement.WebElement (session=\"6c7e688a98e05553bafac0d6afcf7244\", element=\"24ac7f6d-8551-465d-a611-02f2c04dafa6\")>,\n",
       " <selenium.webdriver.remote.webelement.WebElement (session=\"6c7e688a98e05553bafac0d6afcf7244\", element=\"c67108cd-8c0e-4567-84f6-c4029edb0111\")>,\n",
       " <selenium.webdriver.remote.webelement.WebElement (session=\"6c7e688a98e05553bafac0d6afcf7244\", element=\"0af0ed78-de0b-4baf-a912-34ed469c39cb\")>,\n",
       " <selenium.webdriver.remote.webelement.WebElement (session=\"6c7e688a98e05553bafac0d6afcf7244\", element=\"3f1f46b2-5a28-4e4a-aa1f-cca3ef8afb37\")>,\n",
       " <selenium.webdriver.remote.webelement.WebElement (session=\"6c7e688a98e05553bafac0d6afcf7244\", element=\"1e2d7995-348b-4b5b-89aa-3d2ac4208ea9\")>,\n",
       " <selenium.webdriver.remote.webelement.WebElement (session=\"6c7e688a98e05553bafac0d6afcf7244\", element=\"09d86e7c-bc51-4450-9ae2-ac6d8f18ce85\")>,\n",
       " <selenium.webdriver.remote.webelement.WebElement (session=\"6c7e688a98e05553bafac0d6afcf7244\", element=\"a5d1798b-c054-4a32-95f0-2e53ea454273\")>,\n",
       " <selenium.webdriver.remote.webelement.WebElement (session=\"6c7e688a98e05553bafac0d6afcf7244\", element=\"bc78c4f0-3491-4fb6-9735-906f2cde6dcd\")>,\n",
       " <selenium.webdriver.remote.webelement.WebElement (session=\"6c7e688a98e05553bafac0d6afcf7244\", element=\"62bf9acc-d0ce-46a0-a67a-a70e050671e6\")>,\n",
       " <selenium.webdriver.remote.webelement.WebElement (session=\"6c7e688a98e05553bafac0d6afcf7244\", element=\"2f28ebf1-017d-4693-9010-f26d0075ef44\")>,\n",
       " <selenium.webdriver.remote.webelement.WebElement (session=\"6c7e688a98e05553bafac0d6afcf7244\", element=\"c7808d1b-35ca-4068-aadf-cdaf7b538fee\")>,\n",
       " <selenium.webdriver.remote.webelement.WebElement (session=\"6c7e688a98e05553bafac0d6afcf7244\", element=\"b6d28210-54c3-4476-9d96-87d6dcb3d126\")>,\n",
       " <selenium.webdriver.remote.webelement.WebElement (session=\"6c7e688a98e05553bafac0d6afcf7244\", element=\"3ffe19f7-cc33-4cbe-aec2-bb11f757786c\")>,\n",
       " <selenium.webdriver.remote.webelement.WebElement (session=\"6c7e688a98e05553bafac0d6afcf7244\", element=\"86ef93dd-938f-4f58-b8d6-96f3028dda27\")>,\n",
       " <selenium.webdriver.remote.webelement.WebElement (session=\"6c7e688a98e05553bafac0d6afcf7244\", element=\"6edc2f01-4cfe-42bf-ba9e-4d5664f33b70\")>,\n",
       " <selenium.webdriver.remote.webelement.WebElement (session=\"6c7e688a98e05553bafac0d6afcf7244\", element=\"bc49f1c3-1f30-4c48-9d50-e575c378972b\")>,\n",
       " <selenium.webdriver.remote.webelement.WebElement (session=\"6c7e688a98e05553bafac0d6afcf7244\", element=\"39202ab6-8a91-4bc7-be2e-2029fd9615d9\")>,\n",
       " <selenium.webdriver.remote.webelement.WebElement (session=\"6c7e688a98e05553bafac0d6afcf7244\", element=\"520090a0-e057-4cb4-9ec9-842d94dc8afb\")>,\n",
       " <selenium.webdriver.remote.webelement.WebElement (session=\"6c7e688a98e05553bafac0d6afcf7244\", element=\"fa99f6d3-8b7f-40b7-81f1-aec9cf5e461e\")>,\n",
       " <selenium.webdriver.remote.webelement.WebElement (session=\"6c7e688a98e05553bafac0d6afcf7244\", element=\"5e585062-2520-4fef-87b5-c0b4d428c12f\")>,\n",
       " <selenium.webdriver.remote.webelement.WebElement (session=\"6c7e688a98e05553bafac0d6afcf7244\", element=\"077bf717-937a-4c1a-86ae-2a47ac5ce033\")>,\n",
       " <selenium.webdriver.remote.webelement.WebElement (session=\"6c7e688a98e05553bafac0d6afcf7244\", element=\"f8d499fa-e4ac-4aaf-a555-410c4ef09bec\")>,\n",
       " <selenium.webdriver.remote.webelement.WebElement (session=\"6c7e688a98e05553bafac0d6afcf7244\", element=\"0a30e61b-04f9-4361-8939-b582245a9be1\")>,\n",
       " <selenium.webdriver.remote.webelement.WebElement (session=\"6c7e688a98e05553bafac0d6afcf7244\", element=\"0eaf1c4e-2e06-4150-ae62-0e39eb7f2222\")>,\n",
       " <selenium.webdriver.remote.webelement.WebElement (session=\"6c7e688a98e05553bafac0d6afcf7244\", element=\"9e15e565-bacb-4ab7-9cee-2791b37d146c\")>,\n",
       " <selenium.webdriver.remote.webelement.WebElement (session=\"6c7e688a98e05553bafac0d6afcf7244\", element=\"cc86b84c-278f-4efb-a726-c9bcafb13e6e\")>,\n",
       " <selenium.webdriver.remote.webelement.WebElement (session=\"6c7e688a98e05553bafac0d6afcf7244\", element=\"7465d98b-cba9-4fa8-aa70-634ed57da47f\")>,\n",
       " <selenium.webdriver.remote.webelement.WebElement (session=\"6c7e688a98e05553bafac0d6afcf7244\", element=\"0b5ad4d7-1e9a-4bff-a18d-39e5f7d50154\")>,\n",
       " <selenium.webdriver.remote.webelement.WebElement (session=\"6c7e688a98e05553bafac0d6afcf7244\", element=\"ba446531-7dfc-4761-8960-102afa1b6153\")>,\n",
       " <selenium.webdriver.remote.webelement.WebElement (session=\"6c7e688a98e05553bafac0d6afcf7244\", element=\"0b804831-a0ef-4a08-abfe-e2512a6f70fc\")>,\n",
       " <selenium.webdriver.remote.webelement.WebElement (session=\"6c7e688a98e05553bafac0d6afcf7244\", element=\"c66ffa30-c77b-4acf-a01d-aade18d9ee33\")>,\n",
       " <selenium.webdriver.remote.webelement.WebElement (session=\"6c7e688a98e05553bafac0d6afcf7244\", element=\"0fd26d4c-1bc2-41d5-a7c1-f48098f6ff83\")>,\n",
       " <selenium.webdriver.remote.webelement.WebElement (session=\"6c7e688a98e05553bafac0d6afcf7244\", element=\"a16c4bcd-7056-4530-a36e-fac83c21312f\")>]"
      ]
     },
     "execution_count": 247,
     "metadata": {},
     "output_type": "execute_result"
    }
   ],
   "source": [
    "company_tag = driver.find_elements_by_xpath(\"//div[@class='col px-xsm']//h3\")\n",
    "company_tag"
   ]
  },
  {
   "cell_type": "code",
   "execution_count": 248,
   "metadata": {},
   "outputs": [
    {
     "data": {
      "text/plain": [
       "['IBM',\n",
       " '₹9,00,000',\n",
       " 'Tata Consultancy Services',\n",
       " '₹6,15,289',\n",
       " 'Accenture',\n",
       " '₹11,63,336',\n",
       " 'Delhivery',\n",
       " '₹12,18,244',\n",
       " 'Ericsson-Worldwide',\n",
       " '₹7,39,238',\n",
       " 'UnitedHealth Group',\n",
       " '₹13,00,000',\n",
       " 'Valiance Solutions',\n",
       " '₹8,63,750',\n",
       " 'EXL Service',\n",
       " '₹11,10,000',\n",
       " 'Optum Global Solutions',\n",
       " '₹13,28,697',\n",
       " 'ZS Associates',\n",
       " '₹11,42,356',\n",
       " 'Optum',\n",
       " '₹13,20,960',\n",
       " 'Innovaccer',\n",
       " '₹12,09,040',\n",
       " 'Cognizant Technology Solutions',\n",
       " '₹10,09,021',\n",
       " 'OYO',\n",
       " '₹12,58,227',\n",
       " 'Nagarro',\n",
       " '₹9,92,632',\n",
       " 'dunnhumby',\n",
       " '₹10,55,478',\n",
       " 'Vidooly Media Tech',\n",
       " '₹34,157',\n",
       " 'Tech Mahindra',\n",
       " '₹10,54,402',\n",
       " 'R Systems',\n",
       " '₹18,40,134',\n",
       " 'CARS24.com',\n",
       " '₹10,00,000']"
      ]
     },
     "execution_count": 248,
     "metadata": {},
     "output_type": "execute_result"
    }
   ],
   "source": [
    "company_name = []\n",
    "for i in company_tag:\n",
    "    time.sleep(1)\n",
    "    try:\n",
    "        company_name.append(i.text)\n",
    "    except:\n",
    "        company_name.append('-')\n",
    "company_name"
   ]
  },
  {
   "cell_type": "code",
   "execution_count": 250,
   "metadata": {},
   "outputs": [
    {
     "data": {
      "text/plain": [
       "['IBM',\n",
       " 'Tata Consultancy Services',\n",
       " 'Accenture',\n",
       " 'Delhivery',\n",
       " 'Ericsson-Worldwide',\n",
       " 'UnitedHealth Group',\n",
       " 'Valiance Solutions',\n",
       " 'EXL Service',\n",
       " 'Optum Global Solutions',\n",
       " 'ZS Associates',\n",
       " 'Optum',\n",
       " 'Innovaccer',\n",
       " 'Cognizant Technology Solutions',\n",
       " 'OYO',\n",
       " 'Nagarro',\n",
       " 'dunnhumby',\n",
       " 'Vidooly Media Tech',\n",
       " 'Tech Mahindra',\n",
       " 'R Systems',\n",
       " 'CARS24.com']"
      ]
     },
     "execution_count": 250,
     "metadata": {},
     "output_type": "execute_result"
    }
   ],
   "source": [
    "company = []\n",
    "for i in range(0,len(company_name),2):\n",
    "    company.append(company_name[i])\n",
    "company"
   ]
  },
  {
   "cell_type": "code",
   "execution_count": 251,
   "metadata": {
    "scrolled": true
   },
   "outputs": [
    {
     "data": {
      "text/plain": [
       "['₹9,00,000',\n",
       " '₹6,15,289',\n",
       " '₹11,63,336',\n",
       " '₹12,18,244',\n",
       " '₹7,39,238',\n",
       " '₹13,00,000',\n",
       " '₹8,63,750',\n",
       " '₹11,10,000',\n",
       " '₹13,28,697',\n",
       " '₹11,42,356',\n",
       " '₹13,20,960',\n",
       " '₹12,09,040',\n",
       " '₹10,09,021',\n",
       " '₹12,58,227',\n",
       " '₹9,92,632',\n",
       " '₹10,55,478',\n",
       " '₹34,157',\n",
       " '₹10,54,402',\n",
       " '₹18,40,134',\n",
       " '₹10,00,000']"
      ]
     },
     "execution_count": 251,
     "metadata": {},
     "output_type": "execute_result"
    }
   ],
   "source": [
    "avg_sal = []\n",
    "for i in range(1,len(company_name),2):\n",
    "    avg_sal.append(company_name[i])\n",
    "avg_sal"
   ]
  },
  {
   "cell_type": "code",
   "execution_count": 252,
   "metadata": {},
   "outputs": [
    {
     "data": {
      "text/plain": [
       "[<selenium.webdriver.remote.webelement.WebElement (session=\"6c7e688a98e05553bafac0d6afcf7244\", element=\"be8b8a54-a57e-4594-8248-40f865e71c55\")>,\n",
       " <selenium.webdriver.remote.webelement.WebElement (session=\"6c7e688a98e05553bafac0d6afcf7244\", element=\"000e1853-cf64-42c6-97e4-7279bc0ff0d6\")>,\n",
       " <selenium.webdriver.remote.webelement.WebElement (session=\"6c7e688a98e05553bafac0d6afcf7244\", element=\"77ec2e7e-7392-4efb-9a2a-28cf067644d7\")>,\n",
       " <selenium.webdriver.remote.webelement.WebElement (session=\"6c7e688a98e05553bafac0d6afcf7244\", element=\"df09ba7f-896e-46a1-9f7f-afdfdb53e5db\")>,\n",
       " <selenium.webdriver.remote.webelement.WebElement (session=\"6c7e688a98e05553bafac0d6afcf7244\", element=\"288213f0-c33a-45bc-8e25-6739c2660b6a\")>,\n",
       " <selenium.webdriver.remote.webelement.WebElement (session=\"6c7e688a98e05553bafac0d6afcf7244\", element=\"d646c391-516d-4304-b699-05d4f06c5c7b\")>,\n",
       " <selenium.webdriver.remote.webelement.WebElement (session=\"6c7e688a98e05553bafac0d6afcf7244\", element=\"8504f0d9-d8f5-4c84-8776-5d8e6b235f52\")>,\n",
       " <selenium.webdriver.remote.webelement.WebElement (session=\"6c7e688a98e05553bafac0d6afcf7244\", element=\"b5c43a46-8dbb-4387-abc3-d2340dfdd8b9\")>,\n",
       " <selenium.webdriver.remote.webelement.WebElement (session=\"6c7e688a98e05553bafac0d6afcf7244\", element=\"f79c9796-ceb9-4121-afe4-4cd6f84d428e\")>,\n",
       " <selenium.webdriver.remote.webelement.WebElement (session=\"6c7e688a98e05553bafac0d6afcf7244\", element=\"4f64e752-8756-410f-b31f-a407be69d7df\")>,\n",
       " <selenium.webdriver.remote.webelement.WebElement (session=\"6c7e688a98e05553bafac0d6afcf7244\", element=\"39840c02-95f0-458a-9aeb-becdbdbb99a9\")>,\n",
       " <selenium.webdriver.remote.webelement.WebElement (session=\"6c7e688a98e05553bafac0d6afcf7244\", element=\"855c60af-5e37-4d13-9a55-cf6adafc12c4\")>,\n",
       " <selenium.webdriver.remote.webelement.WebElement (session=\"6c7e688a98e05553bafac0d6afcf7244\", element=\"24c03482-1de7-45e4-b96b-e997697e5306\")>,\n",
       " <selenium.webdriver.remote.webelement.WebElement (session=\"6c7e688a98e05553bafac0d6afcf7244\", element=\"35e27a10-9188-491b-9acd-83faa716ac2a\")>,\n",
       " <selenium.webdriver.remote.webelement.WebElement (session=\"6c7e688a98e05553bafac0d6afcf7244\", element=\"52e2119f-3cf3-40ba-b4a3-ce5fdb64effb\")>,\n",
       " <selenium.webdriver.remote.webelement.WebElement (session=\"6c7e688a98e05553bafac0d6afcf7244\", element=\"9513b123-a1b2-4feb-91a2-235955caa01c\")>,\n",
       " <selenium.webdriver.remote.webelement.WebElement (session=\"6c7e688a98e05553bafac0d6afcf7244\", element=\"58a7bce3-38bc-4e50-bd5b-bc8110108196\")>,\n",
       " <selenium.webdriver.remote.webelement.WebElement (session=\"6c7e688a98e05553bafac0d6afcf7244\", element=\"c86d6fde-abbc-4203-bf20-46540e2e612b\")>,\n",
       " <selenium.webdriver.remote.webelement.WebElement (session=\"6c7e688a98e05553bafac0d6afcf7244\", element=\"18a791a7-2460-4224-a179-c9e3328ef2f6\")>,\n",
       " <selenium.webdriver.remote.webelement.WebElement (session=\"6c7e688a98e05553bafac0d6afcf7244\", element=\"afb29bee-bdcf-4680-b13d-f80aa0d090db\")>,\n",
       " <selenium.webdriver.remote.webelement.WebElement (session=\"6c7e688a98e05553bafac0d6afcf7244\", element=\"3a66de29-6241-4d2b-a2c3-6cc8d9325373\")>,\n",
       " <selenium.webdriver.remote.webelement.WebElement (session=\"6c7e688a98e05553bafac0d6afcf7244\", element=\"a87336a7-5631-43db-b3bd-21a7bbf98999\")>,\n",
       " <selenium.webdriver.remote.webelement.WebElement (session=\"6c7e688a98e05553bafac0d6afcf7244\", element=\"4f19fa48-639a-4461-a2e8-daceb327e732\")>,\n",
       " <selenium.webdriver.remote.webelement.WebElement (session=\"6c7e688a98e05553bafac0d6afcf7244\", element=\"bf88ca7e-621a-4545-9ec0-19d98c8f8caa\")>,\n",
       " <selenium.webdriver.remote.webelement.WebElement (session=\"6c7e688a98e05553bafac0d6afcf7244\", element=\"7a16d353-b4d2-4284-b20b-a6d94426aaf2\")>,\n",
       " <selenium.webdriver.remote.webelement.WebElement (session=\"6c7e688a98e05553bafac0d6afcf7244\", element=\"2d3f72b7-52d9-4987-9adb-9cec1f6b1c44\")>,\n",
       " <selenium.webdriver.remote.webelement.WebElement (session=\"6c7e688a98e05553bafac0d6afcf7244\", element=\"99531870-72b7-444c-958a-7f5062bdc341\")>,\n",
       " <selenium.webdriver.remote.webelement.WebElement (session=\"6c7e688a98e05553bafac0d6afcf7244\", element=\"10baf5c8-492e-4bdb-b188-6f97a80a0ebf\")>,\n",
       " <selenium.webdriver.remote.webelement.WebElement (session=\"6c7e688a98e05553bafac0d6afcf7244\", element=\"55411294-7365-4690-8f2a-918bea84665c\")>,\n",
       " <selenium.webdriver.remote.webelement.WebElement (session=\"6c7e688a98e05553bafac0d6afcf7244\", element=\"29be85b5-d3fc-4a2b-b661-937e4e777377\")>,\n",
       " <selenium.webdriver.remote.webelement.WebElement (session=\"6c7e688a98e05553bafac0d6afcf7244\", element=\"1c48755c-6447-4bdd-8501-8a1880c3cbd6\")>,\n",
       " <selenium.webdriver.remote.webelement.WebElement (session=\"6c7e688a98e05553bafac0d6afcf7244\", element=\"a7f94288-21e9-4009-86ad-c8d3e4be3d7b\")>,\n",
       " <selenium.webdriver.remote.webelement.WebElement (session=\"6c7e688a98e05553bafac0d6afcf7244\", element=\"bb60de70-a88f-49d0-ac1c-2d0b11dda46f\")>,\n",
       " <selenium.webdriver.remote.webelement.WebElement (session=\"6c7e688a98e05553bafac0d6afcf7244\", element=\"d920c718-2673-4d0a-9b25-ff16436aa7f2\")>,\n",
       " <selenium.webdriver.remote.webelement.WebElement (session=\"6c7e688a98e05553bafac0d6afcf7244\", element=\"e5050b31-fa6e-429c-bf52-d59a9e094a90\")>,\n",
       " <selenium.webdriver.remote.webelement.WebElement (session=\"6c7e688a98e05553bafac0d6afcf7244\", element=\"04434883-da1f-4a73-bbbb-2e8b576a1146\")>,\n",
       " <selenium.webdriver.remote.webelement.WebElement (session=\"6c7e688a98e05553bafac0d6afcf7244\", element=\"c27c0d62-7d01-440c-b964-301b7b0b39a2\")>,\n",
       " <selenium.webdriver.remote.webelement.WebElement (session=\"6c7e688a98e05553bafac0d6afcf7244\", element=\"e153a5b7-27b6-43f8-a862-78bc0c49fd15\")>,\n",
       " <selenium.webdriver.remote.webelement.WebElement (session=\"6c7e688a98e05553bafac0d6afcf7244\", element=\"55230ffb-d837-4f64-b6d3-3cf1dcfc6450\")>,\n",
       " <selenium.webdriver.remote.webelement.WebElement (session=\"6c7e688a98e05553bafac0d6afcf7244\", element=\"c257951c-1450-419a-addc-88f4f14c46c9\")>]"
      ]
     },
     "execution_count": 252,
     "metadata": {},
     "output_type": "execute_result"
    }
   ],
   "source": [
    "com_rating = driver.find_elements_by_xpath(\"//div[@class='d-flex align-items-center mt-xxsm']//span\")\n",
    "com_rating"
   ]
  },
  {
   "cell_type": "code",
   "execution_count": 254,
   "metadata": {},
   "outputs": [
    {
     "data": {
      "text/plain": [
       "['3.9',\n",
       " '★',\n",
       " '3.9',\n",
       " '★',\n",
       " '4',\n",
       " '★',\n",
       " '3.9',\n",
       " '★',\n",
       " '4',\n",
       " '★',\n",
       " '3.7',\n",
       " '★',\n",
       " '4.2',\n",
       " '★',\n",
       " '3.6',\n",
       " '★',\n",
       " '3.9',\n",
       " '★',\n",
       " '4',\n",
       " '★',\n",
       " '3.6',\n",
       " '★',\n",
       " '3.8',\n",
       " '★',\n",
       " '3.8',\n",
       " '★',\n",
       " '3.2',\n",
       " '★',\n",
       " '4',\n",
       " '★',\n",
       " '4.1',\n",
       " '★',\n",
       " '3.7',\n",
       " '★',\n",
       " '3.6',\n",
       " '★',\n",
       " '3.5',\n",
       " '★',\n",
       " '4.1',\n",
       " '★']"
      ]
     },
     "execution_count": 254,
     "metadata": {},
     "output_type": "execute_result"
    }
   ],
   "source": [
    "ratings = []\n",
    "for i in com_rating:\n",
    "    ratings.append(i.text)\n",
    "ratings"
   ]
  },
  {
   "cell_type": "code",
   "execution_count": 255,
   "metadata": {},
   "outputs": [
    {
     "data": {
      "text/plain": [
       "['3.9',\n",
       " '3.9',\n",
       " '4',\n",
       " '3.9',\n",
       " '4',\n",
       " '3.7',\n",
       " '4.2',\n",
       " '3.6',\n",
       " '3.9',\n",
       " '4',\n",
       " '3.6',\n",
       " '3.8',\n",
       " '3.8',\n",
       " '3.2',\n",
       " '4',\n",
       " '4.1',\n",
       " '3.7',\n",
       " '3.6',\n",
       " '3.5',\n",
       " '4.1']"
      ]
     },
     "execution_count": 255,
     "metadata": {},
     "output_type": "execute_result"
    }
   ],
   "source": [
    "rating=[]\n",
    "for i in range(0,len(ratings),2):\n",
    "    rating.append(ratings[i])\n",
    "rating"
   ]
  },
  {
   "cell_type": "code",
   "execution_count": 256,
   "metadata": {},
   "outputs": [
    {
     "data": {
      "text/html": [
       "<div>\n",
       "<style scoped>\n",
       "    .dataframe tbody tr th:only-of-type {\n",
       "        vertical-align: middle;\n",
       "    }\n",
       "\n",
       "    .dataframe tbody tr th {\n",
       "        vertical-align: top;\n",
       "    }\n",
       "\n",
       "    .dataframe thead th {\n",
       "        text-align: right;\n",
       "    }\n",
       "</style>\n",
       "<table border=\"1\" class=\"dataframe\">\n",
       "  <thead>\n",
       "    <tr style=\"text-align: right;\">\n",
       "      <th></th>\n",
       "      <th>Company_name</th>\n",
       "      <th>Minimum_Salary</th>\n",
       "      <th>Maximum_Salary</th>\n",
       "      <th>Average_Salary</th>\n",
       "      <th>Company_rating</th>\n",
       "    </tr>\n",
       "  </thead>\n",
       "  <tbody>\n",
       "    <tr>\n",
       "      <th>0</th>\n",
       "      <td>IBM</td>\n",
       "      <td>₹6L</td>\n",
       "      <td>₹27L</td>\n",
       "      <td>₹9,00,000</td>\n",
       "      <td>3.9</td>\n",
       "    </tr>\n",
       "    <tr>\n",
       "      <th>1</th>\n",
       "      <td>Tata Consultancy Services</td>\n",
       "      <td>₹3L</td>\n",
       "      <td>₹13L</td>\n",
       "      <td>₹6,15,289</td>\n",
       "      <td>3.9</td>\n",
       "    </tr>\n",
       "    <tr>\n",
       "      <th>2</th>\n",
       "      <td>Accenture</td>\n",
       "      <td>₹6L</td>\n",
       "      <td>₹22L</td>\n",
       "      <td>₹11,63,336</td>\n",
       "      <td>4</td>\n",
       "    </tr>\n",
       "    <tr>\n",
       "      <th>3</th>\n",
       "      <td>Delhivery</td>\n",
       "      <td>₹5L</td>\n",
       "      <td>₹1Cr</td>\n",
       "      <td>₹12,18,244</td>\n",
       "      <td>3.9</td>\n",
       "    </tr>\n",
       "    <tr>\n",
       "      <th>4</th>\n",
       "      <td>Ericsson-Worldwide</td>\n",
       "      <td>₹4L</td>\n",
       "      <td>₹16L</td>\n",
       "      <td>₹7,39,238</td>\n",
       "      <td>4</td>\n",
       "    </tr>\n",
       "    <tr>\n",
       "      <th>5</th>\n",
       "      <td>UnitedHealth Group</td>\n",
       "      <td>₹8L</td>\n",
       "      <td>₹15L</td>\n",
       "      <td>₹13,00,000</td>\n",
       "      <td>3.7</td>\n",
       "    </tr>\n",
       "    <tr>\n",
       "      <th>6</th>\n",
       "      <td>Valiance Solutions</td>\n",
       "      <td>₹5L</td>\n",
       "      <td>₹15L</td>\n",
       "      <td>₹8,63,750</td>\n",
       "      <td>4.2</td>\n",
       "    </tr>\n",
       "    <tr>\n",
       "      <th>7</th>\n",
       "      <td>EXL Service</td>\n",
       "      <td>₹6L</td>\n",
       "      <td>₹15L</td>\n",
       "      <td>₹11,10,000</td>\n",
       "      <td>3.6</td>\n",
       "    </tr>\n",
       "    <tr>\n",
       "      <th>8</th>\n",
       "      <td>Optum Global Solutions</td>\n",
       "      <td>₹4L</td>\n",
       "      <td>₹22L</td>\n",
       "      <td>₹13,28,697</td>\n",
       "      <td>3.9</td>\n",
       "    </tr>\n",
       "    <tr>\n",
       "      <th>9</th>\n",
       "      <td>ZS Associates</td>\n",
       "      <td>₹2L</td>\n",
       "      <td>₹18L</td>\n",
       "      <td>₹11,42,356</td>\n",
       "      <td>4</td>\n",
       "    </tr>\n",
       "  </tbody>\n",
       "</table>\n",
       "</div>"
      ],
      "text/plain": [
       "                Company_name Minimum_Salary Maximum_Salary Average_Salary  \\\n",
       "0                        IBM            ₹6L           ₹27L      ₹9,00,000   \n",
       "1  Tata Consultancy Services            ₹3L           ₹13L      ₹6,15,289   \n",
       "2                  Accenture            ₹6L           ₹22L     ₹11,63,336   \n",
       "3                  Delhivery            ₹5L           ₹1Cr     ₹12,18,244   \n",
       "4         Ericsson-Worldwide            ₹4L           ₹16L      ₹7,39,238   \n",
       "5         UnitedHealth Group            ₹8L           ₹15L     ₹13,00,000   \n",
       "6         Valiance Solutions            ₹5L           ₹15L      ₹8,63,750   \n",
       "7                EXL Service            ₹6L           ₹15L     ₹11,10,000   \n",
       "8     Optum Global Solutions            ₹4L           ₹22L     ₹13,28,697   \n",
       "9              ZS Associates            ₹2L           ₹18L     ₹11,42,356   \n",
       "\n",
       "  Company_rating  \n",
       "0            3.9  \n",
       "1            3.9  \n",
       "2              4  \n",
       "3            3.9  \n",
       "4              4  \n",
       "5            3.7  \n",
       "6            4.2  \n",
       "7            3.6  \n",
       "8            3.9  \n",
       "9              4  "
      ]
     },
     "execution_count": 256,
     "metadata": {},
     "output_type": "execute_result"
    }
   ],
   "source": [
    "DataScientist_salary_details = pd.DataFrame({})\n",
    "DataScientist_salary_details['Company_name'] = company[0:10]\n",
    "DataScientist_salary_details['Minimum_Salary'] = minimum_salary[0:10]\n",
    "DataScientist_salary_details['Maximum_Salary'] = maximum_salary[0:10]\n",
    "DataScientist_salary_details['Average_Salary'] = avg_sal[0:10]\n",
    "DataScientist_salary_details['Company_rating'] = rating[0:10]\n",
    "DataScientist_salary_details"
   ]
  },
  {
   "cell_type": "code",
   "execution_count": null,
   "metadata": {},
   "outputs": [],
   "source": []
  },
  {
   "cell_type": "markdown",
   "metadata": {},
   "source": [
    "## 6."
   ]
  },
  {
   "cell_type": "code",
   "execution_count": 218,
   "metadata": {},
   "outputs": [],
   "source": [
    "driver = webdriver.Chrome('chromedriver.exe')"
   ]
  },
  {
   "cell_type": "code",
   "execution_count": 219,
   "metadata": {},
   "outputs": [],
   "source": [
    "url = 'https://www.flipkart.com/'\n",
    "driver.get(url)"
   ]
  },
  {
   "cell_type": "code",
   "execution_count": 220,
   "metadata": {},
   "outputs": [],
   "source": [
    "close = driver.find_element_by_xpath(\"//button[@class='_2KpZ6l _2doB4z']\")\n",
    "close.click()"
   ]
  },
  {
   "cell_type": "code",
   "execution_count": 221,
   "metadata": {},
   "outputs": [],
   "source": [
    "search_bar = driver.find_element_by_xpath(\"//form[@class='_2M8cLY header-form-search']\")\n",
    "search_bar.click()"
   ]
  },
  {
   "cell_type": "code",
   "execution_count": 222,
   "metadata": {},
   "outputs": [],
   "source": [
    "search_name = driver.find_element_by_xpath(\"//input[@type='text']\")\n",
    "search_name.send_keys('sunglasses')"
   ]
  },
  {
   "cell_type": "code",
   "execution_count": 223,
   "metadata": {},
   "outputs": [],
   "source": [
    "search_btn = driver.find_element_by_xpath(\"//button[@class='L0Z3Pu']\")\n",
    "search_btn.click()"
   ]
  },
  {
   "cell_type": "code",
   "execution_count": 228,
   "metadata": {},
   "outputs": [
    {
     "data": {
      "text/plain": [
       "['Mirrored Wayfarer Sunglasses (51)',\n",
       " 'UV Protection Rectangular Sunglasses (Free Size)',\n",
       " 'Mirrored, UV Protection Wayfarer Sunglasses (Free Size)',\n",
       " 'UV Protection Wayfarer Sunglasses (Free Size)',\n",
       " 'UV Protection Aviator Sunglasses (54)',\n",
       " 'Gradient, UV Protection Wayfarer Sunglasses (Free Size)',\n",
       " 'UV Protection Round Sunglasses (Free Size)',\n",
       " 'UV Protection Retro Square Sunglasses (Free Size)',\n",
       " 'UV Protection Shield Sunglasses (Free Size)',\n",
       " 'UV Protection, Others Retro Square Sunglasses (Free Siz...',\n",
       " 'UV Protection Wayfarer Sunglasses (56)',\n",
       " 'Mirrored, UV Protection Wayfarer Sunglasses (Free Size)',\n",
       " 'UV Protection Aviator Sunglasses (58)',\n",
       " 'Polarized, UV Protection Aviator Sunglasses (55)',\n",
       " 'UV Protection Round Sunglasses (54)',\n",
       " 'UV Protection Retro Square Sunglasses (Free Size)',\n",
       " 'UV Protection, Polarized Wayfarer Sunglasses (56)',\n",
       " 'UV Protection, Gradient Butterfly Sunglasses (52)',\n",
       " 'UV Protection Round Sunglasses (53)',\n",
       " 'UV Protection Wayfarer Sunglasses (Free Size)',\n",
       " 'UV Protection Aviator Sunglasses (Free Size)',\n",
       " 'UV Protection Shield Sunglasses (54)',\n",
       " 'UV Protection Aviator Sunglasses (58)',\n",
       " 'UV Protection Wayfarer Sunglasses (55)',\n",
       " 'UV Protection, Mirrored Retro Square Sunglasses (53)',\n",
       " 'UV Protection, Gradient Wayfarer Sunglasses (57)',\n",
       " 'UV Protection Rectangular Sunglasses (55)',\n",
       " 'UV Protection Aviator, Wayfarer Sunglasses (Free Size)',\n",
       " 'UV Protection, Gradient Rectangular Sunglasses (Free Si...',\n",
       " 'Mirrored, UV Protection Round Sunglasses (Free Size)',\n",
       " 'UV Protection Aviator Sunglasses (Free Size)',\n",
       " 'UV Protection Retro Square Sunglasses (Free Size)',\n",
       " 'UV Protection Wrap-around Sunglasses (Free Size)',\n",
       " 'UV Protection Cat-eye Sunglasses (60)',\n",
       " 'UV Protection Aviator Sunglasses (57)',\n",
       " 'UV Protection Wayfarer Sunglasses (Free Size)',\n",
       " 'UV Protection Aviator Sunglasses (58)',\n",
       " 'Others Wayfarer Sunglasses (Free Size)']"
      ]
     },
     "execution_count": 228,
     "metadata": {},
     "output_type": "execute_result"
    }
   ],
   "source": [
    "desc = []\n",
    "urls_des = driver.find_elements_by_xpath(\"//a[@class='IRpwTa']\")\n",
    "for i in urls_des:\n",
    "    try:\n",
    "        desc.append(i.text)\n",
    "    except:\n",
    "        desc.append('nan')\n",
    "desc"
   ]
  },
  {
   "cell_type": "code",
   "execution_count": 233,
   "metadata": {},
   "outputs": [
    {
     "data": {
      "text/plain": [
       "40"
      ]
     },
     "execution_count": 233,
     "metadata": {},
     "output_type": "execute_result"
    }
   ],
   "source": [
    "len(desc)"
   ]
  },
  {
   "cell_type": "code",
   "execution_count": 234,
   "metadata": {},
   "outputs": [
    {
     "data": {
      "text/plain": [
       "['LIZA ANGEL',\n",
       " 'Wrogn',\n",
       " 'Fastrack',\n",
       " 'kingsunglasses',\n",
       " 'Fastrack',\n",
       " 'PIRASO',\n",
       " 'Fastrack',\n",
       " 'LIZA ANGEL',\n",
       " 'kingsunglasses',\n",
       " 'PHENOMENAL',\n",
       " 'Fastrack',\n",
       " 'Fravy',\n",
       " 'Fastrack',\n",
       " 'kingsunglasses',\n",
       " 'Fastrack',\n",
       " 'Wrogn',\n",
       " 'kingsunglasses',\n",
       " 'ROZZETTA CRAFT',\n",
       " 'Fastrack',\n",
       " 'ROYAL SON',\n",
       " 'PHENOMENAL',\n",
       " 'Silver Kartz',\n",
       " 'PIRASO',\n",
       " 'ROZZETTA CRAFT',\n",
       " 'PIRASO',\n",
       " 'HIPPON',\n",
       " 'PHENOMENAL',\n",
       " 'AISLIN',\n",
       " 'kingsunglasses',\n",
       " 'DEIXELS',\n",
       " 'ROZZETTA CRAFT',\n",
       " 'ROZZETTA CRAFT',\n",
       " 'Fastrack',\n",
       " 'Flizz',\n",
       " 'Fastrack',\n",
       " 'NuVew',\n",
       " 'GANSTA',\n",
       " 'Fastrack',\n",
       " 'Fastrack',\n",
       " 'Villain']"
      ]
     },
     "execution_count": 234,
     "metadata": {},
     "output_type": "execute_result"
    }
   ],
   "source": [
    "brand = []\n",
    "urls_des = driver.find_elements_by_xpath(\"//div[@class='_2WkVRV']\")\n",
    "for i in urls_des:\n",
    "    brand.append(i.text)\n",
    "brand"
   ]
  },
  {
   "cell_type": "code",
   "execution_count": 235,
   "metadata": {},
   "outputs": [
    {
     "data": {
      "text/plain": [
       "40"
      ]
     },
     "execution_count": 235,
     "metadata": {},
     "output_type": "execute_result"
    }
   ],
   "source": [
    "len(brand)"
   ]
  },
  {
   "cell_type": "code",
   "execution_count": 198,
   "metadata": {},
   "outputs": [
    {
     "data": {
      "text/plain": [
       "['₹279',\n",
       " '₹663',\n",
       " '₹513',\n",
       " '₹299',\n",
       " '₹758',\n",
       " '₹237',\n",
       " '₹509',\n",
       " '₹339',\n",
       " '₹349',\n",
       " '₹655',\n",
       " '₹771',\n",
       " '₹498',\n",
       " '₹399',\n",
       " '₹299',\n",
       " '₹225',\n",
       " '₹289',\n",
       " '₹1,010',\n",
       " '₹499',\n",
       " '₹259',\n",
       " '₹1,175',\n",
       " '₹309',\n",
       " '₹612',\n",
       " '₹331',\n",
       " '₹329',\n",
       " '₹331',\n",
       " '₹251',\n",
       " '₹399',\n",
       " '₹699',\n",
       " '₹213',\n",
       " '₹349',\n",
       " '₹592',\n",
       " '₹499',\n",
       " '₹404',\n",
       " '₹399',\n",
       " '₹281',\n",
       " '₹625',\n",
       " '₹647',\n",
       " '₹522',\n",
       " '₹1,085',\n",
       " '₹398']"
      ]
     },
     "execution_count": 198,
     "metadata": {},
     "output_type": "execute_result"
    }
   ],
   "source": [
    "price = []\n",
    "urls_pr = driver.find_elements_by_xpath(\"//div[@class='_30jeq3']\")\n",
    "for i in urls_pr:\n",
    "    try:\n",
    "        price.append(i.text)\n",
    "    except:\n",
    "        price.append('nan')\n",
    "price"
   ]
  },
  {
   "cell_type": "code",
   "execution_count": 236,
   "metadata": {},
   "outputs": [
    {
     "data": {
      "text/plain": [
       "['65% off',\n",
       " '73% off',\n",
       " '35% off',\n",
       " '88% off',\n",
       " '15% off',\n",
       " '85% off',\n",
       " '36% off',\n",
       " '60% off',\n",
       " '78% off',\n",
       " '80% off',\n",
       " '14% off',\n",
       " '80% off',\n",
       " '27% off',\n",
       " '88% off',\n",
       " '22% off',\n",
       " '63% off',\n",
       " '79% off',\n",
       " '77% off',\n",
       " '31% off',\n",
       " '65% off',\n",
       " '86% off',\n",
       " '82% off',\n",
       " '79% off',\n",
       " '80% off',\n",
       " '87% off',\n",
       " '79% off',\n",
       " '80% off',\n",
       " '70% off',\n",
       " '76% off',\n",
       " '82% off',\n",
       " '79% off',\n",
       " '72% off',\n",
       " '34% off',\n",
       " '81% off',\n",
       " '41% off',\n",
       " '72% off',\n",
       " '85% off',\n",
       " '28% off',\n",
       " '16% off',\n",
       " '32% off']"
      ]
     },
     "execution_count": 236,
     "metadata": {},
     "output_type": "execute_result"
    }
   ],
   "source": [
    "discount = []\n",
    "urls_ds = driver.find_elements_by_xpath(\"//div[@class='_3Ay6Sb']//span\")\n",
    "for i in urls_ds:\n",
    "    try:\n",
    "        discount.append(i.text)\n",
    "    except:\n",
    "        discount.append('nan')\n",
    "discount"
   ]
  },
  {
   "cell_type": "code",
   "execution_count": 237,
   "metadata": {},
   "outputs": [
    {
     "data": {
      "text/plain": [
       "40"
      ]
     },
     "execution_count": 237,
     "metadata": {},
     "output_type": "execute_result"
    }
   ],
   "source": [
    "len(discount)"
   ]
  },
  {
   "cell_type": "code",
   "execution_count": 238,
   "metadata": {},
   "outputs": [],
   "source": [
    "next_page = driver.find_element_by_xpath(\"//a[@class='_1LKTO3']\")\n",
    "next_page.click()"
   ]
  },
  {
   "cell_type": "code",
   "execution_count": 239,
   "metadata": {},
   "outputs": [
    {
     "data": {
      "text/plain": [
       "['UV Protection, Gradient Rectangular Sunglasses (Free Si...',\n",
       " 'UV Protection Rectangular Sunglasses (Free Size)',\n",
       " 'UV Protection Sports Sunglasses (Free Size)',\n",
       " 'UV Protection, Gradient Round Sunglasses (Free Size)',\n",
       " 'Gradient, UV Protection Wayfarer Sunglasses (Free Size)',\n",
       " 'UV Protection, Riding Glasses Rectangular Sunglasses (F...',\n",
       " 'Mirrored Wayfarer Sunglasses (51)',\n",
       " 'Mirrored, UV Protection Wayfarer, Wayfarer, Wayfarer, W...',\n",
       " 'UV Protection Round Sunglasses (Free Size)',\n",
       " 'Mirrored, UV Protection, Gradient Round Sunglasses (55)',\n",
       " 'UV Protection, Gradient, Night Vision Retro Square Sung...',\n",
       " 'Gradient, UV Protection Round Sunglasses (Free Size)',\n",
       " 'UV Protection Aviator Sunglasses (58)',\n",
       " 'UV Protection Aviator Sunglasses (54)',\n",
       " 'UV Protection, Others Retro Square Sunglasses (Free Siz...',\n",
       " 'UV Protection Rectangular Sunglasses (Free Size)',\n",
       " 'UV Protection Wayfarer Sunglasses (Free Size)',\n",
       " 'Mirrored, Riding Glasses, Others Sports Sunglasses (50)',\n",
       " 'Mirrored, UV Protection Wayfarer Sunglasses (Free Size)',\n",
       " 'UV Protection Aviator Sunglasses (Free Size)',\n",
       " 'UV Protection Round Sunglasses (Free Size)',\n",
       " 'UV Protection Shield Sunglasses (54)',\n",
       " 'UV Protection, Mirrored Round Sunglasses (54)',\n",
       " 'UV Protection, Gradient Wayfarer Sunglasses (55)',\n",
       " 'Mirrored, Gradient, Riding Glasses Round Sunglasses (55...',\n",
       " 'UV Protection, Gradient Wayfarer Sunglasses (57)',\n",
       " 'Mirrored Aviator Sunglasses (55)',\n",
       " 'UV Protection Clubmaster Sunglasses (Free Size)',\n",
       " 'UV Protection, Mirrored Retro Square Sunglasses (53)',\n",
       " 'Polarized, UV Protection Aviator Sunglasses (55)',\n",
       " 'UV Protection Aviator Sunglasses (54)',\n",
       " 'UV Protection, Night Vision, Gradient, Mirrored Round, ...',\n",
       " 'UV Protection, Riding Glasses, Others Aviator, Wayfarer...',\n",
       " 'Mirrored, UV Protection Round Sunglasses (Free Size)',\n",
       " 'UV Protection Wayfarer Sunglasses (Free Size)',\n",
       " 'UV Protection, Mirrored Retro Square Sunglasses (Free S...',\n",
       " 'Mirrored Wayfarer Sunglasses (55)',\n",
       " 'UV Protection, Gradient Butterfly Sunglasses (52)']"
      ]
     },
     "execution_count": 239,
     "metadata": {},
     "output_type": "execute_result"
    }
   ],
   "source": [
    "desc_2 = []\n",
    "urls_des_2 = driver.find_elements_by_xpath(\"//a[@class='IRpwTa']\")\n",
    "for i in urls_des_2:\n",
    "    try:\n",
    "        desc_2.append(i.text)\n",
    "    except:\n",
    "        desc_2.append('nan')\n",
    "desc_2"
   ]
  },
  {
   "cell_type": "code",
   "execution_count": 240,
   "metadata": {},
   "outputs": [
    {
     "data": {
      "text/plain": [
       "38"
      ]
     },
     "execution_count": 240,
     "metadata": {},
     "output_type": "execute_result"
    }
   ],
   "source": [
    "len(desc_2)"
   ]
  },
  {
   "cell_type": "code",
   "execution_count": 241,
   "metadata": {},
   "outputs": [
    {
     "data": {
      "text/plain": [
       "['ROZZETTA CRAFT',\n",
       " 'kingsunglasses',\n",
       " 'hipe',\n",
       " 'LIZA ANGEL',\n",
       " 'ROZZETTA CRAFT',\n",
       " 'Fastrack',\n",
       " 'ROZZETTA CRAFT',\n",
       " 'Wrogn',\n",
       " 'kingsunglasses',\n",
       " 'kingsunglasses',\n",
       " 'hipe',\n",
       " 'Fravy',\n",
       " 'ROZZETTA CRAFT',\n",
       " 'NuVew',\n",
       " 'PIRASO',\n",
       " 'Fravy',\n",
       " 'kingsunglasses',\n",
       " 'Poland',\n",
       " 'Singco India',\n",
       " 'LIZA ANGEL',\n",
       " 'Fastrack',\n",
       " 'Singco India',\n",
       " 'elegante',\n",
       " 'ROZZETTA CRAFT',\n",
       " 'kingsunglasses',\n",
       " 'ROYAL SON',\n",
       " 'hipe',\n",
       " 'AISLIN',\n",
       " 'ROYAL SON',\n",
       " 'PHENOMENAL',\n",
       " 'PHENOMENAL',\n",
       " 'Wrogn',\n",
       " 'PIRASO',\n",
       " 'hipe',\n",
       " 'Singco India',\n",
       " 'ROZZETTA CRAFT',\n",
       " 'Fastrack',\n",
       " 'PHENOMENAL',\n",
       " 'hipe',\n",
       " 'ROYAL SON']"
      ]
     },
     "execution_count": 241,
     "metadata": {},
     "output_type": "execute_result"
    }
   ],
   "source": [
    "brand_2 = []\n",
    "urls_br_2 = driver.find_elements_by_xpath(\"//div[@class='_2WkVRV']\")\n",
    "for i in urls_br_2:\n",
    "    try:\n",
    "        brand_2.append(i.text)\n",
    "    except:\n",
    "        brand_2.append('nan')\n",
    "brand_2"
   ]
  },
  {
   "cell_type": "code",
   "execution_count": 242,
   "metadata": {},
   "outputs": [
    {
     "data": {
      "text/plain": [
       "['₹499',\n",
       " '₹210',\n",
       " '₹299',\n",
       " '₹279',\n",
       " '₹449',\n",
       " '₹558',\n",
       " '₹449',\n",
       " '₹663',\n",
       " '₹299',\n",
       " '₹349',\n",
       " '₹197',\n",
       " '₹339',\n",
       " '₹449',\n",
       " '₹215',\n",
       " '₹237',\n",
       " '₹289',\n",
       " '₹210',\n",
       " '₹162',\n",
       " '₹236',\n",
       " '₹399',\n",
       " '₹738',\n",
       " '₹352',\n",
       " '₹199',\n",
       " '₹499',\n",
       " '₹249',\n",
       " '₹217',\n",
       " '₹189',\n",
       " '₹625',\n",
       " '₹379',\n",
       " '₹319',\n",
       " '₹399',\n",
       " '₹1,175',\n",
       " '₹237',\n",
       " '₹197',\n",
       " '₹214',\n",
       " '₹399',\n",
       " '₹549',\n",
       " '₹399',\n",
       " '₹205',\n",
       " '₹699']"
      ]
     },
     "execution_count": 242,
     "metadata": {},
     "output_type": "execute_result"
    }
   ],
   "source": [
    "price_2 = []\n",
    "urls_pr_2 = driver.find_elements_by_xpath(\"//div[@class='_30jeq3']\")\n",
    "for i in urls_pr_2:\n",
    "    try:\n",
    "        price_2.append(i.text)\n",
    "    except:\n",
    "        price_2.append('nan')\n",
    "price_2"
   ]
  },
  {
   "cell_type": "code",
   "execution_count": 205,
   "metadata": {},
   "outputs": [
    {
     "data": {
      "text/plain": [
       "['77% off',\n",
       " '77% off',\n",
       " '84% off',\n",
       " '60% off',\n",
       " '82% off',\n",
       " '79% off',\n",
       " '30% off',\n",
       " '33% off',\n",
       " '80% off',\n",
       " '86% off',\n",
       " '78% off',\n",
       " '85% off',\n",
       " '70% off',\n",
       " '83% off',\n",
       " '77% off',\n",
       " '77% off',\n",
       " '72% off',\n",
       " '85% off',\n",
       " '26% off',\n",
       " '61% off',\n",
       " '67% off',\n",
       " '84% off',\n",
       " '86% off',\n",
       " '72% off',\n",
       " '79% off',\n",
       " '78% off',\n",
       " '80% off',\n",
       " '41% off',\n",
       " '74% off',\n",
       " '84% off',\n",
       " '83% off',\n",
       " '81% off',\n",
       " '85% off',\n",
       " '80% off',\n",
       " '80% off',\n",
       " '72% off',\n",
       " '69% off',\n",
       " '80% off',\n",
       " '31% off',\n",
       " '85% off']"
      ]
     },
     "execution_count": 205,
     "metadata": {},
     "output_type": "execute_result"
    }
   ],
   "source": [
    "discount_2 = []\n",
    "urls_ds_2 = driver.find_elements_by_xpath(\"//div[@class='_3Ay6Sb']//span\")\n",
    "for i in urls_ds_2:\n",
    "    try:\n",
    "        discount_2.append(i.text)\n",
    "    except:\n",
    "        discount_2.append('nan')\n",
    "discount_2"
   ]
  },
  {
   "cell_type": "code",
   "execution_count": 243,
   "metadata": {},
   "outputs": [],
   "source": [
    "page_3 = driver.find_element_by_xpath('/html/body/div[1]/div/div[3]/div[1]/div[2]/div[12]/div/div/nav/a[4]')\n",
    "page_3.click()"
   ]
  },
  {
   "cell_type": "code",
   "execution_count": 244,
   "metadata": {},
   "outputs": [
    {
     "data": {
      "text/plain": [
       "['UV Protection Wayfarer Sunglasses (55)',\n",
       " 'UV Protection, Gradient, Mirrored, Riding Glasses Recta...',\n",
       " 'Mirrored Aviator Sunglasses (53)',\n",
       " 'UV Protection Wayfarer Sunglasses (Free Size)',\n",
       " 'UV Protection Retro Square Sunglasses (Free Size)',\n",
       " 'UV Protection Rectangular Sunglasses (Free Size)',\n",
       " 'UV Protection Wayfarer Sunglasses (55)',\n",
       " 'UV Protection Rectangular Sunglasses (55)',\n",
       " 'UV Protection Wayfarer Sunglasses (Free Size)',\n",
       " 'Gradient Rectangular Sunglasses (56)',\n",
       " 'UV Protection Aviator Sunglasses (57)',\n",
       " 'UV Protection Wayfarer Sunglasses (Free Size)',\n",
       " 'UV Protection Retro Square Sunglasses (Free Size)',\n",
       " 'UV Protection, Riding Glasses Wayfarer Sunglasses (56)',\n",
       " 'Mirrored Wayfarer Sunglasses (55)',\n",
       " 'UV Protection Wayfarer Sunglasses (Free Size)',\n",
       " 'UV Protection Aviator Sunglasses (57)',\n",
       " 'UV Protection, Gradient, Mirrored, Riding Glasses Aviat...',\n",
       " 'by Lenskart UV Protection Wayfarer Sunglasses (49)',\n",
       " 'UV Protection Wayfarer Sunglasses (Free Size)']"
      ]
     },
     "execution_count": 244,
     "metadata": {},
     "output_type": "execute_result"
    }
   ],
   "source": [
    "desc_3 = []\n",
    "urls_des_3 = driver.find_elements_by_xpath(\"//a[@class='IRpwTa']\")\n",
    "for i in urls_des_3[0:20]:\n",
    "    try:\n",
    "        desc_3.append(i.text)\n",
    "    except:\n",
    "        desc_3.append('nan')\n",
    "desc_3"
   ]
  },
  {
   "cell_type": "code",
   "execution_count": 245,
   "metadata": {},
   "outputs": [
    {
     "data": {
      "text/plain": [
       "20"
      ]
     },
     "execution_count": 245,
     "metadata": {},
     "output_type": "execute_result"
    }
   ],
   "source": [
    "len(desc_3)"
   ]
  },
  {
   "cell_type": "code",
   "execution_count": 246,
   "metadata": {},
   "outputs": [
    {
     "data": {
      "text/plain": [
       "['ROYAL SON',\n",
       " 'hipe',\n",
       " 'Singco',\n",
       " 'EYELLUSION',\n",
       " 'Fastrack',\n",
       " 'Fravy',\n",
       " 'ROZZETTA CRAFT',\n",
       " 'Wrogn',\n",
       " 'kingsunglasses',\n",
       " 'Fastrack',\n",
       " 'IRUS by IDEE',\n",
       " 'NuVew',\n",
       " 'Fastrack',\n",
       " 'ROZZETTA CRAFT',\n",
       " 'NuVew',\n",
       " 'Wrogn',\n",
       " 'Fastrack',\n",
       " 'NuVew',\n",
       " 'hipe',\n",
       " 'VINCENT CHASE']"
      ]
     },
     "execution_count": 246,
     "metadata": {},
     "output_type": "execute_result"
    }
   ],
   "source": [
    "brand_3 = []\n",
    "urls_br_3 = driver.find_elements_by_xpath(\"//div[@class='_2WkVRV']\")\n",
    "for i in urls_br_3[0:20]:\n",
    "    try:\n",
    "        brand_3.append(i.text)\n",
    "    except:\n",
    "        brand_3.append('nan')\n",
    "brand_3"
   ]
  },
  {
   "cell_type": "code",
   "execution_count": 247,
   "metadata": {},
   "outputs": [
    {
     "data": {
      "text/plain": [
       "['₹265',\n",
       " '₹299',\n",
       " '₹252',\n",
       " '₹323',\n",
       " '₹733',\n",
       " '₹299',\n",
       " '₹398',\n",
       " '₹826',\n",
       " '₹210',\n",
       " '₹782',\n",
       " '₹606',\n",
       " '₹275',\n",
       " '₹758',\n",
       " '₹499',\n",
       " '₹235',\n",
       " '₹1,165',\n",
       " '₹655',\n",
       " '₹185',\n",
       " '₹209',\n",
       " '₹1,179']"
      ]
     },
     "execution_count": 247,
     "metadata": {},
     "output_type": "execute_result"
    }
   ],
   "source": [
    "price_3 = []\n",
    "urls_pr_3 = driver.find_elements_by_xpath(\"//div[@class='_30jeq3']\")\n",
    "for i in urls_pr_3[0:20]:\n",
    "    try:\n",
    "        price_3.append(i.text)\n",
    "    except:\n",
    "        price_3.append('nan')\n",
    "price_3"
   ]
  },
  {
   "cell_type": "code",
   "execution_count": 248,
   "metadata": {},
   "outputs": [
    {
     "data": {
      "text/plain": [
       "['79% off',\n",
       " '76% off',\n",
       " '74% off',\n",
       " '85% off',\n",
       " '18% off',\n",
       " '80% off',\n",
       " '73% off',\n",
       " '72% off',\n",
       " '83% off',\n",
       " '2% off',\n",
       " '52% off',\n",
       " '70% off',\n",
       " '15% off',\n",
       " '77% off',\n",
       " '75% off',\n",
       " '61% off',\n",
       " '18% off',\n",
       " '75% off',\n",
       " '79% off',\n",
       " '41% off']"
      ]
     },
     "execution_count": 248,
     "metadata": {},
     "output_type": "execute_result"
    }
   ],
   "source": [
    "discount_3 = []\n",
    "urls_ds_3 = driver.find_elements_by_xpath(\"//div[@class='_3Ay6Sb']//span\")\n",
    "for i in urls_ds_3[0:20]:\n",
    "    try:\n",
    "        discount_3.append(i.text)\n",
    "    except:\n",
    "        discount_3.append('nan')\n",
    "discount_3"
   ]
  },
  {
   "cell_type": "code",
   "execution_count": 249,
   "metadata": {},
   "outputs": [
    {
     "data": {
      "text/plain": [
       "100"
      ]
     },
     "execution_count": 249,
     "metadata": {},
     "output_type": "execute_result"
    }
   ],
   "source": [
    "brand_name = brand+brand_2+brand_3\n",
    "len(brand_name)"
   ]
  },
  {
   "cell_type": "code",
   "execution_count": 250,
   "metadata": {},
   "outputs": [
    {
     "data": {
      "text/plain": [
       "98"
      ]
     },
     "execution_count": 250,
     "metadata": {},
     "output_type": "execute_result"
    }
   ],
   "source": [
    "description = desc+desc_2+desc_3\n",
    "len(description)"
   ]
  },
  {
   "cell_type": "code",
   "execution_count": 251,
   "metadata": {},
   "outputs": [
    {
     "data": {
      "text/plain": [
       "100"
      ]
     },
     "execution_count": 251,
     "metadata": {},
     "output_type": "execute_result"
    }
   ],
   "source": [
    "final_price = price+price_2+price_3\n",
    "len(final_price)"
   ]
  },
  {
   "cell_type": "code",
   "execution_count": 252,
   "metadata": {},
   "outputs": [
    {
     "data": {
      "text/plain": [
       "100"
      ]
     },
     "execution_count": 252,
     "metadata": {},
     "output_type": "execute_result"
    }
   ],
   "source": [
    "discount_per = discount+discount_2+discount_3\n",
    "len(discount_per)"
   ]
  },
  {
   "cell_type": "code",
   "execution_count": 253,
   "metadata": {},
   "outputs": [
    {
     "ename": "ValueError",
     "evalue": "Length of values (98) does not match length of index (100)",
     "output_type": "error",
     "traceback": [
      "\u001b[1;31m---------------------------------------------------------------------------\u001b[0m",
      "\u001b[1;31mValueError\u001b[0m                                Traceback (most recent call last)",
      "\u001b[1;32m<ipython-input-253-d5df7ce6973b>\u001b[0m in \u001b[0;36m<module>\u001b[1;34m\u001b[0m\n\u001b[0;32m      1\u001b[0m \u001b[0mFlipkart_Sunglasses\u001b[0m \u001b[1;33m=\u001b[0m \u001b[0mpd\u001b[0m\u001b[1;33m.\u001b[0m\u001b[0mDataFrame\u001b[0m\u001b[1;33m(\u001b[0m\u001b[1;33m{\u001b[0m\u001b[1;33m}\u001b[0m\u001b[1;33m)\u001b[0m\u001b[1;33m\u001b[0m\u001b[1;33m\u001b[0m\u001b[0m\n\u001b[0;32m      2\u001b[0m \u001b[0mFlipkart_Sunglasses\u001b[0m\u001b[1;33m[\u001b[0m\u001b[1;34m'Brand'\u001b[0m\u001b[1;33m]\u001b[0m \u001b[1;33m=\u001b[0m \u001b[0mbrand_name\u001b[0m\u001b[1;33m\u001b[0m\u001b[1;33m\u001b[0m\u001b[0m\n\u001b[1;32m----> 3\u001b[1;33m \u001b[0mFlipkart_Sunglasses\u001b[0m\u001b[1;33m[\u001b[0m\u001b[1;34m'Description'\u001b[0m\u001b[1;33m]\u001b[0m \u001b[1;33m=\u001b[0m \u001b[0mdescription\u001b[0m\u001b[1;33m\u001b[0m\u001b[1;33m\u001b[0m\u001b[0m\n\u001b[0m\u001b[0;32m      4\u001b[0m \u001b[0mFlipkart_Sunglasses\u001b[0m\u001b[1;33m[\u001b[0m\u001b[1;34m'Price'\u001b[0m\u001b[1;33m]\u001b[0m \u001b[1;33m=\u001b[0m \u001b[0mfinal_price\u001b[0m\u001b[1;33m\u001b[0m\u001b[1;33m\u001b[0m\u001b[0m\n\u001b[0;32m      5\u001b[0m \u001b[0mFlipkart_Sunglasses\u001b[0m\u001b[1;33m[\u001b[0m\u001b[1;34m'Discount'\u001b[0m\u001b[1;33m]\u001b[0m \u001b[1;33m=\u001b[0m \u001b[0mdiscount_per\u001b[0m\u001b[1;33m\u001b[0m\u001b[1;33m\u001b[0m\u001b[0m\n",
      "\u001b[1;32mD:\\downloads\\lib\\site-packages\\pandas\\core\\frame.py\u001b[0m in \u001b[0;36m__setitem__\u001b[1;34m(self, key, value)\u001b[0m\n\u001b[0;32m   3038\u001b[0m         \u001b[1;32melse\u001b[0m\u001b[1;33m:\u001b[0m\u001b[1;33m\u001b[0m\u001b[1;33m\u001b[0m\u001b[0m\n\u001b[0;32m   3039\u001b[0m             \u001b[1;31m# set column\u001b[0m\u001b[1;33m\u001b[0m\u001b[1;33m\u001b[0m\u001b[1;33m\u001b[0m\u001b[0m\n\u001b[1;32m-> 3040\u001b[1;33m             \u001b[0mself\u001b[0m\u001b[1;33m.\u001b[0m\u001b[0m_set_item\u001b[0m\u001b[1;33m(\u001b[0m\u001b[0mkey\u001b[0m\u001b[1;33m,\u001b[0m \u001b[0mvalue\u001b[0m\u001b[1;33m)\u001b[0m\u001b[1;33m\u001b[0m\u001b[1;33m\u001b[0m\u001b[0m\n\u001b[0m\u001b[0;32m   3041\u001b[0m \u001b[1;33m\u001b[0m\u001b[0m\n\u001b[0;32m   3042\u001b[0m     \u001b[1;32mdef\u001b[0m \u001b[0m_setitem_slice\u001b[0m\u001b[1;33m(\u001b[0m\u001b[0mself\u001b[0m\u001b[1;33m,\u001b[0m \u001b[0mkey\u001b[0m\u001b[1;33m:\u001b[0m \u001b[0mslice\u001b[0m\u001b[1;33m,\u001b[0m \u001b[0mvalue\u001b[0m\u001b[1;33m)\u001b[0m\u001b[1;33m:\u001b[0m\u001b[1;33m\u001b[0m\u001b[1;33m\u001b[0m\u001b[0m\n",
      "\u001b[1;32mD:\\downloads\\lib\\site-packages\\pandas\\core\\frame.py\u001b[0m in \u001b[0;36m_set_item\u001b[1;34m(self, key, value)\u001b[0m\n\u001b[0;32m   3114\u001b[0m         \"\"\"\n\u001b[0;32m   3115\u001b[0m         \u001b[0mself\u001b[0m\u001b[1;33m.\u001b[0m\u001b[0m_ensure_valid_index\u001b[0m\u001b[1;33m(\u001b[0m\u001b[0mvalue\u001b[0m\u001b[1;33m)\u001b[0m\u001b[1;33m\u001b[0m\u001b[1;33m\u001b[0m\u001b[0m\n\u001b[1;32m-> 3116\u001b[1;33m         \u001b[0mvalue\u001b[0m \u001b[1;33m=\u001b[0m \u001b[0mself\u001b[0m\u001b[1;33m.\u001b[0m\u001b[0m_sanitize_column\u001b[0m\u001b[1;33m(\u001b[0m\u001b[0mkey\u001b[0m\u001b[1;33m,\u001b[0m \u001b[0mvalue\u001b[0m\u001b[1;33m)\u001b[0m\u001b[1;33m\u001b[0m\u001b[1;33m\u001b[0m\u001b[0m\n\u001b[0m\u001b[0;32m   3117\u001b[0m         \u001b[0mNDFrame\u001b[0m\u001b[1;33m.\u001b[0m\u001b[0m_set_item\u001b[0m\u001b[1;33m(\u001b[0m\u001b[0mself\u001b[0m\u001b[1;33m,\u001b[0m \u001b[0mkey\u001b[0m\u001b[1;33m,\u001b[0m \u001b[0mvalue\u001b[0m\u001b[1;33m)\u001b[0m\u001b[1;33m\u001b[0m\u001b[1;33m\u001b[0m\u001b[0m\n\u001b[0;32m   3118\u001b[0m \u001b[1;33m\u001b[0m\u001b[0m\n",
      "\u001b[1;32mD:\\downloads\\lib\\site-packages\\pandas\\core\\frame.py\u001b[0m in \u001b[0;36m_sanitize_column\u001b[1;34m(self, key, value, broadcast)\u001b[0m\n\u001b[0;32m   3762\u001b[0m \u001b[1;33m\u001b[0m\u001b[0m\n\u001b[0;32m   3763\u001b[0m             \u001b[1;31m# turn me into an ndarray\u001b[0m\u001b[1;33m\u001b[0m\u001b[1;33m\u001b[0m\u001b[1;33m\u001b[0m\u001b[0m\n\u001b[1;32m-> 3764\u001b[1;33m             \u001b[0mvalue\u001b[0m \u001b[1;33m=\u001b[0m \u001b[0msanitize_index\u001b[0m\u001b[1;33m(\u001b[0m\u001b[0mvalue\u001b[0m\u001b[1;33m,\u001b[0m \u001b[0mself\u001b[0m\u001b[1;33m.\u001b[0m\u001b[0mindex\u001b[0m\u001b[1;33m)\u001b[0m\u001b[1;33m\u001b[0m\u001b[1;33m\u001b[0m\u001b[0m\n\u001b[0m\u001b[0;32m   3765\u001b[0m             \u001b[1;32mif\u001b[0m \u001b[1;32mnot\u001b[0m \u001b[0misinstance\u001b[0m\u001b[1;33m(\u001b[0m\u001b[0mvalue\u001b[0m\u001b[1;33m,\u001b[0m \u001b[1;33m(\u001b[0m\u001b[0mnp\u001b[0m\u001b[1;33m.\u001b[0m\u001b[0mndarray\u001b[0m\u001b[1;33m,\u001b[0m \u001b[0mIndex\u001b[0m\u001b[1;33m)\u001b[0m\u001b[1;33m)\u001b[0m\u001b[1;33m:\u001b[0m\u001b[1;33m\u001b[0m\u001b[1;33m\u001b[0m\u001b[0m\n\u001b[0;32m   3766\u001b[0m                 \u001b[1;32mif\u001b[0m \u001b[0misinstance\u001b[0m\u001b[1;33m(\u001b[0m\u001b[0mvalue\u001b[0m\u001b[1;33m,\u001b[0m \u001b[0mlist\u001b[0m\u001b[1;33m)\u001b[0m \u001b[1;32mand\u001b[0m \u001b[0mlen\u001b[0m\u001b[1;33m(\u001b[0m\u001b[0mvalue\u001b[0m\u001b[1;33m)\u001b[0m \u001b[1;33m>\u001b[0m \u001b[1;36m0\u001b[0m\u001b[1;33m:\u001b[0m\u001b[1;33m\u001b[0m\u001b[1;33m\u001b[0m\u001b[0m\n",
      "\u001b[1;32mD:\\downloads\\lib\\site-packages\\pandas\\core\\internals\\construction.py\u001b[0m in \u001b[0;36msanitize_index\u001b[1;34m(data, index)\u001b[0m\n\u001b[0;32m    745\u001b[0m     \"\"\"\n\u001b[0;32m    746\u001b[0m     \u001b[1;32mif\u001b[0m \u001b[0mlen\u001b[0m\u001b[1;33m(\u001b[0m\u001b[0mdata\u001b[0m\u001b[1;33m)\u001b[0m \u001b[1;33m!=\u001b[0m \u001b[0mlen\u001b[0m\u001b[1;33m(\u001b[0m\u001b[0mindex\u001b[0m\u001b[1;33m)\u001b[0m\u001b[1;33m:\u001b[0m\u001b[1;33m\u001b[0m\u001b[1;33m\u001b[0m\u001b[0m\n\u001b[1;32m--> 747\u001b[1;33m         raise ValueError(\n\u001b[0m\u001b[0;32m    748\u001b[0m             \u001b[1;34m\"Length of values \"\u001b[0m\u001b[1;33m\u001b[0m\u001b[1;33m\u001b[0m\u001b[0m\n\u001b[0;32m    749\u001b[0m             \u001b[1;34mf\"({len(data)}) \"\u001b[0m\u001b[1;33m\u001b[0m\u001b[1;33m\u001b[0m\u001b[0m\n",
      "\u001b[1;31mValueError\u001b[0m: Length of values (98) does not match length of index (100)"
     ]
    }
   ],
   "source": [
    "Flipkart_Sunglasses = pd.DataFrame({})\n",
    "Flipkart_Sunglasses['Brand'] = brand_name\n",
    "Flipkart_Sunglasses['Description'] = description\n",
    "Flipkart_Sunglasses['Price'] = final_price\n",
    "Flipkart_Sunglasses['Discount'] = discount_per\n",
    "Flipkart_Sunglasses"
   ]
  },
  {
   "cell_type": "code",
   "execution_count": null,
   "metadata": {},
   "outputs": [],
   "source": []
  },
  {
   "cell_type": "markdown",
   "metadata": {},
   "source": [
    "## 7."
   ]
  },
  {
   "cell_type": "code",
   "execution_count": 254,
   "metadata": {},
   "outputs": [],
   "source": [
    "driver = webdriver.Chrome('chromedriver.exe')"
   ]
  },
  {
   "cell_type": "code",
   "execution_count": 255,
   "metadata": {},
   "outputs": [],
   "source": [
    "url = 'https://www.flipkart.com/apple-iphone-11-black-64-gb-includes-earpods-power-adapter/p/itm0f37c2240b217?pid=MOBFKCTSVZAXUHGR&lid=LSTMOBFKCTSVZAXUHGREPBFGI&marketplace'\n",
    "driver.get(url)"
   ]
  },
  {
   "cell_type": "code",
   "execution_count": 257,
   "metadata": {},
   "outputs": [],
   "source": [
    "all_rev = driver.find_element_by_xpath(\"//div[@class='_3UAT2v _16PBlm']\")\n",
    "all_rev.click()"
   ]
  },
  {
   "cell_type": "code",
   "execution_count": 258,
   "metadata": {},
   "outputs": [
    {
     "data": {
      "text/plain": [
       "['5', '5', '5', '5', '5', '5', '4', '5', '5', '5']"
      ]
     },
     "execution_count": 258,
     "metadata": {},
     "output_type": "execute_result"
    }
   ],
   "source": [
    "rating = []\n",
    "rating_url = driver.find_elements_by_xpath(\"//div[@class='_3LWZlK _1BLPMq']\")\n",
    "for i in rating_url[0:100]:\n",
    "    try:\n",
    "        rating.append(i.text)\n",
    "    except:\n",
    "        rating.append('nan')\n",
    "rating"
   ]
  },
  {
   "cell_type": "code",
   "execution_count": 268,
   "metadata": {},
   "outputs": [
    {
     "data": {
      "text/plain": [
       "['https://www.flipkart.com/apple-iphone-11-black-64-gb-includes-earpods-power-adapter/product-reviews/itm0f37c2240b217?pid=MOBFKCTSVZAXUHGR&lid=LSTMOBFKCTSVZAXUHGREPBFGI&marketplace=FLIPKART&page=1',\n",
       " 'https://www.flipkart.com/apple-iphone-11-black-64-gb-includes-earpods-power-adapter/product-reviews/itm0f37c2240b217?pid=MOBFKCTSVZAXUHGR&lid=LSTMOBFKCTSVZAXUHGREPBFGI&marketplace=FLIPKART&page=1',\n",
       " 'https://www.flipkart.com/apple-iphone-11-black-64-gb-includes-earpods-power-adapter/product-reviews/itm0f37c2240b217?pid=MOBFKCTSVZAXUHGR&lid=LSTMOBFKCTSVZAXUHGREPBFGI&marketplace=FLIPKART&page=2',\n",
       " 'https://www.flipkart.com/apple-iphone-11-black-64-gb-includes-earpods-power-adapter/product-reviews/itm0f37c2240b217?pid=MOBFKCTSVZAXUHGR&lid=LSTMOBFKCTSVZAXUHGREPBFGI&marketplace=FLIPKART&page=3',\n",
       " 'https://www.flipkart.com/apple-iphone-11-black-64-gb-includes-earpods-power-adapter/product-reviews/itm0f37c2240b217?pid=MOBFKCTSVZAXUHGR&lid=LSTMOBFKCTSVZAXUHGREPBFGI&marketplace=FLIPKART&page=4',\n",
       " 'https://www.flipkart.com/apple-iphone-11-black-64-gb-includes-earpods-power-adapter/product-reviews/itm0f37c2240b217?pid=MOBFKCTSVZAXUHGR&lid=LSTMOBFKCTSVZAXUHGREPBFGI&marketplace=FLIPKART&page=5',\n",
       " 'https://www.flipkart.com/apple-iphone-11-black-64-gb-includes-earpods-power-adapter/product-reviews/itm0f37c2240b217?pid=MOBFKCTSVZAXUHGR&lid=LSTMOBFKCTSVZAXUHGREPBFGI&marketplace=FLIPKART&page=6',\n",
       " 'https://www.flipkart.com/apple-iphone-11-black-64-gb-includes-earpods-power-adapter/product-reviews/itm0f37c2240b217?pid=MOBFKCTSVZAXUHGR&lid=LSTMOBFKCTSVZAXUHGREPBFGI&marketplace=FLIPKART&page=7',\n",
       " 'https://www.flipkart.com/apple-iphone-11-black-64-gb-includes-earpods-power-adapter/product-reviews/itm0f37c2240b217?pid=MOBFKCTSVZAXUHGR&lid=LSTMOBFKCTSVZAXUHGREPBFGI&marketplace=FLIPKART&page=8',\n",
       " 'https://www.flipkart.com/apple-iphone-11-black-64-gb-includes-earpods-power-adapter/product-reviews/itm0f37c2240b217?pid=MOBFKCTSVZAXUHGR&lid=LSTMOBFKCTSVZAXUHGREPBFGI&marketplace=FLIPKART&page=9',\n",
       " 'https://www.flipkart.com/apple-iphone-11-black-64-gb-includes-earpods-power-adapter/product-reviews/itm0f37c2240b217?pid=MOBFKCTSVZAXUHGR&lid=LSTMOBFKCTSVZAXUHGREPBFGI&marketplace=FLIPKART&page=10',\n",
       " 'https://www.flipkart.com/apple-iphone-11-black-64-gb-includes-earpods-power-adapter/product-reviews/itm0f37c2240b217?pid=MOBFKCTSVZAXUHGR&lid=LSTMOBFKCTSVZAXUHGREPBFGI&marketplace=FLIPKART&page=3']"
      ]
     },
     "execution_count": 268,
     "metadata": {},
     "output_type": "execute_result"
    }
   ],
   "source": [
    "page_url=[]\n",
    "next_page= driver.find_elements_by_xpath(\"//nav[@class='yFHi8N']//a\")\n",
    "for i in next_page:\n",
    "    page_url.append(i.get_attribute('href'))\n",
    "page_url"
   ]
  },
  {
   "cell_type": "code",
   "execution_count": 275,
   "metadata": {},
   "outputs": [
    {
     "data": {
      "text/plain": [
       "['5',\n",
       " '5',\n",
       " '5',\n",
       " '5',\n",
       " '5',\n",
       " '5',\n",
       " '4',\n",
       " '5',\n",
       " '5',\n",
       " '5',\n",
       " '5',\n",
       " '5',\n",
       " '5',\n",
       " '5',\n",
       " '5',\n",
       " '5',\n",
       " '4',\n",
       " '5',\n",
       " '5',\n",
       " '5',\n",
       " '5',\n",
       " '5',\n",
       " '5',\n",
       " '5',\n",
       " '5',\n",
       " '5',\n",
       " '5',\n",
       " '5',\n",
       " '4',\n",
       " '5',\n",
       " '5',\n",
       " '5',\n",
       " '5',\n",
       " '4',\n",
       " '5',\n",
       " '5',\n",
       " '5',\n",
       " '5',\n",
       " '5',\n",
       " '5',\n",
       " '5',\n",
       " '5',\n",
       " '5',\n",
       " '4',\n",
       " '5',\n",
       " '5',\n",
       " '5',\n",
       " '5',\n",
       " '5',\n",
       " '5',\n",
       " '5',\n",
       " '5',\n",
       " '5',\n",
       " '5',\n",
       " '4',\n",
       " '5',\n",
       " '5',\n",
       " '5',\n",
       " '5',\n",
       " '5',\n",
       " '5',\n",
       " '5',\n",
       " '5',\n",
       " '5',\n",
       " '5',\n",
       " '5',\n",
       " '5',\n",
       " '5',\n",
       " '5',\n",
       " '5',\n",
       " '5',\n",
       " '5',\n",
       " '4',\n",
       " '5',\n",
       " '5',\n",
       " '4',\n",
       " '5',\n",
       " '4',\n",
       " '5',\n",
       " '5',\n",
       " '5',\n",
       " '5',\n",
       " '5',\n",
       " '5',\n",
       " '4',\n",
       " '5',\n",
       " '5',\n",
       " '5',\n",
       " '5',\n",
       " '4',\n",
       " '5',\n",
       " '5',\n",
       " '5',\n",
       " '5',\n",
       " '5',\n",
       " '3',\n",
       " '4',\n",
       " '3']"
      ]
     },
     "execution_count": 275,
     "metadata": {},
     "output_type": "execute_result"
    }
   ],
   "source": [
    "rating = []\n",
    "for i in page_url[0:10]:\n",
    "    driver.get(i)\n",
    "    ratings=driver.find_elements_by_xpath(\"//div[@class='_3LWZlK _1BLPMq']\")\n",
    "    for i in ratings:\n",
    "        try:\n",
    "            rating.append(i.text)\n",
    "        except:\n",
    "            rating.append('nan')\n",
    "rating"
   ]
  },
  {
   "cell_type": "code",
   "execution_count": 276,
   "metadata": {},
   "outputs": [
    {
     "data": {
      "text/plain": [
       "98"
      ]
     },
     "execution_count": 276,
     "metadata": {},
     "output_type": "execute_result"
    }
   ],
   "source": [
    "len(rating)"
   ]
  },
  {
   "cell_type": "code",
   "execution_count": 277,
   "metadata": {},
   "outputs": [
    {
     "data": {
      "text/plain": [
       "['Brilliant',\n",
       " 'Perfect product!',\n",
       " 'Simply awesome',\n",
       " 'Fabulous!',\n",
       " 'Worth every penny',\n",
       " 'Great product',\n",
       " 'Good choice',\n",
       " 'Worth every penny',\n",
       " 'Highly recommended',\n",
       " 'Perfect product!',\n",
       " 'Brilliant',\n",
       " 'Perfect product!',\n",
       " 'Simply awesome',\n",
       " 'Fabulous!',\n",
       " 'Worth every penny',\n",
       " 'Great product',\n",
       " 'Good choice',\n",
       " 'Worth every penny',\n",
       " 'Highly recommended',\n",
       " 'Perfect product!',\n",
       " 'Perfect product!',\n",
       " 'Worth every penny',\n",
       " 'Perfect product!',\n",
       " 'Highly recommended',\n",
       " 'Worth every penny',\n",
       " 'Simply awesome',\n",
       " 'Terrific',\n",
       " 'Highly recommended',\n",
       " 'Nice product',\n",
       " 'Wonderful',\n",
       " 'Classy product',\n",
       " 'Classy product',\n",
       " 'Brilliant',\n",
       " 'Good choice',\n",
       " 'Must buy!',\n",
       " 'Perfect product!',\n",
       " 'Terrific purchase',\n",
       " 'Wonderful',\n",
       " 'Simply awesome',\n",
       " 'Great product',\n",
       " 'Mind-blowing purchase',\n",
       " 'Terrific purchase',\n",
       " 'Simply awesome',\n",
       " 'Good quality product',\n",
       " 'Very poor',\n",
       " 'Best in the market!',\n",
       " 'Perfect product!',\n",
       " 'Must buy!',\n",
       " 'Fabulous!',\n",
       " 'Mind-blowing purchase',\n",
       " 'Mind-blowing purchase',\n",
       " 'Wonderful',\n",
       " 'Worth every penny',\n",
       " 'Great product',\n",
       " 'Just wow!',\n",
       " 'Very Good',\n",
       " 'Perfect product!',\n",
       " 'Classy product',\n",
       " 'Perfect product!',\n",
       " 'Just wow!',\n",
       " 'Awesome',\n",
       " 'Terrific',\n",
       " 'Terrific purchase',\n",
       " 'Awesome',\n",
       " 'Perfect product!',\n",
       " 'Brilliant',\n",
       " 'Perfect product!',\n",
       " 'Awesome',\n",
       " 'Perfect product!',\n",
       " 'Excellent',\n",
       " 'Not recommended at all',\n",
       " 'Fabulous!',\n",
       " 'Excellent',\n",
       " 'Must buy!',\n",
       " 'Value-for-money',\n",
       " 'Brilliant',\n",
       " 'Terrific purchase',\n",
       " 'Good quality product',\n",
       " 'Perfect product!',\n",
       " 'Value-for-money',\n",
       " 'Just wow!',\n",
       " 'Super!',\n",
       " 'Best in the market!',\n",
       " 'Mind-blowing purchase',\n",
       " 'Excellent',\n",
       " 'Excellent',\n",
       " 'Pretty good',\n",
       " 'Must buy!',\n",
       " 'Worth every penny',\n",
       " 'Awesome',\n",
       " 'Mind-blowing purchase',\n",
       " 'Good quality product',\n",
       " 'Fabulous!',\n",
       " 'Super!',\n",
       " 'Awesome',\n",
       " 'Terrific purchase',\n",
       " 'Awesome',\n",
       " 'Decent product',\n",
       " 'Pretty good',\n",
       " 'Does the job']"
      ]
     },
     "execution_count": 277,
     "metadata": {},
     "output_type": "execute_result"
    }
   ],
   "source": [
    "review = []\n",
    "for i in page_url[0:10]:\n",
    "    driver.get(i)\n",
    "    reviews=driver.find_elements_by_xpath(\"//p[@class='_2-N8zT']\")\n",
    "    for i in reviews:\n",
    "        try:\n",
    "            review.append(i.text)\n",
    "        except:\n",
    "            review.append('nan')\n",
    "review"
   ]
  },
  {
   "cell_type": "code",
   "execution_count": 278,
   "metadata": {},
   "outputs": [
    {
     "data": {
      "text/plain": [
       "100"
      ]
     },
     "execution_count": 278,
     "metadata": {},
     "output_type": "execute_result"
    }
   ],
   "source": [
    "len(review)"
   ]
  },
  {
   "cell_type": "code",
   "execution_count": 280,
   "metadata": {},
   "outputs": [
    {
     "data": {
      "text/plain": [
       "['The Best Phone for the Money\\n\\nThe iPhone 11 offers superb cameras, a more durable design and excellent battery life for an affordable price.\\n\\nCompelling ultra-wide camera\\nNew Night mode is excellent\\nLong battery life',\n",
       " 'Amazing phone with great cameras and better battery which gives you the best performance. I just love the camera .',\n",
       " 'Really satisfied with the Product I received... It’s totally genuine and the packaging was also really good so if ur planning to buy just go for it.',\n",
       " 'This is my first iOS phone. I am very happy with this product. Very much satisfied with this. I love this phone.',\n",
       " 'Previously I was using one plus 3t it was a great phone\\nAnd then I decided to upgrade I am stuck between Samsung s10 plus or iPhone 11\\nI have seen the specs and everything were good except the display it’s somewhere between 720-1080 and it’s not even an amoled it’s an LCD display\\nBut I decided to go with iPhone because I have never used an IOS device I have Been an android user from the past 9 years I ordered IPhone 11 (128gb) product red\\nMy experience after using 3 weeks\\n1. The delivery ...\\nREAD MORE',\n",
       " 'Amazing Powerful and Durable Gadget.\\n\\nI’m am very happy with the camera picture quality, Amazing face id unlocked in dark room, Strong battery with perfect screen size as you can carry easily in pocket. This is my third iPhone.\\n\\nI shifted from android Samsung Note series to iPhone because of the strong build quality and peace of mind for next 3-4 years.\\n\\nDon’t think to much just go for it and I suggest you to go for minimum 128gb variant or more 256gb.\\n\\nI’ve attached my puppy pics and no fi...\\nREAD MORE',\n",
       " 'So far it’s been an AMAZING experience coming back to iOS after nearly a decade but it’s not as versatile as android though phone is sturdy dropped it accidentally a couple of times and nothing happened fortunately camera is awesome',\n",
       " 'i11 is worthy to buy, too much happy with the product. Thank u flipkart I received the item on time..loved it..',\n",
       " 'iphone 11 is a very good phone to buy only if you can compromise for the display. The display on this is device is pretty good but you can get other options with better displays in this price segment.\\nIf you can survive with an HD+ LCD panel with thicker bezels and a notch up top then this is a very good phone for you.\\nCameras are awesome, battery backup excellent, great performance and a decent premium look. Good job Apple !',\n",
       " 'It’s a must buy who is looking for an upgrade from previous generation of iPhones. If you are using XR then still you can hold on for sometime and upgrade to 2020 model else this phone is a must buy . Camera quality is amazing and wide angle is something to count upon. Performance wise it’s amazing and feels premium while holding in hand. So a big YES for this device. Go for 128 GB variant as the 4K videos will occupy lots of space and the storage can get over very quickly. Try to buy it with...\\nREAD MORE',\n",
       " 'The Best Phone for the Money\\n\\nThe iPhone 11 offers superb cameras, a more durable design and excellent battery life for an affordable price.\\n\\nCompelling ultra-wide camera\\nNew Night mode is excellent\\nLong battery life',\n",
       " 'Amazing phone with great cameras and better battery which gives you the best performance. I just love the camera .',\n",
       " 'Really satisfied with the Product I received... It’s totally genuine and the packaging was also really good so if ur planning to buy just go for it.',\n",
       " 'This is my first iOS phone. I am very happy with this product. Very much satisfied with this. I love this phone.',\n",
       " 'Previously I was using one plus 3t it was a great phone\\nAnd then I decided to upgrade I am stuck between Samsung s10 plus or iPhone 11\\nI have seen the specs and everything were good except the display it’s somewhere between 720-1080 and it’s not even an amoled it’s an LCD display\\nBut I decided to go with iPhone because I have never used an IOS device I have Been an android user from the past 9 years I ordered IPhone 11 (128gb) product red\\nMy experience after using 3 weeks\\n1. The delivery ...\\nREAD MORE',\n",
       " 'Amazing Powerful and Durable Gadget.\\n\\nI’m am very happy with the camera picture quality, Amazing face id unlocked in dark room, Strong battery with perfect screen size as you can carry easily in pocket. This is my third iPhone.\\n\\nI shifted from android Samsung Note series to iPhone because of the strong build quality and peace of mind for next 3-4 years.\\n\\nDon’t think to much just go for it and I suggest you to go for minimum 128gb variant or more 256gb.\\n\\nI’ve attached my puppy pics and no fi...\\nREAD MORE',\n",
       " 'So far it’s been an AMAZING experience coming back to iOS after nearly a decade but it’s not as versatile as android though phone is sturdy dropped it accidentally a couple of times and nothing happened fortunately camera is awesome',\n",
       " 'i11 is worthy to buy, too much happy with the product. Thank u flipkart I received the item on time..loved it..',\n",
       " 'iphone 11 is a very good phone to buy only if you can compromise for the display. The display on this is device is pretty good but you can get other options with better displays in this price segment.\\nIf you can survive with an HD+ LCD panel with thicker bezels and a notch up top then this is a very good phone for you.\\nCameras are awesome, battery backup excellent, great performance and a decent premium look. Good job Apple !',\n",
       " 'It’s a must buy who is looking for an upgrade from previous generation of iPhones. If you are using XR then still you can hold on for sometime and upgrade to 2020 model else this phone is a must buy . Camera quality is amazing and wide angle is something to count upon. Performance wise it’s amazing and feels premium while holding in hand. So a big YES for this device. Go for 128 GB variant as the 4K videos will occupy lots of space and the storage can get over very quickly. Try to buy it with...\\nREAD MORE',\n",
       " 'Value for money❤️❤️\\nIts awesome mobile phone in the world ...\\nDisplay was very good and bright ..\\nTrust me freinds you r never regret after Buying..\\nJust go for it....\\nI love this phone and i switch to iphone x to 11',\n",
       " 'Best budget Iphone till date ❤️ go for it guys without second thought. Let me explain you guys about Camera, Display, battery, and performance.\\n\\nCamera: at this price range there is no comparison of camera, you’ll love the picture quality as well as video quality. I am a Vlogger I wanted an iPhone with 4k video by front camera and I got this phone and I am more than happy 😃\\n\\nBattery: I use this phone roughly as I am active social media person and I have a youtube channel. so the battery ba...\\nREAD MORE',\n",
       " \"Iphone is just awesome.. battery backup is very very nice.. continuously for 10 hours we can use it.camera is just awesome.. display is just fab.i love it alot..i had to wait 15 days for it as i pre ordered it..overalll it's worth the price..these all images are clicked by my iPhone..and i love it.\",\n",
       " 'What a camera .....just awesome ..you can feel this iPhone just awesome . Good for gaming also ...try pubg in hd it’s just wow',\n",
       " 'It’s been almost a month since I have been using this phone. I upgraded from an iPhone 8. The main issue with my 8 was battery and this phone is just awesome when it comes to battery. It lasts a day and a half for me with my regular use , internet connected always with 4g\\nCan’t move forward without saying this. Battery of this phone is a life saver when I am traveling or at work when I don’t get the option to charge\\nCamera is superb. Front cam selfies and back cam photos are just awesome.\\n...\\nREAD MORE',\n",
       " 'Excellent camera, good performance, no lag. The lcd display is also good.. but difference come when we watch movie in prime and Netflix, the colours are not vibrant.. as we see in amoled display.. and the charger in box is of 5 watts.. takes more than 3 hours to charge from 0 to 100.. so guys be prepare to buy 18 watts charger . Finally I am an android user, it was my first Iapple phone, I promise u guys the iOS is so smooth.. overall the phone is damn good.... close eyes to buy it.. thanks t...\\nREAD MORE',\n",
       " 'Really worth of money. i just love it. It is the best phone ever.',\n",
       " \"It's my first time to use iOS phone and I am loving my upgradation 😍😍 I love the color, I love the assebility of the phone....I need to learn more about its functionality, but as far as I have seen, it's quite easy and it has a lot of functions to work on, specially if you are a content writer or a blogger you get a lot of content creation platforms and they are really amazing.\\n\\nThis phone not only for good quality photography but a lot of other task too.😍💯\",\n",
       " 'Awesome Phone. Slightly high price but worth. Better than iPhone XR.\\nCamera is superb and wide angle camera is very clear.\\n12MP selfie camera is also very good.\\nA13 Chip gives a very good and smooth performance.',\n",
       " 'This is my first ever I phone. Before this I was using my google nexus 5. But moving from android to iOS is a great experience. It’s worth at this price. I will highly recommend it if you want to move to iOS. The best part of this phone is it’s camera and it’s battery life. This two things have won my heart. I loved it. Happy to have it in my hand. Still exploring its features. And can’t forget to mention Flipkart service. Very prompt service and fast delivery.',\n",
       " 'Totally in love with this ❤ the camera quality is amazing just love it 😘😘😘 itsss dammnnnnnn amazing... Must buy iPhone 11 this is my best experience ever ☀👌👌🧡🧡🧡🧡🧡 thanku apple ❤',\n",
       " 'Superb Product !!!\\nA big and worthy upgrade from mi 3S to iphone 11 .\\nTotally loved it !',\n",
       " 'I have migrated from OP 7pro... and trust me, iPhone 11 is totally worth it.. following are the reasons:-\\n1)there is ABSOLUTELY NO ISSUE WITH THE DISPLAY... its crisp, sharp and I found it to be much much better than OP7 pro. Netflix, Prime video all run crisply... you won’t miss a thing. True Tone works flawlessly...the display brightness is perfect. OP have not calibrated their screens properly.\\n2) iPhone 11 series have really good cameras... others have spoken in depth about them.\\n3) bat...\\nREAD MORE',\n",
       " 'Looking so good 👍 😍 super 👌 stylish 😎 phone\\nClean box 📦 good 👍 delivery 👌 fast delivery\\nOriginal box Original iphone 📱 👌 😍😍😍',\n",
       " 'It’s an amazing product from apple and the camera is simply superb. Phone is faster.Night shot is simply superb and detailing and colour differentiation from camera is an added advantage\\n\\nThis review I have written from iPhone 11 only and I am glad to say outside.\\n\\nCons wise if we see HD+ display only, no battery percentage indicator as in older iPhone 8.\\nNo assistive touch control button in it\\nNo oleophobic coating on back panel glass and finger prints are visible but since I bought mint gr...\\nREAD MORE',\n",
       " 'After 1 month use I found camera quality best compared to my previous Samsung note 10+.Display not good as note 10 also charging too slow.Apple should add fast charger like 11 plus and pro.Best phone for daily use',\n",
       " 'Upgraded from iphone 6 to 11 best phone for iphone users battery is much better than other iphones camera is awesome love to use it.camera is so clear in night.',\n",
       " 'I just directly switch from iphone 6s to iphone 11 .The best premium smartphone I recommend to everyone. Excellent quality and colors the iphone have in 11 series.\\nCamera quality is just awesome and the major feel when we hold in our hands. The sound quality and volume is also higher then the previous models.\\nI will recommend to buy iphone 11 instead of pro models , there is nothing much difference as this model contains everything which fulfill our needs.\\n\\nOnly one thing that I dislike abo...\\nREAD MORE',\n",
       " \"It's very high performances devise i am like the service of flipkart delevary very fast and packing very nice perfect phone\",\n",
       " 'Well you all know the specifications . One of a kind. Best iPhone till date. Many enhancements to the camera app with many options. Love the glass body with matte finish in the lens area on the back. Lovely colours to choose from. Best battery in an iPhone till date, enough to last more than a day in normal usage. I tested my iPhone 11 battery and lasted for than 24 hours after full charge still with 30% battery charge left. Watched movies for some time. Normal usage on calls, browsing, musi...\\nREAD MORE',\n",
       " 'This will help you more. See if you are planning to buy iPhone 11. I will say. Yes. But there are some plans I just want to disclose before you buy. 1) If you are an existing iPhone X/XS/XS Max/ XR user, better you guys do not think it to buy. You guys have more or less better gadget. 2) If you are an android user and planning to buy premium phone. I will suggest them to please buy iPhone instead of buying an Android. I bet you will never go back to android after using IOS. Now I want to shar...\\nREAD MORE',\n",
       " 'The built quality is not very premium.\\nThe battery back is great .\\nThe LCD panel is not so sharp but the brightness level is very High .\\nCamera is super duper awesome.\\nThe red colour which people think is bright is actually very soothing and excellent colour to choose from .\\nThe A13 Bionic chip is really a flagship processor and can beat any phone which even has 12 gb ram .\\nCamera module is very great and looks very stylish.',\n",
       " 'Really good actually this is my first apple product am using its really awesome performance wise excellent. Am really happy with this iphone11',\n",
       " 'it is very good at performance. Camera is best like before and very smooth response even in water. Don’t buy 12 mini buy iPhone 11 , it is far better than 12 mini believe me ! Have a nice day \\uf8ff ☺️',\n",
       " 'Reviewing again after 5 months. At the beginning the battery and performance was good but it degraded soon. Also I was facing heating issues. The mobile will heat up like a stove sometimes. You cannot even play Pubg even in low settings properly, performance is not a problem but heating is. Also if you play that game for 10 mins the brightness will be automatically down due to over heating even when the auto brightness is set to off. This will not be solved even if u manually increase the bri...\\nREAD MORE',\n",
       " 'Great iPhone very snappy experience as apple kind. Upgraded from iPhone 7.\\nPros\\n-Camera top class\\n- Battery top performed\\n-Chipset no need to say as apple kind\\n-Security as you expect from apple\\n- Display super bright industry leading colour\\naccuracy and super responsive\\n-Build quality as expect from apple sturdy\\npremium durable beautiful stylish.\\n-Os most stable os in smartphone industry\\n\\nCons\\n-No 5G\\n-Display is not based on OLED technology\\n-Charger headphones and 1 apple stic...\\nREAD MORE',\n",
       " 'It is just awesome mobile for this price from Apple,\\n\\nAfter 10 days review\\n\\nBattery enough for 1 day even 24*7 Internet will be on and mostly internet usage\\n\\nCamera is just awesome cool , android 64 MP is equal to this just 12 MP\\n\\nA13 Bionic chip will give more high performance without hanging\\n\\nAudio stereo speakers will give Dolby atoms sound with crystal clear\\n\\nVideo recording is like cinematic shots of every sec can be a 4K 60fps. Just awesome this phone\\niPhone 11 loved one',\n",
       " 'Best Apple iPhone that i have bought at a very reasonable price, camera quality is next level just awesome n of superior quality android phones not even close(RIP) to that and also battery is really good but packaging by Flipkart of iPhone was very poor of such a expensive product, firstly im bit worried about the quality of product if i purchased it through online how was the product but i think now this was mine best decision to bought it through Flipkart online because i got genuine Apple...\\nREAD MORE',\n",
       " \"I can say I'm damn impressed with iPhone 11. As they says iPhone 11 have the toughest glass ever in the smartphone which you'll find on the front and back and it's totally smooth. The fit and finish is full apple quality - there's no sense that any cheaping out has happened in the construction. Without saying it's camera features this review won't complete. The iPhone 11 has a dual camera system, consisting of a wide angle len's that's pretty much same as found on the iPhone XR last year, but...\\nREAD MORE\",\n",
       " 'Best Quality Product OF iPhone Series , Sound Quality & Camera quality is very awesome, Battery Life is very Sufficient for 24 hr Backup With Full Internet Access , I love this this Product too much , It is very fast & making me Very fast in all my daily Routine\\nHighlights;\\n1.Camera: 5 STAR\\n2.Video Recording: 5 star\\n3.Night mODE sHOOTING & Camera:4 star\\n4. Audio Quality: Awesome\\n5. Battery : 5 Star\\n6. Touch:5 Star\\n7. Processor: Very Fast\\nThe M...\\nREAD MORE',\n",
       " 'First thanks to Flipkart for this amazing deal and phone is outstanding. I upgraded from iPhone 7 and this is like very big upgrade. But the packaging was very basic I expected a good packaging as they only wrapped one layer of bubble wrap which I don’t think is enough to protect this expensive phone. And I recommend this phone and seller as well.\\n\\nAnd I’m posting this review after using it for 4 days.',\n",
       " 'Superfast delivery by Flipkart. Thanks.\\n\\n1. iPhone 11 is a pretty solid phone for the money you are paying.\\n2. All the bad reviews about the display is confusing. It’s not that bad.\\n3. I switched from a Oneplus 7t. I have no complaints about the display quality of iPhone. Yes, it’s not OLED, so, we are missing on the deep blacks. But that’s it. It is a very colour accurate display. Gets adequately bright and I could not find any pixelation.\\n4. Performance is one of the best, if not best, in ...\\nREAD MORE',\n",
       " 'Smooth like butter, camera like fantabulous, sound is crystal clear & its red color is damn attractive, i am just loving it. Must buy if you love photography.\\n\\nLucky to get it in sale, thank you Flipkart.',\n",
       " \"Again back to apple iphone after a gap of 2-3 years. It's pleasure to use iOS and the quality product by Apple. Iphone 11 still works like a beast in 2021 also. It really capable of doing day to day usage as well as hard core gaming. Battery is awesome. I'm really too much satisfied with it. Apart fto the very gorgious IPS LCD (AMOLED will be better) everything is mind boggling. Iphone💕.\",\n",
       " 'The ultimate performance\\nCamera is superb\\nThe battery backup also very good i never saw iphone gives this much of battery backup\\nIf any one wana buy iphone 11 definitely i will recommend this mobile\\nIt has the better battery and powerfull processer peak performance glorious camera and the display also 100% high quality lcd display if u had money for for 12 if u dont wana invest much money on that then go for iphone 11 it has maximum same specs only main difference between the 12 and 11 is...\\nREAD MORE',\n",
       " 'impressive super phone and best in class camera ,sound and face unlock is super fast just see and phone is unlock and fast in daily apps use',\n",
       " 'Battery backup is extraordinary, camera is decent & performance offered by A13 bionic is awsome. The display is good in practical usage like the visibility of display is very good in direct sun light compare to pro models. Iam extremely satisfied for the money I spent.',\n",
       " 'Well while switching from android to iOS the first thing you need to be careful about is that you will loose all your whatsapp chat backups as both are different operating systems. Camera clarity is awesome and though being an lcd screen clarity and resolution is good. Battery backup is also good unlike previous gen iPhone. So far the experience is good will Padre after a few months of usage.\\n\\nP.S the black is more of a dark grey shade and not jet black',\n",
       " 'In love with this iphone great performance,camera ,battery everything. Go for it have a uncompareble battery backup, no doubts in iPhone camera here You can see the picture which is shot on my iPhone In love with this iphone great performance,camera ,battery everything. Go for it have a uncompareble battery backup, no doubts in iPhone camera here You can see the picture which is shot on my iPhone In love with this iphone great performance,camera ,battery everything. Go for it have a uncompare...\\nREAD MORE',\n",
       " 'Best in class. Battery backup is good especially when you play games like Pubg COD. But it is sort of heavy when you hold in hands. Portrait mode is best to click pictures. Stage light effect is awesome. Try to click photos outside in nature because photos inside home or room will not give you the quality in any phone even in DSLR.',\n",
       " 'Very excited to have this phone. This phone has the real power unlike the android phones having SD 855 . The battery life is very good and the camera quality is excellent as comapred to redmi and other phones except google pixel. I M enjoying every single bit of it. Would recommed only if you have the budget.',\n",
       " \"I upgraded (downgraded?) from my iPhone X since the phone fell down and I didn't want to repair the screen. The box that the phone came in was super slim and I was worried that there'd be no 5W charger with it and my fears were confirmed. However, thankfully I had the 18W USB-C PD charger from Apple which I bought for my iPhone X and it worked perfectly. The charging time is as lethargic as ever though and it takes about 1:30 mins or even 2 hours depending on charge remaining. I'll list some ...\\nREAD MORE\",\n",
       " 'Its Very awesome product working and good camera quality and all about best product and also flipkart is very great deal and offer nice price',\n",
       " 'I am using this phone for 5 days and its one of the best camera out there ❤️ the screen is not oled and i am coming from iphone xs so its little bit not up to the mark i would say\\nBut overall value for money💕😍the battery back up is far better than my iphone xs and its worth in my apple ecosystem💫❤️if u are an apple User and have the eco system then go for it❤️though i will be getting the new iphone but its pretty good💫',\n",
       " 'Best and amazing product.....phone looks so premium.... battary is also good as expected .... Wide angle camera is so addictive ...if you are a IOS lover....then this phone will be the best choice for you all!!💯🔥',\n",
       " 'Excellent camera and display touching very nice and smooth very improvement against iPhone XR and new processor is very fast',\n",
       " 'Awesome purchase. Amazing phone with good battery backup. It’s a top notch device. White colour looks amazing. Phone has a few extra feature than iPhone XR. Overall, this is value for money',\n",
       " 'Always love the apple products, upgraded from old iPhone 6S plus to this after having my first baby. I just love to click baby’s photos with it. Overall I just love this phone. Battery back up is okay, sound quality is good. Haven’t tested yet waterproof yet. Only one thing I hate is apple could have given charger & headphones in box.',\n",
       " 'Value for money\\n5 star rating\\nExcellent camera\\nBattery backup full day in single charge.\\n\\nTougher and water resistant design, glossy back.\\nThe screen has excellent brightness and contrast.\\nApple A13 Bionic is the fastest smartphone chip on the planet.\\nExcellent battery life, fast charging support.\\nStereo speakers with great quality.',\n",
       " 'Amazing camera and feel super machine I am not describe my feeling but this is amazing Phone I am so lucky I have this',\n",
       " 'They are selling cheep quality items. There is a black line on the edge of the display. Waiting for the replacement..\\n\\nUpdate:today I got the replacement from flipkart.. The second one is nice and the display and camera quality is much better than the previous one.. Thanks for the support',\n",
       " 'awesome phone to have. it has got many smart features apart from mind blowing looks, camera, display, battery and sound. have fallen in love with this phone. must buy phone if you have got enough money. thanks to flipkart and apple of course..',\n",
       " 'Its a fabulous mobile look awesome performance unbeaten camera like dslr battery good i think this is a beast of mobile',\n",
       " 'Dear friends... I want to share my experience with you about this amazing I phone 11....this is my first iPhone and special things about this mobile is it has great camera, battery backup and awesome display.... I mean everything is perfect.loved it 👍👍👍',\n",
       " \"Just got this iphone 11\\nAnd it is most powerful mobile phone I have used ever\\n\\nSo,go for it if you want a phone with best specification like camera,battery backup,display, A13 bionic chip\\n\\nThat's my review about this phone but yours can be differ from me....\",\n",
       " 'Amazing phone and on great deal I received with super fast delivery by Flipkart...',\n",
       " 'finally an iPhone with very nice battery backup. update from iPhone 7 and happy to have it. camera is not up to the mark in low light but overall a recommended phone if your budget allows 😀',\n",
       " \"I'm switching this phone to oppo reno 10x zoom\\nIt's really impressive\\nRarely I'm missing smooth display touch response like oppo reno but\\nI really loved it.\\nCamera really impressive\",\n",
       " 'Worth the money’ starting first from its performance it beats out all phones , second the smoothness of camera is awesome, contrast ratio is much than expected. Price will not matter if u r a quality person, if not other phones are available with better discount',\n",
       " \"I'm Really happy with the product\\nDelivery was fast as well\\n..it was a gift for my sister and she loved it so much.\",\n",
       " 'Great iphone.\\nI am writing this review after 2 months of usage.\\nCamera is excellent, especially the nightmode\\nDisplay perfect\\nBattery backup awesome\\nSound quality very good\\nOverall Apple gives you a perfect iphone in this range.\\nReally in love with iPhone 11',\n",
       " 'Did an upgrade from 6s plus to iphone 11.\\nAo far the experience is well and good. Felt smoother than 6s plus. The camera quality is superb. Battery backup is descent. Not a heavy user, and gets power more than a day. Go for it if you need an alrounder iphone in a competitve price.',\n",
       " 'Damn this phone is a blast . Upgraded from android to ios and is a duperb experience. Battery backup is top notch and display also pretty good',\n",
       " 'awesome Phone Smooth Touch Too good Sexyy looks one word Awesome',\n",
       " \"Just go for it.\\nThis phone is really amazing. I ordered it for my wife and we click photos on this thing which are better than dslr. I own OnePlus 6t but it's camera sucks. iPhone is really amazing when it comes to camera. It's worth spending 50k on this. Cons- only display is lcd. While using u don't feel it but if u compare with other phone then u can see difference quite easily.\\nChanging from Android to iphone is bit difficult coz most of things u don't know but I liked it. Some of the a...\\nREAD MORE\",\n",
       " \"It was amazing experience for me. Honestly i am using iPhone first time so I don't have that much past experience about that. But after using 7 days this mobile i want to give some honest feedback.\\n1- Display 9 out of 10\\n2- Camera 9.5 out of 10\\n3- Battery 7 out of 10\\n4- Performance 9.5 out of 10\\n5- Features & Functions 10 out of 10\\n6- Outer looks and colour 10 out of 10\\nRest i think i will understand after using this for few months.\\nI will highly recommend you guys if you have budget then you...\\nREAD MORE\",\n",
       " \"I've used this phone for over a month now and here are my takeaways.\\nI would like to first talk about the best things about this phone and then the cons of it.\\n\\nPros:\\nThis phone is a performance beast. It handles large games and applications effortlessly and you won't find any stutters or lags while playing graphic intensive games like pubg, cod , mortal kombat and asphalt.\\n\\nThis phone has only 4gb ram and yet the ram management is amazing, it can keep 3 heavy games in memory without reload...\\nREAD MORE\",\n",
       " 'I rate this product 5* as it has got amazing user experience with the best performing A13 bionic processor. The screen responds and graphics rendering is top notch. With casual gaming and internet browsing, the battery lasts for approx. 1 day. Camera is very good. You will fall in love with the portrait mode. You can call me a loyal Apple customer or whatever but I won’t stop praising the products and overall experience. That user experience matters and is worth every penny you pay.\\n\\nBelow ar...\\nREAD MORE',\n",
       " 'Undoubtedly Iphone 11 is the most successful model till now and its performance is extraordinary and the security features are very impressive, display is more vibrant sound quality Camera Quality 5*****, but Iphone should add accessories too and act like scrooge.',\n",
       " 'I dreamt about this day from a long time.... Getting an iPhone with my own money.... Super happy and worth spending every penny',\n",
       " 'Absolutely powerful gadget. Loved it’s look! Soo glassy and classy. I would definitely recommend this model of Apple. Only disappointed with the 5W charger, one should purchase an 18W adapter for fast charging. Though battery backup is great. Bought it in September 2020, reviewing after so long so I’m gonna put the genuine review here.✅',\n",
       " 'I was torn between the oneplus 8 pro and the iphone 11. I had to shell out extra money for this, but I say if you can afford it, this truely is the best package.\\nMind blowing camera, battery and overall performance. Face Id works like magic even in complete darkness without firing up the screen brightness. The phones with in display fingerprint scanners do this at night time and it really burns your eyes.\\nI wanted the oneplus for its display but tbh the OLEDs on oneplus is really bad. Flick...\\nREAD MORE',\n",
       " 'I purchased the iPhone 11 a month back. I must say Apple has impressed me yet again . I have been an Apple user for past 5 years . The phone is power packed with amazing features . What impressed me the most was the battery backup the phone offers . Battery can easily run upto 1.5 days in single charge with moderate to\\nHeavy usage . If you’re looking for a value for money device , I don’t see any other phone in the price range which can match the iPhone 11 .\\nOne thing I didn’t like was that ...\\nREAD MORE',\n",
       " \"It's a great phone. From camera to display everything is best for the price.\\nBest camera , best performance. I think everyone should buy it . This phone has best battery life so far in iphone series which I had used earlier. Happy to have it. Thanks Flipkart\",\n",
       " 'Can’t beat the software and hardware integration of apple.\\nPerforms like a beast. Great quality camera\\n6-7 hours screen on time which is good. Nothing much to complaint about the screen. Good connectivity speeds.\\nGreat buy and Flipkart’s delivery top notch as usual',\n",
       " 'I use a Note10+ and have been using both iOS and Android devices.\\n\\nCamera has really good features and portraits are super good, better than Samsung flagship. Overall camera setup can still be enhanced and hopeful for better upgrades on software in next release\\n\\nOperating system is quite a breeze and user experience of daily usage is very high as compared to Android. I moved to iOS very swiftly in 2 days for all my office work from Note10+\\n\\nBattery holds up quite well with 4 hrs of call and ...\\nREAD MORE',\n",
       " 'The phone is completely good\\nAs far as camera Apple is king of it\\nAnd its a beast in performance\\nAnd the battery is pretty good too',\n",
       " 'Everything u ll like it when u use this iPhone. Simple changes only not many to lower models but it’s nice to use. Little heavy compared to previous models like 7,8',\n",
       " 'I was using Iphone 6s and also Oneplus 6t. Both mobiles were perfectly alright in Photos, gaming, and smooth interface . My 6s mobile getting battery issue. thought upgrade to 11. Really like this mobile of its Internal storage (compare to 6s) , camera and its touch feeling. Its a worth buying mobile for me.',\n",
       " \"phone is good but in display is 720p lcd in this price range we can get full hd OLED displays with higher refresh rate processor is very good camera is nice but looks kind of oldish in front of todays phone also there's no charging in box had to buy it seperately\"]"
      ]
     },
     "execution_count": 280,
     "metadata": {},
     "output_type": "execute_result"
    }
   ],
   "source": [
    "full_review = []\n",
    "for i in page_url[0:10]:\n",
    "    driver.get(i)\n",
    "    reviews_f=driver.find_elements_by_xpath(\"//div[@class='t-ZTKy']\")\n",
    "    for i in reviews_f:\n",
    "        try:\n",
    "            full_review.append(i.text)\n",
    "        except:\n",
    "            full_review.append('nan')\n",
    "full_review"
   ]
  },
  {
   "cell_type": "code",
   "execution_count": 281,
   "metadata": {},
   "outputs": [
    {
     "data": {
      "text/plain": [
       "100"
      ]
     },
     "execution_count": 281,
     "metadata": {},
     "output_type": "execute_result"
    }
   ],
   "source": [
    "len(full_review)"
   ]
  },
  {
   "cell_type": "code",
   "execution_count": 284,
   "metadata": {},
   "outputs": [
    {
     "ename": "ValueError",
     "evalue": "Length of values (100) does not match length of index (98)",
     "output_type": "error",
     "traceback": [
      "\u001b[1;31m---------------------------------------------------------------------------\u001b[0m",
      "\u001b[1;31mValueError\u001b[0m                                Traceback (most recent call last)",
      "\u001b[1;32m<ipython-input-284-ff5e7e69900e>\u001b[0m in \u001b[0;36m<module>\u001b[1;34m\u001b[0m\n\u001b[0;32m      1\u001b[0m \u001b[0mIphone_Reviews\u001b[0m \u001b[1;33m=\u001b[0m \u001b[0mpd\u001b[0m\u001b[1;33m.\u001b[0m\u001b[0mDataFrame\u001b[0m\u001b[1;33m(\u001b[0m\u001b[1;33m{\u001b[0m\u001b[1;33m}\u001b[0m\u001b[1;33m)\u001b[0m\u001b[1;33m\u001b[0m\u001b[1;33m\u001b[0m\u001b[0m\n\u001b[0;32m      2\u001b[0m \u001b[0mIphone_Reviews\u001b[0m\u001b[1;33m[\u001b[0m\u001b[1;34m'Ratings'\u001b[0m\u001b[1;33m]\u001b[0m \u001b[1;33m=\u001b[0m \u001b[0mrating\u001b[0m\u001b[1;33m\u001b[0m\u001b[1;33m\u001b[0m\u001b[0m\n\u001b[1;32m----> 3\u001b[1;33m \u001b[0mIphone_Reviews\u001b[0m\u001b[1;33m[\u001b[0m\u001b[1;34m'Short_Review'\u001b[0m\u001b[1;33m]\u001b[0m \u001b[1;33m=\u001b[0m \u001b[0mreview\u001b[0m\u001b[1;33m\u001b[0m\u001b[1;33m\u001b[0m\u001b[0m\n\u001b[0m\u001b[0;32m      4\u001b[0m \u001b[0mIphone_Reviews\u001b[0m\u001b[1;33m[\u001b[0m\u001b[1;34m'Full_review'\u001b[0m\u001b[1;33m]\u001b[0m \u001b[1;33m=\u001b[0m \u001b[0mfull_review\u001b[0m\u001b[1;33m\u001b[0m\u001b[1;33m\u001b[0m\u001b[0m\n\u001b[0;32m      5\u001b[0m \u001b[0mIphone_Reviews\u001b[0m\u001b[1;33m\u001b[0m\u001b[1;33m\u001b[0m\u001b[0m\n",
      "\u001b[1;32mD:\\downloads\\lib\\site-packages\\pandas\\core\\frame.py\u001b[0m in \u001b[0;36m__setitem__\u001b[1;34m(self, key, value)\u001b[0m\n\u001b[0;32m   3038\u001b[0m         \u001b[1;32melse\u001b[0m\u001b[1;33m:\u001b[0m\u001b[1;33m\u001b[0m\u001b[1;33m\u001b[0m\u001b[0m\n\u001b[0;32m   3039\u001b[0m             \u001b[1;31m# set column\u001b[0m\u001b[1;33m\u001b[0m\u001b[1;33m\u001b[0m\u001b[1;33m\u001b[0m\u001b[0m\n\u001b[1;32m-> 3040\u001b[1;33m             \u001b[0mself\u001b[0m\u001b[1;33m.\u001b[0m\u001b[0m_set_item\u001b[0m\u001b[1;33m(\u001b[0m\u001b[0mkey\u001b[0m\u001b[1;33m,\u001b[0m \u001b[0mvalue\u001b[0m\u001b[1;33m)\u001b[0m\u001b[1;33m\u001b[0m\u001b[1;33m\u001b[0m\u001b[0m\n\u001b[0m\u001b[0;32m   3041\u001b[0m \u001b[1;33m\u001b[0m\u001b[0m\n\u001b[0;32m   3042\u001b[0m     \u001b[1;32mdef\u001b[0m \u001b[0m_setitem_slice\u001b[0m\u001b[1;33m(\u001b[0m\u001b[0mself\u001b[0m\u001b[1;33m,\u001b[0m \u001b[0mkey\u001b[0m\u001b[1;33m:\u001b[0m \u001b[0mslice\u001b[0m\u001b[1;33m,\u001b[0m \u001b[0mvalue\u001b[0m\u001b[1;33m)\u001b[0m\u001b[1;33m:\u001b[0m\u001b[1;33m\u001b[0m\u001b[1;33m\u001b[0m\u001b[0m\n",
      "\u001b[1;32mD:\\downloads\\lib\\site-packages\\pandas\\core\\frame.py\u001b[0m in \u001b[0;36m_set_item\u001b[1;34m(self, key, value)\u001b[0m\n\u001b[0;32m   3114\u001b[0m         \"\"\"\n\u001b[0;32m   3115\u001b[0m         \u001b[0mself\u001b[0m\u001b[1;33m.\u001b[0m\u001b[0m_ensure_valid_index\u001b[0m\u001b[1;33m(\u001b[0m\u001b[0mvalue\u001b[0m\u001b[1;33m)\u001b[0m\u001b[1;33m\u001b[0m\u001b[1;33m\u001b[0m\u001b[0m\n\u001b[1;32m-> 3116\u001b[1;33m         \u001b[0mvalue\u001b[0m \u001b[1;33m=\u001b[0m \u001b[0mself\u001b[0m\u001b[1;33m.\u001b[0m\u001b[0m_sanitize_column\u001b[0m\u001b[1;33m(\u001b[0m\u001b[0mkey\u001b[0m\u001b[1;33m,\u001b[0m \u001b[0mvalue\u001b[0m\u001b[1;33m)\u001b[0m\u001b[1;33m\u001b[0m\u001b[1;33m\u001b[0m\u001b[0m\n\u001b[0m\u001b[0;32m   3117\u001b[0m         \u001b[0mNDFrame\u001b[0m\u001b[1;33m.\u001b[0m\u001b[0m_set_item\u001b[0m\u001b[1;33m(\u001b[0m\u001b[0mself\u001b[0m\u001b[1;33m,\u001b[0m \u001b[0mkey\u001b[0m\u001b[1;33m,\u001b[0m \u001b[0mvalue\u001b[0m\u001b[1;33m)\u001b[0m\u001b[1;33m\u001b[0m\u001b[1;33m\u001b[0m\u001b[0m\n\u001b[0;32m   3118\u001b[0m \u001b[1;33m\u001b[0m\u001b[0m\n",
      "\u001b[1;32mD:\\downloads\\lib\\site-packages\\pandas\\core\\frame.py\u001b[0m in \u001b[0;36m_sanitize_column\u001b[1;34m(self, key, value, broadcast)\u001b[0m\n\u001b[0;32m   3762\u001b[0m \u001b[1;33m\u001b[0m\u001b[0m\n\u001b[0;32m   3763\u001b[0m             \u001b[1;31m# turn me into an ndarray\u001b[0m\u001b[1;33m\u001b[0m\u001b[1;33m\u001b[0m\u001b[1;33m\u001b[0m\u001b[0m\n\u001b[1;32m-> 3764\u001b[1;33m             \u001b[0mvalue\u001b[0m \u001b[1;33m=\u001b[0m \u001b[0msanitize_index\u001b[0m\u001b[1;33m(\u001b[0m\u001b[0mvalue\u001b[0m\u001b[1;33m,\u001b[0m \u001b[0mself\u001b[0m\u001b[1;33m.\u001b[0m\u001b[0mindex\u001b[0m\u001b[1;33m)\u001b[0m\u001b[1;33m\u001b[0m\u001b[1;33m\u001b[0m\u001b[0m\n\u001b[0m\u001b[0;32m   3765\u001b[0m             \u001b[1;32mif\u001b[0m \u001b[1;32mnot\u001b[0m \u001b[0misinstance\u001b[0m\u001b[1;33m(\u001b[0m\u001b[0mvalue\u001b[0m\u001b[1;33m,\u001b[0m \u001b[1;33m(\u001b[0m\u001b[0mnp\u001b[0m\u001b[1;33m.\u001b[0m\u001b[0mndarray\u001b[0m\u001b[1;33m,\u001b[0m \u001b[0mIndex\u001b[0m\u001b[1;33m)\u001b[0m\u001b[1;33m)\u001b[0m\u001b[1;33m:\u001b[0m\u001b[1;33m\u001b[0m\u001b[1;33m\u001b[0m\u001b[0m\n\u001b[0;32m   3766\u001b[0m                 \u001b[1;32mif\u001b[0m \u001b[0misinstance\u001b[0m\u001b[1;33m(\u001b[0m\u001b[0mvalue\u001b[0m\u001b[1;33m,\u001b[0m \u001b[0mlist\u001b[0m\u001b[1;33m)\u001b[0m \u001b[1;32mand\u001b[0m \u001b[0mlen\u001b[0m\u001b[1;33m(\u001b[0m\u001b[0mvalue\u001b[0m\u001b[1;33m)\u001b[0m \u001b[1;33m>\u001b[0m \u001b[1;36m0\u001b[0m\u001b[1;33m:\u001b[0m\u001b[1;33m\u001b[0m\u001b[1;33m\u001b[0m\u001b[0m\n",
      "\u001b[1;32mD:\\downloads\\lib\\site-packages\\pandas\\core\\internals\\construction.py\u001b[0m in \u001b[0;36msanitize_index\u001b[1;34m(data, index)\u001b[0m\n\u001b[0;32m    745\u001b[0m     \"\"\"\n\u001b[0;32m    746\u001b[0m     \u001b[1;32mif\u001b[0m \u001b[0mlen\u001b[0m\u001b[1;33m(\u001b[0m\u001b[0mdata\u001b[0m\u001b[1;33m)\u001b[0m \u001b[1;33m!=\u001b[0m \u001b[0mlen\u001b[0m\u001b[1;33m(\u001b[0m\u001b[0mindex\u001b[0m\u001b[1;33m)\u001b[0m\u001b[1;33m:\u001b[0m\u001b[1;33m\u001b[0m\u001b[1;33m\u001b[0m\u001b[0m\n\u001b[1;32m--> 747\u001b[1;33m         raise ValueError(\n\u001b[0m\u001b[0;32m    748\u001b[0m             \u001b[1;34m\"Length of values \"\u001b[0m\u001b[1;33m\u001b[0m\u001b[1;33m\u001b[0m\u001b[0m\n\u001b[0;32m    749\u001b[0m             \u001b[1;34mf\"({len(data)}) \"\u001b[0m\u001b[1;33m\u001b[0m\u001b[1;33m\u001b[0m\u001b[0m\n",
      "\u001b[1;31mValueError\u001b[0m: Length of values (100) does not match length of index (98)"
     ]
    }
   ],
   "source": [
    "Iphone_Reviews = pd.DataFrame({})\n",
    "Iphone_Reviews['Ratings'] = rating\n",
    "Iphone_Reviews['Short_Review'] = review\n",
    "Iphone_Reviews['Full_review'] = full_review\n",
    "Iphone_Reviews"
   ]
  },
  {
   "cell_type": "code",
   "execution_count": null,
   "metadata": {},
   "outputs": [],
   "source": []
  },
  {
   "cell_type": "markdown",
   "metadata": {},
   "source": [
    "## 8."
   ]
  },
  {
   "cell_type": "code",
   "execution_count": 291,
   "metadata": {},
   "outputs": [],
   "source": [
    "driver = webdriver.Chrome('chromedriver.exe')"
   ]
  },
  {
   "cell_type": "code",
   "execution_count": 292,
   "metadata": {},
   "outputs": [],
   "source": [
    "url = 'https://www.flipkart.com/'\n",
    "driver.get(url)"
   ]
  },
  {
   "cell_type": "code",
   "execution_count": 293,
   "metadata": {},
   "outputs": [],
   "source": [
    "close = driver.find_element_by_xpath(\"//button[@class='_2KpZ6l _2doB4z']\")\n",
    "close.click()"
   ]
  },
  {
   "cell_type": "code",
   "execution_count": 294,
   "metadata": {},
   "outputs": [],
   "source": [
    "search_bar = driver.find_element_by_xpath(\"//form[@class='_2M8cLY header-form-search']\")\n",
    "search_bar.click()"
   ]
  },
  {
   "cell_type": "code",
   "execution_count": 295,
   "metadata": {},
   "outputs": [],
   "source": [
    "search_name = driver.find_element_by_xpath(\"//input[@type='text']\")\n",
    "search_name.send_keys('sneakers')"
   ]
  },
  {
   "cell_type": "code",
   "execution_count": 296,
   "metadata": {},
   "outputs": [],
   "source": [
    "search_btn = driver.find_element_by_xpath(\"//button[@class='L0Z3Pu']\")\n",
    "search_btn.click()"
   ]
  },
  {
   "cell_type": "code",
   "execution_count": 297,
   "metadata": {},
   "outputs": [
    {
     "data": {
      "text/plain": [
       "['https://www.flipkart.com/search?q=sneakers&otracker=search&otracker1=search&marketplace=FLIPKART&as-show=on&as=off&page=1',\n",
       " 'https://www.flipkart.com/search?q=sneakers&otracker=search&otracker1=search&marketplace=FLIPKART&as-show=on&as=off&page=2',\n",
       " 'https://www.flipkart.com/search?q=sneakers&otracker=search&otracker1=search&marketplace=FLIPKART&as-show=on&as=off&page=3',\n",
       " 'https://www.flipkart.com/search?q=sneakers&otracker=search&otracker1=search&marketplace=FLIPKART&as-show=on&as=off&page=4',\n",
       " 'https://www.flipkart.com/search?q=sneakers&otracker=search&otracker1=search&marketplace=FLIPKART&as-show=on&as=off&page=5',\n",
       " 'https://www.flipkart.com/search?q=sneakers&otracker=search&otracker1=search&marketplace=FLIPKART&as-show=on&as=off&page=6',\n",
       " 'https://www.flipkart.com/search?q=sneakers&otracker=search&otracker1=search&marketplace=FLIPKART&as-show=on&as=off&page=7',\n",
       " 'https://www.flipkart.com/search?q=sneakers&otracker=search&otracker1=search&marketplace=FLIPKART&as-show=on&as=off&page=8',\n",
       " 'https://www.flipkart.com/search?q=sneakers&otracker=search&otracker1=search&marketplace=FLIPKART&as-show=on&as=off&page=9',\n",
       " 'https://www.flipkart.com/search?q=sneakers&otracker=search&otracker1=search&marketplace=FLIPKART&as-show=on&as=off&page=10',\n",
       " 'https://www.flipkart.com/search?q=sneakers&otracker=search&otracker1=search&marketplace=FLIPKART&as-show=on&as=off&page=2']"
      ]
     },
     "execution_count": 297,
     "metadata": {},
     "output_type": "execute_result"
    }
   ],
   "source": [
    "page_url=[]\n",
    "next_page= driver.find_elements_by_xpath(\"//div[@class='_2MImiq']//a\")\n",
    "for i in next_page:\n",
    "    page_url.append(i.get_attribute('href'))\n",
    "page_url"
   ]
  },
  {
   "cell_type": "code",
   "execution_count": 302,
   "metadata": {},
   "outputs": [
    {
     "data": {
      "text/plain": [
       "['DUCATI',\n",
       " 'Chevit',\n",
       " 'Labbin',\n",
       " 'KULP',\n",
       " 'Robbie jones',\n",
       " 'CALCADOS',\n",
       " 'PEHANOSA',\n",
       " 'Chevit',\n",
       " 'Nilatin',\n",
       " 'Shoes Bank',\n",
       " 'World Wear Footwear',\n",
       " 'DUCATI',\n",
       " 'Numenzo',\n",
       " 'Stefano Rads',\n",
       " 'Numenzo',\n",
       " 'luxury fashion',\n",
       " 'Birde',\n",
       " 'believe',\n",
       " 'ESSENCE',\n",
       " 'Numenzo',\n",
       " 'Robbie jones',\n",
       " 'Chevit',\n",
       " 'bluemaker',\n",
       " 'bluemaker',\n",
       " 'Chevit',\n",
       " 'Chevit',\n",
       " 'Chevit',\n",
       " 'Chevit',\n",
       " 'HOTSTYLE',\n",
       " 'SCATCHITE',\n",
       " 'World Wear Footwear',\n",
       " 'Chevit',\n",
       " 'T-ROCK',\n",
       " 'Absolute comfort',\n",
       " 'WRIZT',\n",
       " 'Chevit',\n",
       " 'Jokatoo',\n",
       " 'D-SNEAKERZ',\n",
       " 'STRANGER BROTHERS',\n",
       " 'Chevit',\n",
       " 'World Wear Footwear',\n",
       " 'Arohi',\n",
       " 'Zsyto',\n",
       " 'DUCATI',\n",
       " 'SPARX',\n",
       " 'Robbie jones',\n",
       " 'Robbie jones',\n",
       " 'DUCATI',\n",
       " 'kardam&sons',\n",
       " 'Fzzirok',\n",
       " 'Absolute comfort',\n",
       " 'Chevit',\n",
       " 'BRUTON',\n",
       " '3SIX5',\n",
       " 'HOTSTYLE',\n",
       " 'DUCATI',\n",
       " 'ESSENCE',\n",
       " 'Ktiz',\n",
       " 'Jack Diamond',\n",
       " 'Numenzo',\n",
       " 'bluemaker',\n",
       " 'ESSENCE',\n",
       " 'Lee Won',\n",
       " 'bluemaker',\n",
       " 'kardam&sons',\n",
       " 'Zsyto',\n",
       " 'HOCKWOOD',\n",
       " 'Chevit',\n",
       " 'kardam&sons',\n",
       " 'M K FOOTWEAR',\n",
       " 'Zsyto',\n",
       " 'Chevit',\n",
       " 'Axter',\n",
       " 'kardam&sons',\n",
       " 'Birde',\n",
       " 'Chevit',\n",
       " 'D-SNEAKERZ',\n",
       " 'Robbie jones',\n",
       " 'PUMA',\n",
       " 'WELDONE',\n",
       " 'HOTSTYLE',\n",
       " 'Birde',\n",
       " 'Ktiz',\n",
       " 'DUCATI',\n",
       " 'SUSON',\n",
       " 'NIKE',\n",
       " 'PUMA',\n",
       " 'DUCATI',\n",
       " 'BRUTON',\n",
       " 'Robbie jones',\n",
       " 'Zsyto',\n",
       " 'Chevit',\n",
       " 'SPARX',\n",
       " 'SPARX',\n",
       " 'RODDICK SHOES',\n",
       " 'DUCATI',\n",
       " 'Carlo Style',\n",
       " 'HOCKWOOD',\n",
       " 'ESSENCE',\n",
       " 'Numenzo',\n",
       " 'Nilatin',\n",
       " 'SPARX',\n",
       " 'Zixer',\n",
       " 'bluemaker',\n",
       " 'Chevit',\n",
       " 'Fzzirok',\n",
       " 'Fzzirok',\n",
       " 'Chevit',\n",
       " 'REEBOK',\n",
       " 'DEER ROCK',\n",
       " 'SPARX',\n",
       " 'Chevit',\n",
       " 'ALAN COSTO',\n",
       " 'Absolute comfort',\n",
       " 'Magnolia',\n",
       " 'Chevit',\n",
       " 'PUMA',\n",
       " 'PUMA',\n",
       " 'STRANGER BROTHERS',\n",
       " 'WELDONE']"
      ]
     },
     "execution_count": 302,
     "metadata": {},
     "output_type": "execute_result"
    }
   ],
   "source": [
    "brand = []\n",
    "for i in page_url[0:3]:\n",
    "    driver.get(i)\n",
    "    brand_name=driver.find_elements_by_xpath(\"//div[@class='_2WkVRV']\")\n",
    "    for i in brand_name:\n",
    "        try:\n",
    "            brand.append(i.text)\n",
    "        except:\n",
    "            brand.append('nan')\n",
    "brand"
   ]
  },
  {
   "cell_type": "code",
   "execution_count": 303,
   "metadata": {},
   "outputs": [
    {
     "data": {
      "text/plain": [
       "120"
      ]
     },
     "execution_count": 303,
     "metadata": {},
     "output_type": "execute_result"
    }
   ],
   "source": [
    "len(brand)"
   ]
  },
  {
   "cell_type": "code",
   "execution_count": 311,
   "metadata": {},
   "outputs": [
    {
     "data": {
      "text/plain": [
       "['Sneakers For Men',\n",
       " 'Casual Sneakers Shoes For Men Sneakers For Men',\n",
       " 'Sneakers For Men',\n",
       " 'heart beat Sneakers For Men',\n",
       " 'Sneakers For Men',\n",
       " 'Perfect & Affordable Combo Pack of 02 Pairs Sneakers Ou...',\n",
       " 'Black Sneaker For Men Sneakers For Men',\n",
       " \"White Sneaker For Men's/Boy's Sneakers For Men\",\n",
       " '5011-Latest Collection Stylish Casual Loafer Sneakers S...',\n",
       " 'Sneakers For Men',\n",
       " 'Sneakers For Men',\n",
       " 'Combo Pack of 4 Casual Sneakers With Sneakers For Men',\n",
       " 'Combo Pack of 4 Casual Shoes Sneakers For Men',\n",
       " 'Sneakers for men(black_6) Sneakers For Men',\n",
       " 'Casuals Sneakers For Men',\n",
       " 'Sneakers For Men',\n",
       " 'Unique & Perfect Collection Combo Pack of 02 Shoes for ...',\n",
       " 'casual for men (blue 06) Sneakers For Men',\n",
       " 'HAWK21 Sneakers For Men',\n",
       " 'Speed Set of 5 Pairs Sneakers Outdoors Casuals for Men ...',\n",
       " 'Super 445 Fashion Sneakers For Men',\n",
       " 'Super Stylish & Trendy Combo Pack of 02 Pairs Sneakers ...',\n",
       " 'Combo Pack Of 3 Sneakers For Men',\n",
       " 'Sneakers For Men',\n",
       " 'Sneakers Sneakers For Men',\n",
       " 'Sneakers For Men',\n",
       " 'Synthetic Leather Casual Partywear Wedding Sneakers Sho...',\n",
       " 'casual for men (blue 08) Sneakers For Men',\n",
       " \"Casual , Partywear Sneakers Shoes For Men's And Boys Wh...\",\n",
       " 'Sneakers For Men',\n",
       " 'Latest Collection-1227 Stylish Casual Sports Sneakers F...',\n",
       " 'Sneakers For Men',\n",
       " 'Sneakers For Men',\n",
       " 'Casual Sneakers Green Shoes For Men And Boys Sneakers F...',\n",
       " 'SM-322 Sneakers For Men',\n",
       " 'Perfect & Affordable Combo Pack of 02 Pairs Sneakers Ou...',\n",
       " \"Karda Casual Sneakers and Gym Shoes for Men's and Boys ...\",\n",
       " 'Sneakers For Men',\n",
       " 'Combo Pack Of 4 Casual Sneakers For Men',\n",
       " 'Trendy Sneakers For Men',\n",
       " 'Sneakers For Men',\n",
       " 'Sneakers Sneakers For Men',\n",
       " 'Rockstyle Trending Multicolor Ultralight canvas Sport/ ...',\n",
       " 'casual for men (blue 08) Sneakers For Men',\n",
       " 'casual shoe for men Sneakers For Men',\n",
       " 'Trendy Sneakers For Men',\n",
       " '2 Pairs Sneakers For Men',\n",
       " \"Super & Trendy Men's Pack of 02 Pair Shoes for Boys Cas...\",\n",
       " 'Sneakers For Men',\n",
       " 'Fashionable casual sneaker shoes Sneakers For Men',\n",
       " 'Casual Sneakers Shoes For Men Sneakers For Men',\n",
       " 'Speed Set of 5 Pairs Sneakers Outdoors Casuals for Men ...',\n",
       " 'Super Stylish & Trendy Combo Pack of 02 Pairs Sneakers ...',\n",
       " \"Karda Casual Sneakers and Gym Shoes for Men's and Boys ...\",\n",
       " \"Casual , Partywear Sneakers Shoes For Men's And Boys Wh...\",\n",
       " 'Combo Pack of 2 New Fashion Casual Loafers Sneakers Sne...',\n",
       " 'Combo Pack of 4 Casual Shoes Sneakers For Men',\n",
       " \"Karda Casual Sneakers and Gym Shoes for Men's and Boys ...\",\n",
       " 'Combo Pack of 4 Casual Sneakers With Sneakers For Men',\n",
       " 'Sneakers For Men',\n",
       " 'Sneakers For Men  (White) Sneakers For Men',\n",
       " 'Combo Pack of 2 Casual Shoes Sneakers For Men',\n",
       " 'Sneakers For Men',\n",
       " 'Speeder DP Sneakers For Men',\n",
       " 'Gym/Walking/Running Sneakers For Men',\n",
       " 'Court Royale Shoe Sneakers For Men',\n",
       " 'Sneakers For Men',\n",
       " 'Fashion Outdoor Canvas Casual Light Weight Lace-up Even...',\n",
       " 'SM-162 Sneakers For Men',\n",
       " 'Casual sneaker shoes for men Sneakers For Men',\n",
       " 'Combo Pack of 4 Casual Sneakers With Sneakers For Men',\n",
       " 'Trendy Sneakers For Men',\n",
       " 'Fashionable casual sneaker shoes Sneakers For Men',\n",
       " 'SM-162 Sneakers For Men',\n",
       " 'TREAD LITE LUX Sneakers For Men',\n",
       " 'Sneakers For Men',\n",
       " 'Affordable Combo Pack of 02 Pairs Sneakers Outdoor Loaf...',\n",
       " 'HAWK21 Sneakers For Men',\n",
       " 'SM-482 Sneakers For Men',\n",
       " 'Combo Pack of 2 Casual Shoes Sneakers For Men',\n",
       " 'casual for men (blue 08) Sneakers For Men',\n",
       " 'White Sneakers Sneakers For Men',\n",
       " 'Sneakers For Men',\n",
       " 'Trenzo II IDP Sneakers For Men',\n",
       " \"Super & Trendy Men's Pack of 02 Pair Shoes for Boys Cas...\",\n",
       " 'Combo Pack of 4 Casual Shoes For Men Sneakers For Men',\n",
       " 'Sneakers For Men',\n",
       " 'Speed Set of 5 Pairs Sneakers Outdoors Casuals for Men ...']"
      ]
     },
     "execution_count": 311,
     "metadata": {},
     "output_type": "execute_result"
    }
   ],
   "source": [
    "desc = []\n",
    "for i in page_url[0:3]:\n",
    "    driver.get(i)\n",
    "    descr=driver.find_elements_by_xpath(\"//a[@class='IRpwTa']\")\n",
    "    for i in descr:\n",
    "        try:\n",
    "            desc.append(i.text)\n",
    "        except:\n",
    "            desc.append('-')\n",
    "desc"
   ]
  },
  {
   "cell_type": "code",
   "execution_count": 312,
   "metadata": {},
   "outputs": [
    {
     "data": {
      "text/plain": [
       "['₹1,445',\n",
       " '₹599',\n",
       " '₹399',\n",
       " '₹499',\n",
       " '₹399',\n",
       " '₹748',\n",
       " '₹495',\n",
       " '₹499',\n",
       " '₹449',\n",
       " '₹349',\n",
       " '₹240',\n",
       " '₹448',\n",
       " '₹378',\n",
       " '₹242',\n",
       " '₹449',\n",
       " '₹474',\n",
       " '₹698',\n",
       " '₹499',\n",
       " '₹399',\n",
       " '₹599',\n",
       " '₹499',\n",
       " '₹425',\n",
       " '₹449',\n",
       " '₹599',\n",
       " '₹683',\n",
       " '₹350',\n",
       " '₹599',\n",
       " '₹568',\n",
       " '₹199',\n",
       " '₹240',\n",
       " '₹398',\n",
       " '₹379',\n",
       " '₹398',\n",
       " '₹279',\n",
       " '₹199',\n",
       " '₹449',\n",
       " '₹418',\n",
       " '₹349',\n",
       " '₹475',\n",
       " '₹449',\n",
       " '₹649',\n",
       " '₹240',\n",
       " '₹469',\n",
       " '₹1,445',\n",
       " '₹298',\n",
       " '₹499',\n",
       " '₹799',\n",
       " '₹449',\n",
       " '₹410',\n",
       " '₹349',\n",
       " '₹189',\n",
       " '₹470',\n",
       " '₹474',\n",
       " '₹465',\n",
       " '₹468',\n",
       " '₹1,303',\n",
       " '₹283',\n",
       " '₹474',\n",
       " '₹635',\n",
       " '₹759',\n",
       " '₹449',\n",
       " '₹468',\n",
       " '₹269',\n",
       " '₹599',\n",
       " '₹398',\n",
       " '₹419',\n",
       " '₹499',\n",
       " '₹359',\n",
       " '₹692',\n",
       " '₹369',\n",
       " '₹398',\n",
       " '₹470',\n",
       " '₹410',\n",
       " '₹498',\n",
       " '₹384',\n",
       " '₹1,189',\n",
       " '₹799',\n",
       " '₹430',\n",
       " '₹449',\n",
       " '₹475',\n",
       " '₹360',\n",
       " '₹399',\n",
       " '₹302',\n",
       " '₹1,445',\n",
       " '₹1,549',\n",
       " '₹308',\n",
       " '₹2,429',\n",
       " '₹474',\n",
       " '₹499',\n",
       " '₹730',\n",
       " '₹398',\n",
       " '₹449',\n",
       " '₹669',\n",
       " '₹400',\n",
       " '₹429',\n",
       " '₹470',\n",
       " '₹468',\n",
       " '₹674',\n",
       " '₹555',\n",
       " '₹1,303',\n",
       " '₹749',\n",
       " '₹299',\n",
       " '₹1,047',\n",
       " '₹759',\n",
       " '₹538',\n",
       " '₹399',\n",
       " '₹399',\n",
       " '₹599',\n",
       " '₹985',\n",
       " '₹498',\n",
       " '₹465',\n",
       " '₹359',\n",
       " '₹348',\n",
       " '₹284',\n",
       " '₹1,739',\n",
       " '₹470',\n",
       " '₹498',\n",
       " '₹399',\n",
       " '₹499',\n",
       " '₹1,189']"
      ]
     },
     "execution_count": 312,
     "metadata": {},
     "output_type": "execute_result"
    }
   ],
   "source": [
    "price = []\n",
    "for i in page_url[0:3]:\n",
    "    driver.get(i)\n",
    "    pricing=driver.find_elements_by_xpath(\"//div[@class='_30jeq3']\")\n",
    "    for i in pricing:\n",
    "        try:\n",
    "            price.append(i.text)\n",
    "        except:\n",
    "            price.append('-')\n",
    "price"
   ]
  },
  {
   "cell_type": "code",
   "execution_count": 313,
   "metadata": {},
   "outputs": [
    {
     "data": {
      "text/plain": [
       "120"
      ]
     },
     "execution_count": 313,
     "metadata": {},
     "output_type": "execute_result"
    }
   ],
   "source": [
    "len(price)"
   ]
  },
  {
   "cell_type": "code",
   "execution_count": 320,
   "metadata": {},
   "outputs": [
    {
     "data": {
      "text/plain": [
       "['60% off',\n",
       " '62% off',\n",
       " '60% off',\n",
       " '50% off',\n",
       " '60% off',\n",
       " '62% off',\n",
       " '50% off',\n",
       " '69% off',\n",
       " '65% off',\n",
       " '65% off',\n",
       " '51% off',\n",
       " '72% off',\n",
       " '62% off',\n",
       " '65% off',\n",
       " '77% off',\n",
       " '76% off',\n",
       " '65% off',\n",
       " '50% off',\n",
       " '60% off',\n",
       " '40% off',\n",
       " '50% off',\n",
       " '71% off',\n",
       " '55% off',\n",
       " '77% off',\n",
       " '72% off',\n",
       " '29% off',\n",
       " '62% off',\n",
       " '55% off',\n",
       " '60% off',\n",
       " '51% off',\n",
       " '60% off',\n",
       " '76% off',\n",
       " '60% off',\n",
       " '72% off',\n",
       " '60% off',\n",
       " '75% off',\n",
       " '71% off',\n",
       " '47% off',\n",
       " '52% off',\n",
       " '68% off',\n",
       " '7% off',\n",
       " '51% off',\n",
       " '53% off',\n",
       " '60% off',\n",
       " '77% off',\n",
       " '50% off',\n",
       " '20% off',\n",
       " '62% off',\n",
       " '75% off',\n",
       " '65% off',\n",
       " '62% off',\n",
       " '69% off',\n",
       " '88% off',\n",
       " '59% off',\n",
       " '53% off',\n",
       " '72% off',\n",
       " '43% off',\n",
       " '63% off',\n",
       " '36% off',\n",
       " '40% off',\n",
       " '55% off',\n",
       " '53% off',\n",
       " '73% off',\n",
       " '87% off',\n",
       " '69% off',\n",
       " '79% off',\n",
       " '50% off',\n",
       " '77% off',\n",
       " '30% off',\n",
       " '63% off',\n",
       " '69% off',\n",
       " '55% off',\n",
       " '75% off',\n",
       " '62% off',\n",
       " '61% off',\n",
       " '76% off',\n",
       " '59% off',\n",
       " '74% off',\n",
       " '77% off',\n",
       " '75% off',\n",
       " '63% off',\n",
       " '50% off',\n",
       " '87% off',\n",
       " '60% off',\n",
       " '50% off',\n",
       " '69% off',\n",
       " '45% off',\n",
       " '62% off',\n",
       " '50% off',\n",
       " '23% off',\n",
       " '69% off',\n",
       " '69% off',\n",
       " '4% off',\n",
       " '59% off',\n",
       " '66% off',\n",
       " '76% off',\n",
       " '53% off',\n",
       " '32% off',\n",
       " '44% off',\n",
       " '87% off',\n",
       " '21% off',\n",
       " '70% off',\n",
       " '54% off',\n",
       " '40% off',\n",
       " '58% off',\n",
       " '60% off',\n",
       " '60% off',\n",
       " '77% off',\n",
       " '26% off',\n",
       " '50% off',\n",
       " '53% off',\n",
       " '55% off',\n",
       " '65% off',\n",
       " '71% off',\n",
       " '42% off',\n",
       " '76% off',\n",
       " '75% off',\n",
       " '61% off',\n",
       " '50% off',\n",
       " '69% off']"
      ]
     },
     "execution_count": 320,
     "metadata": {},
     "output_type": "execute_result"
    }
   ],
   "source": [
    "disc = []\n",
    "for i in page_url[0:3]:\n",
    "    driver.get(i)\n",
    "    discount=driver.find_elements_by_xpath(\"//div[@class='_3Ay6Sb']//span\")\n",
    "    for i in discount:\n",
    "        try:\n",
    "            disc.append(i.text)\n",
    "        except:\n",
    "            disc.append('-')\n",
    "disc"
   ]
  },
  {
   "cell_type": "code",
   "execution_count": 322,
   "metadata": {},
   "outputs": [
    {
     "data": {
      "text/plain": [
       "120"
      ]
     },
     "execution_count": 322,
     "metadata": {},
     "output_type": "execute_result"
    }
   ],
   "source": [
    "len(disc)"
   ]
  },
  {
   "cell_type": "code",
   "execution_count": 324,
   "metadata": {},
   "outputs": [
    {
     "ename": "ValueError",
     "evalue": "Length of values (88) does not match length of index (100)",
     "output_type": "error",
     "traceback": [
      "\u001b[1;31m---------------------------------------------------------------------------\u001b[0m",
      "\u001b[1;31mValueError\u001b[0m                                Traceback (most recent call last)",
      "\u001b[1;32m<ipython-input-324-6af3aba5267c>\u001b[0m in \u001b[0;36m<module>\u001b[1;34m\u001b[0m\n\u001b[0;32m      1\u001b[0m \u001b[0mSneakers_Flipkart\u001b[0m \u001b[1;33m=\u001b[0m \u001b[0mpd\u001b[0m\u001b[1;33m.\u001b[0m\u001b[0mDataFrame\u001b[0m\u001b[1;33m(\u001b[0m\u001b[1;33m{\u001b[0m\u001b[1;33m}\u001b[0m\u001b[1;33m)\u001b[0m\u001b[1;33m\u001b[0m\u001b[1;33m\u001b[0m\u001b[0m\n\u001b[0;32m      2\u001b[0m \u001b[0mSneakers_Flipkart\u001b[0m\u001b[1;33m[\u001b[0m\u001b[1;34m'Brand'\u001b[0m\u001b[1;33m]\u001b[0m \u001b[1;33m=\u001b[0m \u001b[0mbrand\u001b[0m\u001b[1;33m[\u001b[0m\u001b[1;36m0\u001b[0m\u001b[1;33m:\u001b[0m\u001b[1;36m100\u001b[0m\u001b[1;33m]\u001b[0m\u001b[1;33m\u001b[0m\u001b[1;33m\u001b[0m\u001b[0m\n\u001b[1;32m----> 3\u001b[1;33m \u001b[0mSneakers_Flipkart\u001b[0m\u001b[1;33m[\u001b[0m\u001b[1;34m'Description'\u001b[0m\u001b[1;33m]\u001b[0m \u001b[1;33m=\u001b[0m \u001b[0mdesc\u001b[0m\u001b[1;33m[\u001b[0m\u001b[1;36m0\u001b[0m\u001b[1;33m:\u001b[0m\u001b[1;36m100\u001b[0m\u001b[1;33m]\u001b[0m\u001b[1;33m\u001b[0m\u001b[1;33m\u001b[0m\u001b[0m\n\u001b[0m\u001b[0;32m      4\u001b[0m \u001b[0mSneakers_Flipkart\u001b[0m\u001b[1;33m[\u001b[0m\u001b[1;34m'Price'\u001b[0m\u001b[1;33m]\u001b[0m \u001b[1;33m=\u001b[0m \u001b[0mprice\u001b[0m\u001b[1;33m[\u001b[0m\u001b[1;36m0\u001b[0m\u001b[1;33m:\u001b[0m\u001b[1;36m100\u001b[0m\u001b[1;33m]\u001b[0m\u001b[1;33m\u001b[0m\u001b[1;33m\u001b[0m\u001b[0m\n\u001b[0;32m      5\u001b[0m \u001b[0mSneakers_Flipkart\u001b[0m\u001b[1;33m[\u001b[0m\u001b[1;34m'Discount'\u001b[0m\u001b[1;33m]\u001b[0m \u001b[1;33m=\u001b[0m \u001b[0mdisc\u001b[0m\u001b[1;33m[\u001b[0m\u001b[1;36m0\u001b[0m\u001b[1;33m:\u001b[0m\u001b[1;36m100\u001b[0m\u001b[1;33m]\u001b[0m\u001b[1;33m\u001b[0m\u001b[1;33m\u001b[0m\u001b[0m\n",
      "\u001b[1;32mD:\\downloads\\lib\\site-packages\\pandas\\core\\frame.py\u001b[0m in \u001b[0;36m__setitem__\u001b[1;34m(self, key, value)\u001b[0m\n\u001b[0;32m   3038\u001b[0m         \u001b[1;32melse\u001b[0m\u001b[1;33m:\u001b[0m\u001b[1;33m\u001b[0m\u001b[1;33m\u001b[0m\u001b[0m\n\u001b[0;32m   3039\u001b[0m             \u001b[1;31m# set column\u001b[0m\u001b[1;33m\u001b[0m\u001b[1;33m\u001b[0m\u001b[1;33m\u001b[0m\u001b[0m\n\u001b[1;32m-> 3040\u001b[1;33m             \u001b[0mself\u001b[0m\u001b[1;33m.\u001b[0m\u001b[0m_set_item\u001b[0m\u001b[1;33m(\u001b[0m\u001b[0mkey\u001b[0m\u001b[1;33m,\u001b[0m \u001b[0mvalue\u001b[0m\u001b[1;33m)\u001b[0m\u001b[1;33m\u001b[0m\u001b[1;33m\u001b[0m\u001b[0m\n\u001b[0m\u001b[0;32m   3041\u001b[0m \u001b[1;33m\u001b[0m\u001b[0m\n\u001b[0;32m   3042\u001b[0m     \u001b[1;32mdef\u001b[0m \u001b[0m_setitem_slice\u001b[0m\u001b[1;33m(\u001b[0m\u001b[0mself\u001b[0m\u001b[1;33m,\u001b[0m \u001b[0mkey\u001b[0m\u001b[1;33m:\u001b[0m \u001b[0mslice\u001b[0m\u001b[1;33m,\u001b[0m \u001b[0mvalue\u001b[0m\u001b[1;33m)\u001b[0m\u001b[1;33m:\u001b[0m\u001b[1;33m\u001b[0m\u001b[1;33m\u001b[0m\u001b[0m\n",
      "\u001b[1;32mD:\\downloads\\lib\\site-packages\\pandas\\core\\frame.py\u001b[0m in \u001b[0;36m_set_item\u001b[1;34m(self, key, value)\u001b[0m\n\u001b[0;32m   3114\u001b[0m         \"\"\"\n\u001b[0;32m   3115\u001b[0m         \u001b[0mself\u001b[0m\u001b[1;33m.\u001b[0m\u001b[0m_ensure_valid_index\u001b[0m\u001b[1;33m(\u001b[0m\u001b[0mvalue\u001b[0m\u001b[1;33m)\u001b[0m\u001b[1;33m\u001b[0m\u001b[1;33m\u001b[0m\u001b[0m\n\u001b[1;32m-> 3116\u001b[1;33m         \u001b[0mvalue\u001b[0m \u001b[1;33m=\u001b[0m \u001b[0mself\u001b[0m\u001b[1;33m.\u001b[0m\u001b[0m_sanitize_column\u001b[0m\u001b[1;33m(\u001b[0m\u001b[0mkey\u001b[0m\u001b[1;33m,\u001b[0m \u001b[0mvalue\u001b[0m\u001b[1;33m)\u001b[0m\u001b[1;33m\u001b[0m\u001b[1;33m\u001b[0m\u001b[0m\n\u001b[0m\u001b[0;32m   3117\u001b[0m         \u001b[0mNDFrame\u001b[0m\u001b[1;33m.\u001b[0m\u001b[0m_set_item\u001b[0m\u001b[1;33m(\u001b[0m\u001b[0mself\u001b[0m\u001b[1;33m,\u001b[0m \u001b[0mkey\u001b[0m\u001b[1;33m,\u001b[0m \u001b[0mvalue\u001b[0m\u001b[1;33m)\u001b[0m\u001b[1;33m\u001b[0m\u001b[1;33m\u001b[0m\u001b[0m\n\u001b[0;32m   3118\u001b[0m \u001b[1;33m\u001b[0m\u001b[0m\n",
      "\u001b[1;32mD:\\downloads\\lib\\site-packages\\pandas\\core\\frame.py\u001b[0m in \u001b[0;36m_sanitize_column\u001b[1;34m(self, key, value, broadcast)\u001b[0m\n\u001b[0;32m   3762\u001b[0m \u001b[1;33m\u001b[0m\u001b[0m\n\u001b[0;32m   3763\u001b[0m             \u001b[1;31m# turn me into an ndarray\u001b[0m\u001b[1;33m\u001b[0m\u001b[1;33m\u001b[0m\u001b[1;33m\u001b[0m\u001b[0m\n\u001b[1;32m-> 3764\u001b[1;33m             \u001b[0mvalue\u001b[0m \u001b[1;33m=\u001b[0m \u001b[0msanitize_index\u001b[0m\u001b[1;33m(\u001b[0m\u001b[0mvalue\u001b[0m\u001b[1;33m,\u001b[0m \u001b[0mself\u001b[0m\u001b[1;33m.\u001b[0m\u001b[0mindex\u001b[0m\u001b[1;33m)\u001b[0m\u001b[1;33m\u001b[0m\u001b[1;33m\u001b[0m\u001b[0m\n\u001b[0m\u001b[0;32m   3765\u001b[0m             \u001b[1;32mif\u001b[0m \u001b[1;32mnot\u001b[0m \u001b[0misinstance\u001b[0m\u001b[1;33m(\u001b[0m\u001b[0mvalue\u001b[0m\u001b[1;33m,\u001b[0m \u001b[1;33m(\u001b[0m\u001b[0mnp\u001b[0m\u001b[1;33m.\u001b[0m\u001b[0mndarray\u001b[0m\u001b[1;33m,\u001b[0m \u001b[0mIndex\u001b[0m\u001b[1;33m)\u001b[0m\u001b[1;33m)\u001b[0m\u001b[1;33m:\u001b[0m\u001b[1;33m\u001b[0m\u001b[1;33m\u001b[0m\u001b[0m\n\u001b[0;32m   3766\u001b[0m                 \u001b[1;32mif\u001b[0m \u001b[0misinstance\u001b[0m\u001b[1;33m(\u001b[0m\u001b[0mvalue\u001b[0m\u001b[1;33m,\u001b[0m \u001b[0mlist\u001b[0m\u001b[1;33m)\u001b[0m \u001b[1;32mand\u001b[0m \u001b[0mlen\u001b[0m\u001b[1;33m(\u001b[0m\u001b[0mvalue\u001b[0m\u001b[1;33m)\u001b[0m \u001b[1;33m>\u001b[0m \u001b[1;36m0\u001b[0m\u001b[1;33m:\u001b[0m\u001b[1;33m\u001b[0m\u001b[1;33m\u001b[0m\u001b[0m\n",
      "\u001b[1;32mD:\\downloads\\lib\\site-packages\\pandas\\core\\internals\\construction.py\u001b[0m in \u001b[0;36msanitize_index\u001b[1;34m(data, index)\u001b[0m\n\u001b[0;32m    745\u001b[0m     \"\"\"\n\u001b[0;32m    746\u001b[0m     \u001b[1;32mif\u001b[0m \u001b[0mlen\u001b[0m\u001b[1;33m(\u001b[0m\u001b[0mdata\u001b[0m\u001b[1;33m)\u001b[0m \u001b[1;33m!=\u001b[0m \u001b[0mlen\u001b[0m\u001b[1;33m(\u001b[0m\u001b[0mindex\u001b[0m\u001b[1;33m)\u001b[0m\u001b[1;33m:\u001b[0m\u001b[1;33m\u001b[0m\u001b[1;33m\u001b[0m\u001b[0m\n\u001b[1;32m--> 747\u001b[1;33m         raise ValueError(\n\u001b[0m\u001b[0;32m    748\u001b[0m             \u001b[1;34m\"Length of values \"\u001b[0m\u001b[1;33m\u001b[0m\u001b[1;33m\u001b[0m\u001b[0m\n\u001b[0;32m    749\u001b[0m             \u001b[1;34mf\"({len(data)}) \"\u001b[0m\u001b[1;33m\u001b[0m\u001b[1;33m\u001b[0m\u001b[0m\n",
      "\u001b[1;31mValueError\u001b[0m: Length of values (88) does not match length of index (100)"
     ]
    }
   ],
   "source": [
    "Sneakers_Flipkart = pd.DataFrame({})\n",
    "Sneakers_Flipkart['Brand'] = brand[0:100]\n",
    "Sneakers_Flipkart['Description'] = desc[0:100]\n",
    "Sneakers_Flipkart['Price'] = price[0:100]\n",
    "Sneakers_Flipkart['Discount'] = disc[0:100]\n",
    "Sneakers_Flipkart\n"
   ]
  },
  {
   "cell_type": "code",
   "execution_count": null,
   "metadata": {},
   "outputs": [],
   "source": []
  },
  {
   "cell_type": "markdown",
   "metadata": {},
   "source": [
    "## 9."
   ]
  },
  {
   "cell_type": "code",
   "execution_count": 357,
   "metadata": {},
   "outputs": [],
   "source": [
    "driver = webdriver.Chrome('chromedriver.exe')"
   ]
  },
  {
   "cell_type": "code",
   "execution_count": 358,
   "metadata": {},
   "outputs": [],
   "source": [
    "url = 'https://www.myntra.com/shoes'\n",
    "driver.get(url)"
   ]
  },
  {
   "cell_type": "code",
   "execution_count": 359,
   "metadata": {},
   "outputs": [],
   "source": [
    "price_filter = driver.find_element_by_xpath('/html/body/div[2]/div/div[1]/main/div[3]/div[1]/section/div/div[5]/ul/li[2]/label')\n",
    "price_filter.click()"
   ]
  },
  {
   "cell_type": "code",
   "execution_count": 360,
   "metadata": {},
   "outputs": [],
   "source": [
    "clr_filter = driver.find_element_by_xpath('/html/body/div[2]/div/div[1]/main/div[3]/div[1]/section/div/div[6]/ul/li[1]/label')\n",
    "clr_filter.click()"
   ]
  },
  {
   "cell_type": "code",
   "execution_count": 361,
   "metadata": {},
   "outputs": [
    {
     "data": {
      "text/plain": [
       "['https://www.myntra.com/shoes?f=Color%3ABlack_36454f&plaEnabled=false&rf=Price%3A6649.0_13099.0_6649.0%20TO%2013099.0',\n",
       " 'https://www.myntra.com/shoes?f=Color%3ABlack_36454f&plaEnabled=false&rf=Price%3A6649.0_13099.0_6649.0%20TO%2013099.0&p=2',\n",
       " 'https://www.myntra.com/shoes?f=Color%3ABlack_36454f&plaEnabled=false&rf=Price%3A6649.0_13099.0_6649.0%20TO%2013099.0&p=3',\n",
       " 'https://www.myntra.com/shoes?f=Color%3ABlack_36454f&plaEnabled=false&rf=Price%3A6649.0_13099.0_6649.0%20TO%2013099.0&p=4',\n",
       " 'https://www.myntra.com/shoes?f=Color%3ABlack_36454f&plaEnabled=false&rf=Price%3A6649.0_13099.0_6649.0%20TO%2013099.0&p=5',\n",
       " 'https://www.myntra.com/shoes?f=Color%3ABlack_36454f&plaEnabled=false&rf=Price%3A6649.0_13099.0_6649.0%20TO%2013099.0&p=6',\n",
       " 'https://www.myntra.com/shoes?f=Color%3ABlack_36454f&plaEnabled=false&rf=Price%3A6649.0_13099.0_6649.0%20TO%2013099.0&p=7',\n",
       " 'https://www.myntra.com/shoes?f=Color%3ABlack_36454f&plaEnabled=false&rf=Price%3A6649.0_13099.0_6649.0%20TO%2013099.0&p=8',\n",
       " 'https://www.myntra.com/shoes?f=Color%3ABlack_36454f&plaEnabled=false&rf=Price%3A6649.0_13099.0_6649.0%20TO%2013099.0&p=9',\n",
       " 'https://www.myntra.com/shoes?f=Color%3ABlack_36454f&plaEnabled=false&rf=Price%3A6649.0_13099.0_6649.0%20TO%2013099.0&p=10',\n",
       " 'https://www.myntra.com/shoes?f=Color%3ABlack_36454f&plaEnabled=false&rf=Price%3A6649.0_13099.0_6649.0%20TO%2013099.0&p=2']"
      ]
     },
     "execution_count": 361,
     "metadata": {},
     "output_type": "execute_result"
    }
   ],
   "source": [
    "page_url=[]\n",
    "next_page= driver.find_elements_by_xpath(\"//div[@class='results-showMoreContainer']//a\")\n",
    "for i in next_page:\n",
    "    page_url.append(i.get_attribute('href'))\n",
    "page_url"
   ]
  },
  {
   "cell_type": "code",
   "execution_count": 362,
   "metadata": {},
   "outputs": [
    {
     "data": {
      "text/plain": [
       "['ALDO',\n",
       " 'Nike',\n",
       " 'Nike',\n",
       " 'Nike',\n",
       " 'Nike',\n",
       " 'Nike',\n",
       " 'ALDO',\n",
       " 'Nike',\n",
       " 'UNDER ARMOUR',\n",
       " 'Hush Puppies',\n",
       " 'Nike',\n",
       " 'UNDER ARMOUR',\n",
       " 'Puma',\n",
       " 'Geox',\n",
       " 'ADIDAS',\n",
       " 'Skechers',\n",
       " 'UNDER ARMOUR',\n",
       " 'UNDER ARMOUR',\n",
       " 'Hush Puppies',\n",
       " 'Hush Puppies',\n",
       " 'Nike',\n",
       " 'PUMA Hoops',\n",
       " 'FORCLAZ By Decathlon',\n",
       " 'Ruosh',\n",
       " 'ASICS',\n",
       " 'Hush Puppies',\n",
       " 'Hush Puppies',\n",
       " 'Hush Puppies',\n",
       " 'UNDER ARMOUR',\n",
       " 'Puma',\n",
       " 'ASICS',\n",
       " 'Puma',\n",
       " 'Vans',\n",
       " 'Kalenji By Decathlon',\n",
       " 'UNDER ARMOUR',\n",
       " 'Ruosh',\n",
       " 'Hush Puppies',\n",
       " 'Hush Puppies',\n",
       " 'Puma',\n",
       " 'Hush Puppies',\n",
       " 'Puma',\n",
       " 'J.FONTINI',\n",
       " 'Bugatti',\n",
       " 'San Frissco',\n",
       " 'Hush Puppies',\n",
       " 'ALDO',\n",
       " 'Geox',\n",
       " 'Kenneth Cole',\n",
       " 'Geox',\n",
       " 'Ruosh',\n",
       " 'Ruosh',\n",
       " 'J.FONTINI',\n",
       " 'KIPRUN By Decathlon',\n",
       " 'Ruosh',\n",
       " 'Nike',\n",
       " 'Bugatti',\n",
       " 'Nike',\n",
       " 'Bugatti',\n",
       " 'Saint G',\n",
       " 'Levis',\n",
       " 'Geox',\n",
       " 'Kenneth Cole',\n",
       " 'Bugatti',\n",
       " 'Nike',\n",
       " 'RARE RABBIT',\n",
       " 'Nike',\n",
       " 'DAVINCHI',\n",
       " 'Nike',\n",
       " 'Puma',\n",
       " 'DAVINCHI',\n",
       " 'DAVINCHI',\n",
       " 'Nike',\n",
       " 'Kenneth Cole',\n",
       " 'Nike',\n",
       " 'Puma',\n",
       " 'Nike',\n",
       " 'Heel & Buckle London',\n",
       " 'Geox',\n",
       " 'Bugatti',\n",
       " 'Nike',\n",
       " 'Saint G',\n",
       " 'Hush Puppies',\n",
       " 'Geox',\n",
       " 'J.FONTINI',\n",
       " 'ADIDAS',\n",
       " 'Florsheim',\n",
       " 'Geox',\n",
       " 'Cole Haan',\n",
       " 'Cole Haan',\n",
       " 'Geox',\n",
       " 'ADIDAS',\n",
       " 'Cole Haan',\n",
       " 'VIONIC',\n",
       " 'J.FONTINI',\n",
       " 'UNDER ARMOUR',\n",
       " 'Hush Puppies',\n",
       " 'Hush Puppies',\n",
       " 'KLEAT',\n",
       " 'J.FONTINI',\n",
       " 'Lacoste']"
      ]
     },
     "execution_count": 362,
     "metadata": {},
     "output_type": "execute_result"
    }
   ],
   "source": [
    "brand = []\n",
    "for i in page_url[0:2]:\n",
    "    driver.get(i)\n",
    "    brand_name=driver.find_elements_by_xpath(\"//h3[@class='product-brand']\")\n",
    "    for i in brand_name:\n",
    "        try:\n",
    "            brand.append(i.text)\n",
    "        except:\n",
    "            brand.append('nan')\n",
    "brand"
   ]
  },
  {
   "cell_type": "code",
   "execution_count": 363,
   "metadata": {},
   "outputs": [
    {
     "data": {
      "text/plain": [
       "100"
      ]
     },
     "execution_count": 363,
     "metadata": {},
     "output_type": "execute_result"
    }
   ],
   "source": [
    "len(brand)"
   ]
  },
  {
   "cell_type": "code",
   "execution_count": 364,
   "metadata": {},
   "outputs": [
    {
     "data": {
      "text/plain": [
       "['LEBRON XVIII Basketball Shoes',\n",
       " 'Men AIR ZOOM Running Shoes',\n",
       " 'Unisex PHANTOM Football Shoes',\n",
       " 'Men JOYRIDE Running Shoes',\n",
       " 'Men Sneakers',\n",
       " 'Unisex LEBRON XVIII Basketball',\n",
       " 'Men Driving Shoes',\n",
       " 'Women FREE RN 5.0 Shoes',\n",
       " 'Women Liquify Rebel Running',\n",
       " 'Men Leather Slip-On Sneakers',\n",
       " 'Men CHALLENGER OG Sneakers',\n",
       " 'Women TriBase Reign 2 Training',\n",
       " 'Men Liberate Nitro Running',\n",
       " 'Women SUPERNOVA Running Shoes',\n",
       " 'Men Flex Advantage 4.0Upstream',\n",
       " 'Unisex Clyde Basketball Shoes',\n",
       " 'HOVR Sonic 3 Running Shoes',\n",
       " 'HOVR Sonic 3 Running Shoes',\n",
       " 'TREKKING 100 Boots',\n",
       " 'Men Leather Slip-On Shoes',\n",
       " 'Men Colourblocked Driving Shoes',\n",
       " 'Women Air Max Siren Sneakers',\n",
       " 'Men Solid Leather Formal Slip-Ons',\n",
       " 'Women Running Shoes',\n",
       " 'Men Solid Leather Formal Slip-Ons',\n",
       " 'Men Running Shoes',\n",
       " 'Men Solid Leather Formal Slip-Ons',\n",
       " 'Men Leather Slip-On Sneakers',\n",
       " 'Women HOVR Rise 2 Training',\n",
       " 'Women Eternity Nitro Running',\n",
       " 'Men KD500 Running Shoe',\n",
       " 'Women Deviate Nitro Running',\n",
       " 'Men Striped Sneakers',\n",
       " 'GS SC 3Zero IV Basketball',\n",
       " 'Men Textured Leather Monks',\n",
       " 'Men Leather Derbys',\n",
       " 'Men Solid Leather Formal Derbys',\n",
       " 'Men Solid Leather Formal Slip-Ons',\n",
       " 'Women Liberate Nitro Running',\n",
       " 'Men 365 Evoknit Ignite Ct Football',\n",
       " 'Men Textured Leather Loafers',\n",
       " 'Men Slip-On Sneakers',\n",
       " 'Men Leather Loafers',\n",
       " 'Men Formal Derbys',\n",
       " 'Men Leather Driving Shoes',\n",
       " 'Men Solid Leather Sneakers',\n",
       " 'Men Leather Formal Derbyacs',\n",
       " 'Men Formal Leather Brogues',\n",
       " 'Men Textured Leather Loafers',\n",
       " 'Women Running Shoes',\n",
       " 'Women Running Shoes',\n",
       " 'Men Solid Leather Formal Monks',\n",
       " 'AIR ZOOM WINFLO Running Shoes',\n",
       " 'Women Mid-Top Sneakers',\n",
       " 'Women AIR MAX VIVA Sneakers',\n",
       " 'Men Perforated Mule Sneakers',\n",
       " 'Men Leather Chelsea Boots',\n",
       " 'Men Perforations Leather Brogues',\n",
       " 'Men Solid Sneakers',\n",
       " 'Men Leather Semiformal Driving',\n",
       " 'Women Leather Pumps',\n",
       " 'Men Solid Leather Formal Monk Shoes',\n",
       " 'Men AIR ZOOM PEGASUS 38 Run',\n",
       " 'Women Sandals',\n",
       " 'Men Formal Leather Slip-Ons',\n",
       " 'Men AIR ZOOM PEGASUS 38 Run',\n",
       " 'Ustraa black',\n",
       " 'Men JORDAN ONE TAKE II Shoes',\n",
       " 'Men Velocity Nitro Running',\n",
       " 'Men Textured Formal Leather Loafers',\n",
       " 'Men Zoom Winflo 8 Running',\n",
       " 'Men Solid Leather Formal Derbys',\n",
       " 'Men REACT MILER 2 Running',\n",
       " 'Men Running Shoes',\n",
       " 'Men REACT MILER 2 Running',\n",
       " 'Women Peep Toe Heels',\n",
       " 'Men Leather Formal Slip-Ons',\n",
       " 'Men Leather Formal Derbys',\n",
       " 'Men Solid Leather Formal Derbys',\n",
       " 'Unisex TREY 5 Basketball Shoes',\n",
       " 'Women Leather Heeled Boots',\n",
       " 'Men Leather Formal Derbys',\n",
       " 'Men Leather Formal Derbys',\n",
       " 'Men Solid Leather Formal Derbys',\n",
       " 'Men Supernova Running Shoes',\n",
       " 'Men Solid Leather Formal Loafers',\n",
       " 'Men Leather Driving Shoes',\n",
       " 'Men Wingtip Oxford Sneakers',\n",
       " 'Men GENERATION ZEROGRAND STITCHLITE',\n",
       " 'Men Leather Slip-On Sneakers',\n",
       " 'Women Edge Lux 4 Running',\n",
       " 'Leather Sneakers',\n",
       " 'Men Textured Sneakers',\n",
       " 'Men Textured Leather Loafers',\n",
       " 'HOVR Infinite 2 Running Shoes',\n",
       " 'Men Textured Oxfords',\n",
       " 'Men Woven Design Sneakers',\n",
       " 'Men Woven Design Loafers',\n",
       " 'Men Solid Loafers',\n",
       " 'Men Woven Design Sneakers']"
      ]
     },
     "execution_count": 364,
     "metadata": {},
     "output_type": "execute_result"
    }
   ],
   "source": [
    "desc = []\n",
    "for i in page_url[0:2]:\n",
    "    driver.get(i)\n",
    "    descr=driver.find_elements_by_xpath(\"//h4[@class='product-product']\")\n",
    "    for i in descr:\n",
    "        try:\n",
    "            desc.append(i.text)\n",
    "        except:\n",
    "            desc.append('-')\n",
    "desc"
   ]
  },
  {
   "cell_type": "code",
   "execution_count": 365,
   "metadata": {},
   "outputs": [
    {
     "data": {
      "text/plain": [
       "100"
      ]
     },
     "execution_count": 365,
     "metadata": {},
     "output_type": "execute_result"
    }
   ],
   "source": [
    "len(desc)"
   ]
  },
  {
   "cell_type": "code",
   "execution_count": 366,
   "metadata": {},
   "outputs": [
    {
     "data": {
      "text/plain": [
       "['Rs. 12316Rs. 17595(30% OFF)',\n",
       " 'Rs. 7721Rs. 10295(25% OFF)',\n",
       " 'Rs. 6795Rs. 7995(15% OFF)',\n",
       " 'Rs. 12745Rs. 14995(15% OFF)',\n",
       " 'Rs. 9999',\n",
       " 'Rs. 12316Rs. 17595(30% OFF)',\n",
       " 'Rs. 11999',\n",
       " 'Rs. 6795Rs. 7995(15% OFF)',\n",
       " 'Rs. 8999',\n",
       " 'Rs. 9999',\n",
       " 'Rs. 6965Rs. 8195(15% OFF)',\n",
       " 'Rs. 11999',\n",
       " 'Rs. 7499Rs. 9999(25% OFF)',\n",
       " 'Rs. 6999Rs. 9999(30% OFF)',\n",
       " 'Rs. 6999',\n",
       " 'Rs. 7699Rs. 10999(30% OFF)',\n",
       " 'Rs. 10999',\n",
       " 'Rs. 10999',\n",
       " 'Rs. 6999',\n",
       " 'Rs. 6999',\n",
       " 'Rs. 8999',\n",
       " 'Rs. 6965Rs. 8195(15% OFF)',\n",
       " 'Rs. 6990',\n",
       " 'Rs. 9659Rs. 13999(31% OFF)',\n",
       " 'Rs. 8999',\n",
       " 'Rs. 6899Rs. 9999(31% OFF)',\n",
       " 'Rs. 8999',\n",
       " 'Rs. 6999',\n",
       " 'Rs. 9999',\n",
       " 'Rs. 9099Rs. 12999(30% OFF)',\n",
       " 'Rs. 7857Rs. 8449(7% OFF)',\n",
       " 'Rs. 11249Rs. 14999(25% OFF)',\n",
       " 'Rs. 6999Rs. 9999(30% OFF)',\n",
       " 'Rs. 7499',\n",
       " 'Rs. 6990',\n",
       " 'Rs. 7999',\n",
       " 'Rs. 9999',\n",
       " 'Rs. 9999',\n",
       " 'Rs. 6999Rs. 9999(30% OFF)',\n",
       " 'Rs. 6999Rs. 9999(30% OFF)',\n",
       " 'Rs. 6990',\n",
       " 'Rs. 7999',\n",
       " 'Rs. 6747Rs. 14995(55% OFF)',\n",
       " 'Rs. 9999',\n",
       " 'Rs. 9990',\n",
       " 'Rs. 7413Rs. 10590(30% OFF)',\n",
       " 'Rs. 7495Rs. 14990(50% OFF)',\n",
       " 'Rs. 7490',\n",
       " 'Rs. 6990',\n",
       " 'Rs. 7006Rs. 7149(2% OFF)',\n",
       " 'Rs. 7006Rs. 7149(2% OFF)',\n",
       " 'Rs. 6990',\n",
       " 'Rs. 6795Rs. 7995(15% OFF)',\n",
       " 'Rs. 7499',\n",
       " 'Rs. 9371Rs. 12495(25% OFF)',\n",
       " 'Rs. 6999',\n",
       " 'Rs. 11305Rs. 11900(5% OFF)',\n",
       " 'Rs. 6999',\n",
       " 'Rs. 10490',\n",
       " 'Rs. 10493Rs. 14990(30% OFF)',\n",
       " 'Rs. 6999',\n",
       " 'Rs. 8499',\n",
       " 'Rs. 9995',\n",
       " 'Rs. 8999',\n",
       " 'Rs. 8990',\n",
       " 'Rs. 8990',\n",
       " 'Rs. 9995',\n",
       " 'Rs. 8990',\n",
       " 'Rs. 8295',\n",
       " 'Rs. 7699Rs. 10999(30% OFF)',\n",
       " 'Rs. 8295',\n",
       " 'Rs. 8154Rs. 13590(40% OFF)',\n",
       " 'Rs. 11495',\n",
       " 'Rs. 12999',\n",
       " 'Rs. 11495',\n",
       " 'Rs. 7192Rs. 8990(20% OFF)',\n",
       " 'Rs. 7495Rs. 14990(50% OFF)',\n",
       " 'Rs. 7349Rs. 10499(30% OFF)',\n",
       " 'Rs. 10499',\n",
       " 'Rs. 8195',\n",
       " 'Rs. 6999',\n",
       " 'Rs. 6675Rs. 8900(25% OFF)',\n",
       " 'Rs. 6995Rs. 13990(50% OFF)',\n",
       " 'Rs. 6990',\n",
       " 'Rs. 9499Rs. 9999(5% OFF)',\n",
       " 'Rs. 6995',\n",
       " 'Rs. 9999',\n",
       " 'Rs. 12999',\n",
       " 'Rs. 11999',\n",
       " 'Rs. 9490',\n",
       " 'Rs. 7999',\n",
       " 'Rs. 10999',\n",
       " 'Rs. 7039Rs. 10999(36% OFF)',\n",
       " 'Rs. 7690',\n",
       " 'Rs. 11999',\n",
       " 'Rs. 6999',\n",
       " 'Rs. 6999',\n",
       " 'Rs. 7999',\n",
       " 'Rs. 7990',\n",
       " 'Rs. 8500']"
      ]
     },
     "execution_count": 366,
     "metadata": {},
     "output_type": "execute_result"
    }
   ],
   "source": [
    "price = []\n",
    "for i in page_url[0:2]:\n",
    "    driver.get(i)\n",
    "    pricing=driver.find_elements_by_xpath(\"//div[@class='product-price']\")\n",
    "    for i in pricing:\n",
    "        try:\n",
    "            price.append(i.text)\n",
    "        except:\n",
    "            price.append('-')\n",
    "price"
   ]
  },
  {
   "cell_type": "code",
   "execution_count": 368,
   "metadata": {},
   "outputs": [
    {
     "data": {
      "text/html": [
       "<div>\n",
       "<style scoped>\n",
       "    .dataframe tbody tr th:only-of-type {\n",
       "        vertical-align: middle;\n",
       "    }\n",
       "\n",
       "    .dataframe tbody tr th {\n",
       "        vertical-align: top;\n",
       "    }\n",
       "\n",
       "    .dataframe thead th {\n",
       "        text-align: right;\n",
       "    }\n",
       "</style>\n",
       "<table border=\"1\" class=\"dataframe\">\n",
       "  <thead>\n",
       "    <tr style=\"text-align: right;\">\n",
       "      <th></th>\n",
       "      <th>Brand</th>\n",
       "      <th>Description</th>\n",
       "      <th>Price</th>\n",
       "    </tr>\n",
       "  </thead>\n",
       "  <tbody>\n",
       "    <tr>\n",
       "      <th>0</th>\n",
       "      <td>ALDO</td>\n",
       "      <td>LEBRON XVIII Basketball Shoes</td>\n",
       "      <td>Rs. 12316Rs. 17595(30% OFF)</td>\n",
       "    </tr>\n",
       "    <tr>\n",
       "      <th>1</th>\n",
       "      <td>Nike</td>\n",
       "      <td>Men AIR ZOOM Running Shoes</td>\n",
       "      <td>Rs. 7721Rs. 10295(25% OFF)</td>\n",
       "    </tr>\n",
       "    <tr>\n",
       "      <th>2</th>\n",
       "      <td>Nike</td>\n",
       "      <td>Unisex PHANTOM Football Shoes</td>\n",
       "      <td>Rs. 6795Rs. 7995(15% OFF)</td>\n",
       "    </tr>\n",
       "    <tr>\n",
       "      <th>3</th>\n",
       "      <td>Nike</td>\n",
       "      <td>Men JOYRIDE Running Shoes</td>\n",
       "      <td>Rs. 12745Rs. 14995(15% OFF)</td>\n",
       "    </tr>\n",
       "    <tr>\n",
       "      <th>4</th>\n",
       "      <td>Nike</td>\n",
       "      <td>Men Sneakers</td>\n",
       "      <td>Rs. 9999</td>\n",
       "    </tr>\n",
       "    <tr>\n",
       "      <th>...</th>\n",
       "      <td>...</td>\n",
       "      <td>...</td>\n",
       "      <td>...</td>\n",
       "    </tr>\n",
       "    <tr>\n",
       "      <th>95</th>\n",
       "      <td>Hush Puppies</td>\n",
       "      <td>Men Textured Oxfords</td>\n",
       "      <td>Rs. 6999</td>\n",
       "    </tr>\n",
       "    <tr>\n",
       "      <th>96</th>\n",
       "      <td>Hush Puppies</td>\n",
       "      <td>Men Woven Design Sneakers</td>\n",
       "      <td>Rs. 6999</td>\n",
       "    </tr>\n",
       "    <tr>\n",
       "      <th>97</th>\n",
       "      <td>KLEAT</td>\n",
       "      <td>Men Woven Design Loafers</td>\n",
       "      <td>Rs. 7999</td>\n",
       "    </tr>\n",
       "    <tr>\n",
       "      <th>98</th>\n",
       "      <td>J.FONTINI</td>\n",
       "      <td>Men Solid Loafers</td>\n",
       "      <td>Rs. 7990</td>\n",
       "    </tr>\n",
       "    <tr>\n",
       "      <th>99</th>\n",
       "      <td>Lacoste</td>\n",
       "      <td>Men Woven Design Sneakers</td>\n",
       "      <td>Rs. 8500</td>\n",
       "    </tr>\n",
       "  </tbody>\n",
       "</table>\n",
       "<p>100 rows × 3 columns</p>\n",
       "</div>"
      ],
      "text/plain": [
       "           Brand                    Description                        Price\n",
       "0           ALDO  LEBRON XVIII Basketball Shoes  Rs. 12316Rs. 17595(30% OFF)\n",
       "1           Nike     Men AIR ZOOM Running Shoes   Rs. 7721Rs. 10295(25% OFF)\n",
       "2           Nike  Unisex PHANTOM Football Shoes    Rs. 6795Rs. 7995(15% OFF)\n",
       "3           Nike      Men JOYRIDE Running Shoes  Rs. 12745Rs. 14995(15% OFF)\n",
       "4           Nike                   Men Sneakers                     Rs. 9999\n",
       "..           ...                            ...                          ...\n",
       "95  Hush Puppies           Men Textured Oxfords                     Rs. 6999\n",
       "96  Hush Puppies      Men Woven Design Sneakers                     Rs. 6999\n",
       "97         KLEAT       Men Woven Design Loafers                     Rs. 7999\n",
       "98     J.FONTINI              Men Solid Loafers                     Rs. 7990\n",
       "99       Lacoste      Men Woven Design Sneakers                     Rs. 8500\n",
       "\n",
       "[100 rows x 3 columns]"
      ]
     },
     "execution_count": 368,
     "metadata": {},
     "output_type": "execute_result"
    }
   ],
   "source": [
    "Sneakers_Myntra=pd.DataFrame({})\n",
    "Sneakers_Myntra['Brand'] = brand\n",
    "Sneakers_Myntra['Description'] = desc\n",
    "Sneakers_Myntra['Price'] = price\n",
    "Sneakers_Myntra"
   ]
  },
  {
   "cell_type": "code",
   "execution_count": null,
   "metadata": {},
   "outputs": [],
   "source": []
  },
  {
   "cell_type": "markdown",
   "metadata": {},
   "source": [
    "## 10."
   ]
  },
  {
   "cell_type": "code",
   "execution_count": 369,
   "metadata": {},
   "outputs": [],
   "source": [
    "driver = webdriver.Chrome('chromedriver.exe')"
   ]
  },
  {
   "cell_type": "code",
   "execution_count": 370,
   "metadata": {},
   "outputs": [],
   "source": [
    "url = 'https://www.amazon.in/'\n",
    "driver.get(url)"
   ]
  },
  {
   "cell_type": "code",
   "execution_count": 371,
   "metadata": {},
   "outputs": [],
   "source": [
    "search_bar = driver.find_element_by_xpath(\"//input[@id='twotabsearchtextbox']\")\n",
    "search_bar.send_keys('Laptop')"
   ]
  },
  {
   "cell_type": "code",
   "execution_count": 372,
   "metadata": {},
   "outputs": [],
   "source": [
    "search_button = driver.find_element_by_xpath(\"//input[@id='nav-search-submit-button']\")\n",
    "search_button.click()"
   ]
  },
  {
   "cell_type": "code",
   "execution_count": 373,
   "metadata": {},
   "outputs": [],
   "source": [
    "i5_filter = driver.find_element_by_xpath('/html/body/div[1]/div[2]/div[1]/div/div[2]/div/div[3]/span/div[1]/span/div/div/div[6]/ul[1]/li[25]/span/a/span')\n",
    "i5_filter.click()"
   ]
  },
  {
   "cell_type": "code",
   "execution_count": 374,
   "metadata": {},
   "outputs": [],
   "source": [
    "i7_filter = driver.find_element_by_xpath('/html/body/div[1]/div[2]/div[1]/div/div[2]/div/div[3]/span/div[1]/span/div/div/div[6]/ul[1]/li[27]/span/a/span')\n",
    "i7_filter.click()"
   ]
  },
  {
   "cell_type": "code",
   "execution_count": 375,
   "metadata": {},
   "outputs": [
    {
     "data": {
      "text/plain": [
       "[<selenium.webdriver.remote.webelement.WebElement (session=\"82483a8c1f79fdfd0c8a670a1e381bf7\", element=\"317b6a86-a45c-461f-9478-7423f2eeb7a5\")>,\n",
       " <selenium.webdriver.remote.webelement.WebElement (session=\"82483a8c1f79fdfd0c8a670a1e381bf7\", element=\"a94e329c-6e47-4be7-9058-e570f18bd455\")>,\n",
       " <selenium.webdriver.remote.webelement.WebElement (session=\"82483a8c1f79fdfd0c8a670a1e381bf7\", element=\"4155f51d-029f-426c-b731-ed4f09827bd3\")>,\n",
       " <selenium.webdriver.remote.webelement.WebElement (session=\"82483a8c1f79fdfd0c8a670a1e381bf7\", element=\"bd3b912f-6db7-4ea1-962d-a0c1331a2ea7\")>,\n",
       " <selenium.webdriver.remote.webelement.WebElement (session=\"82483a8c1f79fdfd0c8a670a1e381bf7\", element=\"91d0dfb7-6379-450c-b786-e0e5b7c1c0e8\")>,\n",
       " <selenium.webdriver.remote.webelement.WebElement (session=\"82483a8c1f79fdfd0c8a670a1e381bf7\", element=\"84b18e46-066f-4c91-8e1c-4975e1d0531f\")>,\n",
       " <selenium.webdriver.remote.webelement.WebElement (session=\"82483a8c1f79fdfd0c8a670a1e381bf7\", element=\"3c50e21a-e806-4255-939d-35267252949f\")>,\n",
       " <selenium.webdriver.remote.webelement.WebElement (session=\"82483a8c1f79fdfd0c8a670a1e381bf7\", element=\"7daee6b6-fa8a-47c9-857c-a71dae29e00c\")>,\n",
       " <selenium.webdriver.remote.webelement.WebElement (session=\"82483a8c1f79fdfd0c8a670a1e381bf7\", element=\"29ebb4fd-a06e-4906-a6bc-363920ea874b\")>,\n",
       " <selenium.webdriver.remote.webelement.WebElement (session=\"82483a8c1f79fdfd0c8a670a1e381bf7\", element=\"b005eba9-2bb2-41af-9dc9-2231e09b78a4\")>,\n",
       " <selenium.webdriver.remote.webelement.WebElement (session=\"82483a8c1f79fdfd0c8a670a1e381bf7\", element=\"83641fca-5705-43e6-9b70-dff2ecf3f03b\")>,\n",
       " <selenium.webdriver.remote.webelement.WebElement (session=\"82483a8c1f79fdfd0c8a670a1e381bf7\", element=\"e5cf2c7a-c1e9-478a-9130-11d99c9ffb7b\")>,\n",
       " <selenium.webdriver.remote.webelement.WebElement (session=\"82483a8c1f79fdfd0c8a670a1e381bf7\", element=\"e83df4c4-18e6-479f-9656-5e467e29669f\")>,\n",
       " <selenium.webdriver.remote.webelement.WebElement (session=\"82483a8c1f79fdfd0c8a670a1e381bf7\", element=\"67cfe0dc-9c97-4bf7-a040-ced50080c699\")>,\n",
       " <selenium.webdriver.remote.webelement.WebElement (session=\"82483a8c1f79fdfd0c8a670a1e381bf7\", element=\"00740d80-02f6-4f28-b6f0-39849cd6f98a\")>,\n",
       " <selenium.webdriver.remote.webelement.WebElement (session=\"82483a8c1f79fdfd0c8a670a1e381bf7\", element=\"005f16fb-de88-4f97-b2ef-abd0c137a232\")>,\n",
       " <selenium.webdriver.remote.webelement.WebElement (session=\"82483a8c1f79fdfd0c8a670a1e381bf7\", element=\"ab7eba22-1d78-4497-ae17-518c6418d274\")>,\n",
       " <selenium.webdriver.remote.webelement.WebElement (session=\"82483a8c1f79fdfd0c8a670a1e381bf7\", element=\"f15823d2-ea5f-4133-abf0-2022a5d2281e\")>,\n",
       " <selenium.webdriver.remote.webelement.WebElement (session=\"82483a8c1f79fdfd0c8a670a1e381bf7\", element=\"59e1caf0-c300-4e24-821c-504f79912714\")>,\n",
       " <selenium.webdriver.remote.webelement.WebElement (session=\"82483a8c1f79fdfd0c8a670a1e381bf7\", element=\"c42333a1-cff4-4740-be47-0b746d99dc1b\")>,\n",
       " <selenium.webdriver.remote.webelement.WebElement (session=\"82483a8c1f79fdfd0c8a670a1e381bf7\", element=\"71eff4a9-e924-4acb-a98c-d2065ba8a0bc\")>,\n",
       " <selenium.webdriver.remote.webelement.WebElement (session=\"82483a8c1f79fdfd0c8a670a1e381bf7\", element=\"58c19f37-6c19-499d-953e-438e79504723\")>,\n",
       " <selenium.webdriver.remote.webelement.WebElement (session=\"82483a8c1f79fdfd0c8a670a1e381bf7\", element=\"ad591e81-8797-4ee9-ac6e-2508cab17224\")>,\n",
       " <selenium.webdriver.remote.webelement.WebElement (session=\"82483a8c1f79fdfd0c8a670a1e381bf7\", element=\"ec0c7ade-7138-4bb9-89db-8e1e3b95fd2e\")>,\n",
       " <selenium.webdriver.remote.webelement.WebElement (session=\"82483a8c1f79fdfd0c8a670a1e381bf7\", element=\"494b5076-5e27-437c-a139-f58e7220a07c\")>,\n",
       " <selenium.webdriver.remote.webelement.WebElement (session=\"82483a8c1f79fdfd0c8a670a1e381bf7\", element=\"f9c8fcc9-7598-4f01-89c6-4960fd51d080\")>,\n",
       " <selenium.webdriver.remote.webelement.WebElement (session=\"82483a8c1f79fdfd0c8a670a1e381bf7\", element=\"199c8b19-4d80-4123-a1de-c7c91190cf7e\")>,\n",
       " <selenium.webdriver.remote.webelement.WebElement (session=\"82483a8c1f79fdfd0c8a670a1e381bf7\", element=\"a568b140-f156-499e-8141-96df86af8aa2\")>,\n",
       " <selenium.webdriver.remote.webelement.WebElement (session=\"82483a8c1f79fdfd0c8a670a1e381bf7\", element=\"9232486c-366d-47e6-b4a2-5af847a550dc\")>,\n",
       " <selenium.webdriver.remote.webelement.WebElement (session=\"82483a8c1f79fdfd0c8a670a1e381bf7\", element=\"fc1aeb00-9da6-4f5c-a32a-6a94e201329b\")>]"
      ]
     },
     "execution_count": 375,
     "metadata": {},
     "output_type": "execute_result"
    }
   ],
   "source": [
    "title_tag = driver.find_elements_by_xpath(\"//h2[@class='a-size-mini a-spacing-none a-color-base s-line-clamp-2']\")\n",
    "title_tag"
   ]
  },
  {
   "cell_type": "code",
   "execution_count": 377,
   "metadata": {},
   "outputs": [
    {
     "data": {
      "text/plain": [
       "['Lenovo IdeaPad Slim 5 11th Gen Intel Core i5 14\" FHD IPS Thin & Light Laptop (8GB/512GB SSD/Win 10/Office/Intel Iris Xe Graphics/Fingerprint Reader/Graphite Grey/Aluminium Surface/1.39Kg), 82FE00QLIN',\n",
       " 'ASUS VivoBook 14 (2020) Intel Core i5-1035G1 10th Gen 35.56 cm FHD Thin and Light Laptop (8GB/512GB NVMe SSD/Integrated Graphics/Windows 10/MS Office 2019/Transparent Silver/1.6 kg), X415JA-EK094TS',\n",
       " '(Renewed) Fujitsu Intel Core i5 3340M 15.6-Inch (39.62 cms) 1366 X 768 Laptop (4 GB/320 GB HDD/Windows/Intel HD Graphics/Black/2.40 Kg), A573',\n",
       " 'HP Pavilion (2021) Thin & Light 11th Gen Core i5 Laptop, 16 GB RAM, 512GB SSD, Iris Xe Graphics, 14-inch (35.56 cms) FHD Screen, Win 10, MS Office, Backlit Keyboard, Natural Silver (14-dv0054TU)',\n",
       " 'HP 15 (2021) Thin & Light 11th Gen Core i5 Laptop, 8 GB RAM, 512GB SSD, 15.6-inch (39.62 cms) FHD Screen, Windows 10, MS Office, Built-in Alexa (15s-fq2535TU)',\n",
       " 'HP Pavilion Gaming 10th Gen Intel Core i7 Processor 15.6-inch FHD Gaming Laptop (16GB/512GB SSD + 32GB Intel Optane/Windows 10/NVIDIA 1650Ti 4GB/Shadow Black), 15-dk1509TX',\n",
       " 'Lenovo IdeaPad L340 Intel Core i5 9th Gen 15.6\" FHD Gaming Laptop (8GB/1TB HDD/Windows 10/NVIDIA GeForce GTX 10503GB GDDR5/Granite Black/2.19kg), 81LK01QTIN',\n",
       " 'Dell Vostro 3400 14\" (35.56 cms) FHD Display Laptop (11th gen i5-1135G7 / 8GB / 512GB SSD / Integrated Graphics / Win 10 + MSO / Backlit Keyboard / Dune Color) D552173WIN9DE',\n",
       " '(Renewed) Lenovo Legion Y540 9th Gen Intel Core i5 15.6-inch (39.62 cms) Full HD Gaming Laptop (8GB/512GB SSD/Windows 10/60 Hz/NVIDIA GTX 1650 4GB GDDR5 Graphics/Raven Black/2.3Kg), 81SY00UCIN',\n",
       " 'Lenovo Legion Y540 Intel Core i7 9th Gen 15.6” FHD Gaming (8GB/256SSD + 1TBHDD/Win10/NVIDIA GeForce GTX 1650 4GB/Raven Black/2.3kg), 81SY00U7IN']"
      ]
     },
     "execution_count": 377,
     "metadata": {},
     "output_type": "execute_result"
    }
   ],
   "source": [
    "laptop_name = []\n",
    "for i in title_tag:\n",
    "    laptop_name.append(i.text)\n",
    "laptop_name[0:10]"
   ]
  },
  {
   "cell_type": "code",
   "execution_count": 398,
   "metadata": {},
   "outputs": [
    {
     "data": {
      "text/plain": [
       "['https://www.amazon.in/gp/slredirect/picassoRedirect.html/ref=pa_sp_atf_computers_sr_pg1_1?ie=UTF8&adId=A01160621G7EIJ8GJYZMJ&url=%2FLenovo-Graphics-Fingerprint-Aluminium-82FE00QLIN%2Fdp%2FB095KP1TJM%2Fref%3Dsr_1_1_sspa%3Fdchild%3D1%26keywords%3DLaptop%26qid%3D1626002334%26refinements%3Dp_n_feature_thirteen_browse-bin%253A12598162031%257C12598163031%26rnid%3D12598141031%26s%3Dcomputers%26sr%3D1-1-spons%26psc%3D1&qualifier=1626002334&id=1000033375298603&widgetName=sp_atf',\n",
       " 'https://www.amazon.in/gp/slredirect/picassoRedirect.html/ref=pa_sp_atf_computers_sr_pg1_1?ie=UTF8&adId=A0265602MR05D1T189WD&url=%2FASUS-i5-1035G1-Integrated-Transparent-X415JA-EK094TS%2Fdp%2FB08JMMHZLN%2Fref%3Dsr_1_2_sspa%3Fdchild%3D1%26keywords%3DLaptop%26qid%3D1626002334%26refinements%3Dp_n_feature_thirteen_browse-bin%253A12598162031%257C12598163031%26rnid%3D12598141031%26s%3Dcomputers%26sr%3D1-2-spons%26psc%3D1&qualifier=1626002334&id=1000033375298603&widgetName=sp_atf',\n",
       " 'https://www.amazon.in/Renewed-Fujitsu-15-6-Inch-Windows-Graphics/dp/B091B6K2ZM/ref=sr_1_3?dchild=1&keywords=Laptop&qid=1626002334&refinements=p_n_feature_thirteen_browse-bin%3A12598162031%7C12598163031&rnid=12598141031&s=computers&sr=1-3',\n",
       " 'https://www.amazon.in/HP-Pavilion-Graphics-Keyboard-14-dv0054TU/dp/B08WBB369L/ref=sr_1_4?dchild=1&keywords=Laptop&qid=1626002334&refinements=p_n_feature_thirteen_browse-bin%3A12598162031%7C12598163031&rnid=12598141031&s=computers&sr=1-4',\n",
       " 'https://www.amazon.in/HP-Laptop-15-6-inch-Windows-15s-fq2535TU/dp/B08XNYN5QV/ref=sr_1_5?dchild=1&keywords=Laptop&qid=1626002334&refinements=p_n_feature_thirteen_browse-bin%3A12598162031%7C12598163031&rnid=12598141031&s=computers&sr=1-5',\n",
       " 'https://www.amazon.in/HP-Pavilion-Processor-15-6-inch-15-dk1509TX/dp/B08ZN7GBQ5/ref=sr_1_6?dchild=1&keywords=Laptop&qid=1626002334&refinements=p_n_feature_thirteen_browse-bin%3A12598162031%7C12598163031&rnid=12598141031&s=computers&sr=1-6',\n",
       " 'https://www.amazon.in/Lenovo-IdeaPad-Windows-GeForce-81LK01QTIN/dp/B092MTLNBB/ref=sr_1_7?dchild=1&keywords=Laptop&qid=1626002334&refinements=p_n_feature_thirteen_browse-bin%3A12598162031%7C12598163031&rnid=12598141031&s=computers&sr=1-7',\n",
       " 'https://www.amazon.in/Dell-i5-1135G7-Integrated-Graphics-D552173WIN9DE/dp/B08X4NRJ9Q/ref=sr_1_8?dchild=1&keywords=Laptop&qid=1626002334&refinements=p_n_feature_thirteen_browse-bin%3A12598162031%7C12598163031&rnid=12598141031&s=computers&sr=1-8',\n",
       " 'https://www.amazon.in/Renewed-Lenovo-15-6-inch-Graphics-81SY00UCIN/dp/B098P8RVLH/ref=sr_1_9?dchild=1&keywords=Laptop&qid=1626002334&refinements=p_n_feature_thirteen_browse-bin%3A12598162031%7C12598163031&rnid=12598141031&s=computers&sr=1-9',\n",
       " 'https://www.amazon.in/Lenovo-Legion-Gaming-GeForce-81SY00U7IN/dp/B092MRQCJ6/ref=sr_1_10?dchild=1&keywords=Laptop&qid=1626002334&refinements=p_n_feature_thirteen_browse-bin%3A12598162031%7C12598163031&rnid=12598141031&s=computers&sr=1-10']"
      ]
     },
     "execution_count": 398,
     "metadata": {},
     "output_type": "execute_result"
    }
   ],
   "source": [
    "rating_link=[] \n",
    "rating_tag = driver.find_elements_by_xpath(\"//a[@class='a-link-normal a-text-normal']\")\n",
    "for i in rating_tag:\n",
    "    rating_link.append(i.get_attribute('href'))\n",
    "rating_link[0:10]"
   ]
  },
  {
   "cell_type": "code",
   "execution_count": 399,
   "metadata": {},
   "outputs": [
    {
     "data": {
      "text/plain": [
       "['4.5 out of 5',\n",
       " '3.9 out of 5',\n",
       " '4.2 out of 5',\n",
       " '4.4 out of 5',\n",
       " '4.2 out of 5',\n",
       " '4.2 out of 5',\n",
       " '3.8 out of 5',\n",
       " '5 out of 5',\n",
       " '4.3 out of 5']"
      ]
     },
     "execution_count": 399,
     "metadata": {},
     "output_type": "execute_result"
    }
   ],
   "source": [
    "ratings = []\n",
    "for i in rating_link[0:10]:\n",
    "    driver.get(i)\n",
    "    time.sleep(4)\n",
    "    rating=driver.find_elements_by_xpath(\"//span[@class='a-size-medium a-color-base']\")\n",
    "    for i in rating:\n",
    "        try:\n",
    "            ratings.append(i.text)\n",
    "        except:\n",
    "            ratings.append('-')\n",
    "ratings"
   ]
  },
  {
   "cell_type": "code",
   "execution_count": 400,
   "metadata": {},
   "outputs": [],
   "source": [
    "search_btn=driver.find_element_by_xpath('/html/body/div[2]/header/div/div[1]/div[2]/div/form/div[3]/div/span/input')\n",
    "search_btn.click()"
   ]
  },
  {
   "cell_type": "code",
   "execution_count": 402,
   "metadata": {},
   "outputs": [],
   "source": [
    "i5_filter_2 = driver.find_element_by_xpath('/html/body/div[1]/div[2]/div[1]/div/div[2]/div/div[3]/span/div[1]/span/div/div/div[6]/ul[2]/li[25]/span/a/span')\n",
    "i5_filter_2.click()"
   ]
  },
  {
   "cell_type": "code",
   "execution_count": 403,
   "metadata": {},
   "outputs": [],
   "source": [
    "i7_filter_2 = driver.find_element_by_xpath('/html/body/div[1]/div[2]/div[1]/div/div[2]/div/div[3]/span/div[1]/span/div/div/div[6]/ul[1]/li[27]/span/a/span')\n",
    "i7_filter_2.click()"
   ]
  },
  {
   "cell_type": "code",
   "execution_count": 404,
   "metadata": {},
   "outputs": [
    {
     "data": {
      "text/plain": [
       "[<selenium.webdriver.remote.webelement.WebElement (session=\"82483a8c1f79fdfd0c8a670a1e381bf7\", element=\"cbdff6ae-7a88-4a6a-831a-171d91abda32\")>,\n",
       " <selenium.webdriver.remote.webelement.WebElement (session=\"82483a8c1f79fdfd0c8a670a1e381bf7\", element=\"a1f2789e-2c57-48f4-ac29-09af2c44b7b9\")>,\n",
       " <selenium.webdriver.remote.webelement.WebElement (session=\"82483a8c1f79fdfd0c8a670a1e381bf7\", element=\"53527e81-ceac-4d16-ade3-e288d16ce597\")>,\n",
       " <selenium.webdriver.remote.webelement.WebElement (session=\"82483a8c1f79fdfd0c8a670a1e381bf7\", element=\"c6d3e814-60ee-41a6-85d6-e7f5d8d1016e\")>,\n",
       " <selenium.webdriver.remote.webelement.WebElement (session=\"82483a8c1f79fdfd0c8a670a1e381bf7\", element=\"37326d9b-b06d-4071-be99-342ce3102a49\")>,\n",
       " <selenium.webdriver.remote.webelement.WebElement (session=\"82483a8c1f79fdfd0c8a670a1e381bf7\", element=\"a032c69f-5c07-4386-af4e-376b50c9fb6b\")>,\n",
       " <selenium.webdriver.remote.webelement.WebElement (session=\"82483a8c1f79fdfd0c8a670a1e381bf7\", element=\"4c930f42-c538-452b-80d1-108ac8f5cb31\")>,\n",
       " <selenium.webdriver.remote.webelement.WebElement (session=\"82483a8c1f79fdfd0c8a670a1e381bf7\", element=\"d1cb55c2-85ed-4b31-892b-72ea99a2ad27\")>,\n",
       " <selenium.webdriver.remote.webelement.WebElement (session=\"82483a8c1f79fdfd0c8a670a1e381bf7\", element=\"05f73085-3cc7-4cbd-8728-391b42e65d5a\")>,\n",
       " <selenium.webdriver.remote.webelement.WebElement (session=\"82483a8c1f79fdfd0c8a670a1e381bf7\", element=\"e2513a22-af08-4b4f-9c16-8278de806786\")>,\n",
       " <selenium.webdriver.remote.webelement.WebElement (session=\"82483a8c1f79fdfd0c8a670a1e381bf7\", element=\"d0d1e93c-12b9-4a3e-8c7f-696d3926471f\")>,\n",
       " <selenium.webdriver.remote.webelement.WebElement (session=\"82483a8c1f79fdfd0c8a670a1e381bf7\", element=\"1a525675-fd98-4f63-83c2-312e55297bdd\")>,\n",
       " <selenium.webdriver.remote.webelement.WebElement (session=\"82483a8c1f79fdfd0c8a670a1e381bf7\", element=\"a0e55c64-870e-4b7b-9453-a35cee98ac9f\")>,\n",
       " <selenium.webdriver.remote.webelement.WebElement (session=\"82483a8c1f79fdfd0c8a670a1e381bf7\", element=\"35d8c135-2680-4e74-abc1-a58ae2037dc2\")>,\n",
       " <selenium.webdriver.remote.webelement.WebElement (session=\"82483a8c1f79fdfd0c8a670a1e381bf7\", element=\"89dad8b6-6367-40ee-a3da-7b12e8cf1b5c\")>,\n",
       " <selenium.webdriver.remote.webelement.WebElement (session=\"82483a8c1f79fdfd0c8a670a1e381bf7\", element=\"9dbbad6b-b604-4261-83ce-84b4b45bb141\")>,\n",
       " <selenium.webdriver.remote.webelement.WebElement (session=\"82483a8c1f79fdfd0c8a670a1e381bf7\", element=\"7aff2598-5ba9-4d1e-86e4-e89a03bb5d05\")>,\n",
       " <selenium.webdriver.remote.webelement.WebElement (session=\"82483a8c1f79fdfd0c8a670a1e381bf7\", element=\"3e539185-e151-451c-893b-69e90dd80070\")>,\n",
       " <selenium.webdriver.remote.webelement.WebElement (session=\"82483a8c1f79fdfd0c8a670a1e381bf7\", element=\"5bb81597-2273-48a1-a777-a5ba0cbf837c\")>,\n",
       " <selenium.webdriver.remote.webelement.WebElement (session=\"82483a8c1f79fdfd0c8a670a1e381bf7\", element=\"b1b22ff5-1cd5-425b-a927-ca962d061983\")>,\n",
       " <selenium.webdriver.remote.webelement.WebElement (session=\"82483a8c1f79fdfd0c8a670a1e381bf7\", element=\"61a682be-14c0-4374-8292-bfb7962e6fa8\")>,\n",
       " <selenium.webdriver.remote.webelement.WebElement (session=\"82483a8c1f79fdfd0c8a670a1e381bf7\", element=\"59805358-59d0-4e69-a18b-f285fbc30ba6\")>,\n",
       " <selenium.webdriver.remote.webelement.WebElement (session=\"82483a8c1f79fdfd0c8a670a1e381bf7\", element=\"c57b41c7-076f-4052-9b97-de8e2e70ba37\")>,\n",
       " <selenium.webdriver.remote.webelement.WebElement (session=\"82483a8c1f79fdfd0c8a670a1e381bf7\", element=\"041debf1-e9ee-4c3f-a891-75bc6eddfbf5\")>,\n",
       " <selenium.webdriver.remote.webelement.WebElement (session=\"82483a8c1f79fdfd0c8a670a1e381bf7\", element=\"21653064-add5-494b-8e04-6537d3cca682\")>,\n",
       " <selenium.webdriver.remote.webelement.WebElement (session=\"82483a8c1f79fdfd0c8a670a1e381bf7\", element=\"b89fda04-5900-4752-ae48-cc206acf216e\")>,\n",
       " <selenium.webdriver.remote.webelement.WebElement (session=\"82483a8c1f79fdfd0c8a670a1e381bf7\", element=\"3428a396-eb93-4cd0-b83f-5fd34c918078\")>,\n",
       " <selenium.webdriver.remote.webelement.WebElement (session=\"82483a8c1f79fdfd0c8a670a1e381bf7\", element=\"1e368e85-f2eb-41fa-9113-c4a4c895f1ef\")>,\n",
       " <selenium.webdriver.remote.webelement.WebElement (session=\"82483a8c1f79fdfd0c8a670a1e381bf7\", element=\"474da8e9-a1e7-4583-a7da-f6a66ffff4c9\")>,\n",
       " <selenium.webdriver.remote.webelement.WebElement (session=\"82483a8c1f79fdfd0c8a670a1e381bf7\", element=\"c6c48cff-68d4-4223-8ba6-5694a7267400\")>,\n",
       " <selenium.webdriver.remote.webelement.WebElement (session=\"82483a8c1f79fdfd0c8a670a1e381bf7\", element=\"ac3ccbf4-7cc4-42b0-8ab9-8655f252251f\")>,\n",
       " <selenium.webdriver.remote.webelement.WebElement (session=\"82483a8c1f79fdfd0c8a670a1e381bf7\", element=\"2d14a7e9-6278-478c-971b-6ea7657c1526\")>,\n",
       " <selenium.webdriver.remote.webelement.WebElement (session=\"82483a8c1f79fdfd0c8a670a1e381bf7\", element=\"07c8cc42-b5cb-4623-8d4b-f6a96327ef8b\")>,\n",
       " <selenium.webdriver.remote.webelement.WebElement (session=\"82483a8c1f79fdfd0c8a670a1e381bf7\", element=\"da7e2496-66e0-462d-a53d-454df03befe6\")>,\n",
       " <selenium.webdriver.remote.webelement.WebElement (session=\"82483a8c1f79fdfd0c8a670a1e381bf7\", element=\"356d12c0-4021-434c-8669-222251daafd2\")>]"
      ]
     },
     "execution_count": 404,
     "metadata": {},
     "output_type": "execute_result"
    }
   ],
   "source": [
    "price_tag = driver.find_elements_by_xpath(\"//span[@class='a-price-whole']\")\n",
    "price_tag"
   ]
  },
  {
   "cell_type": "code",
   "execution_count": 405,
   "metadata": {},
   "outputs": [
    {
     "data": {
      "text/plain": [
       "['56,990',\n",
       " '62,990',\n",
       " '19,790',\n",
       " '66,990',\n",
       " '58,490',\n",
       " '96,555',\n",
       " '49,990',\n",
       " '53,190',\n",
       " '50,992',\n",
       " '69,990']"
      ]
     },
     "execution_count": 405,
     "metadata": {},
     "output_type": "execute_result"
    }
   ],
   "source": [
    "price=[]\n",
    "for i in price_tag:\n",
    "    price.append(i.text)\n",
    "price[0:10]"
   ]
  },
  {
   "cell_type": "code",
   "execution_count": 406,
   "metadata": {},
   "outputs": [
    {
     "ename": "ValueError",
     "evalue": "Length of values (9) does not match length of index (10)",
     "output_type": "error",
     "traceback": [
      "\u001b[1;31m---------------------------------------------------------------------------\u001b[0m",
      "\u001b[1;31mValueError\u001b[0m                                Traceback (most recent call last)",
      "\u001b[1;32m<ipython-input-406-51e64032ee4c>\u001b[0m in \u001b[0;36m<module>\u001b[1;34m\u001b[0m\n\u001b[0;32m      1\u001b[0m \u001b[0mLaptop_Amazon\u001b[0m\u001b[1;33m=\u001b[0m\u001b[0mpd\u001b[0m\u001b[1;33m.\u001b[0m\u001b[0mDataFrame\u001b[0m\u001b[1;33m(\u001b[0m\u001b[1;33m{\u001b[0m\u001b[1;33m}\u001b[0m\u001b[1;33m)\u001b[0m\u001b[1;33m\u001b[0m\u001b[1;33m\u001b[0m\u001b[0m\n\u001b[0;32m      2\u001b[0m \u001b[0mLaptop_Amazon\u001b[0m\u001b[1;33m[\u001b[0m\u001b[1;34m'Title'\u001b[0m\u001b[1;33m]\u001b[0m \u001b[1;33m=\u001b[0m \u001b[0mlaptop_name\u001b[0m\u001b[1;33m[\u001b[0m\u001b[1;36m0\u001b[0m\u001b[1;33m:\u001b[0m\u001b[1;36m10\u001b[0m\u001b[1;33m]\u001b[0m\u001b[1;33m\u001b[0m\u001b[1;33m\u001b[0m\u001b[0m\n\u001b[1;32m----> 3\u001b[1;33m \u001b[0mLaptop_Amazon\u001b[0m\u001b[1;33m[\u001b[0m\u001b[1;34m'Rating'\u001b[0m\u001b[1;33m]\u001b[0m \u001b[1;33m=\u001b[0m \u001b[0mratings\u001b[0m\u001b[1;33m[\u001b[0m\u001b[1;36m0\u001b[0m\u001b[1;33m:\u001b[0m\u001b[1;36m10\u001b[0m\u001b[1;33m]\u001b[0m\u001b[1;33m\u001b[0m\u001b[1;33m\u001b[0m\u001b[0m\n\u001b[0m\u001b[0;32m      4\u001b[0m \u001b[0mLaptop_Amazon\u001b[0m\u001b[1;33m[\u001b[0m\u001b[1;34m'Price'\u001b[0m\u001b[1;33m]\u001b[0m \u001b[1;33m=\u001b[0m \u001b[0mprice\u001b[0m\u001b[1;33m[\u001b[0m\u001b[1;36m0\u001b[0m\u001b[1;33m:\u001b[0m\u001b[1;36m10\u001b[0m\u001b[1;33m]\u001b[0m\u001b[1;33m\u001b[0m\u001b[1;33m\u001b[0m\u001b[0m\n\u001b[0;32m      5\u001b[0m \u001b[0mLaptop_Amazon\u001b[0m\u001b[1;33m\u001b[0m\u001b[1;33m\u001b[0m\u001b[0m\n",
      "\u001b[1;32mD:\\downloads\\lib\\site-packages\\pandas\\core\\frame.py\u001b[0m in \u001b[0;36m__setitem__\u001b[1;34m(self, key, value)\u001b[0m\n\u001b[0;32m   3038\u001b[0m         \u001b[1;32melse\u001b[0m\u001b[1;33m:\u001b[0m\u001b[1;33m\u001b[0m\u001b[1;33m\u001b[0m\u001b[0m\n\u001b[0;32m   3039\u001b[0m             \u001b[1;31m# set column\u001b[0m\u001b[1;33m\u001b[0m\u001b[1;33m\u001b[0m\u001b[1;33m\u001b[0m\u001b[0m\n\u001b[1;32m-> 3040\u001b[1;33m             \u001b[0mself\u001b[0m\u001b[1;33m.\u001b[0m\u001b[0m_set_item\u001b[0m\u001b[1;33m(\u001b[0m\u001b[0mkey\u001b[0m\u001b[1;33m,\u001b[0m \u001b[0mvalue\u001b[0m\u001b[1;33m)\u001b[0m\u001b[1;33m\u001b[0m\u001b[1;33m\u001b[0m\u001b[0m\n\u001b[0m\u001b[0;32m   3041\u001b[0m \u001b[1;33m\u001b[0m\u001b[0m\n\u001b[0;32m   3042\u001b[0m     \u001b[1;32mdef\u001b[0m \u001b[0m_setitem_slice\u001b[0m\u001b[1;33m(\u001b[0m\u001b[0mself\u001b[0m\u001b[1;33m,\u001b[0m \u001b[0mkey\u001b[0m\u001b[1;33m:\u001b[0m \u001b[0mslice\u001b[0m\u001b[1;33m,\u001b[0m \u001b[0mvalue\u001b[0m\u001b[1;33m)\u001b[0m\u001b[1;33m:\u001b[0m\u001b[1;33m\u001b[0m\u001b[1;33m\u001b[0m\u001b[0m\n",
      "\u001b[1;32mD:\\downloads\\lib\\site-packages\\pandas\\core\\frame.py\u001b[0m in \u001b[0;36m_set_item\u001b[1;34m(self, key, value)\u001b[0m\n\u001b[0;32m   3114\u001b[0m         \"\"\"\n\u001b[0;32m   3115\u001b[0m         \u001b[0mself\u001b[0m\u001b[1;33m.\u001b[0m\u001b[0m_ensure_valid_index\u001b[0m\u001b[1;33m(\u001b[0m\u001b[0mvalue\u001b[0m\u001b[1;33m)\u001b[0m\u001b[1;33m\u001b[0m\u001b[1;33m\u001b[0m\u001b[0m\n\u001b[1;32m-> 3116\u001b[1;33m         \u001b[0mvalue\u001b[0m \u001b[1;33m=\u001b[0m \u001b[0mself\u001b[0m\u001b[1;33m.\u001b[0m\u001b[0m_sanitize_column\u001b[0m\u001b[1;33m(\u001b[0m\u001b[0mkey\u001b[0m\u001b[1;33m,\u001b[0m \u001b[0mvalue\u001b[0m\u001b[1;33m)\u001b[0m\u001b[1;33m\u001b[0m\u001b[1;33m\u001b[0m\u001b[0m\n\u001b[0m\u001b[0;32m   3117\u001b[0m         \u001b[0mNDFrame\u001b[0m\u001b[1;33m.\u001b[0m\u001b[0m_set_item\u001b[0m\u001b[1;33m(\u001b[0m\u001b[0mself\u001b[0m\u001b[1;33m,\u001b[0m \u001b[0mkey\u001b[0m\u001b[1;33m,\u001b[0m \u001b[0mvalue\u001b[0m\u001b[1;33m)\u001b[0m\u001b[1;33m\u001b[0m\u001b[1;33m\u001b[0m\u001b[0m\n\u001b[0;32m   3118\u001b[0m \u001b[1;33m\u001b[0m\u001b[0m\n",
      "\u001b[1;32mD:\\downloads\\lib\\site-packages\\pandas\\core\\frame.py\u001b[0m in \u001b[0;36m_sanitize_column\u001b[1;34m(self, key, value, broadcast)\u001b[0m\n\u001b[0;32m   3762\u001b[0m \u001b[1;33m\u001b[0m\u001b[0m\n\u001b[0;32m   3763\u001b[0m             \u001b[1;31m# turn me into an ndarray\u001b[0m\u001b[1;33m\u001b[0m\u001b[1;33m\u001b[0m\u001b[1;33m\u001b[0m\u001b[0m\n\u001b[1;32m-> 3764\u001b[1;33m             \u001b[0mvalue\u001b[0m \u001b[1;33m=\u001b[0m \u001b[0msanitize_index\u001b[0m\u001b[1;33m(\u001b[0m\u001b[0mvalue\u001b[0m\u001b[1;33m,\u001b[0m \u001b[0mself\u001b[0m\u001b[1;33m.\u001b[0m\u001b[0mindex\u001b[0m\u001b[1;33m)\u001b[0m\u001b[1;33m\u001b[0m\u001b[1;33m\u001b[0m\u001b[0m\n\u001b[0m\u001b[0;32m   3765\u001b[0m             \u001b[1;32mif\u001b[0m \u001b[1;32mnot\u001b[0m \u001b[0misinstance\u001b[0m\u001b[1;33m(\u001b[0m\u001b[0mvalue\u001b[0m\u001b[1;33m,\u001b[0m \u001b[1;33m(\u001b[0m\u001b[0mnp\u001b[0m\u001b[1;33m.\u001b[0m\u001b[0mndarray\u001b[0m\u001b[1;33m,\u001b[0m \u001b[0mIndex\u001b[0m\u001b[1;33m)\u001b[0m\u001b[1;33m)\u001b[0m\u001b[1;33m:\u001b[0m\u001b[1;33m\u001b[0m\u001b[1;33m\u001b[0m\u001b[0m\n\u001b[0;32m   3766\u001b[0m                 \u001b[1;32mif\u001b[0m \u001b[0misinstance\u001b[0m\u001b[1;33m(\u001b[0m\u001b[0mvalue\u001b[0m\u001b[1;33m,\u001b[0m \u001b[0mlist\u001b[0m\u001b[1;33m)\u001b[0m \u001b[1;32mand\u001b[0m \u001b[0mlen\u001b[0m\u001b[1;33m(\u001b[0m\u001b[0mvalue\u001b[0m\u001b[1;33m)\u001b[0m \u001b[1;33m>\u001b[0m \u001b[1;36m0\u001b[0m\u001b[1;33m:\u001b[0m\u001b[1;33m\u001b[0m\u001b[1;33m\u001b[0m\u001b[0m\n",
      "\u001b[1;32mD:\\downloads\\lib\\site-packages\\pandas\\core\\internals\\construction.py\u001b[0m in \u001b[0;36msanitize_index\u001b[1;34m(data, index)\u001b[0m\n\u001b[0;32m    745\u001b[0m     \"\"\"\n\u001b[0;32m    746\u001b[0m     \u001b[1;32mif\u001b[0m \u001b[0mlen\u001b[0m\u001b[1;33m(\u001b[0m\u001b[0mdata\u001b[0m\u001b[1;33m)\u001b[0m \u001b[1;33m!=\u001b[0m \u001b[0mlen\u001b[0m\u001b[1;33m(\u001b[0m\u001b[0mindex\u001b[0m\u001b[1;33m)\u001b[0m\u001b[1;33m:\u001b[0m\u001b[1;33m\u001b[0m\u001b[1;33m\u001b[0m\u001b[0m\n\u001b[1;32m--> 747\u001b[1;33m         raise ValueError(\n\u001b[0m\u001b[0;32m    748\u001b[0m             \u001b[1;34m\"Length of values \"\u001b[0m\u001b[1;33m\u001b[0m\u001b[1;33m\u001b[0m\u001b[0m\n\u001b[0;32m    749\u001b[0m             \u001b[1;34mf\"({len(data)}) \"\u001b[0m\u001b[1;33m\u001b[0m\u001b[1;33m\u001b[0m\u001b[0m\n",
      "\u001b[1;31mValueError\u001b[0m: Length of values (9) does not match length of index (10)"
     ]
    }
   ],
   "source": [
    "Laptop_Amazon=pd.DataFrame({})\n",
    "Laptop_Amazon['Title'] = laptop_name[0:10]\n",
    "Laptop_Amazon['Rating'] = ratings[0:10]\n",
    "Laptop_Amazon['Price'] = price[0:10]\n",
    "Laptop_Amazon"
   ]
  },
  {
   "cell_type": "code",
   "execution_count": null,
   "metadata": {},
   "outputs": [],
   "source": []
  }
 ],
 "metadata": {
  "kernelspec": {
   "display_name": "Python 3",
   "language": "python",
   "name": "python3"
  },
  "language_info": {
   "codemirror_mode": {
    "name": "ipython",
    "version": 3
   },
   "file_extension": ".py",
   "mimetype": "text/x-python",
   "name": "python",
   "nbconvert_exporter": "python",
   "pygments_lexer": "ipython3",
   "version": "3.8.5"
  }
 },
 "nbformat": 4,
 "nbformat_minor": 4
}
